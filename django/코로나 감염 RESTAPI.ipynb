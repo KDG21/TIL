{
 "cells": [
  {
   "cell_type": "code",
   "execution_count": 2,
   "metadata": {},
   "outputs": [
    {
     "name": "stdout",
     "output_type": "stream",
     "text": [
      "Collecting pymysql\n",
      "  Downloading PyMySQL-1.0.2-py3-none-any.whl (43 kB)\n",
      "Installing collected packages: pymysql\n",
      "Successfully installed pymysql-1.0.2\n"
     ]
    }
   ],
   "source": [
    "!pip install pymysql"
   ]
  },
  {
   "cell_type": "code",
   "execution_count": 4,
   "metadata": {},
   "outputs": [],
   "source": [
    "import requests\n",
    "import xml.etree.ElementTree as ET\n",
    "import pandas as pd\n",
    "from urllib import parse\n",
    "import pymysql"
   ]
  },
  {
   "cell_type": "code",
   "execution_count": 5,
   "metadata": {},
   "outputs": [],
   "source": [
    "key = \"\""
   ]
  },
  {
   "cell_type": "code",
   "execution_count": 6,
   "metadata": {},
   "outputs": [],
   "source": [
    "url = \"http://openapi.data.go.kr/openapi/service/rest/Covid19/getCovid19InfStateJson?serviceKey=&pageNo=1&numOfRows=10&startCreateDt=20200310&endCreateDt=20200315\""
   ]
  },
  {
   "cell_type": "code",
   "execution_count": 7,
   "metadata": {},
   "outputs": [],
   "source": [
    "result = parse.urlparse(url)"
   ]
  },
  {
   "cell_type": "code",
   "execution_count": 8,
   "metadata": {},
   "outputs": [
    {
     "data": {
      "text/plain": [
       "ParseResult(scheme='http', netloc='openapi.data.go.kr', path='/openapi/service/rest/Covid19/getCovid19InfStateJson', params='', query='serviceKey=WRvGBkn9UEtw%2BAsg0tYo210Etxvb1QEcAX%2BwfWvOxVGYJkh1CNZ%2FY4QFa0r7j4bhT4NjPu7z1i1ck8ZgsKMt2Q%3D%3D&pageNo=1&numOfRows=10&startCreateDt=20200310&endCreateDt=20200315', fragment='')"
      ]
     },
     "execution_count": 8,
     "metadata": {},
     "output_type": "execute_result"
    }
   ],
   "source": [
    "result"
   ]
  },
  {
   "cell_type": "code",
   "execution_count": 9,
   "metadata": {},
   "outputs": [
    {
     "data": {
      "text/plain": [
       "'http://openapi.data.go.kr/openapi/service/rest/Covid19/getCovid19InfStateJson?serviceKey=WRvGBkn9UEtw%2BAsg0tYo210Etxvb1QEcAX%2BwfWvOxVGYJkh1CNZ%2FY4QFa0r7j4bhT4NjPu7z1i1ck8ZgsKMt2Q%3D%3D&pageNo=1&numOfRows=10&startCreateDt=20200310&endCreateDt=20200315'"
      ]
     },
     "execution_count": 9,
     "metadata": {},
     "output_type": "execute_result"
    }
   ],
   "source": [
    "result.geturl()"
   ]
  },
  {
   "cell_type": "code",
   "execution_count": 10,
   "metadata": {},
   "outputs": [
    {
     "data": {
      "text/plain": [
       "'http'"
      ]
     },
     "execution_count": 10,
     "metadata": {},
     "output_type": "execute_result"
    }
   ],
   "source": [
    "result.scheme"
   ]
  },
  {
   "cell_type": "code",
   "execution_count": 11,
   "metadata": {},
   "outputs": [
    {
     "data": {
      "text/plain": [
       "'http'"
      ]
     },
     "execution_count": 11,
     "metadata": {},
     "output_type": "execute_result"
    }
   ],
   "source": [
    "result[0]"
   ]
  },
  {
   "cell_type": "code",
   "execution_count": 12,
   "metadata": {},
   "outputs": [
    {
     "data": {
      "text/plain": [
       "'openapi.data.go.kr'"
      ]
     },
     "execution_count": 12,
     "metadata": {},
     "output_type": "execute_result"
    }
   ],
   "source": [
    "result.hostname"
   ]
  },
  {
   "cell_type": "code",
   "execution_count": 13,
   "metadata": {},
   "outputs": [
    {
     "data": {
      "text/plain": [
       "'/openapi/service/rest/Covid19/getCovid19InfStateJson'"
      ]
     },
     "execution_count": 13,
     "metadata": {},
     "output_type": "execute_result"
    }
   ],
   "source": [
    "result.path"
   ]
  },
  {
   "cell_type": "code",
   "execution_count": 14,
   "metadata": {},
   "outputs": [
    {
     "data": {
      "text/plain": [
       "'serviceKey=WRvGBkn9UEtw%2BAsg0tYo210Etxvb1QEcAX%2BwfWvOxVGYJkh1CNZ%2FY4QFa0r7j4bhT4NjPu7z1i1ck8ZgsKMt2Q%3D%3D&pageNo=1&numOfRows=10&startCreateDt=20200310&endCreateDt=20200315'"
      ]
     },
     "execution_count": 14,
     "metadata": {},
     "output_type": "execute_result"
    }
   ],
   "source": [
    "result.query"
   ]
  },
  {
   "cell_type": "markdown",
   "metadata": {},
   "source": [
    "* ParseResult를 사용하여 url주소 구조 완성 "
   ]
  },
  {
   "cell_type": "code",
   "execution_count": 15,
   "metadata": {},
   "outputs": [],
   "source": [
    "parse_result = parse.ParseResult(scheme  = result.scheme, netloc= result.hostname, path=result.path, \n",
    "                 params = result.params, query=result.query, fragment=result.fragment)"
   ]
  },
  {
   "cell_type": "code",
   "execution_count": 16,
   "metadata": {},
   "outputs": [
    {
     "data": {
      "text/plain": [
       "ParseResult(scheme='http', netloc='openapi.data.go.kr', path='/openapi/service/rest/Covid19/getCovid19InfStateJson', params='', query='serviceKey=WRvGBkn9UEtw%2BAsg0tYo210Etxvb1QEcAX%2BwfWvOxVGYJkh1CNZ%2FY4QFa0r7j4bhT4NjPu7z1i1ck8ZgsKMt2Q%3D%3D&pageNo=1&numOfRows=10&startCreateDt=20200310&endCreateDt=20200315', fragment='')"
      ]
     },
     "execution_count": 16,
     "metadata": {},
     "output_type": "execute_result"
    }
   ],
   "source": [
    "parse_result"
   ]
  },
  {
   "cell_type": "markdown",
   "metadata": {},
   "source": [
    "* urlunparse() 메소드를 사용하여 주소 형태로 전달"
   ]
  },
  {
   "cell_type": "code",
   "execution_count": 17,
   "metadata": {},
   "outputs": [
    {
     "data": {
      "text/plain": [
       "'http://openapi.data.go.kr/openapi/service/rest/Covid19/getCovid19InfStateJson?serviceKey=WRvGBkn9UEtw%2BAsg0tYo210Etxvb1QEcAX%2BwfWvOxVGYJkh1CNZ%2FY4QFa0r7j4bhT4NjPu7z1i1ck8ZgsKMt2Q%3D%3D&pageNo=1&numOfRows=10&startCreateDt=20200310&endCreateDt=20200315'"
      ]
     },
     "execution_count": 17,
     "metadata": {},
     "output_type": "execute_result"
    }
   ],
   "source": [
    "parse.urlunparse(parse_result)"
   ]
  },
  {
   "cell_type": "markdown",
   "metadata": {},
   "source": [
    "## 주소의 파라미터 수정하기"
   ]
  },
  {
   "cell_type": "code",
   "execution_count": 15,
   "metadata": {},
   "outputs": [],
   "source": [
    "query_dict = parse.parse_qs(result.query)"
   ]
  },
  {
   "cell_type": "code",
   "execution_count": 16,
   "metadata": {},
   "outputs": [
    {
     "data": {
      "text/plain": [
       "{'serviceKey': ['WRvGBkn9UEtw+Asg0tYo210Etxvb1QEcAX+wfWvOxVGYJkh1CNZ/Y4QFa0r7j4bhT4NjPu7z1i1ck8ZgsKMt2Q=='],\n",
       " 'pageNo': ['1'],\n",
       " 'numOfRows': ['10'],\n",
       " 'startCreateDt': ['20200310'],\n",
       " 'endCreateDt': ['20200315']}"
      ]
     },
     "execution_count": 16,
     "metadata": {},
     "output_type": "execute_result"
    }
   ],
   "source": [
    "query_dict"
   ]
  },
  {
   "cell_type": "code",
   "execution_count": 17,
   "metadata": {},
   "outputs": [],
   "source": [
    "query_dict['endCreateDt'] = '20201030'"
   ]
  },
  {
   "cell_type": "code",
   "execution_count": 18,
   "metadata": {},
   "outputs": [
    {
     "data": {
      "text/plain": [
       "{'serviceKey': ['WRvGBkn9UEtw+Asg0tYo210Etxvb1QEcAX+wfWvOxVGYJkh1CNZ/Y4QFa0r7j4bhT4NjPu7z1i1ck8ZgsKMt2Q=='],\n",
       " 'pageNo': ['1'],\n",
       " 'numOfRows': ['10'],\n",
       " 'startCreateDt': ['20200310'],\n",
       " 'endCreateDt': '20201030'}"
      ]
     },
     "execution_count": 18,
     "metadata": {},
     "output_type": "execute_result"
    }
   ],
   "source": [
    "query_dict"
   ]
  },
  {
   "cell_type": "code",
   "execution_count": 19,
   "metadata": {},
   "outputs": [
    {
     "data": {
      "text/plain": [
       "'serviceKey=%5B%27WRvGBkn9UEtw%2BAsg0tYo210Etxvb1QEcAX%2BwfWvOxVGYJkh1CNZ%2FY4QFa0r7j4bhT4NjPu7z1i1ck8ZgsKMt2Q%3D%3D%27%5D&pageNo=%5B%271%27%5D&numOfRows=%5B%2710%27%5D&startCreateDt=%5B%2720200310%27%5D&endCreateDt=20201030'"
      ]
     },
     "execution_count": 19,
     "metadata": {},
     "output_type": "execute_result"
    }
   ],
   "source": [
    "parse.urlencode(query_dict)"
   ]
  },
  {
   "cell_type": "markdown",
   "metadata": {},
   "source": [
    "### doseq 옵션\n",
    "* False가 기본값이며, dict의 value값의 []까지 인코딩을 한다. \n",
    "* True로 설정하면 실제 값만 인코딩을 한다"
   ]
  },
  {
   "cell_type": "code",
   "execution_count": 20,
   "metadata": {},
   "outputs": [
    {
     "data": {
      "text/plain": [
       "'serviceKey=WRvGBkn9UEtw%2BAsg0tYo210Etxvb1QEcAX%2BwfWvOxVGYJkh1CNZ%2FY4QFa0r7j4bhT4NjPu7z1i1ck8ZgsKMt2Q%3D%3D&pageNo=1&numOfRows=10&startCreateDt=20200310&endCreateDt=20201030'"
      ]
     },
     "execution_count": 20,
     "metadata": {},
     "output_type": "execute_result"
    }
   ],
   "source": [
    "parse.urlencode(query_dict, doseq=True)"
   ]
  },
  {
   "cell_type": "code",
   "execution_count": 21,
   "metadata": {},
   "outputs": [],
   "source": [
    "api_url = parse.ParseResult(scheme  = result.scheme, netloc= result.hostname, path=result.path, \n",
    "                 params = result.params, query=parse.urlencode(query_dict, doseq=True), fragment=result.fragment)"
   ]
  },
  {
   "cell_type": "code",
   "execution_count": 22,
   "metadata": {},
   "outputs": [],
   "source": [
    "url = parse.urlunparse(api_url)"
   ]
  },
  {
   "cell_type": "code",
   "execution_count": 23,
   "metadata": {},
   "outputs": [
    {
     "name": "stdout",
     "output_type": "stream",
     "text": [
      "http://openapi.data.go.kr/openapi/service/rest/Covid19/getCovid19InfStateJson?serviceKey=WRvGBkn9UEtw%2BAsg0tYo210Etxvb1QEcAX%2BwfWvOxVGYJkh1CNZ%2FY4QFa0r7j4bhT4NjPu7z1i1ck8ZgsKMt2Q%3D%3D&pageNo=1&numOfRows=10&startCreateDt=20200310&endCreateDt=20201030\n"
     ]
    }
   ],
   "source": [
    "print (url)"
   ]
  },
  {
   "cell_type": "code",
   "execution_count": 24,
   "metadata": {},
   "outputs": [
    {
     "data": {
      "text/plain": [
       "'<?xml version=\"1.0\" encoding=\"UTF-8\" standalone=\"yes\"?><response><header><resultCode>00</resultCode><resultMsg>NORMAL SERVICE.</resultMsg></header><body><items><item><accDefRate>1.0203189811</accDefRate><accExamCnt>2612231</accExamCnt><accExamCompCnt>2585858</accExamCompCnt><careCnt>1641</careCnt><clearCnt>24227</clearCnt><createDt>2020-10-30 9:31:55.55</createDt><deathCnt>463</deathCnt><decideCnt>26384</decideCnt><examCnt>26373</examCnt><resutlNegCnt>2559474</resutlNegCnt><seq>307</seq><stateDt>20201030</stateDt><stateTime>00:00</stateTime><updateDt>2020-10-30 9:31:55.55</updateDt></item><item><accDefRate>1.0214905339</accDefRate><accExamCnt>2597978</accExamCnt><accExamCompCnt>2571830</accExamCompCnt><careCnt>1612</careCnt><clearCnt>24168</clearCnt><createDt>2020-10-29 9:37:57.57</createDt><deathCnt>462</deathCnt><decideCnt>26271</decideCnt><examCnt>26148</examCnt><resutlNegCnt>2545559</resutlNegCnt><seq>306</seq><stateDt>20201029</stateDt><stateTime>00:00</stateTime><updateDt>2020-10-29 9:37:57.57</updateDt></item><item><accDefRate>1.0213057839</accDefRate><accExamCnt>2582960</accExamCnt><accExamCompCnt>2560056</accExamCompCnt><careCnt>1602</careCnt><clearCnt>24073</clearCnt><createDt>2020-10-28 9:35:23.23</createDt><deathCnt>461</deathCnt><decideCnt>26146</decideCnt><examCnt>22904</examCnt><resutlNegCnt>2533910</resutlNegCnt><seq>305</seq><stateDt>20201028</stateDt><stateTime>00:00</stateTime><updateDt>2020-10-28 9:35:23.23</updateDt></item><item><accDefRate>1.0234678831</accDefRate><accExamCnt>2567587</accExamCnt><accExamCompCnt>2544584</accExamCompCnt><careCnt>1593</careCnt><clearCnt>23981</clearCnt><createDt>2020-10-27 9:38:15.15</createDt><deathCnt>460</deathCnt><decideCnt>26043</decideCnt><examCnt>23003</examCnt><resutlNegCnt>2518541</resutlNegCnt><seq>304</seq><stateDt>20201027</stateDt><stateTime>00:00</stateTime><updateDt>2020-10-27 9:38:15.15</updateDt></item><item><accDefRate>1.0252810486</accDefRate><accExamCnt>2552264</accExamCnt><accExamCompCnt>2531501</accExamCompCnt><careCnt>1510</careCnt><clearCnt>23905</clearCnt><createDt>2020-10-26 9:38:41.41</createDt><deathCnt>457</deathCnt><decideCnt>25955</decideCnt><examCnt>20763</examCnt><resutlNegCnt>2505546</resutlNegCnt><seq>303</seq><stateDt>20201026</stateDt><stateTime>00:00</stateTime><updateDt>2020-10-26 9:38:41.41</updateDt></item><item><accDefRate>1.0234251706</accDefRate><accExamCnt>2546146</accExamCnt><accExamCompCnt>2524464</accExamCompCnt><careCnt>1484</careCnt><clearCnt>23869</clearCnt><createDt>2020-10-25 9:35:32.32</createDt><deathCnt>457</deathCnt><decideCnt>25836</decideCnt><examCnt>21682</examCnt><resutlNegCnt>2498628</resutlNegCnt><seq>302</seq><stateDt>20201025</stateDt><stateTime>00:00</stateTime><updateDt>2020-10-25 9:35:32.32</updateDt></item><item><accDefRate>1.0233084047</accDefRate><accExamCnt>2540679</accExamCnt><accExamCompCnt>2518791</accExamCompCnt><careCnt>1526</careCnt><clearCnt>23834</clearCnt><createDt>2020-10-24 10:28:46.46</createDt><deathCnt>457</deathCnt><decideCnt>25775</decideCnt><examCnt>21888</examCnt><resutlNegCnt>2493016</resutlNegCnt><seq>301</seq><stateDt>20201024</stateDt><stateTime>00:00</stateTime><updateDt>2020-10-24 10:28:46.46</updateDt></item><item><accDefRate>1.0245631213</accDefRate><accExamCnt>2528621</accExamCnt><accExamCompCnt>2508191</accExamCompCnt><careCnt>1443</careCnt><clearCnt>23717</clearCnt><createDt>2020-10-23 9:37:38.38</createDt><deathCnt>455</deathCnt><decideCnt>25698</decideCnt><examCnt>20430</examCnt><resutlNegCnt>2482493</resutlNegCnt><seq>300</seq><stateDt>20201023</stateDt><stateTime>00:00</stateTime><updateDt>2020-10-23 9:37:38.38</updateDt></item><item><accDefRate>1.0235574904</accDefRate><accExamCnt>2515325</accExamCnt><accExamCompCnt>2495512</accExamCompCnt><careCnt>1388</careCnt><clearCnt>23647</clearCnt><createDt>2020-10-22 9:41:21.21</createDt><deathCnt>453</deathCnt><decideCnt>25543</decideCnt><examCnt>19813</examCnt><resutlNegCnt>2469969</resutlNegCnt><seq>299</seq><stateDt>20201022</stateDt><stateTime>00:00</stateTime><updateDt>2020-10-22 9:41:21.21</updateDt></item><item><accDefRate>1.0234315997</accDefRate><accExamCnt>2503489</accExamCnt><accExamCompCnt>2483996</accExamCompCnt><careCnt>1420</careCnt><clearCnt>23584</clearCnt><createDt>2020-10-21 9:34:27.27</createDt><deathCnt>450</deathCnt><decideCnt>25422</decideCnt><examCnt>19493</examCnt><resutlNegCnt>2458574</resutlNegCnt><seq>298</seq><stateDt>20201021</stateDt><stateTime>00:00</stateTime><updateDt>2020-10-21 9:34:27.27</updateDt></item><item><accDefRate>1.0248259256</accDefRate><accExamCnt>2491311</accExamCnt><accExamCompCnt>2471932</accExamCompCnt><careCnt>1463</careCnt><clearCnt>23466</clearCnt><createDt>2020-10-20 9:32:53.53</createDt><deathCnt>447</deathCnt><decideCnt>25333</decideCnt><examCnt>19379</examCnt><resutlNegCnt>2446599</resutlNegCnt><seq>297</seq><stateDt>20201020</stateDt><stateTime>00:00</stateTime><updateDt>2020-10-20 9:32:53.53</updateDt></item><item><accDefRate>1.0264113613</accDefRate><accExamCnt>2479226</accExamCnt><accExamCompCnt>2462463</accExamCompCnt><careCnt>1443</careCnt><clearCnt>23368</clearCnt><createDt>2020-10-19 9:42:36.36</createDt><deathCnt>444</deathCnt><decideCnt>25275</decideCnt><examCnt>16763</examCnt><resutlNegCnt>2437188</resutlNegCnt><seq>296</seq><stateDt>20201019</stateDt><stateTime>00:00</stateTime><updateDt>2020-10-19 9:42:36.36</updateDt></item><item><accDefRate>1.0257055261</accDefRate><accExamCnt>2474529</accExamCnt><accExamCompCnt>2456748</accExamCompCnt><careCnt>1407</careCnt><clearCnt>23312</clearCnt><createDt>2020-10-18 9:33:56.56</createDt><deathCnt>444</deathCnt><decideCnt>25199</decideCnt><examCnt>17781</examCnt><resutlNegCnt>2431549</resutlNegCnt><seq>295</seq><stateDt>20201018</stateDt><stateTime>00:00</stateTime><updateDt>2020-10-18 9:33:56.56</updateDt></item><item><accDefRate>1.0243108604</accDefRate><accExamCnt>2468527</accExamCnt><accExamCompCnt>2451209</accExamCompCnt><careCnt>1414</careCnt><clearCnt>23258</clearCnt><createDt>2020-10-17 9:49:12.12</createDt><deathCnt>443</deathCnt><decideCnt>25108</decideCnt><examCnt>17318</examCnt><resutlNegCnt>2426101</resutlNegCnt><seq>294</seq><stateDt>20201017</stateDt><stateTime>00:00</stateTime><updateDt>2020-10-17 9:49:12.12</updateDt></item><item><accDefRate>1.0251544693</accDefRate><accExamCnt>2459426</accExamCnt><accExamCompCnt>2442071</accExamCompCnt><careCnt>1467</careCnt><clearCnt>23180</clearCnt><createDt>2020-10-16 9:34:40.40</createDt><deathCnt>441</deathCnt><decideCnt>25035</decideCnt><examCnt>17355</examCnt><resutlNegCnt>2417036</resutlNegCnt><seq>293</seq><stateDt>20201016</stateDt><stateTime>00:00</stateTime><updateDt>2020-10-16 9:34:40.40</updateDt></item><item><accDefRate>1.0272656226</accDefRate><accExamCnt>2450739</accExamCnt><accExamCompCnt>2432477</accExamCompCnt><careCnt>1410</careCnt><clearCnt>23082</clearCnt><createDt>2020-10-15 9:39:51.51</createDt><deathCnt>439</deathCnt><decideCnt>24988</decideCnt><examCnt>18262</examCnt><resutlNegCnt>2407489</resutlNegCnt><seq>292</seq><stateDt>20201015</stateDt><stateTime>00:00</stateTime><updateDt>2020-10-15 9:39:51.51</updateDt></item><item><accDefRate>1.0267237903</accDefRate><accExamCnt>2441443</accExamCnt><accExamCompCnt>2423047</accExamCompCnt><careCnt>1508</careCnt><clearCnt>23030</clearCnt><createDt>2020-10-14 9:35:05.05</createDt><deathCnt>438</deathCnt><decideCnt>24878</decideCnt><examCnt>18396</examCnt><resutlNegCnt>2398169</resutlNegCnt><seq>291</seq><stateDt>20201014</stateDt><stateTime>00:00</stateTime><updateDt>2020-10-14 9:35:05.05</updateDt></item><item><accDefRate>1.0298312704</accDefRate><accExamCnt>2428771</accExamCnt><accExamCompCnt>2408647</accExamCompCnt><careCnt>1542</careCnt><clearCnt>22863</clearCnt><createDt>2020-10-13 9:40:11.11</createDt><deathCnt>434</deathCnt><decideCnt>24805</decideCnt><examCnt>20124</examCnt><resutlNegCnt>2383842</resutlNegCnt><seq>290</seq><stateDt>20201013</stateDt><stateTime>00:00</stateTime><updateDt>2020-10-13 9:40:11.11</updateDt></item><item><accDefRate>1.0308301807</accDefRate><accExamCnt>2415610</accExamCnt><accExamCompCnt>2396418</accExamCompCnt><careCnt>1481</careCnt><clearCnt>22728</clearCnt><createDt>2020-10-12 9:41:38.38</createDt><deathCnt>433</deathCnt><decideCnt>24703</decideCnt><examCnt>19192</examCnt><resutlNegCnt>2371715</resutlNegCnt><seq>289</seq><stateDt>20201012</stateDt><stateTime>00:00</stateTime><updateDt>2020-10-12 9:41:38.38</updateDt></item><item><accDefRate>1.0289898711</accDefRate><accExamCnt>2410483</accExamCnt><accExamCompCnt>2391180</accExamCompCnt><careCnt>1494</careCnt><clearCnt>22692</clearCnt><createDt>2020-10-11 9:32:37.37</createDt><deathCnt>432</deathCnt><decideCnt>24605</decideCnt><examCnt>19303</examCnt><resutlNegCnt>2366575</resutlNegCnt><seq>288</seq><stateDt>20201011</stateDt><stateTime>00:00</stateTime><updateDt>2020-10-11 9:32:37.37</updateDt></item><item><accDefRate>1.0289214663</accDefRate><accExamCnt>2404684</accExamCnt><accExamCompCnt>2385702</accExamCompCnt><careCnt>1479</careCnt><clearCnt>22623</clearCnt><createDt>2020-10-10 9:39:43.43</createDt><deathCnt>430</deathCnt><decideCnt>24547</decideCnt><examCnt>18982</examCnt><resutlNegCnt>2361155</resutlNegCnt><seq>287</seq><stateDt>20201010</stateDt><stateTime>00:00</stateTime><updateDt>2020-10-10 9:39:43.43</updateDt></item><item><accDefRate>1.0285627353</accDefRate><accExamCnt>2400233</accExamCnt><accExamCompCnt>2379534</accExamCompCnt><careCnt>1532</careCnt><clearCnt>22568</clearCnt><createDt>2020-10-09 9:37:05.05</createDt><deathCnt>428</deathCnt><decideCnt>24475</decideCnt><examCnt>20699</examCnt><resutlNegCnt>2355059</resutlNegCnt><seq>286</seq><stateDt>20201009</stateDt><stateTime>00:00</stateTime><updateDt>2020-10-09 9:37:05.05</updateDt></item><item><accDefRate>1.0313505916</accDefRate><accExamCnt>2388844</accExamCnt><accExamCompCnt>2367866</accExamCompCnt><careCnt>1594</careCnt><clearCnt>22462</clearCnt><createDt>2020-10-08 10:01:48.48</createDt><deathCnt>427</deathCnt><decideCnt>24421</decideCnt><examCnt>20978</examCnt><resutlNegCnt>2343445</resutlNegCnt><seq>285</seq><stateDt>20201008</stateDt><stateTime>00:00</stateTime><updateDt>2020-10-08 10:01:48.48</updateDt></item><item><accDefRate>1.0336448161</accDefRate><accExamCnt>2378073</accExamCnt><accExamCompCnt>2355935</accExamCompCnt><careCnt>1734</careCnt><clearCnt>22333</clearCnt><createDt>2020-10-07 9:42:44.44</createDt><deathCnt>425</deathCnt><decideCnt>24352</decideCnt><examCnt>22138</examCnt><resutlNegCnt>2331583</resutlNegCnt><seq>284</seq><stateDt>20201007</stateDt><stateTime>00:00</stateTime><updateDt>2020-10-07 9:42:44.44</updateDt></item><item><accDefRate>1.0346199421</accDefRate><accExamCnt>2365433</accExamCnt><accExamCompCnt>2342696</accExamCompCnt><careCnt>1856</careCnt><clearCnt>22082</clearCnt><createDt>2020-10-06 9:39:51.51</createDt><deathCnt>422</deathCnt><decideCnt>24238</decideCnt><examCnt>22737</examCnt><resutlNegCnt>2318458</resutlNegCnt><seq>283</seq><stateDt>20201006</stateDt><stateTime>00:00</stateTime><updateDt>2020-10-06 9:39:51.51</updateDt></item><item><accDefRate>1.0370693381</accDefRate><accExamCnt>2352378</accExamCnt><accExamCompCnt>2329931</accExamCompCnt><careCnt>1825</careCnt><clearCnt>21885</clearCnt><createDt>2020-10-05 9:32:34.34</createDt><deathCnt>422</deathCnt><decideCnt>24163</decideCnt><examCnt>22447</examCnt><resutlNegCnt>2305768</resutlNegCnt><seq>282</seq><stateDt>20201005</stateDt><stateTime>00:00</stateTime><updateDt>2020-10-05 9:32:34.34</updateDt></item><item><accDefRate>1.0364727399</accDefRate><accExamCnt>2346345</accExamCnt><accExamCompCnt>2324229</accExamCompCnt><careCnt>1820</careCnt><clearCnt>21844</clearCnt><createDt>2020-10-04 9:35:30.30</createDt><deathCnt>421</deathCnt><decideCnt>24090</decideCnt><examCnt>22116</examCnt><resutlNegCnt>2300139</resutlNegCnt><seq>281</seq><stateDt>20201004</stateDt><stateTime>00:00</stateTime><updateDt>2020-10-04 9:35:30.30</updateDt></item><item><accDefRate>1.0362412726</accDefRate><accExamCnt>2339859</accExamCnt><accExamCompCnt>2318572</accExamCompCnt><careCnt>1803</careCnt><clearCnt>21786</clearCnt><createDt>2020-10-03 9:49:46.46</createDt><deathCnt>420</deathCnt><decideCnt>24026</decideCnt><examCnt>21287</examCnt><resutlNegCnt>2294546</resutlNegCnt><seq>280</seq><stateDt>20201003</stateDt><stateTime>00:00</stateTime><updateDt>2020-10-03 9:49:46.46</updateDt></item><item><accDefRate>1.0351450568</accDefRate><accExamCnt>2333777</accExamCnt><accExamCompCnt>2313782</accExamCompCnt><careCnt>1808</careCnt><clearCnt>21732</clearCnt><createDt>2020-10-02 9:51:41.41</createDt><deathCnt>416</deathCnt><decideCnt>23951</decideCnt><examCnt>19995</examCnt><resutlNegCnt>2289831</resutlNegCnt><seq>279</seq><stateDt>20201002</stateDt><stateTime>00:00</stateTime><updateDt>2020-10-02 9:51:41.41</updateDt></item><item><accDefRate>1.0348266292</accDefRate><accExamCnt>2328435</accExamCnt><accExamCompCnt>2308406</accExamCompCnt><careCnt>1808</careCnt><clearCnt>21665</clearCnt><createDt>2020-10-01 9:38:23.23</createDt><deathCnt>415</deathCnt><decideCnt>23888</decideCnt><examCnt>20029</examCnt><resutlNegCnt>2284518</resutlNegCnt><seq>278</seq><stateDt>20201001</stateDt><stateTime>00:00</stateTime><updateDt>2020-10-01 9:38:23.23</updateDt></item><item><accDefRate>1.0341803758</accDefRate><accExamCnt>2322999</accExamCnt><accExamCompCnt>2302403</accExamCompCnt><careCnt>1822</careCnt><clearCnt>21590</clearCnt><createDt>2020-09-30 9:32:00.00</createDt><deathCnt>413</deathCnt><decideCnt>23811</decideCnt><examCnt>20596</examCnt><resutlNegCnt>2278592</resutlNegCnt><seq>277</seq><stateDt>20200930</stateDt><stateTime>00:00</stateTime><updateDt>2020-09-30 9:32:00.00</updateDt></item><item><accDefRate>1.0334986489</accDefRate><accExamCnt>2313044</accExamCnt><accExamCompCnt>2292988</accExamCompCnt><careCnt>1963</careCnt><clearCnt>21469</clearCnt><createDt>2020-09-29 9:40:17.17</createDt><deathCnt>407</deathCnt><decideCnt>23698</decideCnt><examCnt>20056</examCnt><resutlNegCnt>2269290</resutlNegCnt><seq>276</seq><stateDt>20200929</stateDt><stateTime>00:00</stateTime><updateDt>2020-09-29 9:40:17.17</updateDt></item><item><accDefRate>1.0364846086</accDefRate><accExamCnt>2301303</accExamCnt><accExamCompCnt>2282716</accExamCompCnt><careCnt>1962</careCnt><clearCnt>21291</clearCnt><createDt>2020-09-28 10:25:15.15</createDt><deathCnt>406</deathCnt><decideCnt>23660</decideCnt><examCnt>18587</examCnt><resutlNegCnt>2259056</resutlNegCnt><seq>275</seq><stateDt>20200928</stateDt><stateTime>00:00</stateTime><updateDt>2020-09-28 10:25:15.15</updateDt></item><item><accDefRate>1.0365997421</accDefRate><accExamCnt>2296517</accExamCnt><accExamCompCnt>2277639</accExamCompCnt><careCnt>1951</careCnt><clearCnt>21247</clearCnt><createDt>2020-09-27 10:12:36.36</createDt><deathCnt>401</deathCnt><decideCnt>23610</decideCnt><examCnt>18878</examCnt><resutlNegCnt>2254029</resutlNegCnt><seq>274</seq><stateDt>20200927</stateDt><stateTime>00:00</stateTime><updateDt>2020-09-27 10:12:36.36</updateDt></item><item><accDefRate>1.0350654558</accDefRate><accExamCnt>2290345</accExamCnt><accExamCompCnt>2271837</accExamCompCnt><careCnt>2082</careCnt><clearCnt>21165</clearCnt><createDt>2020-09-26 10:01:53.53</createDt><deathCnt>399</deathCnt><decideCnt>23515</decideCnt><examCnt>18508</examCnt><resutlNegCnt>2248322</resutlNegCnt><seq>273</seq><stateDt>20200926</stateDt><stateTime>00:00</stateTime><updateDt>2020-09-26 10:01:53.53</updateDt></item><item><accDefRate>1.0374658125</accDefRate><accExamCnt>2280276</accExamCnt><accExamCompCnt>2260701</accExamCompCnt><careCnt>2116</careCnt><clearCnt>20977</clearCnt><createDt>2020-09-25 9:56:14.14</createDt><deathCnt>395</deathCnt><decideCnt>23454</decideCnt><examCnt>19575</examCnt><resutlNegCnt>2237247</resutlNegCnt><seq>272</seq><stateDt>20200925</stateDt><stateTime>00:00</stateTime><updateDt>2020-09-25 9:56:14.14</updateDt></item><item><accDefRate>1.0381560142</accDefRate><accExamCnt>2268999</accExamCnt><accExamCompCnt>2248217</accExamCompCnt><careCnt>2178</careCnt><clearCnt>20831</clearCnt><createDt>2020-09-24 10:06:22.22</createDt><deathCnt>393</deathCnt><decideCnt>23340</decideCnt><examCnt>20782</examCnt><resutlNegCnt>2224877</resutlNegCnt><seq>271</seq><stateDt>20200924</stateDt><stateTime>00:00</stateTime><updateDt>2020-09-24 10:06:22.22</updateDt></item><item><accDefRate>1.0380652234</accDefRate><accExamCnt>2256899</accExamCnt><accExamCompCnt>2236372</accExamCompCnt><careCnt>2277</careCnt><clearCnt>20649</clearCnt><createDt>2020-09-23 10:11:00.00</createDt><deathCnt>388</deathCnt><decideCnt>23215</decideCnt><examCnt>20527</examCnt><resutlNegCnt>2213157</resutlNegCnt><seq>270</seq><stateDt>20200923</stateDt><stateTime>00:00</stateTime><updateDt>2020-09-23 10:11:00.00</updateDt></item><item><accDefRate>1.0398804621</accDefRate><accExamCnt>2245112</accExamCnt><accExamCompCnt>2221890</accExamCompCnt><careCnt>2412</careCnt><clearCnt>20440</clearCnt><createDt>2020-09-22 10:08:48.48</createDt><deathCnt>388</deathCnt><decideCnt>23105</decideCnt><examCnt>23222</examCnt><resutlNegCnt>2198785</resutlNegCnt><seq>269</seq><stateDt>20200922</stateDt><stateTime>00:00</stateTime><updateDt>2020-09-22 10:08:48.48</updateDt></item><item><accDefRate>1.0431619340</accDefRate><accExamCnt>2231589</accExamCnt><accExamCompCnt>2209053</accExamCompCnt><careCnt>2434</careCnt><clearCnt>20247</clearCnt><createDt>2020-09-21 10:01:43.43</createDt><deathCnt>385</deathCnt><decideCnt>23044</decideCnt><examCnt>22536</examCnt><resutlNegCnt>2186009</resutlNegCnt><seq>268</seq><stateDt>20200921</stateDt><stateTime>00:00</stateTime><updateDt>2020-09-21 10:01:43.43</updateDt></item><item><accDefRate>1.0431219740</accDefRate><accExamCnt>2226701</accExamCnt><accExamCompCnt>2202427</accExamCompCnt><careCnt>2545</careCnt><clearCnt>20157</clearCnt><createDt>2020-09-20 9:52:54.54</createDt><deathCnt>383</deathCnt><decideCnt>22974</decideCnt><examCnt>24274</examCnt><resutlNegCnt>2179453</resutlNegCnt><seq>267</seq><stateDt>20200920</stateDt><stateTime>00:00</stateTime><updateDt>2020-09-20 9:52:54.54</updateDt></item><item><accDefRate>1.0431737782</accDefRate><accExamCnt>2219162</accExamCnt><accExamCompCnt>2194457</accExamCompCnt><careCnt>2635</careCnt><clearCnt>19969</clearCnt><createDt>2020-09-19 10:09:16.16</createDt><deathCnt>378</deathCnt><decideCnt>22892</decideCnt><examCnt>24705</examCnt><resutlNegCnt>2171565</resutlNegCnt><seq>266</seq><stateDt>20200919</stateDt><stateTime>00:00</stateTime><updateDt>2020-09-19 10:09:16.16</updateDt></item><item><accDefRate>1.0445849125</accDefRate><accExamCnt>2206365</accExamCnt><accExamCompCnt>2180962</accExamCompCnt><careCnt>2742</careCnt><clearCnt>19770</clearCnt><createDt>2020-09-18 9:58:10.10</createDt><deathCnt>377</deathCnt><decideCnt>22782</decideCnt><examCnt>25403</examCnt><resutlNegCnt>2158180</resutlNegCnt><seq>265</seq><stateDt>20200918</stateDt><stateTime>00:00</stateTime><updateDt>2020-09-18 9:58:10.10</updateDt></item><item><accDefRate>1.0457979748</accDefRate><accExamCnt>2191892</accExamCnt><accExamCompCnt>2166384</accExamCompCnt><careCnt>2827</careCnt><clearCnt>19542</clearCnt><createDt>2020-09-17 10:09:17.17</createDt><deathCnt>372</deathCnt><decideCnt>22656</decideCnt><examCnt>25508</examCnt><resutlNegCnt>2143728</resutlNegCnt><seq>264</seq><stateDt>20200917</stateDt><stateTime>00:00</stateTime><updateDt>2020-09-17 10:09:17.17</updateDt></item><item><accDefRate>1.0451976089</accDefRate><accExamCnt>2178832</accExamCnt><accExamCompCnt>2152990</accExamCompCnt><careCnt>3146</careCnt><clearCnt>19309</clearCnt><createDt>2020-09-16 9:37:11.11</createDt><deathCnt>367</deathCnt><decideCnt>22503</decideCnt><examCnt>25842</examCnt><resutlNegCnt>2130487</resutlNegCnt><seq>263</seq><stateDt>20200916</stateDt><stateTime>00:00</stateTime><updateDt>2020-09-16 9:37:11.11</updateDt></item><item><accDefRate>1.0475990844</accDefRate><accExamCnt>2164578</accExamCnt><accExamCompCnt>2137268</accExamCompCnt><careCnt>3433</careCnt><clearCnt>18877</clearCnt><createDt>2020-09-15 9:48:42.42</createDt><deathCnt>367</deathCnt><decideCnt>22390</decideCnt><examCnt>27310</examCnt><resutlNegCnt>2114878</resutlNegCnt><seq>262</seq><stateDt>20200915</stateDt><stateTime>00:00</stateTime><updateDt>2020-09-15 9:48:42.42</updateDt></item><item><accDefRate>1.0493867275</accDefRate><accExamCnt>2151002</accExamCnt><accExamCompCnt>2123526</accExamCompCnt><careCnt>3592</careCnt><clearCnt>18488</clearCnt><createDt>2020-09-14 9:54:40.40</createDt><deathCnt>363</deathCnt><decideCnt>22284</decideCnt><examCnt>27476</examCnt><resutlNegCnt>2101242</resutlNegCnt><seq>261</seq><stateDt>20200914</stateDt><stateTime>00:00</stateTime><updateDt>2020-09-14 9:54:40.40</updateDt></item><item><accDefRate>1.0481833458</accDefRate><accExamCnt>2143270</accExamCnt><accExamCompCnt>2115565</accExamCompCnt><careCnt>3671</careCnt><clearCnt>18225</clearCnt><createDt>2020-09-13 11:05:39.39</createDt><deathCnt>358</deathCnt><decideCnt>22175</decideCnt><examCnt>27705</examCnt><resutlNegCnt>2093390</resutlNegCnt><seq>260</seq><stateDt>20200913</stateDt><stateTime>00:00</stateTime><updateDt>2020-09-13 11:05:39.39</updateDt></item><item><accDefRate>1.0463881011</accDefRate><accExamCnt>2135457</accExamCnt><accExamCompCnt>2107631</accExamCompCnt><careCnt>3953</careCnt><clearCnt>18028</clearCnt><createDt>2020-09-12 10:03:20.20</createDt><deathCnt>355</deathCnt><decideCnt>22054</decideCnt><examCnt>27826</examCnt><resutlNegCnt>2085577</resutlNegCnt><seq>259</seq><stateDt>20200912</stateDt><stateTime>00:00</stateTime><updateDt>2020-09-12 10:03:20.20</updateDt></item><item><accDefRate>1.0488145208</accDefRate><accExamCnt>2119211</accExamCnt><accExamCompCnt>2089788</accExamCompCnt><careCnt>4037</careCnt><clearCnt>17615</clearCnt><createDt>2020-09-11 9:34:22.22</createDt><deathCnt>350</deathCnt><decideCnt>21918</decideCnt><examCnt>29423</examCnt><resutlNegCnt>2067870</resutlNegCnt><seq>258</seq><stateDt>20200911</stateDt><stateTime>00:00</stateTime><updateDt>2020-09-11 9:34:22.22</updateDt></item><item><accDefRate>1.0520799410</accDefRate><accExamCnt>2099591</accExamCnt><accExamCompCnt>2066573</accExamCompCnt><careCnt>4221</careCnt><clearCnt>17359</clearCnt><createDt>2020-09-10 9:43:45.45</createDt><deathCnt>346</deathCnt><decideCnt>21742</decideCnt><examCnt>33018</examCnt><resutlNegCnt>2044831</resutlNegCnt><seq>257</seq><stateDt>20200910</stateDt><stateTime>00:00</stateTime><updateDt>2020-09-10 9:43:45.45</updateDt></item><item><accDefRate>1.0552373000</accDefRate><accExamCnt>2082234</accExamCnt><accExamCompCnt>2045701</accExamCompCnt><careCnt>4455</careCnt><clearCnt>17022</clearCnt><createDt>2020-09-09 10:04:45.45</createDt><deathCnt>344</deathCnt><decideCnt>21587</decideCnt><examCnt>36533</examCnt><resutlNegCnt>2024114</resutlNegCnt><seq>256</seq><stateDt>20200909</stateDt><stateTime>00:00</stateTime><updateDt>2020-09-09 10:04:45.45</updateDt></item><item><accDefRate>1.0595202075</accDefRate><accExamCnt>2066078</accExamCnt><accExamCompCnt>2022708</accExamCompCnt><careCnt>4663</careCnt><clearCnt>16635</clearCnt><createDt>2020-09-08 9:34:17.17</createDt><deathCnt>341</deathCnt><decideCnt>21431</decideCnt><examCnt>43370</examCnt><resutlNegCnt>2001277</resutlNegCnt><seq>255</seq><stateDt>20200908</stateDt><stateTime>00:00</stateTime><updateDt>2020-09-08 9:34:17.17</updateDt></item><item><accDefRate>1.0625250724</accDefRate><accExamCnt>2051297</accExamCnt><accExamCompCnt>2004188</accExamCompCnt><careCnt>4697</careCnt><clearCnt>16296</clearCnt><createDt>2020-09-07 9:34:32.32</createDt><deathCnt>336</deathCnt><decideCnt>21295</decideCnt><examCnt>47109</examCnt><resutlNegCnt>1982893</resutlNegCnt><seq>254</seq><stateDt>20200907</stateDt><stateTime>00:00</stateTime><updateDt>2020-09-07 9:34:32.32</updateDt></item><item><accDefRate>1.0607549714</accDefRate><accExamCnt>2045935</accExamCnt><accExamCompCnt>1996314</accExamCompCnt><careCnt>4668</careCnt><clearCnt>16145</clearCnt><createDt>2020-09-06 9:48:31.31</createDt><deathCnt>334</deathCnt><decideCnt>21176</decideCnt><examCnt>49621</examCnt><resutlNegCnt>1975138</resutlNegCnt><seq>253</seq><stateDt>20200906</stateDt><stateTime>00:00</stateTime><updateDt>2020-09-06 9:48:31.31</updateDt></item><item><accDefRate>1.0584049717</accDefRate><accExamCnt>2037045</accExamCnt><accExamCompCnt>1984968</accExamCompCnt><careCnt>4727</careCnt><clearCnt>16008</clearCnt><createDt>2020-09-05 9:34:12.12</createDt><deathCnt>333</deathCnt><decideCnt>21009</decideCnt><examCnt>52077</examCnt><resutlNegCnt>1963959</resutlNegCnt><seq>252</seq><stateDt>20200905</stateDt><stateTime>00:00</stateTime><updateDt>2020-09-05 9:34:12.12</updateDt></item><item><accDefRate>1.0597262335</accDefRate><accExamCnt>2018906</accExamCnt><accExamCompCnt>1966640</accExamCompCnt><careCnt>4785</careCnt><clearCnt>15783</clearCnt><createDt>2020-09-04 9:46:41.41</createDt><deathCnt>331</deathCnt><decideCnt>20841</decideCnt><examCnt>52266</examCnt><resutlNegCnt>1945799</resutlNegCnt><seq>251</seq><stateDt>20200904</stateDt><stateTime>00:00</stateTime><updateDt>2020-09-04 9:46:41.41</updateDt></item><item><accDefRate>1.0613214822</accDefRate><accExamCnt>2000552</accExamCnt><accExamCompCnt>1945028</accExamCompCnt><careCnt>4766</careCnt><clearCnt>15529</clearCnt><createDt>2020-09-03 9:37:36.36</createDt><deathCnt>329</deathCnt><decideCnt>20643</decideCnt><examCnt>55524</examCnt><resutlNegCnt>1924385</resutlNegCnt><seq>250</seq><stateDt>20200903</stateDt><stateTime>00:00</stateTime><updateDt>2020-09-03 9:37:36.36</updateDt></item><item><accDefRate>1.0630361514</accDefRate><accExamCnt>1980295</accExamCnt><accExamCompCnt>1923547</accExamCompCnt><careCnt>4659</careCnt><clearCnt>15356</clearCnt><createDt>2020-09-02 10:20:18.18</createDt><deathCnt>326</deathCnt><decideCnt>20448</decideCnt><examCnt>56748</examCnt><resutlNegCnt>1903099</resutlNegCnt><seq>249</seq><stateDt>20200902</stateDt><stateTime>00:00</stateTime><updateDt>2020-09-02 10:20:18.18</updateDt></item><item><accDefRate>1.0608530454</accDefRate><accExamCnt>1959080</accExamCnt><accExamCompCnt>1902337</accExamCompCnt><careCnt>4649</careCnt><clearCnt>15198</clearCnt><createDt>2020-09-01 9:32:28.28</createDt><deathCnt>324</deathCnt><decideCnt>20181</decideCnt><examCnt>56743</examCnt><resutlNegCnt>1882156</resutlNegCnt><seq>248</seq><stateDt>20200901</stateDt><stateTime>00:00</stateTime><updateDt>2020-09-01 9:32:28.28</updateDt></item><item><accDefRate>1.0610629887</accDefRate><accExamCnt>1937689</accExamCnt><accExamCompCnt>1879813</accExamCompCnt><careCnt>4472</careCnt><clearCnt>14973</clearCnt><createDt>2020-08-31 9:32:30.30</createDt><deathCnt>324</deathCnt><decideCnt>19946</decideCnt><examCnt>57876</examCnt><resutlNegCnt>1859867</resutlNegCnt><seq>247</seq><stateDt>20200831</stateDt><stateTime>00:00</stateTime><updateDt>2020-08-31 9:32:30.30</updateDt></item><item><accDefRate>1.0555427246</accDefRate><accExamCnt>1924170</accExamCnt><accExamCompCnt>1866149</accExamCompCnt><careCnt>4313</careCnt><clearCnt>14903</clearCnt><createDt>2020-08-30 9:37:35.35</createDt><deathCnt>323</deathCnt><decideCnt>19698</decideCnt><examCnt>58021</examCnt><resutlNegCnt>1846451</resutlNegCnt><seq>246</seq><stateDt>20200830</stateDt><stateTime>00:00</stateTime><updateDt>2020-08-30 9:37:35.35</updateDt></item><item><accDefRate>1.0456086753</accDefRate><accExamCnt>1909329</accExamCnt><accExamCompCnt>1855283</accExamCompCnt><careCnt>4209</careCnt><clearCnt>14765</clearCnt><createDt>2020-08-29 9:56:02.02</createDt><deathCnt>321</deathCnt><decideCnt>19399</decideCnt><examCnt>54046</examCnt><resutlNegCnt>1835884</resutlNegCnt><seq>245</seq><stateDt>20200829</stateDt><stateTime>00:00</stateTime><updateDt>2020-08-29 9:56:02.02</updateDt></item><item><accDefRate>1.0384288347</accDefRate><accExamCnt>1887717</accExamCnt><accExamCompCnt>1837006</accExamCompCnt><careCnt>3931</careCnt><clearCnt>14551</clearCnt><createDt>2020-08-28 9:39:46.46</createDt><deathCnt>316</deathCnt><decideCnt>19076</decideCnt><examCnt>50711</examCnt><resutlNegCnt>1817930</resutlNegCnt><seq>244</seq><stateDt>20200828</stateDt><stateTime>00:00</stateTime><updateDt>2020-08-28 9:39:46.46</updateDt></item><item><accDefRate>1.0291394182</accDefRate><accExamCnt>1869579</accExamCnt><accExamCompCnt>1817538</accExamCompCnt><careCnt>3584</careCnt><clearCnt>14461</clearCnt><createDt>2020-08-27 10:15:47.47</createDt><deathCnt>313</deathCnt><decideCnt>18705</decideCnt><examCnt>52041</examCnt><resutlNegCnt>1798833</resutlNegCnt><seq>243</seq><stateDt>20200827</stateDt><stateTime>00:00</stateTime><updateDt>2020-08-27 10:15:47.47</updateDt></item><item><accDefRate>1.0165240820</accDefRate><accExamCnt>1849506</accExamCnt><accExamCompCnt>1796711</accExamCompCnt><careCnt>3348</careCnt><clearCnt>14368</clearCnt><createDt>2020-08-26 10:20:54.54</createDt><deathCnt>312</deathCnt><decideCnt>18264</decideCnt><examCnt>52795</examCnt><resutlNegCnt>1778447</resutlNegCnt><seq>242</seq><stateDt>20200826</stateDt><stateTime>00:00</stateTime><updateDt>2020-08-26 10:20:54.54</updateDt></item><item><accDefRate>1.0106591193</accDefRate><accExamCnt>1825837</accExamCnt><accExamCompCnt>1775475</accExamCompCnt><careCnt>3136</careCnt><clearCnt>14286</clearCnt><createDt>2020-08-25 10:23:00.00</createDt><deathCnt>310</deathCnt><decideCnt>17944</decideCnt><examCnt>50362</examCnt><resutlNegCnt>1757531</resutlNegCnt><seq>241</seq><stateDt>20200825</stateDt><stateTime>00:00</stateTime><updateDt>2020-08-25 10:23:00.00</updateDt></item><item><accDefRate>1.0056780042</accDefRate><accExamCnt>1804422</accExamCnt><accExamCompCnt>1756427</accExamCompCnt><careCnt>2889</careCnt><clearCnt>14219</clearCnt><createDt>2020-08-24 10:17:44.44</createDt><deathCnt>309</deathCnt><decideCnt>17664</decideCnt><examCnt>47995</examCnt><resutlNegCnt>1738763</resutlNegCnt><seq>240</seq><stateDt>20200824</stateDt><stateTime>00:00</stateTime><updateDt>2020-08-24 10:17:44.44</updateDt></item><item><accDefRate>0.9978080111</accDefRate><accExamCnt>1791186</accExamCnt><accExamCompCnt>1743622</accExamCompCnt><careCnt>2524</careCnt><clearCnt>14200</clearCnt><createDt>2020-08-23 10:21:59.59</createDt><deathCnt>309</deathCnt><decideCnt>17398</decideCnt><examCnt>47564</examCnt><resutlNegCnt>1726224</resutlNegCnt><seq>239</seq><stateDt>20200823</stateDt><stateTime>00:00</stateTime><updateDt>2020-08-23 10:21:59.59</updateDt></item><item><accDefRate>0.9808621687</accDefRate><accExamCnt>1775800</accExamCnt><accExamCompCnt>1733373</accExamCompCnt><careCnt>2241</careCnt><clearCnt>14169</clearCnt><createDt>2020-08-22 10:15:56.56</createDt><deathCnt>309</deathCnt><decideCnt>17002</decideCnt><examCnt>42427</examCnt><resutlNegCnt>1716371</resutlNegCnt><seq>238</seq><stateDt>20200822</stateDt><stateTime>00:00</stateTime><updateDt>2020-08-22 10:15:56.56</updateDt></item><item><accDefRate>0.9714010668</accDefRate><accExamCnt>1754123</accExamCnt><accExamCompCnt>1716078</accExamCompCnt><careCnt>1976</careCnt><clearCnt>14120</clearCnt><createDt>2020-08-21 10:21:10.10</createDt><deathCnt>309</deathCnt><decideCnt>16670</decideCnt><examCnt>38045</examCnt><resutlNegCnt>1699408</resutlNegCnt><seq>237</seq><stateDt>20200821</stateDt><stateTime>00:00</stateTime><updateDt>2020-08-21 10:21:10.10</updateDt></item><item><accDefRate>0.9620472195</accDefRate><accExamCnt>1734083</accExamCnt><accExamCompCnt>1699085</accExamCompCnt><careCnt>1746</careCnt><clearCnt>14063</clearCnt><createDt>2020-08-20 10:13:53.53</createDt><deathCnt>307</deathCnt><decideCnt>16346</decideCnt><examCnt>34998</examCnt><resutlNegCnt>1682739</resutlNegCnt><seq>236</seq><stateDt>20200820</stateDt><stateTime>00:00</stateTime><updateDt>2020-08-20 10:13:53.53</updateDt></item><item><accDefRate>0.9535391635</accDefRate><accExamCnt>1715064</accExamCnt><accExamCompCnt>1684042</accExamCompCnt><careCnt>1521</careCnt><clearCnt>14006</clearCnt><createDt>2020-08-19 10:12:19.19</createDt><deathCnt>306</deathCnt><decideCnt>16058</decideCnt><examCnt>31022</examCnt><resutlNegCnt>1667984</resutlNegCnt><seq>235</seq><stateDt>20200819</stateDt><stateTime>00:00</stateTime><updateDt>2020-08-19 10:12:19.19</updateDt></item><item><accDefRate>0.9427433406</accDefRate><accExamCnt>1697042</accExamCnt><accExamCompCnt>1671823</accExamCompCnt><careCnt>1293</careCnt><clearCnt>13934</clearCnt><createDt>2020-08-18 10:13:01.01</createDt><deathCnt>306</deathCnt><decideCnt>15761</decideCnt><examCnt>25219</examCnt><resutlNegCnt>1656062</resutlNegCnt><seq>234</seq><stateDt>20200818</stateDt><stateTime>00:00</stateTime><updateDt>2020-08-18 10:13:01.01</updateDt></item><item><accDefRate>0.9315487305</accDefRate><accExamCnt>1688470</accExamCnt><accExamCompCnt>1665506</accExamCompCnt><careCnt>1103</careCnt><clearCnt>13917</clearCnt><createDt>2020-08-18 9:12:23.23</createDt><deathCnt>305</deathCnt><decideCnt>15515</decideCnt><examCnt>22964</examCnt><resutlNegCnt>1649991</resutlNegCnt><seq>233</seq><stateDt>20200817</stateDt><stateTime>00:00</stateTime><updateDt>2020-08-18 9:12:23.23</updateDt></item><item><accDefRate>0.9228922834</accDefRate><accExamCnt>1681787</accExamCnt><accExamCompCnt>1659782</accExamCompCnt><careCnt>833</careCnt><clearCnt>13910</clearCnt><createDt>2020-08-16 10:33:31.31</createDt><deathCnt>305</deathCnt><decideCnt>15318</decideCnt><examCnt>22005</examCnt><resutlNegCnt>1644464</resutlNegCnt><seq>232</seq><stateDt>20200816</stateDt><stateTime>00:00</stateTime><updateDt>2020-08-16 10:33:31.31</updateDt></item><item><accDefRate>0.9094273492</accDefRate><accExamCnt>1675296</accExamCnt><accExamCompCnt>1653678</accExamCompCnt><careCnt>705</careCnt><clearCnt>13901</clearCnt><createDt>2020-08-15 9:04:10.10</createDt><deathCnt>305</deathCnt><decideCnt>15039</decideCnt><examCnt>21618</examCnt><resutlNegCnt>1638639</resutlNegCnt><seq>231</seq><stateDt>20200815</stateDt><stateTime>00:00</stateTime><updateDt>2020-08-15 9:04:10.10</updateDt></item><item><accDefRate>0.9041601213</accDefRate><accExamCnt>1665084</accExamCnt><accExamCompCnt>1644952</accExamCompCnt><careCnt>648</careCnt><clearCnt>13863</clearCnt><createDt>2020-08-14 10:25:20.20</createDt><deathCnt>305</deathCnt><decideCnt>14873</decideCnt><examCnt>20132</examCnt><resutlNegCnt>1630079</resutlNegCnt><seq>230</seq><stateDt>20200814</stateDt><stateTime>00:00</stateTime><updateDt>2020-08-14 10:25:20.20</updateDt></item><item><accDefRate>0.9022051188</accDefRate><accExamCnt>1654898</accExamCnt><accExamCompCnt>1637100</accExamCompCnt><careCnt>623</careCnt><clearCnt>13817</clearCnt><createDt>2020-08-13 10:26:13.13</createDt><deathCnt>305</deathCnt><decideCnt>14770</decideCnt><examCnt>17798</examCnt><resutlNegCnt>1622330</resutlNegCnt><seq>229</seq><stateDt>20200813</stateDt><stateTime>00:00</stateTime><updateDt>2020-08-13 10:26:13.13</updateDt></item><item><accDefRate>0.9030999639</accDefRate><accExamCnt>1646652</accExamCnt><accExamCompCnt>1629277</accExamCompCnt><careCnt>626</careCnt><clearCnt>13786</clearCnt><createDt>2020-08-12 10:41:22.22</createDt><deathCnt>305</deathCnt><decideCnt>14714</decideCnt><examCnt>17375</examCnt><resutlNegCnt>1614563</resutlNegCnt><seq>228</seq><stateDt>20200812</stateDt><stateTime>00:00</stateTime><updateDt>2020-08-12 10:41:22.22</updateDt></item><item><accDefRate>0.9047400106</accDefRate><accExamCnt>1637844</accExamCnt><accExamCompCnt>1620355</accExamCompCnt><careCnt>663</careCnt><clearCnt>13729</clearCnt><createDt>2020-08-11 10:28:37.37</createDt><deathCnt>305</deathCnt><decideCnt>14660</decideCnt><examCnt>17489</examCnt><resutlNegCnt>1605695</resutlNegCnt><seq>227</seq><stateDt>20200811</stateDt><stateTime>00:00</stateTime><updateDt>2020-08-11 10:28:37.37</updateDt></item><item><accDefRate>0.9073724476</accDefRate><accExamCnt>1628303</accExamCnt><accExamCompCnt>1611907</accExamCompCnt><careCnt>651</careCnt><clearCnt>13658</clearCnt><createDt>2020-08-10 10:37:49.49</createDt><deathCnt>305</deathCnt><decideCnt>14626</decideCnt><examCnt>16396</examCnt><resutlNegCnt>1597281</resutlNegCnt><seq>226</seq><stateDt>20200810</stateDt><stateTime>00:00</stateTime><updateDt>2020-08-10 10:37:49.49</updateDt></item><item><accDefRate>0.9079222090</accDefRate><accExamCnt>1624650</accExamCnt><accExamCompCnt>1607847</accExamCompCnt><careCnt>629</careCnt><clearCnt>13642</clearCnt><createDt>2020-08-09 10:42:32.32</createDt><deathCnt>305</deathCnt><decideCnt>14598</decideCnt><examCnt>16803</examCnt><resutlNegCnt>1593249</resutlNegCnt><seq>225</seq><stateDt>20200809</stateDt><stateTime>00:00</stateTime><updateDt>2020-08-09 10:42:32.32</updateDt></item><item><accDefRate>0.9076239288</accDefRate><accExamCnt>1620514</accExamCnt><accExamCompCnt>1604409</accExamCompCnt><careCnt>673</careCnt><clearCnt>13629</clearCnt><createDt>2020-08-08 10:18:57.57</createDt><deathCnt>304</deathCnt><decideCnt>14562</decideCnt><examCnt>16105</examCnt><resutlNegCnt>1589847</resutlNegCnt><seq>224</seq><stateDt>20200808</stateDt><stateTime>00:00</stateTime><updateDt>2020-08-08 10:18:57.57</updateDt></item><item><accDefRate>0.9093790242</accDefRate><accExamCnt>1613652</accExamCnt><accExamCompCnt>1596584</accExamCompCnt><careCnt>696</careCnt><clearCnt>13543</clearCnt><createDt>2020-08-07 10:11:43.43</createDt><deathCnt>303</deathCnt><decideCnt>14519</decideCnt><examCnt>17068</examCnt><resutlNegCnt>1582065</resutlNegCnt><seq>223</seq><stateDt>20200807</stateDt><stateTime>00:00</stateTime><updateDt>2020-08-07 10:11:43.43</updateDt></item><item><accDefRate>0.9127731583</accDefRate><accExamCnt>1606487</accExamCnt><accExamCompCnt>1588456</accExamCompCnt><careCnt>748</careCnt><clearCnt>13501</clearCnt><createDt>2020-08-06 10:22:47.47</createDt><deathCnt>302</deathCnt><decideCnt>14499</decideCnt><examCnt>18031</examCnt><resutlNegCnt>1573957</resutlNegCnt><seq>222</seq><stateDt>20200806</stateDt><stateTime>00:00</stateTime><updateDt>2020-08-06 10:22:47.47</updateDt></item><item><accDefRate>0.9151122018</accDefRate><accExamCnt>1598187</accExamCnt><accExamCompCnt>1579697</accExamCompCnt><careCnt>770</careCnt><clearCnt>13406</clearCnt><createDt>2020-08-05 10:20:58.58</createDt><deathCnt>302</deathCnt><decideCnt>14456</decideCnt><examCnt>18490</examCnt><resutlNegCnt>1565241</resutlNegCnt><seq>221</seq><stateDt>20200805</stateDt><stateTime>00:00</stateTime><updateDt>2020-08-05 10:20:58.58</updateDt></item><item><accDefRate>0.9180449328</accDefRate><accExamCnt>1589780</accExamCnt><accExamCompCnt>1571056</accExamCompCnt><careCnt>808</careCnt><clearCnt>13352</clearCnt><createDt>2020-08-04 10:49:59.59</createDt><deathCnt>301</deathCnt><decideCnt>14423</decideCnt><examCnt>18724</examCnt><resutlNegCnt>1556633</resutlNegCnt><seq>220</seq><stateDt>20200804</stateDt><stateTime>00:00</stateTime><updateDt>2020-08-04 10:49:59.59</updateDt></item><item><accDefRate>0.9209808775</accDefRate><accExamCnt>1579757</accExamCnt><accExamCompCnt>1562356</accExamCompCnt><careCnt>806</careCnt><clearCnt>13280</clearCnt><createDt>2020-08-03 10:22:38.38</createDt><deathCnt>301</deathCnt><decideCnt>14389</decideCnt><examCnt>17401</examCnt><resutlNegCnt>1547967</resutlNegCnt><seq>219</seq><stateDt>20200803</stateDt><stateTime>00:00</stateTime><updateDt>2020-08-03 10:22:38.38</updateDt></item><item><accDefRate>0.9217967786</accDefRate><accExamCnt>1576246</accExamCnt><accExamCompCnt>1558478</accExamCompCnt><careCnt>802</careCnt><clearCnt>13259</clearCnt><createDt>2020-08-02 12:17:01.01</createDt><deathCnt>301</deathCnt><decideCnt>14366</decideCnt><examCnt>17768</examCnt><resutlNegCnt>1544112</resutlNegCnt><seq>218</seq><stateDt>20200802</stateDt><stateTime>00:00</stateTime><updateDt>2020-08-02 12:17:01.01</updateDt></item><item><accDefRate>0.9227885516</accDefRate><accExamCnt>1571830</accExamCnt><accExamCompCnt>1553552</accExamCompCnt><careCnt>821</careCnt><clearCnt>13233</clearCnt><createDt>2020-08-01 10:20:04.04</createDt><deathCnt>301</deathCnt><decideCnt>14336</decideCnt><examCnt>18278</examCnt><resutlNegCnt>1539216</resutlNegCnt><seq>217</seq><stateDt>20200801</stateDt><stateTime>00:00</stateTime><updateDt>2020-08-01 10:20:04.04</updateDt></item><item><accDefRate>0.9256107866</accDefRate><accExamCnt>1563796</accExamCnt><accExamCompCnt>1545466</accExamCompCnt><careCnt>837</careCnt><clearCnt>13183</clearCnt><createDt>2020-07-31 10:36:45.45</createDt><deathCnt>301</deathCnt><decideCnt>14305</decideCnt><examCnt>18330</examCnt><resutlNegCnt>1531161</resutlNegCnt><seq>216</seq><stateDt>20200731</stateDt><stateTime>00:00</stateTime><updateDt>2020-07-31 10:36:45.45</updateDt></item><item><accDefRate>0.9282479734</accDefRate><accExamCnt>1556215</accExamCnt><accExamCompCnt>1537197</accExamCompCnt><careCnt>882</careCnt><clearCnt>13132</clearCnt><createDt>2020-07-30 11:11:23.23</createDt><deathCnt>300</deathCnt><decideCnt>14269</decideCnt><examCnt>19018</examCnt><resutlNegCnt>1522928</resutlNegCnt><seq>215</seq><stateDt>20200730</stateDt><stateTime>00:00</stateTime><updateDt>2020-07-30 11:11:23.23</updateDt></item><item><accDefRate>0.9326686653</accDefRate><accExamCnt>1547307</accExamCnt><accExamCompCnt>1527981</accExamCompCnt><careCnt>896</careCnt><clearCnt>13069</clearCnt><createDt>2020-07-29 10:44:55.55</createDt><deathCnt>300</deathCnt><decideCnt>14251</decideCnt><examCnt>19326</examCnt><resutlNegCnt>1513730</resutlNegCnt><seq>214</seq><stateDt>20200729</stateDt><stateTime>00:00</stateTime><updateDt>2020-07-29 10:44:55.55</updateDt></item><item><accDefRate>0.9360953297</accDefRate><accExamCnt>1537704</accExamCnt><accExamCompCnt>1517260</accExamCompCnt><careCnt>971</careCnt><clearCnt>13007</clearCnt><createDt>2020-07-28 10:31:12.12</createDt><deathCnt>300</deathCnt><decideCnt>14203</decideCnt><examCnt>20444</examCnt><resutlNegCnt>1503057</resutlNegCnt><seq>213</seq><stateDt>20200728</stateDt><stateTime>00:00</stateTime><updateDt>2020-07-28 10:31:12.12</updateDt></item><item><accDefRate>0.9398595945</accDefRate><accExamCnt>1526974</accExamCnt><accExamCompCnt>1508204</accExamCompCnt><careCnt>962</careCnt><clearCnt>12905</clearCnt><createDt>2020-07-27 10:35:55.55</createDt><deathCnt>299</deathCnt><decideCnt>14175</decideCnt><examCnt>18770</examCnt><resutlNegCnt>1494029</resutlNegCnt><seq>212</seq><stateDt>20200727</stateDt><stateTime>00:00</stateTime><updateDt>2020-07-27 10:35:55.55</updateDt></item><item><accDefRate>0.9410046604</accDefRate><accExamCnt>1522926</accExamCnt><accExamCompCnt>1503712</accExamCompCnt><careCnt>928</careCnt><clearCnt>12890</clearCnt><createDt>2020-07-26 10:28:24.24</createDt><deathCnt>298</deathCnt><decideCnt>14150</decideCnt><examCnt>19214</examCnt><resutlNegCnt>1489562</resutlNegCnt><seq>211</seq><stateDt>20200726</stateDt><stateTime>00:00</stateTime><updateDt>2020-07-26 10:28:24.24</updateDt></item><item><accDefRate>0.9401228724</accDefRate><accExamCnt>1518634</accExamCnt><accExamCompCnt>1498953</accExamCompCnt><careCnt>864</careCnt><clearCnt>12866</clearCnt><createDt>2020-07-25 10:19:50.50</createDt><deathCnt>298</deathCnt><decideCnt>14092</decideCnt><examCnt>19681</examCnt><resutlNegCnt>1484861</resutlNegCnt><seq>210</seq><stateDt>20200725</stateDt><stateTime>00:00</stateTime><updateDt>2020-07-25 10:19:50.50</updateDt></item><item><accDefRate>0.9383340224</accDefRate><accExamCnt>1510327</accExamCnt><accExamCompCnt>1489768</accExamCompCnt><careCnt>883</careCnt><clearCnt>12817</clearCnt><createDt>2020-07-24 11:05:48.48</createDt><deathCnt>298</deathCnt><decideCnt>13979</decideCnt><examCnt>20559</examCnt><resutlNegCnt>1475789</resutlNegCnt><seq>209</seq><stateDt>20200724</stateDt><stateTime>00:00</stateTime><updateDt>2020-07-24 11:05:48.48</updateDt></item><item><accDefRate>0.9421157792</accDefRate><accExamCnt>1500854</accExamCnt><accExamCompCnt>1479436</accExamCompCnt><careCnt>884</careCnt><clearCnt>12758</clearCnt><createDt>2020-07-23 10:38:02.02</createDt><deathCnt>297</deathCnt><decideCnt>13938</decideCnt><examCnt>21418</examCnt><resutlNegCnt>1465498</resutlNegCnt><seq>208</seq><stateDt>20200723</stateDt><stateTime>00:00</stateTime><updateDt>2020-07-23 10:38:02.02</updateDt></item><item><accDefRate>0.9439441754</accDefRate><accExamCnt>1492071</accExamCnt><accExamCompCnt>1470320</accExamCompCnt><careCnt>877</careCnt><clearCnt>12698</clearCnt><createDt>2020-07-22 10:27:17.17</createDt><deathCnt>297</deathCnt><decideCnt>13879</decideCnt><examCnt>21751</examCnt><resutlNegCnt>1456441</resutlNegCnt><seq>207</seq><stateDt>20200722</stateDt><stateTime>00:00</stateTime><updateDt>2020-07-22 10:27:17.17</updateDt></item><item><accDefRate>0.9472577108</accDefRate><accExamCnt>1482390</accExamCnt><accExamCompCnt>1458526</accExamCompCnt><careCnt>903</careCnt><clearCnt>12643</clearCnt><createDt>2020-07-21 11:07:32.32</createDt><deathCnt>296</deathCnt><decideCnt>13816</decideCnt><examCnt>23864</examCnt><resutlNegCnt>1444710</resutlNegCnt><seq>206</seq><stateDt>20200721</stateDt><stateTime>00:00</stateTime><updateDt>2020-07-21 11:07:32.32</updateDt></item><item><accDefRate>0.9504510691</accDefRate><accExamCnt>1470193</accExamCnt><accExamCompCnt>1448891</accExamCompCnt><careCnt>894</careCnt><clearCnt>12572</clearCnt><createDt>2020-07-20 10:55:20.20</createDt><deathCnt>296</deathCnt><decideCnt>13771</decideCnt><examCnt>21302</examCnt><resutlNegCnt>1435120</resutlNegCnt><seq>205</seq><stateDt>20200720</stateDt><stateTime>00:00</stateTime><updateDt>2020-07-20 10:55:20.20</updateDt></item><item><accDefRate>0.9523011114</accDefRate><accExamCnt>1465299</accExamCnt><accExamCompCnt>1443346</accExamCompCnt><careCnt>898</careCnt><clearCnt>12556</clearCnt><createDt>2020-07-19 10:19:04.04</createDt><deathCnt>295</deathCnt><decideCnt>13745</decideCnt><examCnt>21953</examCnt><resutlNegCnt>1429601</resutlNegCnt><seq>204</seq><stateDt>20200719</stateDt><stateTime>00:00</stateTime><updateDt>2020-07-19 10:19:04.04</updateDt></item><item><accDefRate>0.9539540284</accDefRate><accExamCnt>1460204</accExamCnt><accExamCompCnt>1437281</accExamCompCnt><careCnt>919</careCnt><clearCnt>12519</clearCnt><createDt>2020-07-18 10:13:21.21</createDt><deathCnt>294</deathCnt><decideCnt>13711</decideCnt><examCnt>22923</examCnt><resutlNegCnt>1423570</resutlNegCnt><seq>203</seq><stateDt>20200718</stateDt><stateTime>00:00</stateTime><updateDt>2020-07-18 10:13:21.21</updateDt></item><item><accDefRate>0.9574853264</accDefRate><accExamCnt>1451017</accExamCnt><accExamCompCnt>1427907</accExamCompCnt><careCnt>925</careCnt><clearCnt>12460</clearCnt><createDt>2020-07-17 10:40:49.49</createDt><deathCnt>293</deathCnt><decideCnt>13672</decideCnt><examCnt>23110</examCnt><resutlNegCnt>1414235</resutlNegCnt><seq>202</seq><stateDt>20200717</stateDt><stateTime>00:00</stateTime><updateDt>2020-07-17 10:40:49.49</updateDt></item><item><accDefRate>0.9599814943</accDefRate><accExamCnt>1441348</accExamCnt><accExamCompCnt>1417944</accExamCompCnt><careCnt>914</careCnt><clearCnt>12396</clearCnt><createDt>2020-07-16 10:44:38.38</createDt><deathCnt>291</deathCnt><decideCnt>13612</decideCnt><examCnt>23404</examCnt><resutlNegCnt>1404332</resutlNegCnt><seq>201</seq><stateDt>20200716</stateDt><stateTime>00:00</stateTime><updateDt>2020-07-16 10:44:38.38</updateDt></item><item><accDefRate>0.9624159901</accDefRate><accExamCnt>1431316</accExamCnt><accExamCompCnt>1408019</accExamCompCnt><careCnt>941</careCnt><clearCnt>12348</clearCnt><createDt>2020-07-15 10:38:15.15</createDt><deathCnt>289</deathCnt><decideCnt>13551</decideCnt><examCnt>23297</examCnt><resutlNegCnt>1394468</resutlNegCnt><seq>200</seq><stateDt>20200715</stateDt><stateTime>00:00</stateTime><updateDt>2020-07-15 10:38:15.15</updateDt></item><item><accDefRate>0.9676816390</accDefRate><accExamCnt>1420616</accExamCnt><accExamCompCnt>1396327</accExamCompCnt><careCnt>986</careCnt><clearCnt>12282</clearCnt><createDt>2020-07-14 10:42:52.52</createDt><deathCnt>289</deathCnt><decideCnt>13512</decideCnt><examCnt>24289</examCnt><resutlNegCnt>1382815</resutlNegCnt><seq>199</seq><stateDt>20200714</stateDt><stateTime>00:00</stateTime><updateDt>2020-07-14 10:42:52.52</updateDt></item><item><accDefRate>0.9721832542</accDefRate><accExamCnt>1408312</accExamCnt><accExamCompCnt>1386467</accExamCompCnt><careCnt>950</careCnt><clearCnt>12204</clearCnt><createDt>2020-07-13 10:20:52.52</createDt><deathCnt>289</deathCnt><decideCnt>13479</decideCnt><examCnt>21845</examCnt><resutlNegCnt>1372988</resutlNegCnt><seq>198</seq><stateDt>20200713</stateDt><stateTime>00:00</stateTime><updateDt>2020-07-13 10:20:52.52</updateDt></item><item><accDefRate>0.9720252058</accDefRate><accExamCnt>1402144</accExamCnt><accExamCompCnt>1380314</accExamCompCnt><careCnt>941</careCnt><clearCnt>12178</clearCnt><createDt>2020-07-12 10:21:53.53</createDt><deathCnt>289</deathCnt><decideCnt>13417</decideCnt><examCnt>21830</examCnt><resutlNegCnt>1366897</resutlNegCnt><seq>197</seq><stateDt>20200712</stateDt><stateTime>00:00</stateTime><updateDt>2020-07-12 10:21:53.53</updateDt></item><item><accDefRate>0.9732960405</accDefRate><accExamCnt>1396941</accExamCnt><accExamCompCnt>1373991</accExamCompCnt><careCnt>985</careCnt><clearCnt>12144</clearCnt><createDt>2020-07-11 10:24:20.20</createDt><deathCnt>288</deathCnt><decideCnt>13373</decideCnt><examCnt>22950</examCnt><resutlNegCnt>1360618</resutlNegCnt><seq>196</seq><stateDt>20200711</stateDt><stateTime>00:00</stateTime><updateDt>2020-07-11 10:24:20.20</updateDt></item><item><accDefRate>0.9797533795</accDefRate><accExamCnt>1384890</accExamCnt><accExamCompCnt>1361363</accExamCompCnt><careCnt>987</careCnt><clearCnt>12065</clearCnt><createDt>2020-07-10 10:16:35.35</createDt><deathCnt>288</deathCnt><decideCnt>13338</decideCnt><examCnt>23527</examCnt><resutlNegCnt>1348025</resutlNegCnt><seq>195</seq><stateDt>20200710</stateDt><stateTime>00:00</stateTime><updateDt>2020-07-10 10:16:35.35</updateDt></item><item><accDefRate>0.9862307555</accDefRate><accExamCnt>1371771</accExamCnt><accExamCompCnt>1347859</accExamCompCnt><careCnt>988</careCnt><clearCnt>12019</clearCnt><createDt>2020-07-09 10:50:30.30</createDt><deathCnt>287</deathCnt><decideCnt>13293</decideCnt><examCnt>23912</examCnt><resutlNegCnt>1334566</resutlNegCnt><seq>194</seq><stateDt>20200709</stateDt><stateTime>00:00</stateTime><updateDt>2020-07-09 10:50:30.30</updateDt></item><item><accDefRate>0.9914488194</accDefRate><accExamCnt>1359734</accExamCnt><accExamCompCnt>1335722</accExamCompCnt><careCnt>982</careCnt><clearCnt>11970</clearCnt><createDt>2020-07-08 10:19:47.47</createDt><deathCnt>285</deathCnt><decideCnt>13243</decideCnt><examCnt>24012</examCnt><resutlNegCnt>1322479</resutlNegCnt><seq>193</seq><stateDt>20200708</stateDt><stateTime>00:00</stateTime><updateDt>2020-07-08 10:19:47.47</updateDt></item><item><accDefRate>0.9966586491</accDefRate><accExamCnt>1346194</accExamCnt><accExamCompCnt>1322519</accExamCompCnt><careCnt>1005</careCnt><clearCnt>11914</clearCnt><createDt>2020-07-07 10:15:15.15</createDt><deathCnt>285</deathCnt><decideCnt>13181</decideCnt><examCnt>23675</examCnt><resutlNegCnt>1309338</resutlNegCnt><seq>192</seq><stateDt>20200707</stateDt><stateTime>00:00</stateTime><updateDt>2020-07-07 10:15:15.15</updateDt></item><item><accDefRate>1.0024387563</accDefRate><accExamCnt>1331796</accExamCnt><accExamCompCnt>1310504</accExamCompCnt><careCnt>974</careCnt><clearCnt>11848</clearCnt><createDt>2020-07-06 10:42:20.20</createDt><deathCnt>284</deathCnt><decideCnt>13137</decideCnt><examCnt>21292</examCnt><resutlNegCnt>1297367</resutlNegCnt><seq>191</seq><stateDt>20200706</stateDt><stateTime>00:00</stateTime><updateDt>2020-07-06 10:42:20.20</updateDt></item><item><accDefRate>1.0034452463</accDefRate><accExamCnt>1326055</accExamCnt><accExamCompCnt>1304406</accExamCompCnt><careCnt>934</careCnt><clearCnt>11832</clearCnt><createDt>2020-07-05 10:25:26.26</createDt><deathCnt>283</deathCnt><decideCnt>13089</decideCnt><examCnt>21649</examCnt><resutlNegCnt>1291317</resutlNegCnt><seq>190</seq><stateDt>20200705</stateDt><stateTime>00:00</stateTime><updateDt>2020-07-05 10:25:26.26</updateDt></item><item><accDefRate>1.0043169904</accDefRate><accExamCnt>1319521</accExamCnt><accExamCompCnt>1297200</accExamCompCnt><careCnt>924</careCnt><clearCnt>11811</clearCnt><createDt>2020-07-04 10:13:42.42</createDt><deathCnt>283</deathCnt><decideCnt>13028</decideCnt><examCnt>22321</examCnt><resutlNegCnt>1284172</resutlNegCnt><seq>189</seq><stateDt>20200704</stateDt><stateTime>00:00</stateTime><updateDt>2020-07-04 10:13:42.42</updateDt></item><item><accDefRate>1.0080073021</accDefRate><accExamCnt>1307761</accExamCnt><accExamCompCnt>1286201</accExamCompCnt><careCnt>938</careCnt><clearCnt>11759</clearCnt><createDt>2020-07-03 10:19:08.08</createDt><deathCnt>282</deathCnt><decideCnt>12965</decideCnt><examCnt>21560</examCnt><resutlNegCnt>1273236</resutlNegCnt><seq>188</seq><stateDt>20200703</stateDt><stateTime>00:00</stateTime><updateDt>2020-07-03 10:19:08.08</updateDt></item><item><accDefRate>1.0111426287</accDefRate><accExamCnt>1295962</accExamCnt><accExamCompCnt>1276180</accExamCompCnt><careCnt>955</careCnt><clearCnt>11684</clearCnt><createDt>2020-07-02 10:27:03.03</createDt><deathCnt>282</deathCnt><decideCnt>12904</decideCnt><examCnt>19782</examCnt><resutlNegCnt>1263276</resutlNegCnt><seq>187</seq><stateDt>20200702</stateDt><stateTime>00:00</stateTime><updateDt>2020-07-02 10:27:03.03</updateDt></item><item><accDefRate>1.0152444684</accDefRate><accExamCnt>1285231</accExamCnt><accExamCompCnt>1265705</accExamCompCnt><careCnt>980</careCnt><clearCnt>11613</clearCnt><createDt>2020-07-01 10:35:06.06</createDt><deathCnt>282</deathCnt><decideCnt>12850</decideCnt><examCnt>19526</examCnt><resutlNegCnt>1252855</resutlNegCnt><seq>186</seq><stateDt>20200701</stateDt><stateTime>00:00</stateTime><updateDt>2020-07-01 10:35:06.06</updateDt></item><item><accDefRate>1.0215043465</accDefRate><accExamCnt>1273765</accExamCnt><accExamCompCnt>1252956</accExamCompCnt><careCnt>1046</careCnt><clearCnt>11537</clearCnt><createDt>2020-06-30 11:19:14.14</createDt><deathCnt>282</deathCnt><decideCnt>12799</decideCnt><examCnt>20809</examCnt><resutlNegCnt>1240157</resutlNegCnt><seq>185</seq><stateDt>20200630</stateDt><stateTime>00:00</stateTime><updateDt>2020-06-30 11:19:14.14</updateDt></item><item><accDefRate>1.0275845681</accDefRate><accExamCnt>1259954</accExamCnt><accExamCompCnt>1241455</accExamCompCnt><careCnt>1069</careCnt><clearCnt>11429</clearCnt><createDt>2020-06-29 10:29:36.36</createDt><deathCnt>282</deathCnt><decideCnt>12757</decideCnt><examCnt>18499</examCnt><resutlNegCnt>1228698</resutlNegCnt><seq>184</seq><stateDt>20200629</stateDt><stateTime>00:00</stateTime><updateDt>2020-06-29 10:29:36.36</updateDt></item><item><accDefRate>1.0314839902</accDefRate><accExamCnt>1251695</accExamCnt><accExamCompCnt>1232690</accExamCompCnt><careCnt>1054</careCnt><clearCnt>11364</clearCnt><createDt>2020-06-28 10:29:27.27</createDt><deathCnt>282</deathCnt><decideCnt>12715</decideCnt><examCnt>19005</examCnt><resutlNegCnt>1219975</resutlNegCnt><seq>183</seq><stateDt>20200628</stateDt><stateTime>00:00</stateTime><updateDt>2020-06-28 10:29:27.27</updateDt></item><item><accDefRate>1.0338144673</accDefRate><accExamCnt>1243780</accExamCnt><accExamCompCnt>1223914</accExamCompCnt><careCnt>1148</careCnt><clearCnt>11317</clearCnt><createDt>2020-06-27 10:47:05.05</createDt><deathCnt>282</deathCnt><decideCnt>12653</decideCnt><examCnt>19866</examCnt><resutlNegCnt>1211261</resutlNegCnt><seq>182</seq><stateDt>20200627</stateDt><stateTime>00:00</stateTime><updateDt>2020-06-27 10:47:05.05</updateDt></item><item><accDefRate>1.0384948499</accDefRate><accExamCnt>1232315</accExamCnt><accExamCompCnt>1213487</accExamCompCnt><careCnt>1307</careCnt><clearCnt>11172</clearCnt><createDt>2020-06-26 10:13:35.35</createDt><deathCnt>282</deathCnt><decideCnt>12602</decideCnt><examCnt>18828</examCnt><resutlNegCnt>1200885</resutlNegCnt><seq>181</seq><stateDt>20200626</stateDt><stateTime>00:00</stateTime><updateDt>2020-06-26 10:13:35.35</updateDt></item><item><accDefRate>1.0455417792</accDefRate><accExamCnt>1220478</accExamCnt><accExamCompCnt>1201578</accExamCompCnt><careCnt>1324</careCnt><clearCnt>10974</clearCnt><createDt>2020-06-25 10:19:09.09</createDt><deathCnt>282</deathCnt><decideCnt>12563</decideCnt><examCnt>18900</examCnt><resutlNegCnt>1189015</resutlNegCnt><seq>180</seq><stateDt>20200625</stateDt><stateTime>00:00</stateTime><updateDt>2020-06-25 10:19:09.09</updateDt></item><item><accDefRate>1.0548221402</accDefRate><accExamCnt>1208597</accExamCnt><accExamCompCnt>1188352</accExamCompCnt><careCnt>1295</careCnt><clearCnt>10930</clearCnt><createDt>2020-06-24 10:31:43.43</createDt><deathCnt>281</deathCnt><decideCnt>12535</decideCnt><examCnt>20245</examCnt><resutlNegCnt>1175817</resutlNegCnt><seq>179</seq><stateDt>20200624</stateDt><stateTime>00:00</stateTime><updateDt>2020-06-24 10:31:43.43</updateDt></item><item><accDefRate>1.0636140726</accDefRate><accExamCnt>1196012</accExamCnt><accExamCompCnt>1173734</accExamCompCnt><careCnt>1277</careCnt><clearCnt>10908</clearCnt><createDt>2020-06-23 10:41:14.14</createDt><deathCnt>281</deathCnt><decideCnt>12484</decideCnt><examCnt>22278</examCnt><resutlNegCnt>1161250</resutlNegCnt><seq>178</seq><stateDt>20200623</stateDt><stateTime>00:00</stateTime><updateDt>2020-06-23 10:41:14.14</updateDt></item><item><accDefRate>1.0697854838</accDefRate><accExamCnt>1182066</accExamCnt><accExamCompCnt>1162663</accExamCompCnt><careCnt>1273</careCnt><clearCnt>10881</clearCnt><createDt>2020-06-22 11:40:11.11</createDt><deathCnt>280</deathCnt><decideCnt>12438</decideCnt><examCnt>19403</examCnt><resutlNegCnt>1150225</resutlNegCnt><seq>177</seq><stateDt>20200622</stateDt><stateTime>00:00</stateTime><updateDt>2020-06-22 11:40:11.11</updateDt></item><item><accDefRate>1.0741167355</accDefRate><accExamCnt>1176463</accExamCnt><accExamCompCnt>1156392</accExamCompCnt><careCnt>1237</careCnt><clearCnt>10868</clearCnt><createDt>2020-06-21 10:10:23.23</createDt><deathCnt>280</deathCnt><decideCnt>12421</decideCnt><examCnt>20071</examCnt><resutlNegCnt>1143971</resutlNegCnt><seq>176</seq><stateDt>20200621</stateDt><stateTime>00:00</stateTime><updateDt>2020-06-21 10:10:23.23</updateDt></item><item><accDefRate>1.0764456500</accDefRate><accExamCnt>1170901</accExamCnt><accExamCompCnt>1149431</accExamCompCnt><careCnt>1191</careCnt><clearCnt>10856</clearCnt><createDt>2020-06-20 10:14:22.22</createDt><deathCnt>280</deathCnt><decideCnt>12373</decideCnt><examCnt>21470</examCnt><resutlNegCnt>1137058</resutlNegCnt><seq>175</seq><stateDt>20200620</stateDt><stateTime>00:00</stateTime><updateDt>2020-06-20 10:14:22.22</updateDt></item><item><accDefRate>1.0824428058</accDefRate><accExamCnt>1158063</accExamCnt><accExamCompCnt>1136873</accExamCompCnt><careCnt>1177</careCnt><clearCnt>10835</clearCnt><createDt>2020-06-19 10:32:24.24</createDt><deathCnt>280</deathCnt><decideCnt>12306</decideCnt><examCnt>21190</examCnt><resutlNegCnt>1124567</resutlNegCnt><seq>174</seq><stateDt>20200619</stateDt><stateTime>00:00</stateTime><updateDt>2020-06-19 10:32:24.24</updateDt></item><item><accDefRate>1.0904823674</accDefRate><accExamCnt>1145712</accExamCnt><accExamCompCnt>1123998</accExamCompCnt><careCnt>1145</careCnt><clearCnt>10800</clearCnt><createDt>2020-06-18 10:12:45.45</createDt><deathCnt>280</deathCnt><decideCnt>12257</decideCnt><examCnt>21714</examCnt><resutlNegCnt>1111741</resutlNegCnt><seq>173</seq><stateDt>20200618</stateDt><stateTime>00:00</stateTime><updateDt>2020-06-18 10:12:45.45</updateDt></item><item><accDefRate>1.0975998214</accDefRate><accExamCnt>1132823</accExamCnt><accExamCompCnt>1111334</accExamCompCnt><careCnt>1117</careCnt><clearCnt>10774</clearCnt><createDt>2020-06-17 10:14:34.34</createDt><deathCnt>279</deathCnt><decideCnt>12198</decideCnt><examCnt>21489</examCnt><resutlNegCnt>1099136</resutlNegCnt><seq>172</seq><stateDt>20200617</stateDt><stateTime>00:00</stateTime><updateDt>2020-06-17 10:14:34.34</updateDt></item><item><accDefRate>1.1078855382</accDefRate><accExamCnt>1119767</accExamCnt><accExamCompCnt>1097135</accExamCompCnt><careCnt>1114</careCnt><clearCnt>10760</clearCnt><createDt>2020-06-16 10:16:47.47</createDt><deathCnt>278</deathCnt><decideCnt>12155</decideCnt><examCnt>22632</examCnt><resutlNegCnt>1084980</resutlNegCnt><seq>171</seq><stateDt>20200616</stateDt><stateTime>00:00</stateTime><updateDt>2020-06-16 10:16:47.47</updateDt></item><item><accDefRate>1.1172190545</accDefRate><accExamCnt>1105719</accExamCnt><accExamCompCnt>1084926</accExamCompCnt><careCnt>1089</careCnt><clearCnt>10730</clearCnt><createDt>2020-06-15 10:16:22.22</createDt><deathCnt>277</deathCnt><decideCnt>12121</decideCnt><examCnt>20793</examCnt><resutlNegCnt>1072805</resutlNegCnt><seq>170</seq><stateDt>20200615</stateDt><stateTime>00:00</stateTime><updateDt>2020-06-15 10:16:22.22</updateDt></item><item><accDefRate>1.1199559580</accDefRate><accExamCnt>1100327</accExamCnt><accExamCompCnt>1078971</accExamCompCnt><careCnt>1082</careCnt><clearCnt>10718</clearCnt><createDt>2020-06-14 10:19:18.18</createDt><deathCnt>277</deathCnt><decideCnt>12084</decideCnt><examCnt>21356</examCnt><resutlNegCnt>1066887</resutlNegCnt><seq>169</seq><stateDt>20200614</stateDt><stateTime>00:00</stateTime><updateDt>2020-06-14 10:19:18.18</updateDt></item><item><accDefRate>1.1247480984</accDefRate><accExamCnt>1094703</accExamCnt><accExamCompCnt>1071351</accExamCompCnt><careCnt>1056</careCnt><clearCnt>10691</clearCnt><createDt>2020-06-13 10:11:43.43</createDt><deathCnt>277</deathCnt><decideCnt>12050</decideCnt><examCnt>23352</examCnt><resutlNegCnt>1059301</resutlNegCnt><seq>168</seq><stateDt>20200613</stateDt><stateTime>00:00</stateTime><updateDt>2020-06-13 10:11:43.43</updateDt></item><item><accDefRate>1.1352178592</accDefRate><accExamCnt>1081486</accExamCnt><accExamCompCnt>1057242</accExamCompCnt><careCnt>1016</careCnt><clearCnt>10669</clearCnt><createDt>2020-06-12 10:22:23.23</createDt><deathCnt>277</deathCnt><decideCnt>12002</decideCnt><examCnt>24244</examCnt><resutlNegCnt>1045240</resutlNegCnt><seq>167</seq><stateDt>20200612</stateDt><stateTime>00:00</stateTime><updateDt>2020-06-12 10:22:23.23</updateDt></item><item><accDefRate>1.1471173706</accDefRate><accExamCnt>1066887</accExamCnt><accExamCompCnt>1041393</accExamCompCnt><careCnt>1014</careCnt><clearCnt>10654</clearCnt><createDt>2020-06-11 10:30:28.28</createDt><deathCnt>276</deathCnt><decideCnt>11946</decideCnt><examCnt>25494</examCnt><resutlNegCnt>1029447</resutlNegCnt><seq>166</seq><stateDt>20200611</stateDt><stateTime>00:00</stateTime><updateDt>2020-06-11 10:30:28.28</updateDt></item><item><accDefRate>1.1602264883</accDefRate><accExamCnt>1051971</accExamCnt><accExamCompCnt>1025748</accExamCompCnt><careCnt>988</careCnt><clearCnt>10611</clearCnt><createDt>2020-06-10 10:13:48.48</createDt><deathCnt>276</deathCnt><decideCnt>11901</decideCnt><examCnt>26223</examCnt><resutlNegCnt>1013847</resutlNegCnt><seq>165</seq><stateDt>20200610</stateDt><stateTime>00:00</stateTime><updateDt>2020-06-10 10:13:48.48</updateDt></item><item><accDefRate>1.1750684407</accDefRate><accExamCnt>1035996</accExamCnt><accExamCompCnt>1008537</accExamCompCnt><careCnt>977</careCnt><clearCnt>10589</clearCnt><createDt>2020-06-09 10:08:46.46</createDt><deathCnt>274</deathCnt><decideCnt>11851</decideCnt><examCnt>27459</examCnt><resutlNegCnt>996686</resutlNegCnt><seq>164</seq><stateDt>20200609</stateDt><stateTime>00:00</stateTime><updateDt>2020-06-09 10:08:46.46</updateDt></item><item><accDefRate>1.1886231069</accDefRate><accExamCnt>1018213</accExamCnt><accExamCompCnt>993839</accExamCompCnt><careCnt>951</careCnt><clearCnt>10563</clearCnt><createDt>2020-06-08 10:14:01.01</createDt><deathCnt>273</deathCnt><decideCnt>11813</decideCnt><examCnt>24374</examCnt><resutlNegCnt>982026</resutlNegCnt><seq>163</seq><stateDt>20200608</stateDt><stateTime>00:00</stateTime><updateDt>2020-06-08 10:14:01.01</updateDt></item><item><accDefRate>1.1939717405</accDefRate><accExamCnt>1012769</accExamCnt><accExamCompCnt>986288</accExamCompCnt><careCnt>915</careCnt><clearCnt>10552</clearCnt><createDt>2020-06-07 10:20:09.09</createDt><deathCnt>273</deathCnt><decideCnt>11776</decideCnt><examCnt>26481</examCnt><resutlNegCnt>974512</resutlNegCnt><seq>162</seq><stateDt>20200607</stateDt><stateTime>00:00</stateTime><updateDt>2020-06-07 10:20:09.09</updateDt></item><item><accDefRate>1.1990574522</accDefRate><accExamCnt>1005305</accExamCnt><accExamCompCnt>977351</accExamCompCnt><careCnt>889</careCnt><clearCnt>10531</clearCnt><createDt>2020-06-06 10:49:23.23</createDt><deathCnt>273</deathCnt><decideCnt>11719</decideCnt><examCnt>27954</examCnt><resutlNegCnt>965632</resutlNegCnt><seq>161</seq><stateDt>20200606</stateDt><stateTime>00:00</stateTime><updateDt>2020-06-06 10:49:23.23</updateDt></item><item><accDefRate>1.2126452669</accDefRate><accExamCnt>990960</accExamCnt><accExamCompCnt>962194</accExamCompCnt><careCnt>857</careCnt><clearCnt>10506</clearCnt><createDt>2020-06-05 10:56:51.51</createDt><deathCnt>273</deathCnt><decideCnt>11668</decideCnt><examCnt>28766</examCnt><resutlNegCnt>950526</resutlNegCnt><seq>160</seq><stateDt>20200605</stateDt><stateTime>00:00</stateTime><updateDt>2020-06-05 10:56:51.51</updateDt></item><item><accDefRate>1.2297244567</accDefRate><accExamCnt>973858</accExamCnt><accExamCompCnt>945659</accExamCompCnt><careCnt>850</careCnt><clearCnt>10499</clearCnt><createDt>2020-06-04 10:27:46.46</createDt><deathCnt>273</deathCnt><decideCnt>11629</decideCnt><examCnt>28199</examCnt><resutlNegCnt>934030</resutlNegCnt><seq>159</seq><stateDt>20200604</stateDt><stateTime>00:00</stateTime><updateDt>2020-06-04 10:27:46.46</updateDt></item><item><accDefRate>1.2475954991</accDefRate><accExamCnt>956852</accExamCnt><accExamCompCnt>928987</accExamCompCnt><careCnt>823</careCnt><clearCnt>10467</clearCnt><createDt>2020-06-03 10:25:46.46</createDt><deathCnt>273</deathCnt><decideCnt>11590</decideCnt><examCnt>27865</examCnt><resutlNegCnt>917397</resutlNegCnt><seq>158</seq><stateDt>20200603</stateDt><stateTime>00:00</stateTime><updateDt>2020-06-03 10:25:46.46</updateDt></item><item><accDefRate>1.2669483571</accDefRate><accExamCnt>939851</accExamCnt><accExamCompCnt>910929</accExamCompCnt><careCnt>810</careCnt><clearCnt>10446</clearCnt><createDt>2020-06-02 10:15:46.46</createDt><deathCnt>272</deathCnt><decideCnt>11541</decideCnt><examCnt>28922</examCnt><resutlNegCnt>899388</resutlNegCnt><seq>157</seq><stateDt>20200602</stateDt><stateTime>00:00</stateTime><updateDt>2020-06-02 10:15:46.46</updateDt></item><item><accDefRate>1.2819098372</accDefRate><accExamCnt>921391</accExamCnt><accExamCompCnt>897333</accExamCompCnt><careCnt>793</careCnt><clearCnt>10422</clearCnt><createDt>2020-06-01 10:13:10.10</createDt><deathCnt>271</deathCnt><decideCnt>11503</decideCnt><examCnt>24058</examCnt><resutlNegCnt>885830</resutlNegCnt><seq>156</seq><stateDt>20200601</stateDt><stateTime>00:00</stateTime><updateDt>2020-06-01 10:13:10.10</updateDt></item><item><accDefRate>1.2921282483</accDefRate><accExamCnt>910822</accExamCnt><accExamCompCnt>887528</accExamCompCnt><careCnt>774</careCnt><clearCnt>10405</clearCnt><createDt>2020-05-31 10:22:38.38</createDt><deathCnt>270</deathCnt><decideCnt>11468</decideCnt><examCnt>23294</examCnt><resutlNegCnt>876060</resutlNegCnt><seq>155</seq><stateDt>20200531</stateDt><stateTime>00:00</stateTime><updateDt>2020-05-31 10:22:38.38</updateDt></item><item><accDefRate>1.3051518190</accDefRate><accExamCnt>902901</accExamCnt><accExamCompCnt>876603</accExamCompCnt><careCnt>770</careCnt><clearCnt>10398</clearCnt><createDt>2020-05-30 10:12:27.27</createDt><deathCnt>269</deathCnt><decideCnt>11441</decideCnt><examCnt>26298</examCnt><resutlNegCnt>865162</resutlNegCnt><seq>154</seq><stateDt>20200530</stateDt><stateTime>00:00</stateTime><updateDt>2020-05-30 10:12:27.27</updateDt></item><item><accDefRate>1.3249465756</accDefRate><accExamCnt>885120</accExamCnt><accExamCompCnt>860563</accExamCompCnt><careCnt>735</careCnt><clearCnt>10363</clearCnt><createDt>2020-05-29 10:10:53.53</createDt><deathCnt>269</deathCnt><decideCnt>11402</decideCnt><examCnt>24557</examCnt><resutlNegCnt>849161</resutlNegCnt><seq>153</seq><stateDt>20200529</stateDt><stateTime>00:00</stateTime><updateDt>2020-05-29 10:10:53.53</updateDt></item><item><accDefRate>1.3404293533</accDefRate><accExamCnt>868666</accExamCnt><accExamCompCnt>846296</accExamCompCnt><careCnt>701</careCnt><clearCnt>10340</clearCnt><createDt>2020-05-28 10:11:28.28</createDt><deathCnt>269</deathCnt><decideCnt>11344</decideCnt><examCnt>22370</examCnt><resutlNegCnt>834952</resutlNegCnt><seq>152</seq><stateDt>20200528</stateDt><stateTime>00:00</stateTime><updateDt>2020-05-28 10:11:28.28</updateDt></item><item><accDefRate>1.3542674753</accDefRate><accExamCnt>852876</accExamCnt><accExamCompCnt>831815</accExamCompCnt><careCnt>681</careCnt><clearCnt>10295</clearCnt><createDt>2020-05-27 10:16:33.33</createDt><deathCnt>269</deathCnt><decideCnt>11265</decideCnt><examCnt>21061</examCnt><resutlNegCnt>820550</resutlNegCnt><seq>151</seq><stateDt>20200527</stateDt><stateTime>00:00</stateTime><updateDt>2020-05-27 10:16:33.33</updateDt></item><item><accDefRate>1.3732045885</accDefRate><accExamCnt>839475</accExamCnt><accExamCompCnt>817431</accExamCompCnt><careCnt>713</careCnt><clearCnt>10275</clearCnt><createDt>2020-05-26 10:12:49.49</createDt><deathCnt>269</deathCnt><decideCnt>11225</decideCnt><examCnt>22044</examCnt><resutlNegCnt>806206</resutlNegCnt><seq>150</seq><stateDt>20200526</stateDt><stateTime>00:00</stateTime><updateDt>2020-05-26 10:12:49.49</updateDt></item><item><accDefRate>1.3880012088</accDefRate><accExamCnt>826437</accExamCnt><accExamCompCnt>807348</accExamCompCnt><careCnt>711</careCnt><clearCnt>10226</clearCnt><createDt>2020-05-25 10:27:08.08</createDt><deathCnt>267</deathCnt><decideCnt>11206</decideCnt><examCnt>19089</examCnt><resutlNegCnt>796142</resutlNegCnt><seq>149</seq><stateDt>20200525</stateDt><stateTime>00:00</stateTime><updateDt>2020-05-25 10:27:08.08</updateDt></item><item><accDefRate>1.3988269354</accDefRate><accExamCnt>820289</accExamCnt><accExamCompCnt>799956</accExamCompCnt><careCnt>705</careCnt><clearCnt>10213</clearCnt><createDt>2020-05-24 10:29:10.10</createDt><deathCnt>266</deathCnt><decideCnt>11190</decideCnt><examCnt>20333</examCnt><resutlNegCnt>788766</resutlNegCnt><seq>148</seq><stateDt>20200524</stateDt><stateTime>00:00</stateTime><updateDt>2020-05-24 10:29:10.10</updateDt></item><item><accDefRate>1.4082091086</accDefRate><accExamCnt>814420</accExamCnt><accExamCompCnt>792851</accExamCompCnt><careCnt>716</careCnt><clearCnt>10194</clearCnt><createDt>2020-05-23 10:34:54.54</createDt><deathCnt>266</deathCnt><decideCnt>11165</decideCnt><examCnt>21569</examCnt><resutlNegCnt>781686</resutlNegCnt><seq>147</seq><stateDt>20200523</stateDt><stateTime>00:00</stateTime><updateDt>2020-05-23 10:34:54.54</updateDt></item><item><accDefRate>1.4245677200</accDefRate><accExamCnt>802418</accExamCnt><accExamCompCnt>782132</accExamCompCnt><careCnt>723</careCnt><clearCnt>10162</clearCnt><createDt>2020-05-22 10:15:38.38</createDt><deathCnt>264</deathCnt><decideCnt>11142</decideCnt><examCnt>20286</examCnt><resutlNegCnt>770990</resutlNegCnt><seq>146</seq><stateDt>20200522</stateDt><stateTime>00:00</stateTime><updateDt>2020-05-22 10:15:38.38</updateDt></item><item><accDefRate>1.4433003069</accDefRate><accExamCnt>788684</accExamCnt><accExamCompCnt>770595</accExamCompCnt><careCnt>781</careCnt><clearCnt>10135</clearCnt><createDt>2020-05-21 10:24:07.07</createDt><deathCnt>264</deathCnt><decideCnt>11122</decideCnt><examCnt>18089</examCnt><resutlNegCnt>759473</resutlNegCnt><seq>145</seq><stateDt>20200521</stateDt><stateTime>00:00</stateTime><updateDt>2020-05-21 10:24:07.07</updateDt></item><item><accDefRate>1.4616843972</accDefRate><accExamCnt>776433</accExamCnt><accExamCompCnt>760082</accExamCompCnt><careCnt>877</careCnt><clearCnt>10066</clearCnt><createDt>2020-05-20 10:13:17.17</createDt><deathCnt>263</deathCnt><decideCnt>11110</decideCnt><examCnt>16351</examCnt><resutlNegCnt>748972</resutlNegCnt><seq>144</seq><stateDt>20200520</stateDt><stateTime>00:00</stateTime><updateDt>2020-05-20 10:13:17.17</updateDt></item><item><accDefRate>1.4797321575</accDefRate><accExamCnt>765574</accExamCnt><accExamCompCnt>748649</accExamCompCnt><careCnt>898</careCnt><clearCnt>9938</clearCnt><createDt>2020-05-19 10:22:38.38</createDt><deathCnt>263</deathCnt><decideCnt>11078</decideCnt><examCnt>16925</examCnt><resutlNegCnt>737571</resutlNegCnt><seq>143</seq><stateDt>20200519</stateDt><stateTime>00:00</stateTime><updateDt>2020-05-19 10:22:38.38</updateDt></item><item><accDefRate>1.5011165105</accDefRate><accExamCnt>753211</accExamCnt><accExamCompCnt>737118</accExamCompCnt><careCnt>900</careCnt><clearCnt>9904</clearCnt><createDt>2020-05-18 10:18:09.09</createDt><deathCnt>263</deathCnt><decideCnt>11065</decideCnt><examCnt>16093</examCnt><resutlNegCnt>726053</resutlNegCnt><seq>142</seq><stateDt>20200518</stateDt><stateTime>00:00</stateTime><updateDt>2020-05-18 10:18:09.09</updateDt></item><item><accDefRate>1.5137131451</accDefRate><accExamCnt>747653</accExamCnt><accExamCompCnt>729993</accExamCompCnt><careCnt>924</careCnt><clearCnt>9888</clearCnt><createDt>2020-05-17 10:12:11.11</createDt><deathCnt>262</deathCnt><decideCnt>11050</decideCnt><examCnt>17660</examCnt><resutlNegCnt>718943</resutlNegCnt><seq>141</seq><stateDt>20200517</stateDt><stateTime>00:00</stateTime><updateDt>2020-05-17 10:12:11.11</updateDt></item><item><accDefRate>1.5280312113</accDefRate><accExamCnt>740645</accExamCnt><accExamCompCnt>722302</accExamCompCnt><careCnt>937</careCnt><clearCnt>9851</clearCnt><createDt>2020-05-16 10:19:44.44</createDt><deathCnt>262</deathCnt><decideCnt>11037</decideCnt><examCnt>18343</examCnt><resutlNegCnt>711265</resutlNegCnt><seq>140</seq><stateDt>20200516</stateDt><stateTime>00:00</stateTime><updateDt>2020-05-16 10:19:44.44</updateDt></item><item><accDefRate>1.5586980386</accDefRate><accExamCnt>726747</accExamCnt><accExamCompCnt>706872</accExamCompCnt><careCnt>969</careCnt><clearCnt>9821</clearCnt><createDt>2020-05-15 10:33:34.34</createDt><deathCnt>260</deathCnt><decideCnt>11018</decideCnt><examCnt>19875</examCnt><resutlNegCnt>695854</resutlNegCnt><seq>139</seq><stateDt>20200515</stateDt><stateTime>00:00</stateTime><updateDt>2020-05-15 10:33:34.34</updateDt></item><item><accDefRate>1.5911413772</accDefRate><accExamCnt>711484</accExamCnt><accExamCompCnt>690762</accExamCompCnt><careCnt>1008</careCnt><clearCnt>9762</clearCnt><createDt>2020-05-14 10:18:25.25</createDt><deathCnt>260</deathCnt><decideCnt>10991</decideCnt><examCnt>20722</examCnt><resutlNegCnt>679771</resutlNegCnt><seq>138</seq><stateDt>20200514</stateDt><stateTime>00:00</stateTime><updateDt>2020-05-14 10:18:25.25</updateDt></item><item><accDefRate>1.6207800503</accDefRate><accExamCnt>695920</accExamCnt><accExamCompCnt>676341</accExamCompCnt><careCnt>1008</careCnt><clearCnt>9695</clearCnt><createDt>2020-05-13 10:41:15.15</createDt><deathCnt>259</deathCnt><decideCnt>10962</decideCnt><examCnt>19579</examCnt><resutlNegCnt>665379</resutlNegCnt><seq>137</seq><stateDt>20200513</stateDt><stateTime>00:00</stateTime><updateDt>2020-05-13 10:41:15.15</updateDt></item><item><accDefRate>1.6456000963</accDefRate><accExamCnt>680890</accExamCnt><accExamCompCnt>664560</accExamCompCnt><careCnt>1021</careCnt><clearCnt>9670</clearCnt><createDt>2020-05-12 10:12:14.14</createDt><deathCnt>258</deathCnt><decideCnt>10936</decideCnt><examCnt>16330</examCnt><resutlNegCnt>653624</resutlNegCnt><seq>136</seq><stateDt>20200512</stateDt><stateTime>00:00</stateTime><updateDt>2020-05-12 10:12:14.14</updateDt></item><item><accDefRate>1.6589868759</accDefRate><accExamCnt>668492</accExamCnt><accExamCompCnt>657570</accExamCompCnt><careCnt>1008</careCnt><clearCnt>9632</clearCnt><createDt>2020-05-11 10:25:58.58</createDt><deathCnt>256</deathCnt><decideCnt>10909</decideCnt><examCnt>10922</examCnt><resutlNegCnt>646661</resutlNegCnt><seq>135</seq><stateDt>20200511</stateDt><stateTime>00:00</stateTime><updateDt>2020-05-11 10:25:58.58</updateDt></item><item><accDefRate>1.6633066058</accDefRate><accExamCnt>663886</accExamCnt><accExamCompCnt>653758</accExamCompCnt><careCnt>1016</careCnt><clearCnt>9610</clearCnt><createDt>2020-05-10 10:14:56.56</createDt><deathCnt>256</deathCnt><decideCnt>10874</decideCnt><examCnt>10128</examCnt><resutlNegCnt>642884</resutlNegCnt><seq>134</seq><stateDt>20200510</stateDt><stateTime>00:00</stateTime><updateDt>2020-05-10 10:14:56.56</updateDt></item><item><accDefRate>1.6654452377</accDefRate><accExamCnt>660030</accExamCnt><accExamCompCnt>650877</accExamCompCnt><careCnt>1082</careCnt><clearCnt>9568</clearCnt><createDt>2020-05-09 10:17:15.15</createDt><deathCnt>256</deathCnt><decideCnt>10840</decideCnt><examCnt>9153</examCnt><resutlNegCnt>640037</resutlNegCnt><seq>133</seq><stateDt>20200509</stateDt><stateTime>00:00</stateTime><updateDt>2020-05-09 10:17:15.15</updateDt></item><item><accDefRate>1.6752425711</accDefRate><accExamCnt>654863</accExamCnt><accExamCompCnt>645996</accExamCompCnt><careCnt>1135</careCnt><clearCnt>9484</clearCnt><createDt>2020-05-08 10:18:50.50</createDt><deathCnt>256</deathCnt><decideCnt>10822</decideCnt><examCnt>8867</examCnt><resutlNegCnt>635174</resutlNegCnt><seq>132</seq><stateDt>20200508</stateDt><stateTime>00:00</stateTime><updateDt>2020-05-08 10:18:50.50</updateDt></item><item><accDefRate>1.6865353322</accDefRate><accExamCnt>649388</accExamCnt><accExamCompCnt>640959</accExamCompCnt><careCnt>1218</careCnt><clearCnt>9419</clearCnt><createDt>2020-05-07 10:43:56.56</createDt><deathCnt>256</deathCnt><decideCnt>10810</decideCnt><examCnt>8429</examCnt><resutlNegCnt>630149</resutlNegCnt><seq>131</seq><stateDt>20200507</stateDt><stateTime>00:00</stateTime><updateDt>2020-05-07 10:43:56.56</updateDt></item><item><accDefRate>1.7015018438</accDefRate><accExamCnt>643095</accExamCnt><accExamCompCnt>635086</accExamCompCnt><careCnt>1267</careCnt><clearCnt>9333</clearCnt><createDt>2020-05-06 10:16:11.11</createDt><deathCnt>255</deathCnt><decideCnt>10806</decideCnt><examCnt>8009</examCnt><resutlNegCnt>624280</resutlNegCnt><seq>130</seq><stateDt>20200506</stateDt><stateTime>00:00</stateTime><updateDt>2020-05-06 10:16:11.11</updateDt></item><item><accDefRate>1.7111750628</accDefRate><accExamCnt>640237</accExamCnt><accExamCompCnt>631379</accExamCompCnt><careCnt>1332</careCnt><clearCnt>9283</clearCnt><createDt>2020-05-05 10:20:41.41</createDt><deathCnt>254</deathCnt><decideCnt>10804</decideCnt><examCnt>8858</examCnt><resutlNegCnt>620575</resutlNegCnt><seq>129</seq><stateDt>20200505</stateDt><stateTime>00:00</stateTime><updateDt>2020-05-05 10:20:41.41</updateDt></item><item><accDefRate>1.7261024858</accDefRate><accExamCnt>633921</accExamCnt><accExamCompCnt>625745</accExamCompCnt><careCnt>1360</careCnt><clearCnt>9217</clearCnt><createDt>2020-05-04 10:11:32.32</createDt><deathCnt>252</deathCnt><decideCnt>10801</decideCnt><examCnt>8176</examCnt><resutlNegCnt>614944</resutlNegCnt><seq>128</seq><stateDt>20200504</stateDt><stateTime>00:00</stateTime><updateDt>2020-05-04 10:11:32.32</updateDt></item><item><accDefRate>1.7341356234</accDefRate><accExamCnt>630973</accExamCnt><accExamCompCnt>622385</accExamCompCnt><careCnt>1407</careCnt><clearCnt>9183</clearCnt><createDt>2020-05-03 10:54:37.37</createDt><deathCnt>250</deathCnt><decideCnt>10793</decideCnt><examCnt>8588</examCnt><resutlNegCnt>611592</resutlNegCnt><seq>127</seq><stateDt>20200503</stateDt><stateTime>00:00</stateTime><updateDt>2020-05-03 10:54:37.37</updateDt></item><item><accDefRate>1.7413329111</accDefRate><accExamCnt>627562</accExamCnt><accExamCompCnt>619066</accExamCompCnt><careCnt>1454</careCnt><clearCnt>9123</clearCnt><createDt>2020-05-02 10:22:19.19</createDt><deathCnt>250</deathCnt><decideCnt>10780</decideCnt><examCnt>8496</examCnt><resutlNegCnt>608286</resutlNegCnt><seq>126</seq><stateDt>20200502</stateDt><stateTime>00:00</stateTime><updateDt>2020-05-02 10:22:19.19</updateDt></item><item><accDefRate>1.7536263965</accDefRate><accExamCnt>623069</accExamCnt><accExamCompCnt>614384</accExamCompCnt><careCnt>1459</careCnt><clearCnt>9072</clearCnt><createDt>2020-05-01 10:24:38.38</createDt><deathCnt>248</deathCnt><decideCnt>10774</decideCnt><examCnt>8685</examCnt><resutlNegCnt>603610</resutlNegCnt><seq>125</seq><stateDt>20200501</stateDt><stateTime>00:00</stateTime><updateDt>2020-05-01 10:24:38.38</updateDt></item><item><accDefRate>1.7611538379</accDefRate><accExamCnt>619881</accExamCnt><accExamCompCnt>611247</accExamCompCnt><careCnt>1593</careCnt><clearCnt>9059</clearCnt><createDt>2020-04-30 10:12:42.42</createDt><deathCnt>247</deathCnt><decideCnt>10765</decideCnt><examCnt>8634</examCnt><resutlNegCnt>600482</resutlNegCnt><seq>124</seq><stateDt>20200430</stateDt><stateTime>00:00</stateTime><updateDt>2020-04-30 10:12:42.42</updateDt></item><item><accDefRate>1.7760649622</accDefRate><accExamCnt>614197</accExamCnt><accExamCompCnt>605890</accExamCompCnt><careCnt>1654</careCnt><clearCnt>8922</clearCnt><createDt>2020-04-29 10:26:00.00</createDt><deathCnt>246</deathCnt><decideCnt>10761</decideCnt><examCnt>8307</examCnt><resutlNegCnt>595129</resutlNegCnt><seq>123</seq><stateDt>20200429</stateDt><stateTime>00:00</stateTime><updateDt>2020-04-29 10:26:00.00</updateDt></item><item><accDefRate>1.7940601791</accDefRate><accExamCnt>608514</accExamCnt><accExamCompCnt>599311</accExamCompCnt><careCnt>1731</careCnt><clearCnt>8854</clearCnt><createDt>2020-04-28 10:22:16.16</createDt><deathCnt>244</deathCnt><decideCnt>10752</decideCnt><examCnt>9203</examCnt><resutlNegCnt>588559</resutlNegCnt><seq>122</seq><stateDt>20200428</stateDt><stateTime>00:00</stateTime><updateDt>2020-04-28 10:22:16.16</updateDt></item><item><accDefRate>1.8115104636</accDefRate><accExamCnt>601660</accExamCnt><accExamCompCnt>592765</accExamCompCnt><careCnt>1769</careCnt><clearCnt>8764</clearCnt><createDt>2020-04-27 10:12:27.27</createDt><deathCnt>243</deathCnt><decideCnt>10738</decideCnt><examCnt>8895</examCnt><resutlNegCnt>582027</resutlNegCnt><seq>121</seq><stateDt>20200427</stateDt><stateTime>00:00</stateTime><updateDt>2020-04-27 10:12:27.27</updateDt></item><item><accDefRate>1.8205082082</accDefRate><accExamCnt>598285</accExamCnt><accExamCompCnt>589286</accExamCompCnt><careCnt>1843</careCnt><clearCnt>8717</clearCnt><createDt>2020-04-26 10:12:24.24</createDt><deathCnt>242</deathCnt><decideCnt>10728</decideCnt><examCnt>8999</examCnt><resutlNegCnt>578558</resutlNegCnt><seq>120</seq><stateDt>20200426</stateDt><stateTime>00:00</stateTime><updateDt>2020-04-26 10:12:24.24</updateDt></item><item><accDefRate>1.8293161655</accDefRate><accExamCnt>595161</accExamCnt><accExamCompCnt>585902</accExamCompCnt><careCnt>1967</careCnt><clearCnt>8635</clearCnt><createDt>2020-04-25 10:58:08.08</createDt><deathCnt>240</deathCnt><decideCnt>10718</decideCnt><examCnt>9259</examCnt><resutlNegCnt>575184</resutlNegCnt><seq>119</seq><stateDt>20200425</stateDt><stateTime>00:00</stateTime><updateDt>2020-04-25 10:58:08.08</updateDt></item><item><accDefRate>1.8464615809</accDefRate><accExamCnt>589520</accExamCnt><accExamCompCnt>579920</accExamCompCnt><careCnt>2051</careCnt><clearCnt>8501</clearCnt><createDt>2020-04-24 10:11:08.08</createDt><deathCnt>240</deathCnt><decideCnt>10708</decideCnt><examCnt>9600</examCnt><resutlNegCnt>569212</resutlNegCnt><seq>116</seq><stateDt>20200424</stateDt><stateTime>00:00</stateTime><updateDt>2020-04-24 10:11:08.08</updateDt></item><item><accDefRate>1.8650057856</accDefRate><accExamCnt>583971</accExamCnt><accExamCompCnt>573832</accExamCompCnt><careCnt>2179</careCnt><clearCnt>8411</clearCnt><createDt>2020-04-23 10:11:05.05</createDt><deathCnt>240</deathCnt><decideCnt>10702</decideCnt><examCnt>10139</examCnt><resutlNegCnt>563130</resutlNegCnt><seq>115</seq><stateDt>20200423</stateDt><stateTime>00:00</stateTime><updateDt>2020-04-23 10:11:05.05</updateDt></item><item><accDefRate>1.8899402302</accDefRate><accExamCnt>577959</accExamCnt><accExamCompCnt>565838</accExamCompCnt><careCnt>2233</careCnt><clearCnt>8277</clearCnt><createDt>2020-04-22 10:20:28.28</createDt><deathCnt>238</deathCnt><decideCnt>10694</decideCnt><examCnt>12121</examCnt><resutlNegCnt>555144</resutlNegCnt><seq>114</seq><stateDt>20200422</stateDt><stateTime>00:00</stateTime><updateDt>2020-04-22 10:20:28.28</updateDt></item><item><accDefRate>1.9135113641</accDefRate><accExamCnt>571014</accExamCnt><accExamCompCnt>558293</accExamCompCnt><careCnt>2324</careCnt><clearCnt>8213</clearCnt><createDt>2020-04-21 10:11:58.58</createDt><deathCnt>237</deathCnt><decideCnt>10683</decideCnt><examCnt>12721</examCnt><resutlNegCnt>547610</resutlNegCnt><seq>113</seq><stateDt>20200421</stateDt><stateTime>00:00</stateTime><updateDt>2020-04-21 10:11:58.58</updateDt></item><item><accDefRate>1.9370152471</accDefRate><accExamCnt>563035</accExamCnt><accExamCompCnt>551054</accExamCompCnt><careCnt>2385</careCnt><clearCnt>8114</clearCnt><createDt>2020-04-20 10:26:59.59</createDt><deathCnt>236</deathCnt><decideCnt>10674</decideCnt><examCnt>11981</examCnt><resutlNegCnt>540380</resutlNegCnt><seq>112</seq><stateDt>20200420</stateDt><stateTime>00:00</stateTime><updateDt>2020-04-20 10:26:59.59</updateDt></item><item><accDefRate>1.9494720827</accDefRate><accExamCnt>559109</accExamCnt><accExamCompCnt>546866</accExamCompCnt><careCnt>2484</careCnt><clearCnt>8042</clearCnt><createDt>2020-04-19 10:27:30.30</createDt><deathCnt>234</deathCnt><decideCnt>10661</decideCnt><examCnt>12243</examCnt><resutlNegCnt>536205</resutlNegCnt><seq>111</seq><stateDt>20200419</stateDt><stateTime>00:00</stateTime><updateDt>2020-04-19 10:27:30.30</updateDt></item><item><accDefRate>1.9680980779</accDefRate><accExamCnt>554834</accExamCnt><accExamCompCnt>541284</accExamCompCnt><careCnt>2576</careCnt><clearCnt>7937</clearCnt><createDt>2020-04-18 10:44:12.12</createDt><deathCnt>232</deathCnt><decideCnt>10653</decideCnt><examCnt>13550</examCnt><resutlNegCnt>530631</resutlNegCnt><seq>110</seq><stateDt>20200418</stateDt><stateTime>00:00</stateTime><updateDt>2020-04-18 10:44:12.12</updateDt></item><item><accDefRate>1.9980198280</accDefRate><accExamCnt>546463</accExamCnt><accExamCompCnt>532277</accExamCompCnt><careCnt>2627</careCnt><clearCnt>7829</clearCnt><createDt>2020-04-17 10:32:02.02</createDt><deathCnt>230</deathCnt><decideCnt>10635</decideCnt><examCnt>14186</examCnt><resutlNegCnt>521642</resutlNegCnt><seq>109</seq><stateDt>20200417</stateDt><stateTime>00:00</stateTime><updateDt>2020-04-17 10:32:02.02</updateDt></item><item><accDefRate>2.0234239009</accDefRate><accExamCnt>538775</accExamCnt><accExamCompCnt>524507</accExamCompCnt><careCnt>2750</careCnt><clearCnt>7757</clearCnt><createDt>2020-04-16 10:55:17.17</createDt><deathCnt>229</deathCnt><decideCnt>10613</decideCnt><examCnt>14268</examCnt><resutlNegCnt>513894</resutlNegCnt><seq>108</seq><stateDt>20200416</stateDt><stateTime>00:00</stateTime><updateDt>2020-04-16 10:55:17.17</updateDt></item><item><accDefRate>2.0385890215</accDefRate><accExamCnt>534552</accExamCnt><accExamCompCnt>519526</accExamCompCnt><careCnt>2808</careCnt><clearCnt>7616</clearCnt><createDt>2020-04-15 11:34:34.34</createDt><deathCnt>225</deathCnt><decideCnt>10591</decideCnt><examCnt>15026</examCnt><resutlNegCnt>508935</resutlNegCnt><seq>107</seq><stateDt>20200415</stateDt><stateTime>00:00</stateTime><updateDt>2020-04-15 11:34:34.34</updateDt></item><item><accDefRate>2.0601146284</accDefRate><accExamCnt>527438</accExamCnt><accExamCompCnt>512787</accExamCompCnt><careCnt>2873</careCnt><clearCnt>7534</clearCnt><createDt>2020-04-14 10:23:15.15</createDt><deathCnt>222</deathCnt><decideCnt>10564</decideCnt><examCnt>14651</examCnt><resutlNegCnt>502223</resutlNegCnt><seq>106</seq><stateDt>20200414</stateDt><stateTime>00:00</stateTime><updateDt>2020-04-14 10:23:15.15</updateDt></item><item><accDefRate>2.0850812898</accDefRate><accExamCnt>518743</accExamCnt><accExamCompCnt>505352</accExamCompCnt><careCnt>2930</careCnt><clearCnt>7447</clearCnt><createDt>2020-04-13 10:14:53.53</createDt><deathCnt>217</deathCnt><decideCnt>10537</decideCnt><examCnt>13391</examCnt><resutlNegCnt>494815</resutlNegCnt><seq>105</seq><stateDt>20200413</stateDt><stateTime>00:00</stateTime><updateDt>2020-04-13 10:14:53.53</updateDt></item><item><accDefRate>2.0989032272</accDefRate><accExamCnt>514621</accExamCnt><accExamCompCnt>500833</accExamCompCnt><careCnt>3026</careCnt><clearCnt>7368</clearCnt><createDt>2020-04-12 10:20:49.49</createDt><deathCnt>214</deathCnt><decideCnt>10512</decideCnt><examCnt>13788</examCnt><resutlNegCnt>490321</resutlNegCnt><seq>104</seq><stateDt>20200412</stateDt><stateTime>00:00</stateTime><updateDt>2020-04-12 10:20:49.49</updateDt></item><item><accDefRate>2.1111623681</accDefRate><accExamCnt>510479</accExamCnt><accExamCompCnt>496409</accExamCompCnt><careCnt>3125</careCnt><clearCnt>7243</clearCnt><createDt>2020-04-11 10:24:11.11</createDt><deathCnt>211</deathCnt><decideCnt>10480</decideCnt><examCnt>14070</examCnt><resutlNegCnt>485929</resutlNegCnt><seq>103</seq><stateDt>20200411</stateDt><stateTime>00:00</stateTime><updateDt>2020-04-11 10:24:11.11</updateDt></item><item><accDefRate>2.1424778525</accDefRate><accExamCnt>503051</accExamCnt><accExamCompCnt>487753</accExamCompCnt><careCnt>3246</careCnt><clearCnt>7117</clearCnt><createDt>2020-04-10 10:15:54.54</createDt><deathCnt>208</deathCnt><decideCnt>10450</decideCnt><examCnt>15298</examCnt><resutlNegCnt>477303</resutlNegCnt><seq>102</seq><stateDt>20200410</stateDt><stateTime>00:00</stateTime><updateDt>2020-04-10 10:15:54.54</updateDt></item><item><accDefRate>2.1750743945</accDefRate><accExamCnt>494711</accExamCnt><accExamCompCnt>479202</accExamCompCnt><careCnt>3408</careCnt><clearCnt>6973</clearCnt><createDt>2020-04-09 10:22:27.27</createDt><deathCnt>204</deathCnt><decideCnt>10423</decideCnt><examCnt>15509</examCnt><resutlNegCnt>468779</resutlNegCnt><seq>101</seq><stateDt>20200409</stateDt><stateTime>00:00</stateTime><updateDt>2020-04-09 10:22:27.27</updateDt></item><item><accDefRate>2.2181161819</accDefRate><accExamCnt>486003</accExamCnt><accExamCompCnt>468145</accExamCompCnt><careCnt>3445</careCnt><clearCnt>6776</clearCnt><createDt>2020-04-08 10:15:42.42</createDt><deathCnt>200</deathCnt><decideCnt>10384</decideCnt><examCnt>17858</examCnt><resutlNegCnt>457761</resutlNegCnt><seq>100</seq><stateDt>20200408</stateDt><stateTime>00:00</stateTime><updateDt>2020-04-08 10:15:42.42</updateDt></item><item><accDefRate>2.2623255243</accDefRate><accExamCnt>477304</accExamCnt><accExamCompCnt>456654</accExamCompCnt><careCnt>3500</careCnt><clearCnt>6694</clearCnt><createDt>2020-04-07 10:12:25.25</createDt><deathCnt>192</deathCnt><decideCnt>10331</decideCnt><examCnt>20650</examCnt><resutlNegCnt>446323</resutlNegCnt><seq>99</seq><stateDt>20200407</stateDt><stateTime>00:00</stateTime><updateDt>2020-04-07 10:12:25.25</updateDt></item><item><accDefRate>2.2980543408</accDefRate><accExamCnt>466804</accExamCnt><accExamCompCnt>447509</accExamCompCnt><careCnt>3591</careCnt><clearCnt>6598</clearCnt><createDt>2020-04-06 10:27:44.44</createDt><deathCnt>186</deathCnt><decideCnt>10284</decideCnt><examCnt>19295</examCnt><resutlNegCnt>437225</resutlNegCnt><seq>98</seq><stateDt>20200406</stateDt><stateTime>00:00</stateTime><updateDt>2020-04-06 10:27:44.44</updateDt></item><item><accDefRate>2.3178358110</accDefRate><accExamCnt>461233</accExamCnt><accExamCompCnt>441662</accExamCompCnt><careCnt>3654</careCnt><clearCnt>6463</clearCnt><createDt>2020-04-05 10:11:59.59</createDt><deathCnt>183</deathCnt><decideCnt>10237</decideCnt><examCnt>19571</examCnt><resutlNegCnt>431425</resutlNegCnt><seq>97</seq><stateDt>20200405</stateDt><stateTime>00:00</stateTime><updateDt>2020-04-05 10:11:59.59</updateDt></item><item><accDefRate>2.3353139199</accDefRate><accExamCnt>455032</accExamCnt><accExamCompCnt>434888</accExamCompCnt><careCnt>3867</careCnt><clearCnt>6325</clearCnt><createDt>2020-04-04 10:32:51.51</createDt><deathCnt>177</deathCnt><decideCnt>10156</decideCnt><examCnt>20144</examCnt><resutlNegCnt>424732</resutlNegCnt><seq>96</seq><stateDt>20200404</stateDt><stateTime>00:00</stateTime><updateDt>2020-04-04 10:32:51.51</updateDt></item><item><accDefRate>2.3710720723</accDefRate><accExamCnt>443273</accExamCnt><accExamCompCnt>424365</accExamCompCnt><careCnt>3979</careCnt><clearCnt>6021</clearCnt><createDt>2020-04-03 10:19:21.21</createDt><deathCnt>174</deathCnt><decideCnt>10062</decideCnt><examCnt>18908</examCnt><resutlNegCnt>414303</resutlNegCnt><seq>95</seq><stateDt>20200403</stateDt><stateTime>00:00</stateTime><updateDt>2020-04-03 10:19:21.21</updateDt></item><item><accDefRate>2.4104886217</accDefRate><accExamCnt>431743</accExamCnt><accExamCompCnt>413858</accExamCompCnt><careCnt>4155</careCnt><clearCnt>5828</clearCnt><createDt>2020-04-02 10:13:00.00</createDt><deathCnt>169</deathCnt><decideCnt>9976</decideCnt><examCnt>17885</examCnt><resutlNegCnt>403882</resutlNegCnt><seq>94</seq><stateDt>20200402</stateDt><stateTime>00:00</stateTime><updateDt>2020-04-02 10:13:00.00</updateDt></item><item><accDefRate>2.4414636435</accDefRate><accExamCnt>421547</accExamCnt><accExamCompCnt>404962</accExamCompCnt><careCnt>4216</careCnt><clearCnt>5567</clearCnt><createDt>2020-04-01 10:13:22.22</createDt><deathCnt>165</deathCnt><decideCnt>9887</decideCnt><examCnt>16585</examCnt><resutlNegCnt>395075</resutlNegCnt><seq>92</seq><stateDt>20200401</stateDt><stateTime>00:00</stateTime><updateDt>2020-04-01 10:13:22.22</updateDt></item><item><accDefRate>2.4858257635</accDefRate><accExamCnt>410564</accExamCnt><accExamCompCnt>393672</accExamCompCnt><careCnt>4275</careCnt><clearCnt>5408</clearCnt><createDt>2020-03-31 11:00:44.44</createDt><deathCnt>162</deathCnt><decideCnt>9786</decideCnt><examCnt>16892</examCnt><resutlNegCnt>383886</resutlNegCnt><seq>91</seq><stateDt>20200331</stateDt><stateTime>00:00</stateTime><updateDt>2020-03-31 11:00:44.44</updateDt></item><item><accDefRate>2.5312906936</accDefRate><accExamCnt>395194</accExamCnt><accExamCompCnt>381663</accExamCompCnt><careCnt>4398</careCnt><clearCnt>5228</clearCnt><createDt>2020-03-30 10:32:34.34</createDt><deathCnt>158</deathCnt><decideCnt>9661</decideCnt><examCnt>13531</examCnt><resutlNegCnt>372002</resutlNegCnt><seq>90</seq><stateDt>20200330</stateDt><stateTime>00:00</stateTime><updateDt>2020-03-30 10:32:34.34</updateDt></item><item><accDefRate>2.5277423881</accDefRate><accExamCnt>394141</accExamCnt><accExamCompCnt>379113</accExamCompCnt><careCnt>4523</careCnt><clearCnt>5033</clearCnt><createDt>2020-03-29 10:10:20.20</createDt><deathCnt>152</deathCnt><decideCnt>9583</decideCnt><examCnt>15028</examCnt><resutlNegCnt>369530</resutlNegCnt><seq>89</seq><stateDt>20200329</stateDt><stateTime>00:00</stateTime><updateDt>2020-03-29 10:10:20.20</updateDt></item><item><accDefRate>2.5522335409</accDefRate><accExamCnt>387925</accExamCnt><accExamCompCnt>371361</accExamCompCnt><careCnt>4665</careCnt><clearCnt>4811</clearCnt><createDt>2020-03-28 10:30:06.06</createDt><deathCnt>144</deathCnt><decideCnt>9478</decideCnt><examCnt>16564</examCnt><resutlNegCnt>361883</resutlNegCnt><seq>88</seq><stateDt>20200328</stateDt><stateTime>00:00</stateTime><updateDt>2020-03-28 10:30:06.06</updateDt></item><item><accDefRate>2.5797391511</accDefRate><accExamCnt>376961</accExamCnt><accExamCompCnt>361742</accExamCompCnt><careCnt>4966</careCnt><clearCnt>4528</clearCnt><createDt>2020-03-27 10:17:01.01</createDt><deathCnt>139</deathCnt><decideCnt>9332</decideCnt><examCnt>15219</examCnt><resutlNegCnt>352410</resutlNegCnt><seq>87</seq><stateDt>20200327</stateDt><stateTime>00:00</stateTime><updateDt>2020-03-27 10:17:01.01</updateDt></item><item><accDefRate>2.6359702544</accDefRate><accExamCnt>364942</accExamCnt><accExamCompCnt>350573</accExamCompCnt><careCnt>5281</careCnt><clearCnt>4144</clearCnt><createDt>2020-03-26 10:40:50.50</createDt><deathCnt>131</deathCnt><decideCnt>9241</decideCnt><examCnt>14369</examCnt><resutlNegCnt>341332</resutlNegCnt><seq>86</seq><stateDt>20200326</stateDt><stateTime>00:00</stateTime><updateDt>2020-03-26 10:40:50.50</updateDt></item><item><accDefRate>2.6590574416</accDefRate><accExamCnt>357896</accExamCnt><accExamCompCnt>343618</accExamCompCnt><careCnt>5410</careCnt><clearCnt>3730</clearCnt><createDt>2020-03-25 10:12:04.04</createDt><deathCnt>126</deathCnt><decideCnt>9137</decideCnt><examCnt>14278</examCnt><resutlNegCnt>334481</resutlNegCnt><seq>85</seq><stateDt>20200325</stateDt><stateTime>00:00</stateTime><updateDt>2020-03-25 10:12:04.04</updateDt></item><item><accDefRate>2.7126570651</accDefRate><accExamCnt>348582</accExamCnt><accExamCompCnt>333142</accExamCompCnt><careCnt>5684</careCnt><clearCnt>3507</clearCnt><createDt>2020-03-24 10:20:57.57</createDt><deathCnt>120</deathCnt><decideCnt>9037</decideCnt><examCnt>15440</examCnt><resutlNegCnt>324105</resutlNegCnt><seq>84</seq><stateDt>20200324</stateDt><stateTime>00:00</stateTime><updateDt>2020-03-24 10:20:57.57</updateDt></item><item><accDefRate>2.7622623363</accDefRate><accExamCnt>338036</accExamCnt><accExamCompCnt>324408</accExamCompCnt><careCnt>5884</careCnt><clearCnt>3166</clearCnt><createDt>2020-03-23 10:27:32.32</createDt><deathCnt>111</deathCnt><decideCnt>8961</decideCnt><examCnt>13628</examCnt><resutlNegCnt>315447</resutlNegCnt><seq>82</seq><stateDt>20200323</stateDt><stateTime>00:00</stateTime><updateDt>2020-03-23 10:27:32.32</updateDt></item><item><accDefRate>2.8045013239</accDefRate><accExamCnt>331780</accExamCnt><accExamCompCnt>317240</accExamCompCnt><careCnt>6085</careCnt><clearCnt>2909</clearCnt><createDt>2020-03-22 10:07:28.28</createDt><deathCnt>104</deathCnt><decideCnt>8897</decideCnt><examCnt>14540</examCnt><resutlNegCnt>308343</resutlNegCnt><seq>81</seq><stateDt>20200322</stateDt><stateTime>00:00</stateTime><updateDt>2020-03-22 10:07:28.28</updateDt></item><item><accDefRate>2.8219560302</accDefRate><accExamCnt>327509</accExamCnt><accExamCompCnt>311805</accExamCompCnt><careCnt>6325</careCnt><clearCnt>2612</clearCnt><createDt>2020-03-21 10:02:58.58</createDt><deathCnt>102</deathCnt><decideCnt>8799</decideCnt><examCnt>15704</examCnt><resutlNegCnt>303006</resutlNegCnt><seq>80</seq><stateDt>20200321</stateDt><stateTime>00:00</stateTime><updateDt>2020-03-21 10:02:58.58</updateDt></item><item><accDefRate>2.8730918280</accDefRate><accExamCnt>316664</accExamCnt><accExamCompCnt>301139</accExamCompCnt><careCnt>6527</careCnt><clearCnt>2233</clearCnt><createDt>2020-03-20 10:15:59.59</createDt><deathCnt>94</deathCnt><decideCnt>8652</decideCnt><examCnt>15525</examCnt><resutlNegCnt>292487</resutlNegCnt><seq>79</seq><stateDt>20200320</stateDt><stateTime>00:00</stateTime><updateDt>2020-03-20 10:15:59.59</updateDt></item><item><accDefRate>2.9420857378</accDefRate><accExamCnt>307024</accExamCnt><accExamCompCnt>291120</accExamCompCnt><careCnt>6789</careCnt><clearCnt>1947</clearCnt><createDt>2020-03-19 10:07:57.57</createDt><deathCnt>91</deathCnt><decideCnt>8565</decideCnt><examCnt>15904</examCnt><resutlNegCnt>282555</resutlNegCnt><seq>78</seq><stateDt>20200319</stateDt><stateTime>00:00</stateTime><updateDt>2020-03-19 10:07:57.57</updateDt></item><item><accDefRate>3.0121625056</accDefRate><accExamCnt>295647</accExamCnt><accExamCompCnt>279301</accExamCompCnt><careCnt>6838</careCnt><clearCnt>1540</clearCnt><createDt>2020-03-18 10:26:15.15</createDt><deathCnt>84</deathCnt><decideCnt>8413</decideCnt><examCnt>16346</examCnt><resutlNegCnt>270888</resutlNegCnt><seq>77</seq><stateDt>20200318</stateDt><stateTime>00:00</stateTime><updateDt>2020-03-18 10:26:15.15</updateDt></item><item><accDefRate>3.0880579010</accDefRate><accExamCnt>286716</accExamCnt><accExamCompCnt>269425</accExamCompCnt><careCnt>7024</careCnt><clearCnt>1401</clearCnt><createDt>2020-03-17 10:29:38.38</createDt><deathCnt>81</deathCnt><decideCnt>8320</decideCnt><examCnt>17291</examCnt><resutlNegCnt>261105</resutlNegCnt><seq>76</seq><stateDt>20200317</stateDt><stateTime>00:00</stateTime><updateDt>2020-03-17 10:29:38.38</updateDt></item><item><accDefRate>3.1733922083</accDefRate><accExamCnt>274504</accExamCnt><accExamCompCnt>259533</accExamCompCnt><careCnt>7253</careCnt><clearCnt>1137</clearCnt><createDt>2020-03-16 10:12:33.33</createDt><deathCnt>75</deathCnt><decideCnt>8236</decideCnt><examCnt>14971</examCnt><resutlNegCnt>251297</resutlNegCnt><seq>75</seq><stateDt>20200316</stateDt><stateTime>00:00</stateTime><updateDt>2020-03-16 10:12:33.33</updateDt></item><item><accDefRate>3.2396602365</accDefRate><accExamCnt>268212</accExamCnt><accExamCompCnt>251940</accExamCompCnt><careCnt>7300</careCnt><clearCnt>834</clearCnt><createDt>2020-03-15 10:01:22.22</createDt><deathCnt>75</deathCnt><decideCnt>8162</decideCnt><examCnt>16272</examCnt><resutlNegCnt>243778</resutlNegCnt><seq>74</seq><stateDt>20200315</stateDt><stateTime>00:00</stateTime><updateDt>2020-03-15 10:01:22.22</updateDt></item><item><accDefRate>3.3180003364</accDefRate><accExamCnt>261335</accExamCnt><accExamCompCnt>243701</accExamCompCnt><careCnt>7402</careCnt><clearCnt>714</clearCnt><createDt>2020-03-14 10:29:11.11</createDt><deathCnt>72</deathCnt><decideCnt>8086</decideCnt><examCnt>17634</examCnt><resutlNegCnt>235615</resutlNegCnt><seq>73</seq><stateDt>20200314</stateDt><stateTime>00:00</stateTime><updateDt>2020-03-14 10:29:11.11</updateDt></item><item><accDefRate>3.4584993086</accDefRate><accExamCnt>248647</accExamCnt><accExamCompCnt>230707</accExamCompCnt><careCnt>7470</careCnt><clearCnt>510</clearCnt><createDt>2020-03-13 10:07:22.22</createDt><deathCnt>67</deathCnt><decideCnt>7979</decideCnt><examCnt>17940</examCnt><resutlNegCnt>222728</resutlNegCnt><seq>72</seq><stateDt>20200313</stateDt><stateTime>00:00</stateTime><updateDt>2020-03-13 10:07:22.22</updateDt></item><item><accDefRate>3.6217442732</accDefRate><accExamCnt>234998</accExamCnt><accExamCompCnt>217271</accExamCompCnt><careCnt>7407</careCnt><clearCnt>333</clearCnt><createDt>2020-03-12 10:37:03.03</createDt><deathCnt>66</deathCnt><decideCnt>7869</decideCnt><examCnt>17727</examCnt><resutlNegCnt>209402</resutlNegCnt><seq>71</seq><stateDt>20200312</stateDt><stateTime>00:00</stateTime><updateDt>2020-03-12 10:37:03.03</updateDt></item><item><accDefRate>3.8041745358</accDefRate><accExamCnt>222395</accExamCnt><accExamCompCnt>203855</accExamCompCnt><careCnt>7212</careCnt><clearCnt>288</clearCnt><createDt>2020-03-11 10:17:19.19</createDt><deathCnt>60</deathCnt><decideCnt>7755</decideCnt><examCnt>18540</examCnt><resutlNegCnt>196100</resutlNegCnt><seq>70</seq><stateDt>20200311</stateDt><stateTime>00:00</stateTime><updateDt>2020-03-11 10:17:19.19</updateDt></item><item><accDefRate>3.9193080566</accDefRate><accExamCnt>210144</accExamCnt><accExamCompCnt>191692</accExamCompCnt><careCnt>7165</careCnt><clearCnt>247</clearCnt><createDt>2020-03-10 10:20:27.27</createDt><deathCnt>54</deathCnt><decideCnt>7513</decideCnt><examCnt>18452</examCnt><resutlNegCnt>184179</resutlNegCnt><seq>69</seq><stateDt>20200310</stateDt><stateTime>00:00</stateTime><updateDt>2020-03-10 10:20:27.27</updateDt></item></items><numOfRows>10</numOfRows><pageNo>1</pageNo><totalCount>235</totalCount></body></response>'"
      ]
     },
     "execution_count": 24,
     "metadata": {},
     "output_type": "execute_result"
    }
   ],
   "source": [
    "requests.get(url).text"
   ]
  },
  {
   "cell_type": "markdown",
   "metadata": {},
   "source": [
    "## xml 파싱"
   ]
  },
  {
   "cell_type": "code",
   "execution_count": 18,
   "metadata": {},
   "outputs": [],
   "source": [
    "url = \"http://openapi.data.go.kr/openapi/service/rest/Covid19/getCovid19InfStateJson?serviceKey=WRvGBkn9UEtw%2BAsg0tYo210Etxvb1QEcAX%2BwfWvOxVGYJkh1CNZ%2FY4QFa0r7j4bhT4NjPu7z1i1ck8ZgsKMt2Q%3D%3D&pageNo=1&numOfRows=10&startCreateDt=20200310&endCreateDt={}\""
   ]
  },
  {
   "cell_type": "code",
   "execution_count": 19,
   "metadata": {},
   "outputs": [
    {
     "data": {
      "text/plain": [
       "'20210408'"
      ]
     },
     "execution_count": 19,
     "metadata": {},
     "output_type": "execute_result"
    }
   ],
   "source": [
    "import datetime\n",
    "\n",
    "str(datetime.date.today()).replace('-', '')"
   ]
  },
  {
   "cell_type": "code",
   "execution_count": 20,
   "metadata": {},
   "outputs": [],
   "source": [
    "url = url.format(str(datetime.date.today()).replace('-', ''))"
   ]
  },
  {
   "cell_type": "code",
   "execution_count": 21,
   "metadata": {},
   "outputs": [],
   "source": [
    "r = requests.get(url)"
   ]
  },
  {
   "cell_type": "code",
   "execution_count": 22,
   "metadata": {},
   "outputs": [
    {
     "data": {
      "text/plain": [
       "'http://openapi.data.go.kr/openapi/service/rest/Covid19/getCovid19InfStateJson?serviceKey=WRvGBkn9UEtw%2BAsg0tYo210Etxvb1QEcAX%2BwfWvOxVGYJkh1CNZ%2FY4QFa0r7j4bhT4NjPu7z1i1ck8ZgsKMt2Q%3D%3D&pageNo=1&numOfRows=10&startCreateDt=20200310&endCreateDt=20210408'"
      ]
     },
     "execution_count": 22,
     "metadata": {},
     "output_type": "execute_result"
    }
   ],
   "source": [
    "r.url"
   ]
  },
  {
   "cell_type": "code",
   "execution_count": 23,
   "metadata": {},
   "outputs": [],
   "source": [
    "root = ET.fromstring(r.text)"
   ]
  },
  {
   "cell_type": "code",
   "execution_count": 24,
   "metadata": {},
   "outputs": [],
   "source": [
    "total = []\n",
    "items = root.iter(tag='item')\n",
    "for element in items:\n",
    "    #print(element.find(\"accDefRate\").text)\n",
    "    covid_dict = {}\n",
    "    for x in element:\n",
    "        covid_dict[x.tag] = x.text\n",
    "    total.append(covid_dict)"
   ]
  },
  {
   "cell_type": "code",
   "execution_count": 25,
   "metadata": {},
   "outputs": [
    {
     "data": {
      "text/plain": [
       "395"
      ]
     },
     "execution_count": 25,
     "metadata": {},
     "output_type": "execute_result"
    }
   ],
   "source": [
    "len(total)"
   ]
  },
  {
   "cell_type": "code",
   "execution_count": 26,
   "metadata": {},
   "outputs": [
    {
     "data": {
      "text/plain": [
       "{'accDefRate': '1.3560903641',\n",
       " 'accExamCnt': '8012421',\n",
       " 'accExamCompCnt': '7934427',\n",
       " 'careCnt': '7480',\n",
       " 'clearCnt': '98360',\n",
       " 'createDt': '2021-04-08 09:30:58.826',\n",
       " 'deathCnt': '1758',\n",
       " 'decideCnt': '107598',\n",
       " 'examCnt': '77994',\n",
       " 'resutlNegCnt': '7826829',\n",
       " 'seq': '474',\n",
       " 'stateDt': '20210408',\n",
       " 'stateTime': '00:00',\n",
       " 'updateDt': 'null'}"
      ]
     },
     "execution_count": 26,
     "metadata": {},
     "output_type": "execute_result"
    }
   ],
   "source": [
    "total[0]"
   ]
  },
  {
   "cell_type": "code",
   "execution_count": 27,
   "metadata": {},
   "outputs": [],
   "source": [
    "df = pd.DataFrame(total)"
   ]
  },
  {
   "cell_type": "code",
   "execution_count": 28,
   "metadata": {},
   "outputs": [
    {
     "data": {
      "text/html": [
       "<div>\n",
       "<style scoped>\n",
       "    .dataframe tbody tr th:only-of-type {\n",
       "        vertical-align: middle;\n",
       "    }\n",
       "\n",
       "    .dataframe tbody tr th {\n",
       "        vertical-align: top;\n",
       "    }\n",
       "\n",
       "    .dataframe thead th {\n",
       "        text-align: right;\n",
       "    }\n",
       "</style>\n",
       "<table border=\"1\" class=\"dataframe\">\n",
       "  <thead>\n",
       "    <tr style=\"text-align: right;\">\n",
       "      <th></th>\n",
       "      <th>accDefRate</th>\n",
       "      <th>accExamCnt</th>\n",
       "      <th>accExamCompCnt</th>\n",
       "      <th>careCnt</th>\n",
       "      <th>clearCnt</th>\n",
       "      <th>createDt</th>\n",
       "      <th>deathCnt</th>\n",
       "      <th>decideCnt</th>\n",
       "      <th>examCnt</th>\n",
       "      <th>resutlNegCnt</th>\n",
       "      <th>seq</th>\n",
       "      <th>stateDt</th>\n",
       "      <th>stateTime</th>\n",
       "      <th>updateDt</th>\n",
       "    </tr>\n",
       "  </thead>\n",
       "  <tbody>\n",
       "    <tr>\n",
       "      <th>0</th>\n",
       "      <td>1.3560903641</td>\n",
       "      <td>8012421</td>\n",
       "      <td>7934427</td>\n",
       "      <td>7480</td>\n",
       "      <td>98360</td>\n",
       "      <td>2021-04-08 09:30:58.826</td>\n",
       "      <td>1758</td>\n",
       "      <td>107598</td>\n",
       "      <td>77994</td>\n",
       "      <td>7826829</td>\n",
       "      <td>474</td>\n",
       "      <td>20210408</td>\n",
       "      <td>00:00</td>\n",
       "      <td>null</td>\n",
       "    </tr>\n",
       "    <tr>\n",
       "      <th>1</th>\n",
       "      <td>1.3545924266</td>\n",
       "      <td>7966167</td>\n",
       "      <td>7891525</td>\n",
       "      <td>7214</td>\n",
       "      <td>97928</td>\n",
       "      <td>2021-04-07 09:37:24.979</td>\n",
       "      <td>1756</td>\n",
       "      <td>106898</td>\n",
       "      <td>74642</td>\n",
       "      <td>7784627</td>\n",
       "      <td>473</td>\n",
       "      <td>20210407</td>\n",
       "      <td>00:00</td>\n",
       "      <td>null</td>\n",
       "    </tr>\n",
       "  </tbody>\n",
       "</table>\n",
       "</div>"
      ],
      "text/plain": [
       "     accDefRate accExamCnt accExamCompCnt careCnt clearCnt  \\\n",
       "0  1.3560903641    8012421        7934427    7480    98360   \n",
       "1  1.3545924266    7966167        7891525    7214    97928   \n",
       "\n",
       "                  createDt deathCnt decideCnt examCnt resutlNegCnt  seq  \\\n",
       "0  2021-04-08 09:30:58.826     1758    107598   77994      7826829  474   \n",
       "1  2021-04-07 09:37:24.979     1756    106898   74642      7784627  473   \n",
       "\n",
       "    stateDt stateTime updateDt  \n",
       "0  20210408     00:00     null  \n",
       "1  20210407     00:00     null  "
      ]
     },
     "execution_count": 28,
     "metadata": {},
     "output_type": "execute_result"
    }
   ],
   "source": [
    "df.head(2)"
   ]
  },
  {
   "cell_type": "code",
   "execution_count": 216,
   "metadata": {},
   "outputs": [],
   "source": [
    "df = df.where(~(df == \"null\"), None)"
   ]
  },
  {
   "cell_type": "code",
   "execution_count": 31,
   "metadata": {},
   "outputs": [
    {
     "data": {
      "text/html": [
       "<div>\n",
       "<style scoped>\n",
       "    .dataframe tbody tr th:only-of-type {\n",
       "        vertical-align: middle;\n",
       "    }\n",
       "\n",
       "    .dataframe tbody tr th {\n",
       "        vertical-align: top;\n",
       "    }\n",
       "\n",
       "    .dataframe thead th {\n",
       "        text-align: right;\n",
       "    }\n",
       "</style>\n",
       "<table border=\"1\" class=\"dataframe\">\n",
       "  <thead>\n",
       "    <tr style=\"text-align: right;\">\n",
       "      <th></th>\n",
       "      <th>accDefRate</th>\n",
       "      <th>accExamCnt</th>\n",
       "      <th>accExamCompCnt</th>\n",
       "      <th>careCnt</th>\n",
       "      <th>clearCnt</th>\n",
       "      <th>createDt</th>\n",
       "      <th>deathCnt</th>\n",
       "      <th>decideCnt</th>\n",
       "      <th>examCnt</th>\n",
       "      <th>resutlNegCnt</th>\n",
       "      <th>seq</th>\n",
       "      <th>stateDt</th>\n",
       "      <th>stateTime</th>\n",
       "      <th>updateDt</th>\n",
       "    </tr>\n",
       "  </thead>\n",
       "  <tbody>\n",
       "    <tr>\n",
       "      <th>0</th>\n",
       "      <td>1.0203189811</td>\n",
       "      <td>2612231</td>\n",
       "      <td>2585858</td>\n",
       "      <td>1641</td>\n",
       "      <td>24227</td>\n",
       "      <td>2020-10-30 9:31:55.55</td>\n",
       "      <td>463</td>\n",
       "      <td>26384</td>\n",
       "      <td>26373</td>\n",
       "      <td>2559474</td>\n",
       "      <td>307</td>\n",
       "      <td>20201030</td>\n",
       "      <td>00:00</td>\n",
       "      <td>2020-10-30 9:31:55.55</td>\n",
       "    </tr>\n",
       "    <tr>\n",
       "      <th>1</th>\n",
       "      <td>1.0214905339</td>\n",
       "      <td>2597978</td>\n",
       "      <td>2571830</td>\n",
       "      <td>1612</td>\n",
       "      <td>24168</td>\n",
       "      <td>2020-10-29 9:37:57.57</td>\n",
       "      <td>462</td>\n",
       "      <td>26271</td>\n",
       "      <td>26148</td>\n",
       "      <td>2545559</td>\n",
       "      <td>306</td>\n",
       "      <td>20201029</td>\n",
       "      <td>00:00</td>\n",
       "      <td>2020-10-29 9:37:57.57</td>\n",
       "    </tr>\n",
       "    <tr>\n",
       "      <th>2</th>\n",
       "      <td>1.0213057839</td>\n",
       "      <td>2582960</td>\n",
       "      <td>2560056</td>\n",
       "      <td>1602</td>\n",
       "      <td>24073</td>\n",
       "      <td>2020-10-28 9:35:23.23</td>\n",
       "      <td>461</td>\n",
       "      <td>26146</td>\n",
       "      <td>22904</td>\n",
       "      <td>2533910</td>\n",
       "      <td>305</td>\n",
       "      <td>20201028</td>\n",
       "      <td>00:00</td>\n",
       "      <td>2020-10-28 9:35:23.23</td>\n",
       "    </tr>\n",
       "    <tr>\n",
       "      <th>3</th>\n",
       "      <td>1.0234678831</td>\n",
       "      <td>2567587</td>\n",
       "      <td>2544584</td>\n",
       "      <td>1593</td>\n",
       "      <td>23981</td>\n",
       "      <td>2020-10-27 9:38:15.15</td>\n",
       "      <td>460</td>\n",
       "      <td>26043</td>\n",
       "      <td>23003</td>\n",
       "      <td>2518541</td>\n",
       "      <td>304</td>\n",
       "      <td>20201027</td>\n",
       "      <td>00:00</td>\n",
       "      <td>2020-10-27 9:38:15.15</td>\n",
       "    </tr>\n",
       "    <tr>\n",
       "      <th>4</th>\n",
       "      <td>1.0252810486</td>\n",
       "      <td>2552264</td>\n",
       "      <td>2531501</td>\n",
       "      <td>1510</td>\n",
       "      <td>23905</td>\n",
       "      <td>2020-10-26 9:38:41.41</td>\n",
       "      <td>457</td>\n",
       "      <td>25955</td>\n",
       "      <td>20763</td>\n",
       "      <td>2505546</td>\n",
       "      <td>303</td>\n",
       "      <td>20201026</td>\n",
       "      <td>00:00</td>\n",
       "      <td>2020-10-26 9:38:41.41</td>\n",
       "    </tr>\n",
       "    <tr>\n",
       "      <th>...</th>\n",
       "      <td>...</td>\n",
       "      <td>...</td>\n",
       "      <td>...</td>\n",
       "      <td>...</td>\n",
       "      <td>...</td>\n",
       "      <td>...</td>\n",
       "      <td>...</td>\n",
       "      <td>...</td>\n",
       "      <td>...</td>\n",
       "      <td>...</td>\n",
       "      <td>...</td>\n",
       "      <td>...</td>\n",
       "      <td>...</td>\n",
       "      <td>...</td>\n",
       "    </tr>\n",
       "    <tr>\n",
       "      <th>230</th>\n",
       "      <td>3.3180003364</td>\n",
       "      <td>261335</td>\n",
       "      <td>243701</td>\n",
       "      <td>7402</td>\n",
       "      <td>714</td>\n",
       "      <td>2020-03-14 10:29:11.11</td>\n",
       "      <td>72</td>\n",
       "      <td>8086</td>\n",
       "      <td>17634</td>\n",
       "      <td>235615</td>\n",
       "      <td>73</td>\n",
       "      <td>20200314</td>\n",
       "      <td>00:00</td>\n",
       "      <td>2020-03-14 10:29:11.11</td>\n",
       "    </tr>\n",
       "    <tr>\n",
       "      <th>231</th>\n",
       "      <td>3.4584993086</td>\n",
       "      <td>248647</td>\n",
       "      <td>230707</td>\n",
       "      <td>7470</td>\n",
       "      <td>510</td>\n",
       "      <td>2020-03-13 10:07:22.22</td>\n",
       "      <td>67</td>\n",
       "      <td>7979</td>\n",
       "      <td>17940</td>\n",
       "      <td>222728</td>\n",
       "      <td>72</td>\n",
       "      <td>20200313</td>\n",
       "      <td>00:00</td>\n",
       "      <td>2020-03-13 10:07:22.22</td>\n",
       "    </tr>\n",
       "    <tr>\n",
       "      <th>232</th>\n",
       "      <td>3.6217442732</td>\n",
       "      <td>234998</td>\n",
       "      <td>217271</td>\n",
       "      <td>7407</td>\n",
       "      <td>333</td>\n",
       "      <td>2020-03-12 10:37:03.03</td>\n",
       "      <td>66</td>\n",
       "      <td>7869</td>\n",
       "      <td>17727</td>\n",
       "      <td>209402</td>\n",
       "      <td>71</td>\n",
       "      <td>20200312</td>\n",
       "      <td>00:00</td>\n",
       "      <td>2020-03-12 10:37:03.03</td>\n",
       "    </tr>\n",
       "    <tr>\n",
       "      <th>233</th>\n",
       "      <td>3.8041745358</td>\n",
       "      <td>222395</td>\n",
       "      <td>203855</td>\n",
       "      <td>7212</td>\n",
       "      <td>288</td>\n",
       "      <td>2020-03-11 10:17:19.19</td>\n",
       "      <td>60</td>\n",
       "      <td>7755</td>\n",
       "      <td>18540</td>\n",
       "      <td>196100</td>\n",
       "      <td>70</td>\n",
       "      <td>20200311</td>\n",
       "      <td>00:00</td>\n",
       "      <td>2020-03-11 10:17:19.19</td>\n",
       "    </tr>\n",
       "    <tr>\n",
       "      <th>234</th>\n",
       "      <td>3.9193080566</td>\n",
       "      <td>210144</td>\n",
       "      <td>191692</td>\n",
       "      <td>7165</td>\n",
       "      <td>247</td>\n",
       "      <td>2020-03-10 10:20:27.27</td>\n",
       "      <td>54</td>\n",
       "      <td>7513</td>\n",
       "      <td>18452</td>\n",
       "      <td>184179</td>\n",
       "      <td>69</td>\n",
       "      <td>20200310</td>\n",
       "      <td>00:00</td>\n",
       "      <td>2020-03-10 10:20:27.27</td>\n",
       "    </tr>\n",
       "  </tbody>\n",
       "</table>\n",
       "<p>235 rows × 14 columns</p>\n",
       "</div>"
      ],
      "text/plain": [
       "       accDefRate accExamCnt accExamCompCnt careCnt clearCnt  \\\n",
       "0    1.0203189811    2612231        2585858    1641    24227   \n",
       "1    1.0214905339    2597978        2571830    1612    24168   \n",
       "2    1.0213057839    2582960        2560056    1602    24073   \n",
       "3    1.0234678831    2567587        2544584    1593    23981   \n",
       "4    1.0252810486    2552264        2531501    1510    23905   \n",
       "..            ...        ...            ...     ...      ...   \n",
       "230  3.3180003364     261335         243701    7402      714   \n",
       "231  3.4584993086     248647         230707    7470      510   \n",
       "232  3.6217442732     234998         217271    7407      333   \n",
       "233  3.8041745358     222395         203855    7212      288   \n",
       "234  3.9193080566     210144         191692    7165      247   \n",
       "\n",
       "                   createDt deathCnt decideCnt examCnt resutlNegCnt  seq  \\\n",
       "0     2020-10-30 9:31:55.55      463     26384   26373      2559474  307   \n",
       "1     2020-10-29 9:37:57.57      462     26271   26148      2545559  306   \n",
       "2     2020-10-28 9:35:23.23      461     26146   22904      2533910  305   \n",
       "3     2020-10-27 9:38:15.15      460     26043   23003      2518541  304   \n",
       "4     2020-10-26 9:38:41.41      457     25955   20763      2505546  303   \n",
       "..                      ...      ...       ...     ...          ...  ...   \n",
       "230  2020-03-14 10:29:11.11       72      8086   17634       235615   73   \n",
       "231  2020-03-13 10:07:22.22       67      7979   17940       222728   72   \n",
       "232  2020-03-12 10:37:03.03       66      7869   17727       209402   71   \n",
       "233  2020-03-11 10:17:19.19       60      7755   18540       196100   70   \n",
       "234  2020-03-10 10:20:27.27       54      7513   18452       184179   69   \n",
       "\n",
       "      stateDt stateTime                updateDt  \n",
       "0    20201030     00:00   2020-10-30 9:31:55.55  \n",
       "1    20201029     00:00   2020-10-29 9:37:57.57  \n",
       "2    20201028     00:00   2020-10-28 9:35:23.23  \n",
       "3    20201027     00:00   2020-10-27 9:38:15.15  \n",
       "4    20201026     00:00   2020-10-26 9:38:41.41  \n",
       "..        ...       ...                     ...  \n",
       "230  20200314     00:00  2020-03-14 10:29:11.11  \n",
       "231  20200313     00:00  2020-03-13 10:07:22.22  \n",
       "232  20200312     00:00  2020-03-12 10:37:03.03  \n",
       "233  20200311     00:00  2020-03-11 10:17:19.19  \n",
       "234  20200310     00:00  2020-03-10 10:20:27.27  \n",
       "\n",
       "[235 rows x 14 columns]"
      ]
     },
     "execution_count": 31,
     "metadata": {},
     "output_type": "execute_result"
    }
   ],
   "source": [
    "df"
   ]
  },
  {
   "cell_type": "code",
   "execution_count": 136,
   "metadata": {},
   "outputs": [],
   "source": [
    "df = df.where(pd.notnull(df), None)"
   ]
  },
  {
   "cell_type": "code",
   "execution_count": 123,
   "metadata": {},
   "outputs": [
    {
     "data": {
      "text/plain": [
       "Index(['accDefRate', 'accExamCnt', 'accExamCompCnt', 'careCnt', 'clearCnt',\n",
       "       'createDt', 'deathCnt', 'decideCnt', 'examCnt', 'resutlNegCnt', 'seq',\n",
       "       'stateDt', 'stateTime', 'updateDt'],\n",
       "      dtype='object')"
      ]
     },
     "execution_count": 123,
     "metadata": {},
     "output_type": "execute_result"
    }
   ],
   "source": [
    "df.keys()"
   ]
  },
  {
   "cell_type": "markdown",
   "metadata": {},
   "source": [
    "## Database 연결 및 Create, Insert "
   ]
  },
  {
   "cell_type": "markdown",
   "metadata": {},
   "source": [
    "GRANT ALL PRIVILEGES ON *.* TO 'root'@'%' IDENTIFIED BY '12345'"
   ]
  },
  {
   "cell_type": "code",
   "execution_count": 220,
   "metadata": {},
   "outputs": [],
   "source": [
    "try:\n",
    "    con = pymysql.connect(host='192.168.56.21', user='root', port=3306, password='12345',   db='sqoop', charset='utf8')\n",
    "    cur = con.cursor()\n",
    "except Exception as e:\n",
    "    print (e)"
   ]
  },
  {
   "cell_type": "code",
   "execution_count": 221,
   "metadata": {},
   "outputs": [
    {
     "name": "stdout",
     "output_type": "stream",
     "text": [
      "accDefRate, accExamCnt, accExamCompCnt, careCnt, clearCnt, createDt, deathCnt, decideCnt, examCnt, resutlNegCnt, seq, stateDt, stateTime, updateDt, "
     ]
    }
   ],
   "source": [
    "for name in df.keys():\n",
    "    print(name , end=\", \")"
   ]
  },
  {
   "cell_type": "code",
   "execution_count": 222,
   "metadata": {},
   "outputs": [],
   "source": [
    "create_table = \"\"\"\n",
    "    CREATE TABLE covid19 (\n",
    "        `accDefRate` DOUBLE(15,10),\n",
    "        `accExamCnt` INT(4),\n",
    "        `accExamCompCnt` INT(4),\n",
    "        `careCnt`      INT(4),\n",
    "        `clearCnt`     INT(4),\n",
    "        `createDt`     DATETIME, \n",
    "        `deathCnt`     INT(4),\n",
    "        `decideCnt`    INT(4),\n",
    "        `examCnt`      INT(4),\n",
    "        `resutlNegCnt` INT(4),\n",
    "        `seq`          INT(4),\n",
    "        `stateDt`      DATE,\n",
    "        `stateTime`    TIME,\n",
    "        `updateDt`     DATETIME\n",
    "    ) \n",
    "\"\"\""
   ]
  },
  {
   "cell_type": "code",
   "execution_count": 223,
   "metadata": {},
   "outputs": [
    {
     "name": "stdout",
     "output_type": "stream",
     "text": [
      "\n",
      "    CREATE TABLE covid19 (\n",
      "        `accDefRate` DOUBLE(15,10),\n",
      "        `accExamCnt` INT(4),\n",
      "        `accExamCompCnt` INT(4),\n",
      "        `careCnt`      INT(4),\n",
      "        `clearCnt`     INT(4),\n",
      "        `createDt`     DATETIME, \n",
      "        `deathCnt`     INT(4),\n",
      "        `decideCnt`    INT(4),\n",
      "        `examCnt`      INT(4),\n",
      "        `resutlNegCnt` INT(4),\n",
      "        `seq`          INT(4),\n",
      "        `stateDt`      DATE,\n",
      "        `stateTime`    TIME,\n",
      "        `updateDt`     DATETIME\n",
      "    ) \n",
      "\n"
     ]
    }
   ],
   "source": [
    "print(create_table)"
   ]
  },
  {
   "cell_type": "code",
   "execution_count": 224,
   "metadata": {},
   "outputs": [
    {
     "data": {
      "text/plain": [
       "0"
      ]
     },
     "execution_count": 224,
     "metadata": {},
     "output_type": "execute_result"
    }
   ],
   "source": [
    "cur.execute(create_table)"
   ]
  },
  {
   "cell_type": "code",
   "execution_count": 225,
   "metadata": {},
   "outputs": [],
   "source": [
    "con.commit()"
   ]
  },
  {
   "cell_type": "code",
   "execution_count": 192,
   "metadata": {},
   "outputs": [],
   "source": [
    "sql = \"\"\"INSERT INTO covid19 (accDefRate, accExamCnt, accExamCompCnt, \n",
    "         careCnt, clearCnt, createDt, deathCnt, decideCnt, examCnt, resutlNegCnt, seq, stateDt, stateTime, updateDt) VALUES\n",
    "         (%s, %s, %s, %s, %s, %s, %s, %s, %s, %s, %s, %s, %s, %s)\n",
    "\"\"\""
   ]
  },
  {
   "cell_type": "code",
   "execution_count": 226,
   "metadata": {},
   "outputs": [],
   "source": [
    "for row in df.iterrows():\n",
    "    #accDefRate, accExamCnt, accExamCompCnt, careCnt, \\\n",
    "    #clearCnt, createDt, deathCnt, decideCnt, examCnt, resutlNegCnt, seq, stateDt, stateTime, updateDt = row[1]\n",
    "    cur.execute(sql, row[1].tolist())\n",
    "con.commit()"
   ]
  },
  {
   "cell_type": "code",
   "execution_count": 194,
   "metadata": {},
   "outputs": [],
   "source": []
  },
  {
   "cell_type": "code",
   "execution_count": null,
   "metadata": {},
   "outputs": [],
   "source": []
  }
 ],
 "metadata": {
  "kernelspec": {
   "display_name": "Python 3",
   "language": "python",
   "name": "python3"
  },
  "language_info": {
   "codemirror_mode": {
    "name": "ipython",
    "version": 3
   },
   "file_extension": ".py",
   "mimetype": "text/x-python",
   "name": "python",
   "nbconvert_exporter": "python",
   "pygments_lexer": "ipython3",
   "version": "3.8.5"
  }
 },
 "nbformat": 4,
 "nbformat_minor": 4
}
