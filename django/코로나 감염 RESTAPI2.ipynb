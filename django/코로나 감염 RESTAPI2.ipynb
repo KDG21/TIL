{
 "cells": [
  {
   "cell_type": "code",
   "execution_count": 233,
   "metadata": {},
   "outputs": [],
   "source": [
    "import requests\n",
    "import xml.etree.ElementTree as ET\n",
    "import pandas as pd\n",
    "from urllib import parse\n",
    "import pymysql"
   ]
  },
  {
   "cell_type": "code",
   "execution_count": 234,
   "metadata": {},
   "outputs": [],
   "source": [
    "key = \"WRvGBkn9UEtw%2BAsg0tYo210Etxvb1QEcAX%2BwfWvOxVGYJkh1CNZ%2FY4QFa0r7j4bhT4NjPu7z1i1ck8ZgsKMt2Q%3D%3D\""
   ]
  },
  {
   "cell_type": "code",
   "execution_count": 235,
   "metadata": {},
   "outputs": [],
   "source": [
    "url = \"http://openapi.data.go.kr/openapi/service/rest/Covid19/getCovid19InfStateJson?serviceKey=WRvGBkn9UEtw%2BAsg0tYo210Etxvb1QEcAX%2BwfWvOxVGYJkh1CNZ%2FY4QFa0r7j4bhT4NjPu7z1i1ck8ZgsKMt2Q%3D%3D&pageNo=1&numOfRows=10&startCreateDt=20200101&endCreateDt=20210407\""
   ]
  },
  {
   "cell_type": "markdown",
   "metadata": {},
   "source": [
    "## xml 파싱"
   ]
  },
  {
   "cell_type": "code",
   "execution_count": 236,
   "metadata": {},
   "outputs": [],
   "source": [
    "r = requests.get(url)"
   ]
  },
  {
   "cell_type": "code",
   "execution_count": 237,
   "metadata": {},
   "outputs": [
    {
     "data": {
      "text/plain": [
       "'http://openapi.data.go.kr/openapi/service/rest/Covid19/getCovid19InfStateJson?serviceKey=WRvGBkn9UEtw%2BAsg0tYo210Etxvb1QEcAX%2BwfWvOxVGYJkh1CNZ%2FY4QFa0r7j4bhT4NjPu7z1i1ck8ZgsKMt2Q%3D%3D&pageNo=1&numOfRows=10&startCreateDt=20200101&endCreateDt=20210407'"
      ]
     },
     "execution_count": 237,
     "metadata": {},
     "output_type": "execute_result"
    }
   ],
   "source": [
    "r.url"
   ]
  },
  {
   "cell_type": "code",
   "execution_count": 238,
   "metadata": {},
   "outputs": [],
   "source": [
    "root = ET.fromstring(r.text)"
   ]
  },
  {
   "cell_type": "code",
   "execution_count": 239,
   "metadata": {},
   "outputs": [],
   "source": [
    "total = []\n",
    "items = root.iter(tag='item')\n",
    "for element in items:\n",
    "    #print(element.find(\"accDefRate\").text)\n",
    "    covid_dict = {}\n",
    "    for x in element:\n",
    "        covid_dict[x.tag] = x.text\n",
    "    total.append(covid_dict)"
   ]
  },
  {
   "cell_type": "code",
   "execution_count": 240,
   "metadata": {},
   "outputs": [
    {
     "data": {
      "text/plain": [
       "433"
      ]
     },
     "execution_count": 240,
     "metadata": {},
     "output_type": "execute_result"
    }
   ],
   "source": [
    "len(total)"
   ]
  },
  {
   "cell_type": "code",
   "execution_count": 241,
   "metadata": {},
   "outputs": [],
   "source": [
    "df = pd.DataFrame(total)"
   ]
  },
  {
   "cell_type": "code",
   "execution_count": 242,
   "metadata": {},
   "outputs": [
    {
     "data": {
      "text/html": [
       "<div>\n",
       "<style scoped>\n",
       "    .dataframe tbody tr th:only-of-type {\n",
       "        vertical-align: middle;\n",
       "    }\n",
       "\n",
       "    .dataframe tbody tr th {\n",
       "        vertical-align: top;\n",
       "    }\n",
       "\n",
       "    .dataframe thead th {\n",
       "        text-align: right;\n",
       "    }\n",
       "</style>\n",
       "<table border=\"1\" class=\"dataframe\">\n",
       "  <thead>\n",
       "    <tr style=\"text-align: right;\">\n",
       "      <th></th>\n",
       "      <th>accDefRate</th>\n",
       "      <th>accExamCnt</th>\n",
       "      <th>accExamCompCnt</th>\n",
       "      <th>careCnt</th>\n",
       "      <th>clearCnt</th>\n",
       "      <th>createDt</th>\n",
       "      <th>deathCnt</th>\n",
       "      <th>decideCnt</th>\n",
       "      <th>examCnt</th>\n",
       "      <th>resutlNegCnt</th>\n",
       "      <th>seq</th>\n",
       "      <th>stateDt</th>\n",
       "      <th>stateTime</th>\n",
       "      <th>updateDt</th>\n",
       "    </tr>\n",
       "  </thead>\n",
       "  <tbody>\n",
       "    <tr>\n",
       "      <th>0</th>\n",
       "      <td>1.3545924266</td>\n",
       "      <td>7966167</td>\n",
       "      <td>7891525</td>\n",
       "      <td>7214</td>\n",
       "      <td>97928</td>\n",
       "      <td>2021-04-07 09:37:24.979</td>\n",
       "      <td>1756</td>\n",
       "      <td>106898</td>\n",
       "      <td>74642</td>\n",
       "      <td>7784627</td>\n",
       "      <td>473</td>\n",
       "      <td>20210407</td>\n",
       "      <td>00:00</td>\n",
       "      <td>null</td>\n",
       "    </tr>\n",
       "    <tr>\n",
       "      <th>1</th>\n",
       "      <td>1.3546056016</td>\n",
       "      <td>7921290</td>\n",
       "      <td>7842135</td>\n",
       "      <td>7115</td>\n",
       "      <td>97363</td>\n",
       "      <td>2021-04-06 09:31:57.498</td>\n",
       "      <td>1752</td>\n",
       "      <td>106230</td>\n",
       "      <td>79155</td>\n",
       "      <td>7735905</td>\n",
       "      <td>472</td>\n",
       "      <td>20210406</td>\n",
       "      <td>00:00</td>\n",
       "      <td>2021-04-06 19:12:35.607</td>\n",
       "    </tr>\n",
       "  </tbody>\n",
       "</table>\n",
       "</div>"
      ],
      "text/plain": [
       "     accDefRate accExamCnt accExamCompCnt careCnt clearCnt  \\\n",
       "0  1.3545924266    7966167        7891525    7214    97928   \n",
       "1  1.3546056016    7921290        7842135    7115    97363   \n",
       "\n",
       "                  createDt deathCnt decideCnt examCnt resutlNegCnt  seq  \\\n",
       "0  2021-04-07 09:37:24.979     1756    106898   74642      7784627  473   \n",
       "1  2021-04-06 09:31:57.498     1752    106230   79155      7735905  472   \n",
       "\n",
       "    stateDt stateTime                 updateDt  \n",
       "0  20210407     00:00                     null  \n",
       "1  20210406     00:00  2021-04-06 19:12:35.607  "
      ]
     },
     "execution_count": 242,
     "metadata": {},
     "output_type": "execute_result"
    }
   ],
   "source": [
    "df.head(2)"
   ]
  },
  {
   "cell_type": "markdown",
   "metadata": {},
   "source": [
    "* null로 들어오는 값 처리 "
   ]
  },
  {
   "cell_type": "code",
   "execution_count": 243,
   "metadata": {},
   "outputs": [],
   "source": [
    "df = df.where(~(df == \"null\"), None)"
   ]
  },
  {
   "cell_type": "markdown",
   "metadata": {},
   "source": [
    "* 사용할 컬럼 정렬"
   ]
  },
  {
   "cell_type": "code",
   "execution_count": 244,
   "metadata": {},
   "outputs": [
    {
     "data": {
      "text/plain": [
       "Index(['accDefRate', 'accExamCnt', 'accExamCompCnt', 'careCnt', 'clearCnt',\n",
       "       'createDt', 'deathCnt', 'decideCnt', 'examCnt', 'resutlNegCnt', 'seq',\n",
       "       'stateDt', 'stateTime', 'updateDt'],\n",
       "      dtype='object')"
      ]
     },
     "execution_count": 244,
     "metadata": {},
     "output_type": "execute_result"
    }
   ],
   "source": [
    "df.keys()"
   ]
  },
  {
   "cell_type": "code",
   "execution_count": 245,
   "metadata": {},
   "outputs": [],
   "source": [
    "col = ['createDt', 'decideCnt', 'deathCnt', 'accExamCompCnt' ]"
   ]
  },
  {
   "cell_type": "code",
   "execution_count": 246,
   "metadata": {},
   "outputs": [],
   "source": [
    "분석대상 = df[col].copy()"
   ]
  },
  {
   "cell_type": "code",
   "execution_count": 247,
   "metadata": {},
   "outputs": [],
   "source": [
    "분석대상.columns = ['생성일', '확진자', '사망자', '검사완료']"
   ]
  },
  {
   "cell_type": "code",
   "execution_count": 248,
   "metadata": {},
   "outputs": [
    {
     "data": {
      "text/html": [
       "<div>\n",
       "<style scoped>\n",
       "    .dataframe tbody tr th:only-of-type {\n",
       "        vertical-align: middle;\n",
       "    }\n",
       "\n",
       "    .dataframe tbody tr th {\n",
       "        vertical-align: top;\n",
       "    }\n",
       "\n",
       "    .dataframe thead th {\n",
       "        text-align: right;\n",
       "    }\n",
       "</style>\n",
       "<table border=\"1\" class=\"dataframe\">\n",
       "  <thead>\n",
       "    <tr style=\"text-align: right;\">\n",
       "      <th></th>\n",
       "      <th>생성일</th>\n",
       "      <th>확진자</th>\n",
       "      <th>사망자</th>\n",
       "      <th>검사완료</th>\n",
       "    </tr>\n",
       "  </thead>\n",
       "  <tbody>\n",
       "    <tr>\n",
       "      <th>0</th>\n",
       "      <td>2021-04-07 09:37:24.979</td>\n",
       "      <td>106898</td>\n",
       "      <td>1756</td>\n",
       "      <td>7891525</td>\n",
       "    </tr>\n",
       "    <tr>\n",
       "      <th>1</th>\n",
       "      <td>2021-04-06 09:31:57.498</td>\n",
       "      <td>106230</td>\n",
       "      <td>1752</td>\n",
       "      <td>7842135</td>\n",
       "    </tr>\n",
       "    <tr>\n",
       "      <th>2</th>\n",
       "      <td>2021-04-05 09:44:27.235</td>\n",
       "      <td>105752</td>\n",
       "      <td>1748</td>\n",
       "      <td>7788323</td>\n",
       "    </tr>\n",
       "    <tr>\n",
       "      <th>3</th>\n",
       "      <td>2021-04-04 09:45:05.147</td>\n",
       "      <td>105279</td>\n",
       "      <td>1744</td>\n",
       "      <td>7769677</td>\n",
       "    </tr>\n",
       "    <tr>\n",
       "      <th>4</th>\n",
       "      <td>2021-04-03 09:34:03.806</td>\n",
       "      <td>104736</td>\n",
       "      <td>1740</td>\n",
       "      <td>7754313</td>\n",
       "    </tr>\n",
       "    <tr>\n",
       "      <th>...</th>\n",
       "      <td>...</td>\n",
       "      <td>...</td>\n",
       "      <td>...</td>\n",
       "      <td>...</td>\n",
       "    </tr>\n",
       "    <tr>\n",
       "      <th>428</th>\n",
       "      <td>2020-02-03 21:26:59.59</td>\n",
       "      <td>0</td>\n",
       "      <td>0</td>\n",
       "      <td>NaN</td>\n",
       "    </tr>\n",
       "    <tr>\n",
       "      <th>429</th>\n",
       "      <td>2020-02-03 14:41:17.17</td>\n",
       "      <td>15</td>\n",
       "      <td>0</td>\n",
       "      <td>NaN</td>\n",
       "    </tr>\n",
       "    <tr>\n",
       "      <th>430</th>\n",
       "      <td>2020-02-03 12:22:49.49</td>\n",
       "      <td>2</td>\n",
       "      <td>2</td>\n",
       "      <td>NaN</td>\n",
       "    </tr>\n",
       "    <tr>\n",
       "      <th>431</th>\n",
       "      <td>2020-01-31 17:47:33.33</td>\n",
       "      <td>0</td>\n",
       "      <td>0</td>\n",
       "      <td>NaN</td>\n",
       "    </tr>\n",
       "    <tr>\n",
       "      <th>432</th>\n",
       "      <td>2020-01-31 17:47:33.33</td>\n",
       "      <td>0</td>\n",
       "      <td>0</td>\n",
       "      <td>NaN</td>\n",
       "    </tr>\n",
       "  </tbody>\n",
       "</table>\n",
       "<p>433 rows × 4 columns</p>\n",
       "</div>"
      ],
      "text/plain": [
       "                         생성일     확진자   사망자     검사완료\n",
       "0    2021-04-07 09:37:24.979  106898  1756  7891525\n",
       "1    2021-04-06 09:31:57.498  106230  1752  7842135\n",
       "2    2021-04-05 09:44:27.235  105752  1748  7788323\n",
       "3    2021-04-04 09:45:05.147  105279  1744  7769677\n",
       "4    2021-04-03 09:34:03.806  104736  1740  7754313\n",
       "..                       ...     ...   ...      ...\n",
       "428   2020-02-03 21:26:59.59       0     0      NaN\n",
       "429   2020-02-03 14:41:17.17      15     0      NaN\n",
       "430   2020-02-03 12:22:49.49       2     2      NaN\n",
       "431   2020-01-31 17:47:33.33       0     0      NaN\n",
       "432   2020-01-31 17:47:33.33       0     0      NaN\n",
       "\n",
       "[433 rows x 4 columns]"
      ]
     },
     "execution_count": 248,
     "metadata": {},
     "output_type": "execute_result"
    }
   ],
   "source": [
    "분석대상"
   ]
  },
  {
   "cell_type": "code",
   "execution_count": 249,
   "metadata": {},
   "outputs": [],
   "source": [
    "분석대상['날짜'] = 분석대상['생성일'].apply(lambda x : x.split()[0])"
   ]
  },
  {
   "cell_type": "markdown",
   "metadata": {},
   "source": [
    "* 중복 데이터 확인"
   ]
  },
  {
   "cell_type": "code",
   "execution_count": 250,
   "metadata": {},
   "outputs": [
    {
     "data": {
      "text/html": [
       "<div>\n",
       "<style scoped>\n",
       "    .dataframe tbody tr th:only-of-type {\n",
       "        vertical-align: middle;\n",
       "    }\n",
       "\n",
       "    .dataframe tbody tr th {\n",
       "        vertical-align: top;\n",
       "    }\n",
       "\n",
       "    .dataframe thead th {\n",
       "        text-align: right;\n",
       "    }\n",
       "</style>\n",
       "<table border=\"1\" class=\"dataframe\">\n",
       "  <thead>\n",
       "    <tr style=\"text-align: right;\">\n",
       "      <th></th>\n",
       "      <th>생성일</th>\n",
       "      <th>확진자</th>\n",
       "      <th>사망자</th>\n",
       "      <th>검사완료</th>\n",
       "      <th>날짜</th>\n",
       "    </tr>\n",
       "  </thead>\n",
       "  <tbody>\n",
       "    <tr>\n",
       "      <th>110</th>\n",
       "      <td>2020-12-19 9:39:07.07</td>\n",
       "      <td>47517</td>\n",
       "      <td>645</td>\n",
       "      <td>3479179</td>\n",
       "      <td>2020-12-19</td>\n",
       "    </tr>\n",
       "    <tr>\n",
       "      <th>120</th>\n",
       "      <td>2020-12-09 9:44:26.26</td>\n",
       "      <td>39417</td>\n",
       "      <td>556</td>\n",
       "      <td>3178141</td>\n",
       "      <td>2020-12-09</td>\n",
       "    </tr>\n",
       "    <tr>\n",
       "      <th>233</th>\n",
       "      <td>2020-08-18 9:12:23.23</td>\n",
       "      <td>15515</td>\n",
       "      <td>305</td>\n",
       "      <td>1665506</td>\n",
       "      <td>2020-08-18</td>\n",
       "    </tr>\n",
       "    <tr>\n",
       "      <th>429</th>\n",
       "      <td>2020-02-03 14:41:17.17</td>\n",
       "      <td>15</td>\n",
       "      <td>0</td>\n",
       "      <td>NaN</td>\n",
       "      <td>2020-02-03</td>\n",
       "    </tr>\n",
       "    <tr>\n",
       "      <th>430</th>\n",
       "      <td>2020-02-03 12:22:49.49</td>\n",
       "      <td>2</td>\n",
       "      <td>2</td>\n",
       "      <td>NaN</td>\n",
       "      <td>2020-02-03</td>\n",
       "    </tr>\n",
       "    <tr>\n",
       "      <th>432</th>\n",
       "      <td>2020-01-31 17:47:33.33</td>\n",
       "      <td>0</td>\n",
       "      <td>0</td>\n",
       "      <td>NaN</td>\n",
       "      <td>2020-01-31</td>\n",
       "    </tr>\n",
       "  </tbody>\n",
       "</table>\n",
       "</div>"
      ],
      "text/plain": [
       "                        생성일    확진자  사망자     검사완료          날짜\n",
       "110   2020-12-19 9:39:07.07  47517  645  3479179  2020-12-19\n",
       "120   2020-12-09 9:44:26.26  39417  556  3178141  2020-12-09\n",
       "233   2020-08-18 9:12:23.23  15515  305  1665506  2020-08-18\n",
       "429  2020-02-03 14:41:17.17     15    0      NaN  2020-02-03\n",
       "430  2020-02-03 12:22:49.49      2    2      NaN  2020-02-03\n",
       "432  2020-01-31 17:47:33.33      0    0      NaN  2020-01-31"
      ]
     },
     "execution_count": 250,
     "metadata": {},
     "output_type": "execute_result"
    }
   ],
   "source": [
    "분석대상[분석대상['날짜'].duplicated()]"
   ]
  },
  {
   "cell_type": "code",
   "execution_count": 251,
   "metadata": {},
   "outputs": [],
   "source": [
    "분석대상.sort_values(by=['생성일'], inplace=True)"
   ]
  },
  {
   "cell_type": "code",
   "execution_count": 252,
   "metadata": {},
   "outputs": [
    {
     "data": {
      "text/plain": [
       "(433, 5)"
      ]
     },
     "execution_count": 252,
     "metadata": {},
     "output_type": "execute_result"
    }
   ],
   "source": [
    "분석대상.shape"
   ]
  },
  {
   "cell_type": "markdown",
   "metadata": {},
   "source": [
    "nth()"
   ]
  },
  {
   "cell_type": "code",
   "execution_count": 253,
   "metadata": {},
   "outputs": [],
   "source": [
    "분석대상 = 분석대상.groupby(\"날짜\").nth(0).reset_index()"
   ]
  },
  {
   "cell_type": "code",
   "execution_count": 254,
   "metadata": {},
   "outputs": [],
   "source": [
    "분석대상 = 분석대상.groupby(\"날짜\").first().reset_index()"
   ]
  },
  {
   "cell_type": "code",
   "execution_count": 255,
   "metadata": {},
   "outputs": [
    {
     "data": {
      "text/html": [
       "<div>\n",
       "<style scoped>\n",
       "    .dataframe tbody tr th:only-of-type {\n",
       "        vertical-align: middle;\n",
       "    }\n",
       "\n",
       "    .dataframe tbody tr th {\n",
       "        vertical-align: top;\n",
       "    }\n",
       "\n",
       "    .dataframe thead th {\n",
       "        text-align: right;\n",
       "    }\n",
       "</style>\n",
       "<table border=\"1\" class=\"dataframe\">\n",
       "  <thead>\n",
       "    <tr style=\"text-align: right;\">\n",
       "      <th></th>\n",
       "      <th>날짜</th>\n",
       "      <th>생성일</th>\n",
       "      <th>확진자</th>\n",
       "      <th>사망자</th>\n",
       "      <th>검사완료</th>\n",
       "    </tr>\n",
       "  </thead>\n",
       "  <tbody>\n",
       "    <tr>\n",
       "      <th>317</th>\n",
       "      <td>2020-12-19</td>\n",
       "      <td>2020-12-19 10:32:55.55</td>\n",
       "      <td>48563</td>\n",
       "      <td>659</td>\n",
       "      <td>3520008</td>\n",
       "    </tr>\n",
       "  </tbody>\n",
       "</table>\n",
       "</div>"
      ],
      "text/plain": [
       "             날짜                     생성일    확진자  사망자     검사완료\n",
       "317  2020-12-19  2020-12-19 10:32:55.55  48563  659  3520008"
      ]
     },
     "execution_count": 255,
     "metadata": {},
     "output_type": "execute_result"
    }
   ],
   "source": [
    "분석대상.query(\" 날짜 == '2020-12-19'\")"
   ]
  },
  {
   "cell_type": "markdown",
   "metadata": {},
   "source": [
    "* 파생변수 만들기 "
   ]
  },
  {
   "cell_type": "code",
   "execution_count": 256,
   "metadata": {},
   "outputs": [
    {
     "data": {
      "text/html": [
       "<div>\n",
       "<style scoped>\n",
       "    .dataframe tbody tr th:only-of-type {\n",
       "        vertical-align: middle;\n",
       "    }\n",
       "\n",
       "    .dataframe tbody tr th {\n",
       "        vertical-align: top;\n",
       "    }\n",
       "\n",
       "    .dataframe thead th {\n",
       "        text-align: right;\n",
       "    }\n",
       "</style>\n",
       "<table border=\"1\" class=\"dataframe\">\n",
       "  <thead>\n",
       "    <tr style=\"text-align: right;\">\n",
       "      <th></th>\n",
       "      <th>날짜</th>\n",
       "      <th>생성일</th>\n",
       "      <th>확진자</th>\n",
       "      <th>사망자</th>\n",
       "      <th>검사완료</th>\n",
       "    </tr>\n",
       "  </thead>\n",
       "  <tbody>\n",
       "    <tr>\n",
       "      <th>422</th>\n",
       "      <td>2021-04-03</td>\n",
       "      <td>2021-04-03 09:34:03.806</td>\n",
       "      <td>104736</td>\n",
       "      <td>1740</td>\n",
       "      <td>7754313</td>\n",
       "    </tr>\n",
       "    <tr>\n",
       "      <th>423</th>\n",
       "      <td>2021-04-04</td>\n",
       "      <td>2021-04-04 09:45:05.147</td>\n",
       "      <td>105279</td>\n",
       "      <td>1744</td>\n",
       "      <td>7769677</td>\n",
       "    </tr>\n",
       "    <tr>\n",
       "      <th>424</th>\n",
       "      <td>2021-04-05</td>\n",
       "      <td>2021-04-05 09:44:27.235</td>\n",
       "      <td>105752</td>\n",
       "      <td>1748</td>\n",
       "      <td>7788323</td>\n",
       "    </tr>\n",
       "    <tr>\n",
       "      <th>425</th>\n",
       "      <td>2021-04-06</td>\n",
       "      <td>2021-04-06 09:31:57.498</td>\n",
       "      <td>106230</td>\n",
       "      <td>1752</td>\n",
       "      <td>7842135</td>\n",
       "    </tr>\n",
       "    <tr>\n",
       "      <th>426</th>\n",
       "      <td>2021-04-07</td>\n",
       "      <td>2021-04-07 09:37:24.979</td>\n",
       "      <td>106898</td>\n",
       "      <td>1756</td>\n",
       "      <td>7891525</td>\n",
       "    </tr>\n",
       "  </tbody>\n",
       "</table>\n",
       "</div>"
      ],
      "text/plain": [
       "             날짜                      생성일     확진자   사망자     검사완료\n",
       "422  2021-04-03  2021-04-03 09:34:03.806  104736  1740  7754313\n",
       "423  2021-04-04  2021-04-04 09:45:05.147  105279  1744  7769677\n",
       "424  2021-04-05  2021-04-05 09:44:27.235  105752  1748  7788323\n",
       "425  2021-04-06  2021-04-06 09:31:57.498  106230  1752  7842135\n",
       "426  2021-04-07  2021-04-07 09:37:24.979  106898  1756  7891525"
      ]
     },
     "execution_count": 256,
     "metadata": {},
     "output_type": "execute_result"
    }
   ],
   "source": [
    "분석대상.tail()"
   ]
  },
  {
   "cell_type": "code",
   "execution_count": 257,
   "metadata": {},
   "outputs": [],
   "source": [
    "분석대상['확진자'] = 분석대상['확진자'].astype(int)\n",
    "분석대상['확진자'] =분석대상['확진자'].diff(1)\n",
    "분석대상['확진자'] =분석대상['확진자'].shift(-1)"
   ]
  },
  {
   "cell_type": "code",
   "execution_count": 258,
   "metadata": {},
   "outputs": [],
   "source": [
    "분석대상['사망자'] = 분석대상['사망자'].astype(int)\n",
    "분석대상['사망자'] =분석대상['사망자'].diff(1)\n",
    "분석대상['사망자'] =분석대상['사망자'].shift(-1)"
   ]
  },
  {
   "cell_type": "code",
   "execution_count": 259,
   "metadata": {},
   "outputs": [],
   "source": [
    "분석대상['검사완료'].fillna(0, inplace=True)\n",
    "분석대상['검사완료'] = 분석대상['검사완료'].astype(int)\n",
    "분석대상['검사완료'] =분석대상['검사완료'].diff(1)\n",
    "분석대상['검사완료'] =분석대상['검사완료'].shift(-1)"
   ]
  },
  {
   "cell_type": "code",
   "execution_count": 260,
   "metadata": {},
   "outputs": [],
   "source": [
    "df2 = 분석대상.copy()"
   ]
  },
  {
   "cell_type": "markdown",
   "metadata": {},
   "source": [
    "## Database 연결 및 Create, Insert "
   ]
  },
  {
   "cell_type": "markdown",
   "metadata": {},
   "source": [
    "GRANT ALL PRIVILEGES ON *.* TO 'root'@'%' IDENTIFIED BY '12345'"
   ]
  },
  {
   "cell_type": "code",
   "execution_count": 261,
   "metadata": {},
   "outputs": [],
   "source": [
    "try:\n",
    "    con = pymysql.connect(host='13.125.69.29', user='root', port=3306, password='1q2w3e',   db='chart', charset='utf8')\n",
    "    cur = con.cursor()\n",
    "except Exception as e:\n",
    "    print (e)   "
   ]
  },
  {
   "cell_type": "code",
   "execution_count": 262,
   "metadata": {},
   "outputs": [
    {
     "name": "stdout",
     "output_type": "stream",
     "text": [
      "날짜, 생성일, 확진자, 사망자, 검사완료, "
     ]
    }
   ],
   "source": [
    "for name in df2.keys():\n",
    "    print(name , end=\", \")"
   ]
  },
  {
   "cell_type": "code",
   "execution_count": 263,
   "metadata": {},
   "outputs": [
    {
     "data": {
      "text/plain": [
       "('createDt', 'decideCnt', 'deathCnt', 'accExamCompCnt')"
      ]
     },
     "execution_count": 263,
     "metadata": {},
     "output_type": "execute_result"
    }
   ],
   "source": [
    "'createDt', 'decideCnt', 'deathCnt', 'accExamCompCnt'"
   ]
  },
  {
   "cell_type": "code",
   "execution_count": 264,
   "metadata": {},
   "outputs": [],
   "source": [
    "create_table = \"\"\"\n",
    "    CREATE TABLE covid19 (\n",
    "        `id`  int(10) NOT NULL AUTO_INCREMENT,\n",
    "        `createDt`     DATETIME, \n",
    "        `decideCnt`    INT(4),\n",
    "        `deathCnt`     INT(4),\n",
    "        `accExamCompCnt` INT(4),\n",
    "        PRIMARY KEY (`id`)\n",
    "    ) \n",
    "\"\"\""
   ]
  },
  {
   "cell_type": "code",
   "execution_count": 265,
   "metadata": {},
   "outputs": [
    {
     "data": {
      "text/plain": [
       "0"
      ]
     },
     "execution_count": 265,
     "metadata": {},
     "output_type": "execute_result"
    }
   ],
   "source": [
    "cur.execute(create_table)"
   ]
  },
  {
   "cell_type": "code",
   "execution_count": 266,
   "metadata": {},
   "outputs": [],
   "source": [
    "con.commit()"
   ]
  },
  {
   "cell_type": "code",
   "execution_count": 267,
   "metadata": {},
   "outputs": [],
   "source": [
    "sql = \"\"\"INSERT INTO covid19 (createDt, decideCnt, deathCnt, accExamCompCnt) VALUES\n",
    "         (%s, %s, %s, %s)\n",
    "\"\"\""
   ]
  },
  {
   "cell_type": "code",
   "execution_count": 268,
   "metadata": {},
   "outputs": [
    {
     "data": {
      "text/html": [
       "<div>\n",
       "<style scoped>\n",
       "    .dataframe tbody tr th:only-of-type {\n",
       "        vertical-align: middle;\n",
       "    }\n",
       "\n",
       "    .dataframe tbody tr th {\n",
       "        vertical-align: top;\n",
       "    }\n",
       "\n",
       "    .dataframe thead th {\n",
       "        text-align: right;\n",
       "    }\n",
       "</style>\n",
       "<table border=\"1\" class=\"dataframe\">\n",
       "  <thead>\n",
       "    <tr style=\"text-align: right;\">\n",
       "      <th></th>\n",
       "      <th>날짜</th>\n",
       "      <th>생성일</th>\n",
       "      <th>확진자</th>\n",
       "      <th>사망자</th>\n",
       "      <th>검사완료</th>\n",
       "    </tr>\n",
       "  </thead>\n",
       "  <tbody>\n",
       "    <tr>\n",
       "      <th>0</th>\n",
       "      <td>2020-01-31</td>\n",
       "      <td>2020-01-31 17:47:33.33</td>\n",
       "      <td>2.0</td>\n",
       "      <td>2.0</td>\n",
       "      <td>0.0</td>\n",
       "    </tr>\n",
       "    <tr>\n",
       "      <th>1</th>\n",
       "      <td>2020-02-03</td>\n",
       "      <td>2020-02-03 12:22:49.49</td>\n",
       "      <td>17.0</td>\n",
       "      <td>-2.0</td>\n",
       "      <td>0.0</td>\n",
       "    </tr>\n",
       "    <tr>\n",
       "      <th>2</th>\n",
       "      <td>2020-02-05</td>\n",
       "      <td>2020-02-05 20:05:40.40</td>\n",
       "      <td>4.0</td>\n",
       "      <td>0.0</td>\n",
       "      <td>0.0</td>\n",
       "    </tr>\n",
       "    <tr>\n",
       "      <th>3</th>\n",
       "      <td>2020-02-06</td>\n",
       "      <td>2020-02-06 9:09:49.49</td>\n",
       "      <td>1.0</td>\n",
       "      <td>0.0</td>\n",
       "      <td>0.0</td>\n",
       "    </tr>\n",
       "    <tr>\n",
       "      <th>4</th>\n",
       "      <td>2020-02-07</td>\n",
       "      <td>2020-02-07 17:20:45.45</td>\n",
       "      <td>0.0</td>\n",
       "      <td>0.0</td>\n",
       "      <td>0.0</td>\n",
       "    </tr>\n",
       "    <tr>\n",
       "      <th>...</th>\n",
       "      <td>...</td>\n",
       "      <td>...</td>\n",
       "      <td>...</td>\n",
       "      <td>...</td>\n",
       "      <td>...</td>\n",
       "    </tr>\n",
       "    <tr>\n",
       "      <th>422</th>\n",
       "      <td>2021-04-03</td>\n",
       "      <td>2021-04-03 09:34:03.806</td>\n",
       "      <td>543.0</td>\n",
       "      <td>4.0</td>\n",
       "      <td>15364.0</td>\n",
       "    </tr>\n",
       "    <tr>\n",
       "      <th>423</th>\n",
       "      <td>2021-04-04</td>\n",
       "      <td>2021-04-04 09:45:05.147</td>\n",
       "      <td>473.0</td>\n",
       "      <td>4.0</td>\n",
       "      <td>18646.0</td>\n",
       "    </tr>\n",
       "    <tr>\n",
       "      <th>424</th>\n",
       "      <td>2021-04-05</td>\n",
       "      <td>2021-04-05 09:44:27.235</td>\n",
       "      <td>478.0</td>\n",
       "      <td>4.0</td>\n",
       "      <td>53812.0</td>\n",
       "    </tr>\n",
       "    <tr>\n",
       "      <th>425</th>\n",
       "      <td>2021-04-06</td>\n",
       "      <td>2021-04-06 09:31:57.498</td>\n",
       "      <td>668.0</td>\n",
       "      <td>4.0</td>\n",
       "      <td>49390.0</td>\n",
       "    </tr>\n",
       "    <tr>\n",
       "      <th>426</th>\n",
       "      <td>2021-04-07</td>\n",
       "      <td>2021-04-07 09:37:24.979</td>\n",
       "      <td>NaN</td>\n",
       "      <td>NaN</td>\n",
       "      <td>NaN</td>\n",
       "    </tr>\n",
       "  </tbody>\n",
       "</table>\n",
       "<p>427 rows × 5 columns</p>\n",
       "</div>"
      ],
      "text/plain": [
       "             날짜                      생성일    확진자  사망자     검사완료\n",
       "0    2020-01-31   2020-01-31 17:47:33.33    2.0  2.0      0.0\n",
       "1    2020-02-03   2020-02-03 12:22:49.49   17.0 -2.0      0.0\n",
       "2    2020-02-05   2020-02-05 20:05:40.40    4.0  0.0      0.0\n",
       "3    2020-02-06    2020-02-06 9:09:49.49    1.0  0.0      0.0\n",
       "4    2020-02-07   2020-02-07 17:20:45.45    0.0  0.0      0.0\n",
       "..          ...                      ...    ...  ...      ...\n",
       "422  2021-04-03  2021-04-03 09:34:03.806  543.0  4.0  15364.0\n",
       "423  2021-04-04  2021-04-04 09:45:05.147  473.0  4.0  18646.0\n",
       "424  2021-04-05  2021-04-05 09:44:27.235  478.0  4.0  53812.0\n",
       "425  2021-04-06  2021-04-06 09:31:57.498  668.0  4.0  49390.0\n",
       "426  2021-04-07  2021-04-07 09:37:24.979    NaN  NaN      NaN\n",
       "\n",
       "[427 rows x 5 columns]"
      ]
     },
     "execution_count": 268,
     "metadata": {},
     "output_type": "execute_result"
    }
   ],
   "source": [
    "df2"
   ]
  },
  {
   "cell_type": "code",
   "execution_count": 269,
   "metadata": {},
   "outputs": [],
   "source": [
    "import numpy as np"
   ]
  },
  {
   "cell_type": "code",
   "execution_count": 270,
   "metadata": {},
   "outputs": [],
   "source": [
    "df2 = df2.where(pd.notnull(df2), None)"
   ]
  },
  {
   "cell_type": "code",
   "execution_count": 271,
   "metadata": {},
   "outputs": [],
   "source": [
    "df2.drop(columns=['생성일'], inplace=True)"
   ]
  },
  {
   "cell_type": "code",
   "execution_count": 272,
   "metadata": {},
   "outputs": [],
   "source": [
    "for row in df2.iterrows():\n",
    "    cur.execute(sql, row[1].tolist())\n",
    "    \n",
    "con.commit()"
   ]
  },
  {
   "cell_type": "code",
   "execution_count": null,
   "metadata": {},
   "outputs": [],
   "source": []
  },
  {
   "cell_type": "code",
   "execution_count": null,
   "metadata": {},
   "outputs": [],
   "source": []
  },
  {
   "cell_type": "code",
   "execution_count": null,
   "metadata": {},
   "outputs": [],
   "source": []
  }
 ],
 "metadata": {
  "kernelspec": {
   "display_name": "Python 3",
   "language": "python",
   "name": "python3"
  },
  "language_info": {
   "codemirror_mode": {
    "name": "ipython",
    "version": 3
   },
   "file_extension": ".py",
   "mimetype": "text/x-python",
   "name": "python",
   "nbconvert_exporter": "python",
   "pygments_lexer": "ipython3",
   "version": "3.8.5"
  }
 },
 "nbformat": 4,
 "nbformat_minor": 4
}
