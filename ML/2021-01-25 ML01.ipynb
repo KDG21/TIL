{
 "cells": [
  {
   "cell_type": "markdown",
   "metadata": {},
   "source": [
    "머신러닝\n",
    "1. 데이터 분석\n",
    " - 임의의 데이터들 간에 관계를 파악, 파악한 관계도를 가지고 새로운 출력 데이터를 생성하는 과정\n",
    " - 예측, 클러스트, 모사 등\n",
    "\n",
    " 1-1. 예측\n",
    "  - 숫자, 문서, 이미지, 영상, 음성 등의 데이터를 분석 ---> 다른 데이터로 출력\n",
    "  - 예측 모형\n",
    "\t* 부동산의 위치, 주거환경, 건축연도 등 부동산 지리 탐색\n",
    "\t* 꽃잎의 길이와 너비 등 식물에 외형적 특징을 주면 해당 식물의 종을 알아낸다\n",
    "\t* 얼굴사진을 주면 해당하는 사람의 이름을 출력\n",
    "\t* 악보를 주면 악기의 기종에 따라 표현할 수 있는 소리를 알아낸다.\n",
    "  - 시간 추출 및 시간 설계가 포함되지 않는다. = 시계열 분석을 따로해서 붙여야된다.\n",
    "\n",
    " 1-2. 데이터 유형\n",
    "  - 입력 데이터 : 분석의 기반이 되는 데이터로 X로 표현 (독립변수_independent, 특징_feature, 설명변수_explanatory)\n",
    "  - 출력 데이터 : 목적 데이터 Y로 표현 (종속변수_dependent : 결과가 분류 되어 있으면 label, class)\n",
    " \n",
    " 1-3. 예측 문제 방법\n",
    "  - rule-based = 입력데이터 + 규칙(알고리즘) -> 출력[소량의 데이터(1tb 이하) / 정형 데이터] - 영어 단어 사전\n",
    "  - data-based = training-based(학습기반) = 입력데이터 + 컴퓨터가 규칙을 스스로 만들게 학습 -> 출력[대량의 데이터/ 비정형 데이터] - 포털사이트 같은 번역 시스템\n",
    "\t       = 학습용 데이터 집합(입력, 목표값) = 지도학습(supervised)\n",
    "\t\tex) 얼굴사진(X)을 주면 해당하는 사람의 이름을 출력(Y)\n",
    "\n",
    "=======================================================================================================================\n",
    "\n",
    "2. 지도학습, 비지도학습\n",
    " - 지도학습 : 회기_선형, 비선형, 서포트 벡터, 결정트리, 신경망 등\n",
    " - 비지도학습 : 군집(k-means), 계층군집, 기댓값, 시각화, 차원축소, 연관 규칙학습 등\n",
    "\n",
    "3. 머신러닝, 딥러닝, 강화학습\n",
    " - python : 기본 개념과 모듈\n",
    " - numpy : 수치 모듈(행렬, 다차원)\n",
    " - pandas : 데이터 프레임(행과열의 타이틀을 가지고 있는것)\n",
    " - opencv : 이미지 모듈\n",
    " - scipy(사이파이) : 고급 수학함수, 수치함수, 적분, 미적분, 방정식 계산 -> 최적화, 신호처리\n",
    " - matplotlib : 시각화\n",
    " - seaborn(시본) : 시각화, 통계차트  import seaborn as sns\n",
    " - statsmodels(스태츠 모델) 패키지 : 샘플데이터, 회귀분석, 모의 검정, 이산 종속변수, 시계열 분석, 영상이미지(상태공간 모형, 벡터 AR 모형) 등\n",
    " - scikit-learn(사이킷런) : 데이터 셋(회귀분석, 분류, 클러스트용 데이터 셋), 전처리(스케일링, 결손치, 텍스트 토큰화), 지도학습, 비지도학습, 교차검증\n",
    " - missingno(패키지) : 판다스에서 데이터 결손치를 빠르게 찾아 시각화\n",
    " - 텍스트 전처리기용 패키지 : nltk -> spacy -> konlpy -> soynlp -> gensim\n",
    " - opencv : 이미지 처리\n",
    " - librosa : 사운드 전처리\n",
    " - geopandas : 지리정보 전처리\n",
    " \n",
    "4. 기계 학습시 데이터를 생성하고 변형 모델에 입력할 경우 3가지 상황\n",
    "  - 기존 데이터 액세스 하는 방법\n",
    "  - 랜덤 데이터 생성하는 방법 : make_000으로 시작되는 함수로 데이터 로드\n",
    "  - model에 데이터를 입력할 때 구조와 대체 데이터 저장하는 방법 : fetch_000 으로 시작되는 함수로 데이터 로드\n",
    "  \n",
    "5. X, Y [출력 변수] : 데이터 형식의 정답 레이블에 따라 보전 방법이 다르다(기존 데이터 액세스 하는 방법)\n",
    "    1) 정답 레이블이 실수인 경우 : ex) boston의 데이터 형식\n",
    "       data : 데이터에 포함된 벡터값\n",
    "       feture_names : 각 요소의 이름\n",
    "       target : 실수\n",
    "       \n",
    "    2) 정답 레이블이 클래스인 경우 : ex) iris의 데이터 형식\n",
    "       data : 데이터에 포함된 벡터값\n",
    "       feture_names : 각 요소의 이름\n",
    "       target : 클래스(범주형 변수)\n",
    "       target_names : 클래스이름\n",
    "       \n",
    "6. 랜덤 데이터 생성하는 방법 : make_000로 시작하는 함수가 호출되는 데이터로 매개변수를 조절해서 레이블이 있는 데이터를 생성할 수 있다.\n",
    "  - dataset                     데이터 종류             데이터 수       차원             클래스 수       데이터 분포 조정\n",
    "  - make_blobs                  가우시안 데이터생성     n_samples       n_features       centers         cluster_std, cluster_box\n",
    "  - make_classification         n-class 분류용데이터    n_samples       n_features       n_classes       많다, 복잡하다\n",
    "  - make_gaussian_quantiles     분포생성                n_samples       n_features       n_classes       mean, cov\n",
    "  - make_circles                원형 분포               n_samples       2차원            2               factor"
   ]
  },
  {
   "cell_type": "code",
   "execution_count": 16,
   "metadata": {},
   "outputs": [
    {
     "data": {
      "text/plain": [
       "11314"
      ]
     },
     "execution_count": 16,
     "metadata": {},
     "output_type": "execute_result"
    }
   ],
   "source": [
    "from sklearn.datasets import fetch_20newsgroups  # 문서 표본 데이터\n",
    "\n",
    "# 카테고리\n",
    "categories = ['alt.atheism', 'soc.religion.christian', 'comp.graphics', 'sci.med']\n",
    "\n",
    "# 제공해주는 데이터 셋을 구현할 파일을 받자\n",
    "twenty_train = fetch_20newsgroups(subset='train', categories=categories, shuffle=True, random_state=42)\n",
    "twenty_train = fetch_20newsgroups()\n",
    "\n",
    "# 이름을 확인\n",
    "twenty_train.target_names\n",
    "\n",
    "# 개수를 리턴 받아보자\n",
    "len(twenty_train.data)"
   ]
  },
  {
   "cell_type": "code",
   "execution_count": 18,
   "metadata": {
    "scrolled": true
   },
   "outputs": [
    {
     "name": "stdout",
     "output_type": "stream",
     "text": [
      "확인  From: C445585@mizzou1.missouri.edu (John Kelsey)\n",
      "Subject: The wiretap chip, clones, and secure key-exchange\n",
      "Nntp-Posting-Host: mizzou1.missouri.edu\n",
      "Organization: University of Missouri\n",
      "Lines: 33\n",
      "\n",
      "U23590@uicvm.uic.edu writes:\n",
      ">The cryptographic algorythm MUST be kept secret, or\n",
      ">private individuals could make ClipperClones with\n",
      ">which they could transmit messages which the feds would not have\n",
      ">ready access to.\n",
      " \n",
      "   Not necessarily.  I've been thinking about this, and if this chip/scheme\n",
      "is to provide any real security, there must be some sort of key exchange,\n",
      "either using a public-key encryption scheme, or using a key exchange scheme\n",
      "like Diffie-Hellman.  If there's an out-of-band transmission of a shared\n",
      "session key, then what protects that band from eavesdropping?  If the phone\n",
      "company or some other online central authority generates a session key and\n",
      "sends it to both users, then what's the point of going to the trouble of\n",
      "having some complicated key-depositories?  Just ask the phone company for\n",
      "a copy of the session key for each call.\n",
      " \n",
      "   Now, it's probably not practical for each user to keep an online copy of\n",
      "every public key used by anyone anywhere, right?  So, probably, there will\n",
      "be some way of getting these keys verified.  This might be a digitally-\n",
      "signed (by the chip manufacturer) copy of the public key in this unit,\n",
      "stored by this unit.  It might also be an online directory with access to\n",
      "everyone's public keys.  (This would introduce another weakness to the\n",
      "security of the scheme, of course.)  Presumably, if you don't use your\n",
      "designated key, you can't get a verified connection to other standard chips.\n",
      " \n",
      "   It might be useful to have a modified chip, which would allow you to\n",
      "use either the original public/private key pair, or some other key pair\n",
      "and verification scheme.  Unfortunately, this would not allow you to call\n",
      "most people and establish secure communications....\n",
      " \n",
      "   --John Kelsey\n",
      ">I hope somebody starts doing this soon after the first\n",
      ">ones are released...\n",
      "\n",
      "매핑  rec.autos\n"
     ]
    }
   ],
   "source": [
    "# data를 인덱스로 확인\n",
    "print(\"확인 \", twenty_train.data[2256])\n",
    "print(\"매핑 \", twenty_train.target_names[twenty_train.target[0]])"
   ]
  },
  {
   "cell_type": "code",
   "execution_count": 15,
   "metadata": {},
   "outputs": [
    {
     "data": {
      "text/plain": [
       "array([1, 1, 3, 3, 3, 3, 3, 2, 2, 2], dtype=int64)"
      ]
     },
     "execution_count": 15,
     "metadata": {},
     "output_type": "execute_result"
    }
   ],
   "source": [
    "twenty_train.target[:10]"
   ]
  },
  {
   "cell_type": "code",
   "execution_count": 19,
   "metadata": {
    "scrolled": true
   },
   "outputs": [
    {
     "name": "stdout",
     "output_type": "stream",
     "text": [
      "rec.autos\n",
      "comp.sys.mac.hardware\n",
      "comp.sys.mac.hardware\n",
      "comp.graphics\n",
      "sci.space\n",
      "talk.politics.guns\n",
      "sci.med\n",
      "comp.sys.ibm.pc.hardware\n",
      "comp.os.ms-windows.misc\n",
      "comp.sys.mac.hardware\n"
     ]
    }
   ],
   "source": [
    "for t in twenty_train.target[:10]:\n",
    "    print(twenty_train.target_names[t])"
   ]
  },
  {
   "cell_type": "code",
   "execution_count": 28,
   "metadata": {},
   "outputs": [
    {
     "data": {
      "text/plain": [
       "(100, 6547)"
      ]
     },
     "execution_count": 28,
     "metadata": {},
     "output_type": "execute_result"
    }
   ],
   "source": [
    "from sklearn.feature_extraction.text import CountVectorizer  # 문서 데이터를 벡터로 변환\n",
    "\n",
    "count_vect = CountVectorizer()\n",
    "X_train_counts = count_vect.fit_transform(twenty_train.data[:100])\n",
    "X_train_counts.shape"
   ]
  },
  {
   "cell_type": "code",
   "execution_count": 35,
   "metadata": {},
   "outputs": [
    {
     "data": {
      "image/png": "[encoded data removed]",
      "text/plain": [
       "<Figure size 432x288 with 2 Axes>"
      ]
     },
     "metadata": {
      "needs_background": "light"
     },
     "output_type": "display_data"
    }
   ],
   "source": [
    "import seaborn as sns\n",
    "import matplotlib.pyplot as plt\n",
    "\n",
    "sns.heatmap(X_train_counts.toarray()[:40,:100], cmap=plt.cm.bone_r, linewidths=0.001, linecolor='gray')   # 40개의 문서와 100까지의 단어를 추출\n",
    "plt.xlabel('word')\n",
    "plt.ylabel('doc')\n",
    "plt.show()"
   ]
  }
 ],
 "metadata": {
  "kernelspec": {
   "display_name": "Python 3",
   "language": "python",
   "name": "python3"
  },
  "language_info": {
   "codemirror_mode": {
    "name": "ipython",
    "version": 3
   },
   "file_extension": ".py",
   "mimetype": "text/x-python",
   "name": "python",
   "nbconvert_exporter": "python",
   "pygments_lexer": "ipython3",
   "version": "3.8.5"
  }
 },
 "nbformat": 4,
 "nbformat_minor": 4
}
