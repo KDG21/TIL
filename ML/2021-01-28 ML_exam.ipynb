{
 "cells": [
  {
   "cell_type": "markdown",
   "metadata": {},
   "source": [
    "* survived : 생존=1, 죽음=0\n",
    "* pclass : 승객 등급. 1등급=1, 2등급=2, 3등급=3\n",
    "* sibsp : 함께 탑승한 형제 또는 배우자 수\n",
    "* parch : 함께 탑승한 부모 또는 자녀 수\n",
    "* ticket : 티켓 번호\n",
    "* cabin : 선실 번호\n",
    "* embarked : 탑승장소 S=Southhampton, C=Cherbourg, Q=Queenstown"
   ]
  },
  {
   "cell_type": "code",
   "execution_count": 16,
   "metadata": {},
   "outputs": [
    {
     "data": {
      "text/html": [
       "<div>\n",
       "<style scoped>\n",
       "    .dataframe tbody tr th:only-of-type {\n",
       "        vertical-align: middle;\n",
       "    }\n",
       "\n",
       "    .dataframe tbody tr th {\n",
       "        vertical-align: top;\n",
       "    }\n",
       "\n",
       "    .dataframe thead th {\n",
       "        text-align: right;\n",
       "    }\n",
       "</style>\n",
       "<table border=\"1\" class=\"dataframe\">\n",
       "  <thead>\n",
       "    <tr style=\"text-align: right;\">\n",
       "      <th></th>\n",
       "      <th>pclass</th>\n",
       "      <th>age</th>\n",
       "      <th>sibsp</th>\n",
       "      <th>parch</th>\n",
       "      <th>fare</th>\n",
       "      <th>adult_male</th>\n",
       "      <th>alone</th>\n",
       "      <th>sex_female</th>\n",
       "      <th>sex_male</th>\n",
       "      <th>embarked_C</th>\n",
       "      <th>...</th>\n",
       "      <th>embarked_S</th>\n",
       "      <th>class_First</th>\n",
       "      <th>class_Second</th>\n",
       "      <th>class_Third</th>\n",
       "      <th>who_child</th>\n",
       "      <th>who_man</th>\n",
       "      <th>who_woman</th>\n",
       "      <th>embark_town_Cherbourg</th>\n",
       "      <th>embark_town_Queenstown</th>\n",
       "      <th>embark_town_Southampton</th>\n",
       "    </tr>\n",
       "  </thead>\n",
       "  <tbody>\n",
       "    <tr>\n",
       "      <th>0</th>\n",
       "      <td>3</td>\n",
       "      <td>22.0</td>\n",
       "      <td>1</td>\n",
       "      <td>0</td>\n",
       "      <td>7.2500</td>\n",
       "      <td>True</td>\n",
       "      <td>False</td>\n",
       "      <td>0</td>\n",
       "      <td>1</td>\n",
       "      <td>0</td>\n",
       "      <td>...</td>\n",
       "      <td>1</td>\n",
       "      <td>0</td>\n",
       "      <td>0</td>\n",
       "      <td>1</td>\n",
       "      <td>0</td>\n",
       "      <td>1</td>\n",
       "      <td>0</td>\n",
       "      <td>0</td>\n",
       "      <td>0</td>\n",
       "      <td>1</td>\n",
       "    </tr>\n",
       "    <tr>\n",
       "      <th>1</th>\n",
       "      <td>1</td>\n",
       "      <td>38.0</td>\n",
       "      <td>1</td>\n",
       "      <td>0</td>\n",
       "      <td>71.2833</td>\n",
       "      <td>False</td>\n",
       "      <td>False</td>\n",
       "      <td>1</td>\n",
       "      <td>0</td>\n",
       "      <td>1</td>\n",
       "      <td>...</td>\n",
       "      <td>0</td>\n",
       "      <td>1</td>\n",
       "      <td>0</td>\n",
       "      <td>0</td>\n",
       "      <td>0</td>\n",
       "      <td>0</td>\n",
       "      <td>1</td>\n",
       "      <td>1</td>\n",
       "      <td>0</td>\n",
       "      <td>0</td>\n",
       "    </tr>\n",
       "    <tr>\n",
       "      <th>2</th>\n",
       "      <td>3</td>\n",
       "      <td>26.0</td>\n",
       "      <td>0</td>\n",
       "      <td>0</td>\n",
       "      <td>7.9250</td>\n",
       "      <td>False</td>\n",
       "      <td>True</td>\n",
       "      <td>1</td>\n",
       "      <td>0</td>\n",
       "      <td>0</td>\n",
       "      <td>...</td>\n",
       "      <td>1</td>\n",
       "      <td>0</td>\n",
       "      <td>0</td>\n",
       "      <td>1</td>\n",
       "      <td>0</td>\n",
       "      <td>0</td>\n",
       "      <td>1</td>\n",
       "      <td>0</td>\n",
       "      <td>0</td>\n",
       "      <td>1</td>\n",
       "    </tr>\n",
       "    <tr>\n",
       "      <th>3</th>\n",
       "      <td>1</td>\n",
       "      <td>35.0</td>\n",
       "      <td>1</td>\n",
       "      <td>0</td>\n",
       "      <td>53.1000</td>\n",
       "      <td>False</td>\n",
       "      <td>False</td>\n",
       "      <td>1</td>\n",
       "      <td>0</td>\n",
       "      <td>0</td>\n",
       "      <td>...</td>\n",
       "      <td>1</td>\n",
       "      <td>1</td>\n",
       "      <td>0</td>\n",
       "      <td>0</td>\n",
       "      <td>0</td>\n",
       "      <td>0</td>\n",
       "      <td>1</td>\n",
       "      <td>0</td>\n",
       "      <td>0</td>\n",
       "      <td>1</td>\n",
       "    </tr>\n",
       "    <tr>\n",
       "      <th>4</th>\n",
       "      <td>3</td>\n",
       "      <td>35.0</td>\n",
       "      <td>0</td>\n",
       "      <td>0</td>\n",
       "      <td>8.0500</td>\n",
       "      <td>True</td>\n",
       "      <td>True</td>\n",
       "      <td>0</td>\n",
       "      <td>1</td>\n",
       "      <td>0</td>\n",
       "      <td>...</td>\n",
       "      <td>1</td>\n",
       "      <td>0</td>\n",
       "      <td>0</td>\n",
       "      <td>1</td>\n",
       "      <td>0</td>\n",
       "      <td>1</td>\n",
       "      <td>0</td>\n",
       "      <td>0</td>\n",
       "      <td>0</td>\n",
       "      <td>1</td>\n",
       "    </tr>\n",
       "  </tbody>\n",
       "</table>\n",
       "<p>5 rows × 21 columns</p>\n",
       "</div>"
      ],
      "text/plain": [
       "   pclass   age  sibsp  parch     fare  adult_male  alone  sex_female  \\\n",
       "0       3  22.0      1      0   7.2500        True  False           0   \n",
       "1       1  38.0      1      0  71.2833       False  False           1   \n",
       "2       3  26.0      0      0   7.9250       False   True           1   \n",
       "3       1  35.0      1      0  53.1000       False  False           1   \n",
       "4       3  35.0      0      0   8.0500        True   True           0   \n",
       "\n",
       "   sex_male  embarked_C  ...  embarked_S  class_First  class_Second  \\\n",
       "0         1           0  ...           1            0             0   \n",
       "1         0           1  ...           0            1             0   \n",
       "2         0           0  ...           1            0             0   \n",
       "3         0           0  ...           1            1             0   \n",
       "4         1           0  ...           1            0             0   \n",
       "\n",
       "   class_Third  who_child  who_man  who_woman  embark_town_Cherbourg  \\\n",
       "0            1          0        1          0                      0   \n",
       "1            0          0        0          1                      1   \n",
       "2            1          0        0          1                      0   \n",
       "3            0          0        0          1                      0   \n",
       "4            1          0        1          0                      0   \n",
       "\n",
       "   embark_town_Queenstown  embark_town_Southampton  \n",
       "0                       0                        1  \n",
       "1                       0                        0  \n",
       "2                       0                        1  \n",
       "3                       0                        1  \n",
       "4                       0                        1  \n",
       "\n",
       "[5 rows x 21 columns]"
      ]
     },
     "execution_count": 16,
     "metadata": {},
     "output_type": "execute_result"
    }
   ],
   "source": [
    "# 1. 머신러닝을 이용한 데이터 가공\n",
    "from sklearn.metrics import roc_curve, recall_score, confusion_matrix\n",
    "import matplotlib.pyplot as plt\n",
    "import numpy as np\n",
    "import pandas as pd\n",
    "import seaborn as sns\n",
    "\n",
    "# 1) 데이터를 로드하자\n",
    "df = sns.load_dataset('titanic')\n",
    "\n",
    "# 2) 5줄의 내용을 확인하자\n",
    "df.head()\n",
    "\n",
    "# 3) 결손값 유무 확인\n",
    "df.isnull().sum()\n",
    "\n",
    "# 4) deck 변수 결손 치열, alive를 제외하자\n",
    "drop_list = ['deck', 'alive']\n",
    "df = df.drop(drop_list, axis=1)\n",
    "\n",
    "# 5) 결손치가 있는 행을 삭제해서 표시\n",
    "df = df.dropna()\n",
    "df\n",
    "\n",
    "# 6) 데이터 분할 survived(대상) Y. 특징이 되는 데이터(Feature Selection) X\n",
    "X = df.drop(\"survived\", axis=1)\n",
    "Y = df[\"survived\"]\n",
    "\n",
    "# 7) X 데이터의 더미화 확인\n",
    "X = pd.get_dummies(X)  # 가상 변수를 만들어 범주안에 0 또는 1의 지정\n",
    "X.head()"
   ]
  },
  {
   "cell_type": "code",
   "execution_count": 20,
   "metadata": {
    "scrolled": true
   },
   "outputs": [
    {
     "name": "stdout",
     "output_type": "stream",
     "text": [
      "X.shape (712, 21)\n",
      "X_train.shape (356, 21)\n",
      "X_test.shape (356, 21) \n",
      "\n",
      "Y.shape (712,)\n",
      "Y_train.shape (356,)\n",
      "Y_test.shape (356,)\n"
     ]
    }
   ],
   "source": [
    "# 2. 분류학습 시작\n",
    "from sklearn.model_selection import train_test_split\n",
    "\n",
    "X_train, X_test, Y_train, Y_test = train_test_split(X, Y, test_size=0.5, random_state=0)\n",
    "\n",
    "# 데이터 크기를 확인하자\n",
    "print('X.shape', X.shape)\n",
    "print('X_train.shape', X_train.shape)\n",
    "print('X_test.shape', X_test.shape, '\\n')\n",
    "print('Y.shape', Y.shape)\n",
    "print('Y_train.shape', Y_train.shape)\n",
    "print('Y_test.shape', Y_test.shape)"
   ]
  },
  {
   "attachments": {
    "image%20%281%29.png": {
     "image/png": "[encoded data removed]"
    }
   },
   "cell_type": "markdown",
   "metadata": {},
   "source": [
    "![image%20%281%29.png](attachment:image%20%281%29.png)"
   ]
  },
  {
   "cell_type": "code",
   "execution_count": 21,
   "metadata": {},
   "outputs": [
    {
     "name": "stdout",
     "output_type": "stream",
     "text": [
      "[1 0 1 0 0 0 1 0 0 1 1 1 1 0 0 1 0 1 0 0 0 1 1 1 0 0 0 0 0 1 0 0 0 1 1 1 1\n",
      " 0 0 1 0 0 0 0 0 0 1 0 0 1 1 1 1 0 1 1 0 0 1 0 0 0 0 1 0 0 1 0 1 1 0 1 1 0\n",
      " 0 0 1 0 0 0 0 1 0 1 1 0 0 0 1 0 0 0 0 1 1 0 1 1 0 0 0 1 0 0 0 0 0 0 0 0 0\n",
      " 1 1 1 0 0 0 0 0 0 0 0 0 1 0 0 0 0 1 1 0 1 1 1 1 1 1 0 0 0 1 0 1 1 1 0 0 0\n",
      " 0 0 0 0 1 1 1 0 0 1 1 1 1 0 1 0 0 0 0 0 0 0 1 1 1 0 1 1 1 0 0 0 0 0 0 0 0\n",
      " 1 0 0 0 1 0 1 1 0 1 1 0 0 1 1 0 1 0 1 0 0 0 0 0 0 1 0 1 0 0 0 1 1 0 1 1 0\n",
      " 0 1 0 0 0 0 0 0 0 0 0 0 0 1 1 0 0 1 1 0 0 0 0 0 1 0 0 0 1 0 0 1 0 1 0 0 1\n",
      " 1 1 1 1 0 1 1 1 0 0 1 0 1 1 0 1 0 0 0 0 0 0 1 1 1 1 0 0 0 0 0 0 0 0 1 1 0\n",
      " 0 1 0 1 0 0 0 0 0 1 0 1 0 0 0 1 0 0 0 0 0 0 0 0 0 0 1 1 0 1 1 1 0 0 0 0 0\n",
      " 0 1 0 0 1 1 1 1 0 1 0 0 1 1 0 1 0 1 0 1 1 0 0]\n"
     ]
    }
   ],
   "source": [
    "# 3. 로지스틱 회귀 모델의 인스턴스를 만들고 훈련데이터로 학습을 시키자\n",
    "# 1000번 반복해서 학습 sklearn.linear_model.LogisticRegression\n",
    "from sklearn.linear_model import LogisticRegression\n",
    "\n",
    "ir = LogisticRegression(max_iter = 1000, random_state=0)  # 1000번을 반복해서 판정을 한다.\n",
    "ir.fit(X_train, Y_train)  # 학습을 한다\n",
    "\n",
    "# 4. 학습 데이터 판정 결과(예측치)를 test 데이터로 확인하자\n",
    "y_pred = ir.predict(X_test)\n",
    "print(y_pred)"
   ]
  },
  {
   "cell_type": "code",
   "execution_count": 24,
   "metadata": {},
   "outputs": [
    {
     "name": "stdout",
     "output_type": "stream",
     "text": [
      "confusion_matrix = [[179  31]\n",
      " [ 40 106]]\n",
      "accuracy = 0.800561797752809\n",
      "precision = 0.7737226277372263\n",
      "recall = 0.726027397260274\n",
      "fi score = 0.7491166077738517\n"
     ]
    }
   ],
   "source": [
    "# 5. 지표를 산출하자 : 4단계에서 구현한 예측치 y_pred와 test 데이터의 실제 값을 사용해서 평가 지표를 구할 수 있다.\n",
    "# kaggele의 titanic 데이터를 이용해서 생존 여부를 나타내는 survived값을 예측하기 위한 Logistic 회귀 모델을 구현하자\n",
    "from sklearn.metrics import *\n",
    "\n",
    "print('confusion_matrix =', confusion_matrix(Y_test, y_pred))\n",
    "print('accuracy =', accuracy_score(Y_test, y_pred))\n",
    "print('precision =', precision_score(Y_test, y_pred))\n",
    "print('recall =', recall_score(Y_test, y_pred))\n",
    "print('fi score =', f1_score(Y_test, y_pred))"
   ]
  },
  {
   "cell_type": "code",
   "execution_count": 25,
   "metadata": {
    "scrolled": true
   },
   "outputs": [
    {
     "name": "stdout",
     "output_type": "stream",
     "text": [
      "[[0.48102828 0.51897172]\n",
      " [0.80009155 0.19990845]\n",
      " [0.0238188  0.9761812 ]\n",
      " [0.85333424 0.14666576]\n",
      " [0.94128965 0.05871035]]\n"
     ]
    }
   ],
   "source": [
    "# 번외1) Log loss 기법: 확률을 입력으로 분류하는 기법의 성능평가\n",
    "# 로지스틱 회귀모델에서 대상을 0과 1로 분류되는 확률을 각각 출력하고 싶을 경우 predict_proba()\n",
    "\n",
    "# 먼저 모델에서 Y가 0인 확률을 예측해서 확인\n",
    "probs = ir.predict_proba(X_test)\n",
    "print(probs[:5])"
   ]
  },
  {
   "cell_type": "markdown",
   "metadata": {},
   "source": [
    "ROC 곡선과 PR 곡선은 데이터가 Positive일 확률 모델에서 예측해서 Positive일 경우가 높다고 예측하고 순서대로 정렬\n",
    "예측할 확률에서 Positive일 경우의 판정기준(임계값)을 기점으로 FPR, TPR이 어떻게 변화하는지를 확인하는 것이 ROC곡선\n",
    "적합율(Precision)와 재현율(Recall, TPR)의 변화를 나타낸 것이 PR 곡선"
   ]
  },
  {
   "cell_type": "code",
   "execution_count": 30,
   "metadata": {
    "scrolled": true
   },
   "outputs": [
    {
     "data": {
      "text/html": [
       "<div>\n",
       "<style scoped>\n",
       "    .dataframe tbody tr th:only-of-type {\n",
       "        vertical-align: middle;\n",
       "    }\n",
       "\n",
       "    .dataframe tbody tr th {\n",
       "        vertical-align: top;\n",
       "    }\n",
       "\n",
       "    .dataframe thead th {\n",
       "        text-align: right;\n",
       "    }\n",
       "</style>\n",
       "<table border=\"1\" class=\"dataframe\">\n",
       "  <thead>\n",
       "    <tr style=\"text-align: right;\">\n",
       "      <th></th>\n",
       "      <th>0</th>\n",
       "      <th>1</th>\n",
       "      <th>2</th>\n",
       "    </tr>\n",
       "  </thead>\n",
       "  <tbody>\n",
       "    <tr>\n",
       "      <th>0</th>\n",
       "      <td>0.000000</td>\n",
       "      <td>0.000000</td>\n",
       "      <td>1.994708</td>\n",
       "    </tr>\n",
       "    <tr>\n",
       "      <th>1</th>\n",
       "      <td>0.000000</td>\n",
       "      <td>0.006849</td>\n",
       "      <td>0.994708</td>\n",
       "    </tr>\n",
       "    <tr>\n",
       "      <th>2</th>\n",
       "      <td>0.000000</td>\n",
       "      <td>0.027397</td>\n",
       "      <td>0.982915</td>\n",
       "    </tr>\n",
       "    <tr>\n",
       "      <th>3</th>\n",
       "      <td>0.004762</td>\n",
       "      <td>0.027397</td>\n",
       "      <td>0.982433</td>\n",
       "    </tr>\n",
       "    <tr>\n",
       "      <th>4</th>\n",
       "      <td>0.004762</td>\n",
       "      <td>0.143836</td>\n",
       "      <td>0.955820</td>\n",
       "    </tr>\n",
       "    <tr>\n",
       "      <th>...</th>\n",
       "      <td>...</td>\n",
       "      <td>...</td>\n",
       "      <td>...</td>\n",
       "    </tr>\n",
       "    <tr>\n",
       "      <th>104</th>\n",
       "      <td>0.871429</td>\n",
       "      <td>0.986301</td>\n",
       "      <td>0.062863</td>\n",
       "    </tr>\n",
       "    <tr>\n",
       "      <th>105</th>\n",
       "      <td>0.871429</td>\n",
       "      <td>0.993151</td>\n",
       "      <td>0.062807</td>\n",
       "    </tr>\n",
       "    <tr>\n",
       "      <th>106</th>\n",
       "      <td>0.914286</td>\n",
       "      <td>0.993151</td>\n",
       "      <td>0.054176</td>\n",
       "    </tr>\n",
       "    <tr>\n",
       "      <th>107</th>\n",
       "      <td>0.914286</td>\n",
       "      <td>1.000000</td>\n",
       "      <td>0.054051</td>\n",
       "    </tr>\n",
       "    <tr>\n",
       "      <th>108</th>\n",
       "      <td>1.000000</td>\n",
       "      <td>1.000000</td>\n",
       "      <td>0.008249</td>\n",
       "    </tr>\n",
       "  </tbody>\n",
       "</table>\n",
       "<p>109 rows × 3 columns</p>\n",
       "</div>"
      ],
      "text/plain": [
       "            0         1         2\n",
       "0    0.000000  0.000000  1.994708\n",
       "1    0.000000  0.006849  0.994708\n",
       "2    0.000000  0.027397  0.982915\n",
       "3    0.004762  0.027397  0.982433\n",
       "4    0.004762  0.143836  0.955820\n",
       "..        ...       ...       ...\n",
       "104  0.871429  0.986301  0.062863\n",
       "105  0.871429  0.993151  0.062807\n",
       "106  0.914286  0.993151  0.054176\n",
       "107  0.914286  1.000000  0.054051\n",
       "108  1.000000  1.000000  0.008249\n",
       "\n",
       "[109 rows x 3 columns]"
      ]
     },
     "execution_count": 30,
     "metadata": {},
     "output_type": "execute_result"
    }
   ],
   "source": [
    "# 번외2) ROC 곡선, PR 곡선, 각각의 AUC 산출\n",
    "from sklearn.metrics import roc_curve, precision_recall_curve, auc\n",
    "\n",
    "# 테스트 데이터가 클래스 1에 속하는 확률을 예측하고 그 확률에서 FPR, TPR, 임계값을 계산해보자\n",
    "Y_score = ir.predict_proba(X_test)[:,1]\n",
    "fpr, tpr, thresholds = roc_curve(Y_test, Y_score)\n",
    "\n",
    "# 값을 편안하게 테이블로 확인하자\n",
    "df = pd.DataFrame([fpr, tpr, thresholds])\n",
    "df.T"
   ]
  },
  {
   "cell_type": "code",
   "execution_count": 32,
   "metadata": {},
   "outputs": [
    {
     "data": {
      "image/png": "[encoded data removed]",
      "text/plain": [
       "<Figure size 432x288 with 1 Axes>"
      ]
     },
     "metadata": {
      "needs_background": "light"
     },
     "output_type": "display_data"
    }
   ],
   "source": [
    "# 번외3) plot 해보자\n",
    "plt.plot(fpr, tpr, label='roc curve(AUC = %.3f)'% auc(fpr, tpr))\n",
    "plt.plot([0,0,1],[0,1,1], linestyle='--', label='ideal line')\n",
    "plt.plot([0,1],[0,1], linestyle='--', label='random prediction')\n",
    "plt.legend()\n",
    "plt.xlabel('FPR : False Positive Rate')\n",
    "plt.ylabel('TPR : True Positive Rate')\n",
    "plt.show()"
   ]
  },
  {
   "cell_type": "code",
   "execution_count": 33,
   "metadata": {},
   "outputs": [
    {
     "data": {
      "image/png": "[encoded data removed]",
      "text/plain": [
       "<Figure size 432x288 with 1 Axes>"
      ]
     },
     "metadata": {
      "needs_background": "light"
     },
     "output_type": "display_data"
    }
   ],
   "source": [
    "# 번외4) PR 곡선\n",
    "probas_pred = ir.predict_proba(X_test)[:,1]\n",
    "precision, recall, thresholds = precision_recall_curve(Y_test, probas_pred)\n",
    "\n",
    "plt.plot(recall, precision, label='roc precision_recall_curve(AUC = %.3f)'% auc(recall, precision))\n",
    "plt.plot([0,1],[0,1], linestyle='--', label='ideal line')\n",
    "plt.legend()\n",
    "plt.xlabel('recall')\n",
    "plt.ylabel('precision')\n",
    "plt.show()"
   ]
  }
 ],
 "metadata": {
  "kernelspec": {
   "display_name": "Python 3",
   "language": "python",
   "name": "python3"
  },
  "language_info": {
   "codemirror_mode": {
    "name": "ipython",
    "version": 3
   },
   "file_extension": ".py",
   "mimetype": "text/x-python",
   "name": "python",
   "nbconvert_exporter": "python",
   "pygments_lexer": "ipython3",
   "version": "3.8.5"
  }
 },
 "nbformat": 4,
 "nbformat_minor": 4
}
