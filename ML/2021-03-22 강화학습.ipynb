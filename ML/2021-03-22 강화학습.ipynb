{
 "cells": [
  {
   "cell_type": "code",
   "execution_count": null,
   "metadata": {},
   "outputs": [],
   "source": [
    "몬테카를로 방법(Monte Carlo method) : 난수를 이용하여 함수의 값을 확률적으로 계산하는 알고리즘"
   ]
  },
  {
   "cell_type": "code",
   "execution_count": 6,
   "metadata": {},
   "outputs": [
    {
     "data": {
      "text/plain": [
       "0.500212"
      ]
     },
     "execution_count": 6,
     "metadata": {},
     "output_type": "execute_result"
    }
   ],
   "source": [
    "import random\n",
    "\n",
    "coin = {'앞면', '뒷면'}\n",
    "count = 1000000\n",
    "win = list()\n",
    "\n",
    "for x in range(count):\n",
    "    answer = random.sample(coin, 1)\n",
    "    pick = random.sample(coin, 1)\n",
    "    \n",
    "    if (pick == answer):\n",
    "        win.append(\"Win\")\n",
    "        \n",
    "len(win) / count"
   ]
  },
  {
   "cell_type": "code",
   "execution_count": 20,
   "metadata": {},
   "outputs": [
    {
     "data": {
      "text/plain": [
       "뒤    500504\n",
       "앞    499496\n",
       "dtype: int64"
      ]
     },
     "execution_count": 20,
     "metadata": {},
     "output_type": "execute_result"
    }
   ],
   "source": [
    "import numpy as np\n",
    "import pandas as pd\n",
    "\n",
    "coin = np.random.choice(['앞', '뒤'], 1000000, p=[1/2, 1/2])\n",
    "pd.value_counts(coin)"
   ]
  },
  {
   "cell_type": "code",
   "execution_count": null,
   "metadata": {},
   "outputs": [],
   "source": [
    "살사 : on-policy 방법\n",
    "큐 : off-policy 방법"
   ]
  }
 ],
 "metadata": {
  "kernelspec": {
   "display_name": "Python 3",
   "language": "python",
   "name": "python3"
  },
  "language_info": {
   "codemirror_mode": {
    "name": "ipython",
    "version": 3
   },
   "file_extension": ".py",
   "mimetype": "text/x-python",
   "name": "python",
   "nbconvert_exporter": "python",
   "pygments_lexer": "ipython3",
   "version": "3.8.5"
  }
 },
 "nbformat": 4,
 "nbformat_minor": 4
}
