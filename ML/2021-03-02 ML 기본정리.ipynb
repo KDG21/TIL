{
 "cells": [
  {
   "cell_type": "code",
   "execution_count": null,
   "metadata": {},
   "outputs": [],
   "source": [
    "* 머신러닝 작업 순서\n",
    " 1. 문제 정의(분류 / 회귀 / 예측 / 이상값감지 / 그룹화 / 강화학습)\n",
    "\n",
    " 2. 데이터 준비(데이터 수집 / 데이터 전처리 / 데이터 추가)  # 1, 2번이 바뀔수도 있음\n",
    "\n",
    " 3. 알고리즘 선택\n",
    "    - 지도학습(SVM, Logistic Regression, Linear Regression, Decision Tree, Random Forest, KNN)\n",
    "    - 비지도학습(k-means, PCA, Apriori)\n",
    "    - 강화학습(Monte-Carlo, Q-learning, Markov Decision)\n",
    "    \n",
    " 4. 모델 학습 : 학습용 데이터 + 알고리즘 = 모델\n",
    "    \n",
    " 5. 모델 평가(언더피팅 / 오버피팅 / 모델 용량 / 평가 지표)\n",
    "\n",
    " 6. 알고리즘 / 데이터 수정\n",
    "    \n",
    " 7. 모델 활용 : local, web, app"
   ]
  }
 ],
 "metadata": {
  "kernelspec": {
   "display_name": "Python 3",
   "language": "python",
   "name": "python3"
  },
  "language_info": {
   "codemirror_mode": {
    "name": "ipython",
    "version": 3
   },
   "file_extension": ".py",
   "mimetype": "text/x-python",
   "name": "python",
   "nbconvert_exporter": "python",
   "pygments_lexer": "ipython3",
   "version": "3.8.5"
  }
 },
 "nbformat": 4,
 "nbformat_minor": 4
}
