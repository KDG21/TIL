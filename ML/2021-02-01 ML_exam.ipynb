{
 "cells": [
  {
   "cell_type": "code",
   "execution_count": null,
   "metadata": {},
   "outputs": [],
   "source": [
    "<<피자 지름과 가격>>\n",
    "No. 지름(cm)  가격(원)\n",
    "1   12        7000\n",
    "2   16        9000\n",
    "3   20        13000\n",
    "4   28        17500\n",
    "5   36        18000"
   ]
  },
  {
   "cell_type": "code",
   "execution_count": 18,
   "metadata": {},
   "outputs": [
    {
     "name": "stdout",
     "output_type": "stream",
     "text": [
      "[[12], [16], [20], [28], [36]]\n",
      "[[7000], [9000], [13000], [17500], [18000]]\n",
      "25cm pizza should cost : \\14169\n",
      "r-squared : 0.6620052929422551\n"
     ]
    }
   ],
   "source": [
    "# ex01) 피자의 지름을 사용해서 가격을 예측해보자\n",
    "import matplotlib.pyplot as plt\n",
    "import numpy as np\n",
    "from sklearn.datasets import *\n",
    "import sklearn as sk\n",
    "from sklearn.linear_model import LinearRegression\n",
    "\n",
    "x = [[12],[16],[20],[28],[36]]\n",
    "y = [[7000],[9000],[13000],[17500],[18000]]\n",
    "print(X)\n",
    "print(y)\n",
    "\n",
    "# 모델 구축\n",
    "model = LinearRegression()   # 회귀 모델 설정\n",
    "model.fit(x,y)\n",
    "\n",
    "# 예측 해보자 25cn 가격이?\n",
    "price = model.predict(np.array([25]).reshape(-1,1))\n",
    "price[0][0]\n",
    "print('25cm pizza should cost : \\%d'%price[0][0])\n",
    "\n",
    "# 모델선택 LinearRegression -> 학습 fit -> 예측 predict()\n",
    "\n",
    "# 기여울 = 회귀의 평가방법 = 결정계수\n",
    "# 새로운 데이터 테스트를 생성해서 결정계수. 즉 기여도를 살펴보자\n",
    "x_test = [[16],[18],[22],[32],[24]]\n",
    "y_test = [[11000],[8500],[15000],[18000],[11000]]\n",
    "score = model.score(x_test, y_test)\n",
    "print(\"r-squared :\", score)"
   ]
  },
  {
   "cell_type": "code",
   "execution_count": 17,
   "metadata": {
    "scrolled": true
   },
   "outputs": [
    {
     "data": {
      "image/png": "[encoded data removed]",
      "text/plain": [
       "<Figure size 432x288 with 1 Axes>"
      ]
     },
     "metadata": {
      "needs_background": "light"
     },
     "output_type": "display_data"
    }
   ],
   "source": [
    "plt.figure()\n",
    "plt.xlabel('cm')\n",
    "plt.ylabel('price')\n",
    "plt.scatter(x,y)\n",
    "plt.axis([0,50,0,25000])\n",
    "plt.grid(True)"
   ]
  },
  {
   "cell_type": "code",
   "execution_count": null,
   "metadata": {},
   "outputs": [],
   "source": [
    "<<피자 지름과 가격>>\n",
    "No. 지름(cm)  토핑수  가격(원)\n",
    "1   12         2      7000\n",
    "2   16         1      9000\n",
    "3   20         0      13000\n",
    "4   28         2      17500\n",
    "5   36         0      18000"
   ]
  },
  {
   "cell_type": "code",
   "execution_count": 27,
   "metadata": {},
   "outputs": [
    {
     "name": "stdout",
     "output_type": "stream",
     "text": [
      "[[12], [16], [20], [28], [36]]\n",
      "[[7000], [9000], [13000], [17500], [18000]]\n",
      "Predict :[10062.5], Target :[7000]\n",
      "Predict :[10281.25], Target :[8500]\n",
      "Predict :[13093.75], Target :[15000]\n",
      "Predict :[18145.83333333], Target :[18000]\n",
      "Predict :[13312.5], Target :[11000]\n",
      "r-squared : 0.7409318451188569\n"
     ]
    }
   ],
   "source": [
    "# ex01) 피자의 지름을 사용해서 가격을 예측해보자\n",
    "import matplotlib.pyplot as plt\n",
    "import numpy as np\n",
    "from sklearn.datasets import *\n",
    "import sklearn as sk\n",
    "from sklearn.linear_model import LinearRegression\n",
    "\n",
    "x = [[12,2],[16,1],[20,0],[28,2],[36,0]]\n",
    "y = [[7000],[9000],[13000],[17500],[18000]]\n",
    "print(X)\n",
    "print(y)\n",
    "\n",
    "# 모델 구축\n",
    "model = LinearRegression()   # 회귀 모델 설정\n",
    "model.fit(x,y)\n",
    "\n",
    "# 모델선택 LinearRegression -> 학습 fit -> 예측 predict()\n",
    "\n",
    "# 기여울 = 회귀의 평가방법 = 결정계수\n",
    "# 새로운 데이터 테스트를 생성해서 결정계수. 즉 기여도를 살펴보자\n",
    "x_test = [[16,2],[18,0],[22,2],[32,2],[24,0]]\n",
    "y_test = [[7000],[8500],[15000],[18000],[11000]]\n",
    "\n",
    "prices = model.predict(x_test)\n",
    "for i, price in enumerate(prices):\n",
    "    print('Predict :%s, Target :%s'%(price, y_test[i]))\n",
    "    \n",
    "score = model.score(x_test, y_test)    \n",
    "print(\"r-squared :\", score)"
   ]
  },
  {
   "cell_type": "code",
   "execution_count": null,
   "metadata": {},
   "outputs": [],
   "source": [
    "2) 평가 지표 값을 살펴보자\n",
    " - confusion matrix : 행렬의 두 값을 분류(F,T) 결과를 표로 만들어서 분류작업을 한다.\n",
    "                        0(negative)     1(positive)\n",
    "        0(negative)       TN               FP\n",
    "        1(positive)       FN               TP\n",
    "    TP 1 1, FP 0 1, FN 1 0, TN 0 0\n",
    "        \n",
    " - Accuracy\n",
    " - Precision\n",
    " - Recall\n",
    " - F-measure"
   ]
  },
  {
   "cell_type": "code",
   "execution_count": 32,
   "metadata": {},
   "outputs": [
    {
     "name": "stdout",
     "output_type": "stream",
     "text": [
      "[[4 1]\n",
      " [2 3]]\n",
      "TN 4\n",
      "FP 1\n",
      "FN 2\n",
      "TP 3\n",
      "정답률\n",
      "0.7\n",
      "accuracy : 0.7\n"
     ]
    }
   ],
   "source": [
    "from sklearn.metrics import *\n",
    "x_test = [0,0,0,0,0,1,1,1,1,1]\n",
    "y_pred = [0,1,0,0,0,0,0,1,1,1]\n",
    "\n",
    "cm = confusion_matrix(x_test, y_pred)\n",
    "print(cm)\n",
    "\n",
    "tn,fp,fn,tp = confusion_matrix(x_test, y_pred).ravel()\n",
    "print('TN', tn)\n",
    "print('FP', fp)\n",
    "print('FN', fn)\n",
    "print('TP', tp)\n",
    "\n",
    "print('정답률')\n",
    "tn,fp,fn,tp = confusion_matrix(x_test, y_pred).ravel()\n",
    "print((tp+tn)/(tp+fp+fn+tn))\n",
    "\n",
    "print('accuracy :', accuracy_score(x_test, y_pred))   # 좋은 모델일까?"
   ]
  },
  {
   "cell_type": "code",
   "execution_count": 42,
   "metadata": {},
   "outputs": [
    {
     "name": "stdout",
     "output_type": "stream",
     "text": [
      "[[4 1]\n",
      " [2 3]]\n",
      "TN 4\n",
      "FP 1\n",
      "FN 2\n",
      "TP 3 \n",
      "\n",
      "정답률\n",
      "0.7\n",
      "accuracy : 0.7 \n",
      "\n",
      "정밀도\n",
      "0.75\n",
      "precision : 0.75 \n",
      "\n",
      "회수율\n",
      "0.6\n",
      "recall 0.6 \n",
      "\n",
      "f1_score\n",
      "f1_score 0.6666666666666665 \n",
      "\n",
      "Classification report\n",
      "              precision    recall  f1-score   support\n",
      "\n",
      "           0       0.67      0.80      0.73         5\n",
      "           1       0.75      0.60      0.67         5\n",
      "\n",
      "    accuracy                           0.70        10\n",
      "   macro avg       0.71      0.70      0.70        10\n",
      "weighted avg       0.71      0.70      0.70        10\n",
      " \n",
      "\n"
     ]
    }
   ],
   "source": [
    "from sklearn.metrics import *\n",
    "x_test = [0,0,0,0,0,1,1,1,1,1]\n",
    "y_pred = [0,1,0,0,0,0,0,1,1,1]\n",
    "\n",
    "cm = confusion_matrix(x_test, y_pred)\n",
    "print(cm)\n",
    "\n",
    "tn,fp,fn,tp = confusion_matrix(x_test, y_pred).ravel()\n",
    "print('TN', tn)\n",
    "print('FP', fp)\n",
    "print('FN', fn)\n",
    "print('TP', tp, '\\n')\n",
    "\n",
    "print('정답률')\n",
    "tn,fp,fn,tp = confusion_matrix(x_test, y_pred).ravel()\n",
    "print((tp+tn)/(tp+fp+fn+tn))\n",
    "print('accuracy :', accuracy_score(x_test, y_pred), '\\n')   # 좋은 모델일까?  정답률은 높을수록 좋은 모델은 아님\n",
    "# 긍정과 부정의 사례를 균형을 이루어 평가되는 것이 가장 좋은 모델\n",
    "\n",
    "print('정밀도')\n",
    "print(tp / (tp+fp))\n",
    "print('precision :', precision_score(x_test, y_pred), '\\n')\n",
    "\n",
    "print('회수율')\n",
    "print(tp / (tp+fn))\n",
    "print('recall', recall_score(x_test, y_pred), '\\n')\n",
    "\n",
    "print('f1_score')\n",
    "print('f1_score', f1_score(x_test, y_pred), '\\n')\n",
    "\n",
    "print('Classification report')\n",
    "print(classification_report(x_test, y_pred), '\\n')"
   ]
  }
 ],
 "metadata": {
  "kernelspec": {
   "display_name": "Python 3",
   "language": "python",
   "name": "python3"
  },
  "language_info": {
   "codemirror_mode": {
    "name": "ipython",
    "version": 3
   },
   "file_extension": ".py",
   "mimetype": "text/x-python",
   "name": "python",
   "nbconvert_exporter": "python",
   "pygments_lexer": "ipython3",
   "version": "3.8.5"
  }
 },
 "nbformat": 4,
 "nbformat_minor": 4
}
