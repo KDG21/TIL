{
 "cells": [
  {
   "cell_type": "code",
   "execution_count": null,
   "metadata": {},
   "outputs": [],
   "source": [
    "핵심모듈 : 모델과 레이어를 생성하기 위한 기능\n",
    "    - 활성화 모듈 : softmax, relu\n",
    "    - Loss 모듈 : error 모듈 손실 기능\n",
    "    - Optimizer 모듈 : 최적화 기능을 수행, sgd 등\n",
    "    - 정규화 : L1정규화, L2정규화"
   ]
  },
  {
   "cell_type": "code",
   "execution_count": null,
   "metadata": {},
   "outputs": [],
   "source": [
    "lelu 함수\n",
    "2D 텐서를 입력 받고 입력텐서의 기능을 변환하는 3개의 텐서 연산을 한다.\n",
    "입력 텐서 w 사이에 접곱(dot), 접곱을 결과인 2D텐서와 벡터 b 사이의 덧셈을 구한다\n",
    "relu(x)는 max(x,0)\n",
    "output = relu(dot(w,input)+b)\n",
    "w : 2d tenser, b : vector"
   ]
  },
  {
   "cell_type": "code",
   "execution_count": 1,
   "metadata": {},
   "outputs": [
    {
     "data": {
      "text/plain": [
       "<tensorflow.python.keras.engine.sequential.Sequential at 0x24434cc18b0>"
      ]
     },
     "execution_count": 1,
     "metadata": {},
     "output_type": "execute_result"
    }
   ],
   "source": [
    "# 21. relu(렐루) 함수를 살펴보자\n",
    "# 모델, 층, 핵심모듈\n",
    "# layers (입력 레이어, 히든 레이어, 출력 레이어) : 코어, 컨볼루션, 폴링, 반복\n",
    "from tensorflow.keras.layers import Dense, Activation, Dropout\n",
    "from tensorflow.keras.models import Sequential\n",
    "\n",
    "model = Sequential()\n",
    "model.add(Dense(512, activation = 'relu', input_shape=(784,)))\n",
    "model"
   ]
  },
  {
   "cell_type": "code",
   "execution_count": 66,
   "metadata": {},
   "outputs": [
    {
     "data": {
      "text/plain": [
       "array([1., 2., 3., 4., 4., 5., 6., 7.])"
      ]
     },
     "execution_count": 66,
     "metadata": {},
     "output_type": "execute_result"
    }
   ],
   "source": [
    "import numpy as np\n",
    "\n",
    "def naive_relu(x):\n",
    "    assert len(x.shape) == 2\n",
    "    x.copy()\n",
    "    for i in range(x.shape[0]):\n",
    "        for j in range(x.shape[1]):\n",
    "            x[i,j] = max(x[i,j],0)\n",
    "    return x\n",
    "\n",
    "            \n",
    "res = naive_relu(np.array([[1,2,3,4],[5,6,7,8]]))\n",
    "res\n",
    "\n",
    "x = [1,2,3,4]\n",
    "y = [4,5,6,7]\n",
    "z = x + y   # 원소별 덧셈\n",
    "\n",
    "z = np.maximum(z, 0.)  # 원소별 렐루 함수\n",
    "z"
   ]
  },
  {
   "cell_type": "code",
   "execution_count": null,
   "metadata": {},
   "outputs": [],
   "source": [
    "tf.keras.layers.Dense(\n",
    "    units, activation=None, use_bias=True,\n",
    "    kernel_initializer='glorot_uniform',\n",
    "    bias_initializer='zeros', kernel_regularizer=None,\n",
    "    bias_regularizer=None, activity_regularizer=None, kernel_constraint=None,\n",
    "    bias_constraint=None, **kwargs\n",
    ")\n",
    "# 레이어 매개인자 : 입력데이터, 레이어 수(뉴런 수 / 단위), 초기값, 정규화, 제약, 활성화"
   ]
  },
  {
   "cell_type": "code",
   "execution_count": 7,
   "metadata": {},
   "outputs": [
    {
     "data": {
      "text/plain": [
       "<tensorflow.python.keras.engine.sequential.Sequential at 0x2443e135460>"
      ]
     },
     "execution_count": 7,
     "metadata": {},
     "output_type": "execute_result"
    }
   ],
   "source": [
    "# exam01) 모든 입력 데이터에 0으로 설정해서 계층을 생성하자\n",
    "from tensorflow.keras.layers import Dense, Activation, Dropout\n",
    "from tensorflow.keras.models import Sequential\n",
    "from keras import *\n",
    "\n",
    "my_init = initializers.Zeros()\n",
    "model = Sequential()\n",
    "model.add(Dense(512, activation = 'relu', input_shape=(784,), kernel_initializer=my_init))\n",
    "model"
   ]
  },
  {
   "cell_type": "code",
   "execution_count": 4,
   "metadata": {},
   "outputs": [
    {
     "data": {
      "text/plain": [
       "<tensorflow.python.keras.engine.sequential.Sequential at 0x2443df4fc10>"
      ]
     },
     "execution_count": 4,
     "metadata": {},
     "output_type": "execute_result"
    }
   ],
   "source": [
    "# exam02) 모든 입력 데이터에 1로 설정해서 계층을 생성하자\n",
    "from tensorflow.keras.layers import Dense, Activation, Dropout\n",
    "from tensorflow.keras.models import Sequential\n",
    "from keras import *\n",
    "\n",
    "my_init = initializers.Ones()\n",
    "model = Sequential()\n",
    "model.add(Dense(512, activation = 'relu', input_shape=(784,), kernel_initializer=my_init))\n",
    "model"
   ]
  },
  {
   "cell_type": "code",
   "execution_count": 5,
   "metadata": {},
   "outputs": [
    {
     "data": {
      "text/plain": [
       "<tensorflow.python.keras.engine.sequential.Sequential at 0x2443e120a90>"
      ]
     },
     "execution_count": 5,
     "metadata": {},
     "output_type": "execute_result"
    }
   ],
   "source": [
    "# exam03) 입력 데이터의 정규 분포를 사용하여 값을 생성하자\n",
    "\n",
    "my_init = initializers.RandomNormal(mean=0.0, stddev=0.05, seed=None)\n",
    "\n",
    "model = Sequential()\n",
    "model.add(Dense(512, activation = 'relu', input_shape=(784,), kernel_initializer=my_init))\n",
    "model"
   ]
  },
  {
   "cell_type": "code",
   "execution_count": 6,
   "metadata": {},
   "outputs": [
    {
     "data": {
      "text/plain": [
       "<tensorflow.python.keras.engine.sequential.Sequential at 0x2443e13aa30>"
      ]
     },
     "execution_count": 6,
     "metadata": {},
     "output_type": "execute_result"
    }
   ],
   "source": [
    "# exam04) 지정한 배율과 레이어의 입력모양, 출력 모양을 기반으로 값을 생성\n",
    "# fan_in : 입력장치, fan_out : 출력모양, fan_avg\n",
    "my_init = initializers.VarianceScaling(scale=1.0, mode='fan_in', distribution='truncated_normal', seed=None)\n",
    "\n",
    "model = Sequential()\n",
    "model.add(Dense(512, activation = 'relu', input_shape=(784,), kernel_initializer=my_init))\n",
    "model"
   ]
  },
  {
   "cell_type": "code",
   "execution_count": 2,
   "metadata": {},
   "outputs": [
    {
     "data": {
      "text/plain": [
       "<tensorflow.python.keras.engine.sequential.Sequential at 0x24434cfe790>"
      ]
     },
     "execution_count": 2,
     "metadata": {},
     "output_type": "execute_result"
    }
   ],
   "source": [
    "# exam05) kernel_constrain\n",
    "# 최적화 단계에서 매개변수(가중치)에 대한 제약 조건이 설정된다. 레이어에 대한 제약조건 사용할때\n",
    "# 가중치가 음수가 아닌것을 제안하자  / 표준으로 / 주어진 값이 작거나 같은 값으로 제안하자\n",
    "from keras import constraints\n",
    "\n",
    "my_const = constraints.UnitNorm(axis=0)\n",
    "\n",
    "model = Sequential()\n",
    "model.add(Dense(512, activation = 'relu', input_shape=(784,), kernel_constraint=my_const))\n",
    "model"
   ]
  },
  {
   "cell_type": "code",
   "execution_count": 20,
   "metadata": {},
   "outputs": [
    {
     "name": "stdout",
     "output_type": "stream",
     "text": [
      "tf.Tensor(3.0, shape=(), dtype=float32)\n",
      "2.0\n"
     ]
    },
    {
     "data": {
      "image/png": "[encoded data removed]",
      "text/plain": [
       "<Figure size 432x288 with 1 Axes>"
      ]
     },
     "metadata": {
      "needs_background": "light"
     },
     "output_type": "display_data"
    }
   ],
   "source": [
    "import tensorflow as tf\n",
    "from matplotlib import pyplot as plt\n",
    "\n",
    "tf.executing_eagerly()   # 계산 그래프를 즉시 실행. executing_eagerly 사용\n",
    "\n",
    "x = tf.constant(3.0)\n",
    "print(x)\n",
    "\n",
    "with tf.GradientTape() as g:   # with 내부 계산을 기록\n",
    "    g.watch(x)   # x를 기록\n",
    "    y = 2 * x   # 미분 방정식\n",
    "    \n",
    "print(g.gradient(y, x).numpy())   # x = 3 일 때의 y 기울기를 구한다\n",
    "\n",
    "fig = plt.figure()  # 그림그리는 바탕을 fig로 만들겠다.\n",
    "\n",
    "ax = fig.add_subplot(1, 1, 1)\n",
    "ax.spines['left'].set_position('zero')\n",
    "ax.spines['bottom'].set_position('zero')\n",
    "ax.spines['right'].set_color('none')\n",
    "ax.spines['top'].set_color('none')\n",
    "ax.xaxis.set_ticks_position('bottom')\n",
    "ax.yaxis.set_ticks_position('left')\n",
    "plt.plot(x, y, '-b', label='w1')\n",
    "plt.xlim(-5, 5)  # x 축의 눈금숫자의 시작과 마지막\n",
    "plt.ylim(-5, 5)  # y 축의 눈금숫자의 시작과 마지막\n",
    "plt.title('Graph of w')\n",
    "plt.xlabel('x', color='#1C2833')  # x의 라벨 색깔\n",
    "plt.ylabel('y', color='#1C2833')  # y의 라벨 색깔\n",
    "plt.legend(loc='upper left')  # 레전드가 왼쪽에 나오게\n",
    "plt.grid()  # 격자모양출력\n",
    "plt.show()"
   ]
  },
  {
   "cell_type": "code",
   "execution_count": null,
   "metadata": {},
   "outputs": [],
   "source": [
    "x = np.linspace(-2,2,50)  # 직선의 시작점 끝점\n",
    "y = -(x * w[1]/w[2]) + (w[0]/w[2])  # 최종 가중치 직선의 방정식\n",
    "\n",
    "fig = plt.figure()  # 그림그리는 바탕을 fig로 만들겠다.\n",
    "\n",
    "ax = fig.add_subplot(1, 1, 1)\n",
    "ax.spines['left'].set_position('zero')\n",
    "ax.spines['bottom'].set_position('zero')\n",
    "ax.spines['right'].set_color('none')\n",
    "ax.spines['top'].set_color('none')\n",
    "ax.xaxis.set_ticks_position('bottom')\n",
    "ax.yaxis.set_ticks_position('left')\n",
    "plt.plot(x, y, '-b', label='w1')\n",
    "plt.xlim(-5, 5)  # x 축의 눈금숫자의 시작과 마지막\n",
    "plt.ylim(-5, 5)  # y 축의 눈금숫자의 시작과 마지막\n",
    "plt.title('Graph of w')\n",
    "plt.xlabel('x', color='#1C2833')  # x의 라벨 색깔\n",
    "plt.ylabel('y', color='#1C2833')  # y의 라벨 색깔\n",
    "plt.legend(loc='upper left')  # 레전드가 왼쪽에 나오게\n",
    "plt.grid()  # 격자모양출력\n",
    "plt.show()"
   ]
  },
  {
   "cell_type": "code",
   "execution_count": 18,
   "metadata": {},
   "outputs": [
    {
     "data": {
      "text/plain": [
       "6.0"
      ]
     },
     "execution_count": 18,
     "metadata": {},
     "output_type": "execute_result"
    }
   ],
   "source": [
    "x = tf.Variable(3.0)\n",
    "\n",
    "with tf.GradientTape() as g:\n",
    "    y = x * x\n",
    "    \n",
    "g.gradient(y, x).numpy()"
   ]
  },
  {
   "cell_type": "code",
   "execution_count": 21,
   "metadata": {},
   "outputs": [
    {
     "name": "stdout",
     "output_type": "stream",
     "text": [
      "n = -3.0 : gradient = 2.0\n",
      "n = 0.0 : gradient = 2.0\n",
      "n = 3.0 : gradient = 27.0\n"
     ]
    }
   ],
   "source": [
    "def with_if(x):\n",
    "    if x <= 0:\n",
    "        return x * 2   # 기울기가 2\n",
    "    else:\n",
    "        return x * x * x   # 3*x*x\n",
    "    \n",
    "def with_if_gradient(n):\n",
    "    x = tf.Variable(n)\n",
    "    with tf.GradientTape() as g:\n",
    "        y = with_if(x)\n",
    "    print('n = %.1f : gradient = %.1f' % (n, g.gradient(y, x)))\n",
    "    \n",
    "with_if_gradient(-3.0)\n",
    "with_if_gradient(0.0)\n",
    "with_if_gradient(3.0)"
   ]
  },
  {
   "cell_type": "code",
   "execution_count": 25,
   "metadata": {},
   "outputs": [
    {
     "data": {
      "image/png": "[encoded data removed]",
      "text/plain": [
       "<Figure size 432x288 with 1 Axes>"
      ]
     },
     "metadata": {
      "needs_background": "light"
     },
     "output_type": "display_data"
    }
   ],
   "source": [
    "def Test(x,y):\n",
    "    fig = plt.figure()  # 그림그리는 바탕을 fig로 만들겠다.\n",
    "\n",
    "    ax = fig.add_subplot(1, 1, 1)\n",
    "    ax.spines['left'].set_position('zero')\n",
    "    ax.spines['bottom'].set_position('zero')\n",
    "    ax.spines['right'].set_color('none')\n",
    "    ax.spines['top'].set_color('none')\n",
    "    ax.xaxis.set_ticks_position('bottom')\n",
    "    ax.yaxis.set_ticks_position('left')\n",
    "    plt.plot(x, y, '-b', label='w1')\n",
    "    plt.xlim(-5, 5)  # x 축의 눈금숫자의 시작과 마지막\n",
    "    plt.ylim(-5, 5)  # y 축의 눈금숫자의 시작과 마지막\n",
    "    plt.title('Graph of w')\n",
    "    plt.xlabel('x', color='#1C2833')  # x의 라벨 색깔\n",
    "    plt.ylabel('y', color='#1C2833')  # y의 라벨 색깔\n",
    "    plt.legend(loc='upper left')  # 레전드가 왼쪽에 나오게\n",
    "    plt.grid()  # 격자모양출력\n",
    "    plt.show()\n",
    "    \n",
    "x = [-3.0, 0.0, 3.0]\n",
    "y = [2.0, 2.0, 27.0]\n",
    "Test(x,y)"
   ]
  },
  {
   "cell_type": "code",
   "execution_count": 22,
   "metadata": {},
   "outputs": [
    {
     "data": {
      "text/plain": [
       "[<tf.Tensor: shape=(), dtype=float32, numpy=6.0>,\n",
       " <tf.Tensor: shape=(), dtype=float32, numpy=5.0>]"
      ]
     },
     "execution_count": 22,
     "metadata": {},
     "output_type": "execute_result"
    }
   ],
   "source": [
    "a = tf.Variable(3.0)\n",
    "b = tf.Variable(4.0)\n",
    "\n",
    "with tf.GradientTape() as g:\n",
    "    f = a ** 2 + 5 * b  # 다변량 미분 공식\n",
    "    \n",
    "g.gradient(f, [a,b])"
   ]
  },
  {
   "cell_type": "code",
   "execution_count": 23,
   "metadata": {},
   "outputs": [
    {
     "data": {
      "text/plain": [
       "[<tf.Tensor: shape=(), dtype=float32, numpy=5.0>,\n",
       " [<tf.Tensor: shape=(), dtype=float32, numpy=6.0>]]"
      ]
     },
     "execution_count": 23,
     "metadata": {},
     "output_type": "execute_result"
    }
   ],
   "source": [
    "a = tf.Variable(3.0)\n",
    "b = tf.Variable(4.0)\n",
    "\n",
    "with tf.GradientTape() as g:\n",
    "    f = a ** 2 + 5 * b  # 다변량 미분 공식\n",
    "    \n",
    "g.gradient(f, [b, [a]])"
   ]
  },
  {
   "cell_type": "code",
   "execution_count": 34,
   "metadata": {},
   "outputs": [
    {
     "name": "stdout",
     "output_type": "stream",
     "text": [
      "[<tensorflow.python.keras.layers.core.Dense object at 0x000002443F77CA30>, <tensorflow.python.keras.layers.core.Dense object at 0x000002443F77C880>, <tensorflow.python.keras.layers.core.Dense object at 0x000002443F785970>] \n",
      "\n",
      "[<KerasTensor: shape=(None, 8) dtype=float32 (created by layer 'dense_18_input')>] \n",
      "\n",
      "[<KerasTensor: shape=(None, 8) dtype=float32 (created by layer 'dense_20')>] \n",
      "\n"
     ]
    }
   ],
   "source": [
    "# exam) 모델 생성\n",
    "from tensorflow.keras.layers import Dense, Activation, Dropout\n",
    "from tensorflow.keras.models import Sequential\n",
    "\n",
    "model = Sequential()\n",
    "# model.add(Dense(512, activation = 'relu', input_shape=(784,), kernel_initializer=my_init))\n",
    "# model\n",
    "\n",
    "input_layer = Dense(32, input_shape=(8,))\n",
    "model.add(input_layer)\n",
    "\n",
    "hidden_layer = Dense(64, activation='relu')\n",
    "model.add(hidden_layer)\n",
    "\n",
    "output_layer = Dense(8)\n",
    "model.add(output_layer)\n",
    "\n",
    "layers = model.layers\n",
    "print(layers, '\\n')\n",
    "\n",
    "inputs = model.inputs  # 모델의 모든 입력텐서 반환\n",
    "print(inputs, '\\n')\n",
    "\n",
    "output = model.outputs\n",
    "print(output, '\\n')\n",
    "\n",
    "# model.get_weights() - 모든 가중치를 numpy 배열로 반환한다\n",
    "# model.set_weights()"
   ]
  },
  {
   "cell_type": "code",
   "execution_count": 32,
   "metadata": {
    "scrolled": true
   },
   "outputs": [
    {
     "data": {
      "text/plain": [
       "[array([[-0.01072127, -0.5581951 , -0.3344441 , -0.5136783 ],\n",
       "        [-0.7478444 , -0.38731325, -0.21212035,  0.19002408],\n",
       "        [-0.36694992, -0.5654199 , -0.03335154, -0.01171774],\n",
       "        [-0.41603246,  0.27861363, -0.8595214 , -0.8241571 ]],\n",
       "       dtype=float32),\n",
       " array([0., 0., 0., 0.], dtype=float32)]"
      ]
     },
     "execution_count": 32,
     "metadata": {},
     "output_type": "execute_result"
    }
   ],
   "source": [
    "model = Sequential()\n",
    "input_layer = Dense(4, input_shape=(4,))\n",
    "model.add(input_layer)\n",
    "model.get_weights()"
   ]
  },
  {
   "cell_type": "code",
   "execution_count": 39,
   "metadata": {
    "scrolled": true
   },
   "outputs": [
    {
     "name": "stdout",
     "output_type": "stream",
     "text": [
      "Model: \"sequential_13\"\n",
      "_________________________________________________________________\n",
      "Layer (type)                 Output Shape              Param #   \n",
      "=================================================================\n",
      "dense_18 (Dense)             (None, 32)                288       \n",
      "_________________________________________________________________\n",
      "dense_19 (Dense)             (None, 64)                2112      \n",
      "_________________________________________________________________\n",
      "dense_20 (Dense)             (None, 8)                 520       \n",
      "=================================================================\n",
      "Total params: 2,920\n",
      "Trainable params: 2,920\n",
      "Non-trainable params: 0\n",
      "_________________________________________________________________\n"
     ]
    }
   ],
   "source": [
    "from keras.models import model_from_json\n",
    "\n",
    "# 모델의 직렬화\n",
    "\n",
    "config = model.get_config()\n",
    "config\n",
    "\n",
    "# 로드\n",
    "json_string = model.to_json()\n",
    "json_string\n",
    "\n",
    "new_model = model_from_json(json_string)\n",
    "new_model\n",
    "\n",
    "# 모델값을 문자열로\n",
    "res = model.to_yaml()\n",
    "res\n",
    "\n",
    "# 모델을 요약\n",
    "model.summary()\n",
    "\n",
    "# 모델 훈련 및 예측\n",
    "# 컴파일(모델의 학습과정) -> fit(훈련데이터로 모델 훈련) -> 평가(테스트데이터로 모델평가) -> 예측(새로운 입력에 대한 결과를 예측)"
   ]
  },
  {
   "cell_type": "code",
   "execution_count": 46,
   "metadata": {},
   "outputs": [
    {
     "name": "stdout",
     "output_type": "stream",
     "text": [
      "KerasTensor(type_spec=TensorSpec(shape=(None, 2, 2), dtype=tf.float32, name=None), name='dense_25/BiasAdd:0', description=\"created by layer 'dense_25'\")\n",
      "Model: \"model_3\"\n",
      "_________________________________________________________________\n",
      "Layer (type)                 Output Shape              Param #   \n",
      "=================================================================\n",
      "input_7 (InputLayer)         [(None, 2, 3)]            0         \n",
      "_________________________________________________________________\n",
      "dense_25 (Dense)             (None, 2, 2)              8         \n",
      "=================================================================\n",
      "Total params: 8\n",
      "Trainable params: 8\n",
      "Non-trainable params: 0\n",
      "_________________________________________________________________\n"
     ]
    }
   ],
   "source": [
    "# 모델 생성 연습\n",
    "from keras.layers import Input\n",
    "\n",
    "data = Input(shape=(2,3))\n",
    "layer = Dense(2)(data)\n",
    "print(layer)\n",
    "\n",
    "model = Model(inputs=data, outputs=layer)\n",
    "model.summary()"
   ]
  },
  {
   "cell_type": "code",
   "execution_count": null,
   "metadata": {},
   "outputs": [],
   "source": [
    "compile(\n",
    "    optimizer='rmsprop', loss=None, metrics=None, loss_weights=None,\n",
    "    weighted_metrics=None, run_eagerly=None, steps_per_execution=None, **kwargs\n",
    ")\n",
    "\n",
    "fit(\n",
    "    x=None, y=None, batch_size=None, epochs=1, verbose=1, callbacks=None,\n",
    "    validation_split=0.0, validation_data=None, shuffle=True, class_weight=None,\n",
    "    sample_weight=None, initial_epoch=0, steps_per_epoch=None,\n",
    "    validation_steps=None, validation_batch_size=None, validation_freq=1,\n",
    "    max_queue_size=10, workers=1, use_multiprocessing=False\n",
    ")"
   ]
  },
  {
   "cell_type": "code",
   "execution_count": null,
   "metadata": {},
   "outputs": [],
   "source": [
    "from tensorboardX import SummaryWriter\n",
    "from datetime import datetime\n",
    "from packaging import version\n",
    "\n",
    "summary = SummaryWriter()\n",
    "logdir=\"logs\\\\fit\\\\\" + datetime.now().strftime(\"%Y%m%d-%H%M%S\")\n",
    "tensorboard_callback = keras.callbacks.TensorBoard(log_dir=logdir)"
   ]
  },
  {
   "cell_type": "code",
   "execution_count": 65,
   "metadata": {},
   "outputs": [
    {
     "name": "stdout",
     "output_type": "stream",
     "text": [
      "Epoch 1/5\n",
      "4/4 [==============================] - 14s 2s/step - loss: 11.7796 - accuracy: 0.1114 - val_loss: 11.5518 - val_accuracy: 0.1100\n",
      "Epoch 2/5\n",
      "4/4 [==============================] - 0s 57ms/step - loss: 11.7883 - accuracy: 0.1233 - val_loss: 11.5554 - val_accuracy: 0.1050\n",
      "Epoch 3/5\n",
      "4/4 [==============================] - 0s 52ms/step - loss: 11.7292 - accuracy: 0.1217 - val_loss: 11.5598 - val_accuracy: 0.0975\n",
      "Epoch 4/5\n",
      "4/4 [==============================] - 0s 61ms/step - loss: 11.8099 - accuracy: 0.1074 - val_loss: 11.5655 - val_accuracy: 0.0925\n",
      "Epoch 5/5\n",
      "4/4 [==============================] - 0s 52ms/step - loss: 11.8290 - accuracy: 0.1251 - val_loss: 11.5725 - val_accuracy: 0.0925\n",
      "<class 'tensorflow.python.keras.callbacks.History'>\n",
      "[11.753506660461426, 11.757205963134766, 11.7623929977417, 11.768101692199707, 11.77550983428955]\n",
      "[0.11500000208616257, 0.11999999731779099, 0.11749999970197678, 0.11749999970197678, 0.11749999970197678]\n",
      "[11.551839828491211, 11.555397033691406, 11.559762001037598, 11.565534591674805, 11.572493553161621]\n",
      "[0.10999999940395355, 0.10499999672174454, 0.09749999642372131, 0.0925000011920929, 0.0925000011920929]\n"
     ]
    },
    {
     "data": {
      "image/png": "[encoded data removed]",
      "text/plain": [
       "<Figure size 432x288 with 2 Axes>"
      ]
     },
     "metadata": {
      "needs_background": "light"
     },
     "output_type": "display_data"
    }
   ],
   "source": [
    "# 간단한 모델 컴파일 해보자\n",
    "import numpy as np\n",
    "import keras\n",
    "from tensorflow.keras.layers import Dense, Activation, Dropout, LSTM\n",
    "from tensorflow.keras.models import Sequential\n",
    "from tensorboardX import SummaryWriter\n",
    "from datetime import datetime\n",
    "from packaging import version\n",
    "\n",
    "summary = SummaryWriter()\n",
    "logdir=\"logs\\\\fit\\\\\" + datetime.now().strftime(\"%Y%m%d-%H%M%S\")\n",
    "tensorboard_callback = keras.callbacks.TensorBoard(log_dir=logdir)\n",
    "\n",
    "# 임의의 데이터\n",
    "x_train = np.random.random((100,4,8))\n",
    "y_train = np.random.random((100,4,10))\n",
    "\n",
    "# 임의의 유효성 검사 데이터\n",
    "x_val = np.random.random((100,4,8))\n",
    "y_val = np.random.random((100,4,10))\n",
    "\n",
    "# 순차 모델링\n",
    "model = Sequential()\n",
    "\n",
    "# 모델 추가, 레이어 추가\n",
    "model.add(LSTM(16, return_sequences=True))\n",
    "model.add(Dense(10, activation='softmax'))\n",
    "\n",
    "# 모델 컴파일\n",
    "model.compile(loss='categorical_crossentropy', optimizer='sgd', metrics=['accuracy'])\n",
    "\n",
    "# 데이터 훈련\n",
    "hist = model.fit(x_train, y_train, batch_size=32, epochs=5, validation_data=(x_val,y_val), callbacks=[tensorboard_callback])\n",
    "hist\n",
    "print(type(hist))\n",
    "print(hist.history['loss'])\n",
    "print(hist.history['accuracy'])\n",
    "print(hist.history['val_loss'])\n",
    "print(hist.history['val_accuracy'])\n",
    "\n",
    "# fit() 히스토리 기능\n",
    "'''\n",
    "loss : 훈련 손실값\n",
    "accuracy : 정확도\n",
    "val_loss : 검증 손실값\n",
    "val_accuracy : 검증 정확도\n",
    "'''\n",
    "\n",
    "# C:\\Users\\USER>tensorboard --logdir C:\\Users\\USER\\MyPython\\DL\\logs\n",
    "\n",
    "# 그래프로 확인\n",
    "\n",
    "import matplotlib.pyplot as plt\n",
    "\n",
    "fig, loss_ax = plt.subplots()\n",
    "acc_ax = loss_ax.twinx()\n",
    "loss_ax.plot(hist.history['loss'], 'y', label='train loss')\n",
    "loss_ax.plot(hist.history['val_loss'], 'r', label='val loss')\n",
    "acc_ax.plot(hist.history['accuracy'], 'b', label='train acc')\n",
    "acc_ax.plot(hist.history['val_accuracy'], 'g', label='val acc')\n",
    "loss_ax.set_xlabel('epoch')\n",
    "loss_ax.set_ylabel('loss')\n",
    "acc_ax.set_ylabel('accuray')\n",
    "loss_ax.legend(loc='upper left')\n",
    "acc_ax.legend(loc='lower left')\n",
    "plt.show()"
   ]
  },
  {
   "cell_type": "code",
   "execution_count": null,
   "metadata": {},
   "outputs": [],
   "source": [
    "One-Hot Encoding : 사람이 인식할 수 있는 데이터를 숫자로 변환 정렬 시켜서 컴퓨터에게 주입시킨다.\n",
    "  Data -> 숫자\n",
    "  단어 -> 숫자\n",
    "  딥러닝 : 문자열 -> 분철 -> 숫자인덱싱 -> 원핫 인코딩"
   ]
  },
  {
   "cell_type": "code",
   "execution_count": 77,
   "metadata": {},
   "outputs": [
    {
     "name": "stdout",
     "output_type": "stream",
     "text": [
      "{'저는': 1, '하루': 2, '이상': 3, '휴일을': 4, '좋아합니다': 5, '그': 6, '중': 7, '목요일을': 8, '가장': 9, '좋아한다': 10, '좋아하는': 11, '날에': 12, '대면을': 13, '가나봐요': 14, '여러분은': 15}\n"
     ]
    }
   ],
   "source": [
    "import numpy as np\n",
    "import keras\n",
    "import tensorflow as tf\n",
    "from tensorflow.keras.preprocessing.text import Tokenizer\n",
    "\n",
    "str = \"저는 하루 이상 휴일을 좋아합니다. 그 중 저는 목요일을 가장 좋아한다. 좋아하는 날에 대면을 가나봐요 여러분은?\"\n",
    "\n",
    "tokenizer = Tokenizer()\n",
    "tokenizer.fit_on_texts([str])\n",
    "print(tokenizer.word_index)  # 공백 기준"
   ]
  },
  {
   "cell_type": "code",
   "execution_count": 78,
   "metadata": {},
   "outputs": [
    {
     "data": {
      "text/plain": [
       "[[1, 2, 3, 4, 5, 6, 7, 1, 8, 9, 10, 11, 12, 13, 14, 15]]"
      ]
     },
     "execution_count": 78,
     "metadata": {},
     "output_type": "execute_result"
    }
   ],
   "source": [
    "encode = tokenizer.texts_to_sequences([str])\n",
    "encode"
   ]
  },
  {
   "cell_type": "code",
   "execution_count": 79,
   "metadata": {},
   "outputs": [
    {
     "name": "stdout",
     "output_type": "stream",
     "text": [
      "[[[0. 1. 0. 0. 0. 0. 0. 0. 0. 0. 0. 0. 0. 0. 0. 0.]\n",
      "  [0. 0. 1. 0. 0. 0. 0. 0. 0. 0. 0. 0. 0. 0. 0. 0.]\n",
      "  [0. 0. 0. 1. 0. 0. 0. 0. 0. 0. 0. 0. 0. 0. 0. 0.]\n",
      "  [0. 0. 0. 0. 1. 0. 0. 0. 0. 0. 0. 0. 0. 0. 0. 0.]\n",
      "  [0. 0. 0. 0. 0. 1. 0. 0. 0. 0. 0. 0. 0. 0. 0. 0.]\n",
      "  [0. 0. 0. 0. 0. 0. 1. 0. 0. 0. 0. 0. 0. 0. 0. 0.]\n",
      "  [0. 0. 0. 0. 0. 0. 0. 1. 0. 0. 0. 0. 0. 0. 0. 0.]\n",
      "  [0. 1. 0. 0. 0. 0. 0. 0. 0. 0. 0. 0. 0. 0. 0. 0.]\n",
      "  [0. 0. 0. 0. 0. 0. 0. 0. 1. 0. 0. 0. 0. 0. 0. 0.]\n",
      "  [0. 0. 0. 0. 0. 0. 0. 0. 0. 1. 0. 0. 0. 0. 0. 0.]\n",
      "  [0. 0. 0. 0. 0. 0. 0. 0. 0. 0. 1. 0. 0. 0. 0. 0.]\n",
      "  [0. 0. 0. 0. 0. 0. 0. 0. 0. 0. 0. 1. 0. 0. 0. 0.]\n",
      "  [0. 0. 0. 0. 0. 0. 0. 0. 0. 0. 0. 0. 1. 0. 0. 0.]\n",
      "  [0. 0. 0. 0. 0. 0. 0. 0. 0. 0. 0. 0. 0. 1. 0. 0.]\n",
      "  [0. 0. 0. 0. 0. 0. 0. 0. 0. 0. 0. 0. 0. 0. 1. 0.]\n",
      "  [0. 0. 0. 0. 0. 0. 0. 0. 0. 0. 0. 0. 0. 0. 0. 1.]]]\n"
     ]
    }
   ],
   "source": [
    "onehot = tf.keras.utils.to_categorical(encode)\n",
    "print(onehot)"
   ]
  },
  {
   "cell_type": "code",
   "execution_count": 80,
   "metadata": {},
   "outputs": [
    {
     "name": "stdout",
     "output_type": "stream",
     "text": [
      "[[[0. 1. 0. 0. 0. 0. 0. 0. 0. 0. 0. 0. 0. 0. 0. 0. 0. 0. 0. 0. 0. 0. 0.\n",
      "   0. 0. 0. 0. 0. 0. 0.]\n",
      "  [0. 0. 1. 0. 0. 0. 0. 0. 0. 0. 0. 0. 0. 0. 0. 0. 0. 0. 0. 0. 0. 0. 0.\n",
      "   0. 0. 0. 0. 0. 0. 0.]\n",
      "  [0. 0. 0. 1. 0. 0. 0. 0. 0. 0. 0. 0. 0. 0. 0. 0. 0. 0. 0. 0. 0. 0. 0.\n",
      "   0. 0. 0. 0. 0. 0. 0.]\n",
      "  [0. 0. 0. 0. 1. 0. 0. 0. 0. 0. 0. 0. 0. 0. 0. 0. 0. 0. 0. 0. 0. 0. 0.\n",
      "   0. 0. 0. 0. 0. 0. 0.]\n",
      "  [0. 0. 0. 0. 0. 1. 0. 0. 0. 0. 0. 0. 0. 0. 0. 0. 0. 0. 0. 0. 0. 0. 0.\n",
      "   0. 0. 0. 0. 0. 0. 0.]\n",
      "  [0. 0. 0. 0. 0. 0. 1. 0. 0. 0. 0. 0. 0. 0. 0. 0. 0. 0. 0. 0. 0. 0. 0.\n",
      "   0. 0. 0. 0. 0. 0. 0.]\n",
      "  [0. 0. 0. 0. 0. 0. 0. 1. 0. 0. 0. 0. 0. 0. 0. 0. 0. 0. 0. 0. 0. 0. 0.\n",
      "   0. 0. 0. 0. 0. 0. 0.]\n",
      "  [0. 1. 0. 0. 0. 0. 0. 0. 0. 0. 0. 0. 0. 0. 0. 0. 0. 0. 0. 0. 0. 0. 0.\n",
      "   0. 0. 0. 0. 0. 0. 0.]\n",
      "  [0. 0. 0. 0. 0. 0. 0. 0. 1. 0. 0. 0. 0. 0. 0. 0. 0. 0. 0. 0. 0. 0. 0.\n",
      "   0. 0. 0. 0. 0. 0. 0.]\n",
      "  [0. 0. 0. 0. 0. 0. 0. 0. 0. 1. 0. 0. 0. 0. 0. 0. 0. 0. 0. 0. 0. 0. 0.\n",
      "   0. 0. 0. 0. 0. 0. 0.]\n",
      "  [0. 0. 0. 0. 0. 0. 0. 0. 0. 0. 1. 0. 0. 0. 0. 0. 0. 0. 0. 0. 0. 0. 0.\n",
      "   0. 0. 0. 0. 0. 0. 0.]\n",
      "  [0. 0. 0. 0. 0. 0. 0. 0. 0. 0. 0. 1. 0. 0. 0. 0. 0. 0. 0. 0. 0. 0. 0.\n",
      "   0. 0. 0. 0. 0. 0. 0.]\n",
      "  [0. 0. 0. 0. 0. 0. 0. 0. 0. 0. 0. 0. 1. 0. 0. 0. 0. 0. 0. 0. 0. 0. 0.\n",
      "   0. 0. 0. 0. 0. 0. 0.]\n",
      "  [0. 0. 0. 0. 0. 0. 0. 0. 0. 0. 0. 0. 0. 1. 0. 0. 0. 0. 0. 0. 0. 0. 0.\n",
      "   0. 0. 0. 0. 0. 0. 0.]\n",
      "  [0. 0. 0. 0. 0. 0. 0. 0. 0. 0. 0. 0. 0. 0. 1. 0. 0. 0. 0. 0. 0. 0. 0.\n",
      "   0. 0. 0. 0. 0. 0. 0.]\n",
      "  [0. 0. 0. 0. 0. 0. 0. 0. 0. 0. 0. 0. 0. 0. 0. 1. 0. 0. 0. 0. 0. 0. 0.\n",
      "   0. 0. 0. 0. 0. 0. 0.]]]\n"
     ]
    }
   ],
   "source": [
    "onehot = tf.keras.utils.to_categorical(encode,30)\n",
    "print(onehot)"
   ]
  },
  {
   "cell_type": "code",
   "execution_count": 82,
   "metadata": {},
   "outputs": [],
   "source": [
    "# exam) 모델링 학습을 해보자\n",
    "import pandas as pd\n",
    "import numpy as np\n",
    "from keras.models import Sequential\n",
    "from keras.layers import Dense\n",
    "from keras.layers import Dropout\n",
    "from keras.layers import Flatten\n",
    "from keras.layers import Activation\n",
    "from keras.layers.convolutional import Conv2D\n",
    "from keras.layers.convolutional import MaxPooling2D\n",
    "from keras.optimizers import Adam\n",
    "from keras.utils import np_utils\n",
    "from keras import backend as K\n",
    "from sklearn.utils import shuffle\n",
    "import tensorflow as tf"
   ]
  },
  {
   "cell_type": "code",
   "execution_count": 94,
   "metadata": {},
   "outputs": [],
   "source": [
    "# 1. 데이터 로드\n",
    "test = pd.read_csv('C:\\\\Users\\\\USER\\\\MyPython\\\\DL\\\\titanic\\\\test.csv')\n",
    "train = pd.read_csv('C:\\\\Users\\\\USER\\\\MyPython\\\\DL\\\\titanic\\\\train.csv')\n",
    "\n",
    "train_x = train.drop('Survived', axis=1)\n",
    "train_y = train[\"Survived\"]\n",
    "\n",
    "test_x = test\n",
    "\n",
    "# 결측값 삭제하기\n",
    "train_x = train_x.drop(['Name', 'Ticket', 'Cabin'], axis=1)\n",
    "test_x = test_x.drop(['Name', 'Ticket', 'Cabin'], axis=1)\n",
    "\n",
    "# 결측값을 채우기\n",
    "train_age_median = train_x['Age'].median()\n",
    "train_x['Age'] = train_x['Age'].fillna(train_age_median)\n",
    "train_x['Embarked'] = train_x['Embarked'].fillna('S')\n",
    "\n",
    "# test 결측값 채우기\n",
    "test_age_median = test_x['Age'].median()\n",
    "test_x['Age'] = test_x['Age'].fillna(train_age_median)\n",
    "\n",
    "test_x['Fare'] = test_x['Fare'].fillna(test_x['Fare'].describe()[5])\n",
    "\n",
    "# 더미 컬럼 생성\n",
    "train_x_dummy = pd.get_dummies(train_x, columns=['Sex','Embarked'])\n",
    "test_x_dummy = pd.get_dummies(train_x, columns=['Sex','Embarked'])\n",
    "\n",
    "# one-hot\n",
    "train_y_onehot = np_utils.to_categorical(train_y)\n",
    "\n",
    "train_x_dummy_array = train_x_dummy.values.astype('float32')"
   ]
  },
  {
   "cell_type": "code",
   "execution_count": 96,
   "metadata": {},
   "outputs": [
    {
     "name": "stdout",
     "output_type": "stream",
     "text": [
      "Epoch 1/10\n",
      "28/28 [==============================] - 4s 3ms/step - loss: 22.7858 - accuracy: 0.4817\n",
      "Epoch 2/10\n",
      "28/28 [==============================] - 0s 8ms/step - loss: 6.0072 - accuracy: 0.5368\n",
      "Epoch 3/10\n",
      "28/28 [==============================] - 0s 5ms/step - loss: 3.9398 - accuracy: 0.5182\n",
      "Epoch 4/10\n",
      "28/28 [==============================] - 0s 7ms/step - loss: 3.8525 - accuracy: 0.5716\n",
      "Epoch 5/10\n",
      "28/28 [==============================] - 0s 6ms/step - loss: 3.1034 - accuracy: 0.6223\n",
      "Epoch 6/10\n",
      "28/28 [==============================] - 0s 9ms/step - loss: 3.9571 - accuracy: 0.5948\n",
      "Epoch 7/10\n",
      "28/28 [==============================] - 0s 4ms/step - loss: 4.0942 - accuracy: 0.5582\n",
      "Epoch 00007: early stopping\n"
     ]
    }
   ],
   "source": [
    "# 2. 모델 생성\n",
    "from tensorflow.keras import layers\n",
    "\n",
    "model = tf.keras.Sequential()\n",
    "model.add(layers.Dense(64, activation = 'relu'))\n",
    "model.add(layers.Dense(64, activation = 'relu'))\n",
    "model.add(layers.Dense(2, activation = 'softmax'))\n",
    "\n",
    "# 3. 컴파일\n",
    "model.compile(optimizer='rmsprop', loss='categorical_crossentropy', metrics=['accuracy'])\n",
    "# model.compile(optimizer='sgd', loss='mse', metrics=[tf.keras.metrics.Recall()])\n",
    "\n",
    "# 4. fit()\n",
    "mycall = tf.keras.callbacks.EarlyStopping(monitor='loss', patience=2, verbose=1, mode='auto')\n",
    "model.fit(train_x_dummy_array, train_y_onehot, epochs=10, batch_size=32, callbacks=[mycall])\n",
    "\n",
    "# 5. 저장\n",
    "model.save('res.h5')"
   ]
  },
  {
   "cell_type": "code",
   "execution_count": null,
   "metadata": {},
   "outputs": [],
   "source": [
    "res = pd.read_hdf('res.h5')\n",
    "res"
   ]
  }
 ],
 "metadata": {
  "kernelspec": {
   "display_name": "Python 3",
   "language": "python",
   "name": "python3"
  },
  "language_info": {
   "codemirror_mode": {
    "name": "ipython",
    "version": 3
   },
   "file_extension": ".py",
   "mimetype": "text/x-python",
   "name": "python",
   "nbconvert_exporter": "python",
   "pygments_lexer": "ipython3",
   "version": "3.8.5"
  }
 },
 "nbformat": 4,
 "nbformat_minor": 4
}
