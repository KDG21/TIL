{
 "cells": [
  {
   "cell_type": "code",
   "execution_count": null,
   "metadata": {},
   "outputs": [],
   "source": [
    "# !pip install extra_keras_datasets"
   ]
  },
  {
   "cell_type": "code",
   "execution_count": 3,
   "metadata": {},
   "outputs": [],
   "source": [
    "import numpy as np\n",
    "import matplotlib\n",
    "import matplotlib.pyplot as plt\n",
    "import tensorflow as tf\n",
    "import tensorflow.keras as keras\n",
    "import extra_keras_datasets.emnist as emnist\n",
    "from tensorflow.keras.layers import Flatten, Dense\n",
    "from tensorflow.keras.layers import Conv2D, MaxPooling2D\n",
    "from tensorflow.keras.layers import BatchNormalization, Dropout"
   ]
  },
  {
   "cell_type": "code",
   "execution_count": 5,
   "metadata": {},
   "outputs": [
    {
     "name": "stderr",
     "output_type": "stream",
     "text": [
      "INFO:root:Loading dataset = emnist\n"
     ]
    },
    {
     "name": "stdout",
     "output_type": "stream",
     "text": [
      "numpy               : 1.19.2\n",
      "matplotlib          : 3.3.2\n",
      "tensorflow          : 2.4.1\n",
      "tensorflow.keras    : 2.4.0\n"
     ]
    },
    {
     "name": "stderr",
     "output_type": "stream",
     "text": [
      "WARNING:root:Please cite the following paper when using or referencing this Extra Keras Dataset:\n",
      "WARNING:root:Cohen, G., Afshar, S., Tapson, J., & van Schaik, A. (2017). EMNIST: an extension of MNIST to handwritten letters. Retrieved from http://arxiv.org/abs/1702.05373\n"
     ]
    }
   ],
   "source": [
    "def show_version(pkg):\n",
    "    print(\"{0:20}: {1}\".format(pkg.__name__, pkg.__version__))\n",
    "    \n",
    "show_version(np)\n",
    "show_version(matplotlib)\n",
    "show_version(tf)\n",
    "show_version(keras)\n",
    "\n",
    "#Step:1-3\n",
    "# EMNIST-Letters  : https://www.nist.gov/itl/products-and-services/emnist-dataset\n",
    "(t_images, t_labels), (v_images, v_labels) = emnist.load_data(type=\"letters\")\n",
    "\n",
    "def show_data_info(label, data):\n",
    "    print(\"{:12}: {}, {}\".format(label, data.dtype, data.shape))\n",
    "    \n",
    "def compatible_image(img):\n",
    "    if img.ndim == 3 and img.shape[2] == 1:\n",
    "        img = img.reshape(img.shape[0], img.shape[1])\n",
    "    return img\n",
    "\n",
    "def show_image(img):\n",
    "    plt.rcParams[\"font.size\"] = 10\n",
    "    plt.figure()\n",
    "    plt.imshow(compatible_image(img))\n",
    "    plt.colorbar()\n",
    "    plt.grid(False)\n",
    "    plt.show()"
   ]
  },
  {
   "cell_type": "code",
   "execution_count": 6,
   "metadata": {
    "scrolled": true
   },
   "outputs": [
    {
     "name": "stdout",
     "output_type": "stream",
     "text": [
      "t_images    : uint8, (124800, 28, 28)\n",
      "t_labels    : uint8, (124800,)\n",
      "v_images    : uint8, (20800, 28, 28)\n",
      "v_labels    : uint8, (20800,)\n"
     ]
    },
    {
     "data": {
      "image/png": "[encoded data removed]",
      "text/plain": [
       "<Figure size 432x288 with 2 Axes>"
      ]
     },
     "metadata": {
      "needs_background": "light"
     },
     "output_type": "display_data"
    }
   ],
   "source": [
    "# Step 1-4\n",
    "# 28*28 픽셀 이미지 데이터, 훈련데이터 124800, 평가데이터 20800\n",
    "# 27개의 분류, 0~26 정답레이블. 1=A, 2=B, ..., 26=Z\n",
    "show_data_info(\"t_images\", t_images)  # 3차원\n",
    "show_data_info(\"t_labels\", t_labels)\n",
    "show_data_info(\"v_images\", v_images)\n",
    "show_data_info(\"v_labels\", v_labels)\n",
    "show_image(t_images[0])"
   ]
  },
  {
   "cell_type": "code",
   "execution_count": 7,
   "metadata": {
    "scrolled": true
   },
   "outputs": [
    {
     "name": "stdout",
     "output_type": "stream",
     "text": [
      "t_images    : float32, (124800, 28, 28, 1)\n",
      "v_images    : float32, (20800, 28, 28, 1)\n"
     ]
    },
    {
     "data": {
      "image/png": "[encoded data removed]",
      "text/plain": [
       "<Figure size 432x288 with 2 Axes>"
      ]
     },
     "metadata": {
      "needs_background": "light"
     },
     "output_type": "display_data"
    }
   ],
   "source": [
    "# Step 1-5\n",
    "# 1) 이미지가 3차원(124800, 28, 28), CNN에서는 4차원 형상으로 변환\n",
    "#   => (1248, 28, 28, 1) : 회색으로 사용하겠다. (batch, height, width, channel)\n",
    "\n",
    "def adjust_image(img):\n",
    "    img = img.astype('float32')\n",
    "    img = img / 255.0\n",
    "    img = img.reshape(-1, 28, 28, 1)  # 3D -> 4D\n",
    "    return img\n",
    "\n",
    "t_images = adjust_image(t_images)\n",
    "v_images = adjust_image(v_images)\n",
    "\n",
    "show_data_info(\"t_images\", t_images)  # 3차원\n",
    "show_data_info(\"v_images\", v_images)\n",
    "show_image(t_images[0])"
   ]
  },
  {
   "cell_type": "code",
   "execution_count": 14,
   "metadata": {
    "scrolled": false
   },
   "outputs": [
    {
     "name": "stdout",
     "output_type": "stream",
     "text": [
      "Model: \"sequential_4\"\n",
      "_________________________________________________________________\n",
      "Layer (type)                 Output Shape              Param #   \n",
      "=================================================================\n",
      "conv2d_18 (Conv2D)           (None, 26, 26, 32)        320       \n",
      "_________________________________________________________________\n",
      "conv2d_19 (Conv2D)           (None, 24, 24, 32)        9248      \n",
      "_________________________________________________________________\n",
      "conv2d_20 (Conv2D)           (None, 20, 20, 32)        25632     \n",
      "_________________________________________________________________\n",
      "max_pooling2d_6 (MaxPooling2 (None, 10, 10, 32)        0         \n",
      "_________________________________________________________________\n",
      "dropout_9 (Dropout)          (None, 10, 10, 32)        0         \n",
      "_________________________________________________________________\n",
      "conv2d_21 (Conv2D)           (None, 8, 8, 64)          18496     \n",
      "_________________________________________________________________\n",
      "conv2d_22 (Conv2D)           (None, 6, 6, 64)          36928     \n",
      "_________________________________________________________________\n",
      "conv2d_23 (Conv2D)           (None, 2, 2, 64)          102464    \n",
      "_________________________________________________________________\n",
      "max_pooling2d_7 (MaxPooling2 (None, 1, 1, 64)          0         \n",
      "_________________________________________________________________\n",
      "dropout_10 (Dropout)         (None, 1, 1, 64)          0         \n",
      "_________________________________________________________________\n",
      "flatten_3 (Flatten)          (None, 64)                0         \n",
      "_________________________________________________________________\n",
      "dense_6 (Dense)              (None, 128)               8320      \n",
      "_________________________________________________________________\n",
      "dropout_11 (Dropout)         (None, 128)               0         \n",
      "_________________________________________________________________\n",
      "dense_7 (Dense)              (None, 27)                3483      \n",
      "=================================================================\n",
      "Total params: 204,891\n",
      "Trainable params: 204,891\n",
      "Non-trainable params: 0\n",
      "_________________________________________________________________\n"
     ]
    }
   ],
   "source": [
    "# step 1-6  모델 정의\n",
    "# 순차 모델 Conv2D(3) -> MaxPooling2D() -> Conv2D(3) -> MaxPooling2D() -> Flatten()\n",
    "#   -> Dense(128) -> Dense(27)\n",
    "import keras\n",
    "from keras import layers\n",
    "from keras import models\n",
    "from keras import optimizers\n",
    "\n",
    "# 순차 모델 생성\n",
    "model = models.Sequential()\n",
    "\n",
    "# Conv2D -> 4\n",
    "model.add(layers.Conv2D(32, (3,3), activation='relu', input_shape=(28, 28, 1)))\n",
    "model.add(layers.Conv2D(32, (3,3), activation='relu'))\n",
    "model.add(layers.Conv2D(32, (5,5), activation='relu'))\n",
    "model.add(layers.MaxPooling2D(2,2))\n",
    "model.add(Dropout(0.2))\n",
    "\n",
    "model.add(layers.Conv2D(64, (3,3), activation='relu'))\n",
    "model.add(layers.Conv2D(64, (3,3), activation='relu'))\n",
    "model.add(layers.Conv2D(64, (5,5), activation='relu'))\n",
    "model.add(layers.MaxPooling2D(2,2))\n",
    "model.add(Dropout(0.2))\n",
    "\n",
    "# 1차원\n",
    "model.add(layers.Flatten())\n",
    "\n",
    "model.add(layers.Dense(128, activation='relu'))\n",
    "model.add(Dropout(0.2))\n",
    "          \n",
    "# 출력\n",
    "model.add(layers.Dense(27, activation='softmax'))\n",
    "\n",
    "# step 1-7\n",
    "opt = keras.optimizers.Adam()\n",
    "loss = keras.losses.SparseCategoricalCrossentropy()\n",
    "model.compile(optimizer=opt, loss=loss, metrics=['accuracy'])\n",
    "\n",
    "model.summary()  # 모델 정보 확인"
   ]
  },
  {
   "cell_type": "code",
   "execution_count": 15,
   "metadata": {},
   "outputs": [
    {
     "name": "stdout",
     "output_type": "stream",
     "text": [
      "Epoch 1/20\n",
      "975/975 - 163s - loss: 0.7881 - accuracy: 0.7559 - val_loss: 0.2574 - val_accuracy: 0.9163\n",
      "Epoch 2/20\n",
      "975/975 - 164s - loss: 0.3282 - accuracy: 0.8961 - val_loss: 0.2221 - val_accuracy: 0.9283\n",
      "Epoch 3/20\n",
      "975/975 - 161s - loss: 0.2676 - accuracy: 0.9152 - val_loss: 0.1994 - val_accuracy: 0.9343\n",
      "Epoch 4/20\n",
      "975/975 - 165s - loss: 0.2388 - accuracy: 0.9229 - val_loss: 0.1892 - val_accuracy: 0.9380\n",
      "Epoch 5/20\n",
      "975/975 - 164s - loss: 0.2206 - accuracy: 0.9285 - val_loss: 0.1860 - val_accuracy: 0.9390\n",
      "Epoch 6/20\n",
      "975/975 - 162s - loss: 0.2066 - accuracy: 0.9327 - val_loss: 0.1744 - val_accuracy: 0.9425\n",
      "Epoch 7/20\n",
      "975/975 - 163s - loss: 0.1950 - accuracy: 0.9357 - val_loss: 0.1754 - val_accuracy: 0.9425\n",
      "Epoch 8/20\n",
      "975/975 - 159s - loss: 0.1856 - accuracy: 0.9382 - val_loss: 0.1758 - val_accuracy: 0.9419\n",
      "Epoch 9/20\n",
      "975/975 - 159s - loss: 0.1764 - accuracy: 0.9405 - val_loss: 0.1707 - val_accuracy: 0.9459\n",
      "Epoch 10/20\n",
      "975/975 - 159s - loss: 0.1694 - accuracy: 0.9422 - val_loss: 0.1740 - val_accuracy: 0.9432\n",
      "Epoch 11/20\n",
      "975/975 - 160s - loss: 0.1650 - accuracy: 0.9440 - val_loss: 0.1718 - val_accuracy: 0.9460\n",
      "Epoch 12/20\n",
      "975/975 - 160s - loss: 0.1599 - accuracy: 0.9442 - val_loss: 0.1668 - val_accuracy: 0.9445\n",
      "Epoch 13/20\n",
      "975/975 - 164s - loss: 0.1540 - accuracy: 0.9474 - val_loss: 0.1673 - val_accuracy: 0.9450\n",
      "Epoch 14/20\n",
      "975/975 - 160s - loss: 0.1500 - accuracy: 0.9475 - val_loss: 0.1699 - val_accuracy: 0.9453\n",
      "Epoch 15/20\n",
      "975/975 - 163s - loss: 0.1467 - accuracy: 0.9483 - val_loss: 0.1670 - val_accuracy: 0.9452\n",
      "Epoch 16/20\n",
      "975/975 - 163s - loss: 0.1437 - accuracy: 0.9496 - val_loss: 0.1723 - val_accuracy: 0.9468\n",
      "Epoch 17/20\n",
      "975/975 - 162s - loss: 0.1415 - accuracy: 0.9497 - val_loss: 0.1697 - val_accuracy: 0.9463\n",
      "Epoch 18/20\n",
      "975/975 - 164s - loss: 0.1351 - accuracy: 0.9522 - val_loss: 0.1732 - val_accuracy: 0.9464\n",
      "Epoch 19/20\n",
      "975/975 - 162s - loss: 0.1344 - accuracy: 0.9519 - val_loss: 0.1722 - val_accuracy: 0.9450\n",
      "Epoch 20/20\n",
      "975/975 - 163s - loss: 0.1327 - accuracy: 0.9524 - val_loss: 0.1640 - val_accuracy: 0.9469\n"
     ]
    }
   ],
   "source": [
    "# step 1-8\n",
    "history = model.fit(t_images, t_labels, epochs=20, batch_size=128,\n",
    "                   validation_data=(v_images, v_labels),   # 검증용 데이터 전달\n",
    "                   verbose=2)"
   ]
  },
  {
   "cell_type": "code",
   "execution_count": 16,
   "metadata": {},
   "outputs": [
    {
     "data": {
      "image/png": "[encoded data removed]",
      "text/plain": [
       "<Figure size 720x360 with 2 Axes>"
      ]
     },
     "metadata": {
      "needs_background": "light"
     },
     "output_type": "display_data"
    }
   ],
   "source": [
    "#step 1-9\n",
    "\n",
    "def show_history(history):\n",
    "    plt.rcParams[\"font.size\"] = 10\n",
    "    fig, ax = plt.subplots(1, 2, figsize=(10, 5))\n",
    "    t_col = \"#03F\"\n",
    "    v_col = \"#F33\"\n",
    "    \n",
    "    ax[0].set_title(\"Accuracy\", fontsize=14)\n",
    "    ax[0].plot(history.history[\"accuracy\"], color=t_col, label=\"accuracy\")\n",
    "    ax[0].plot(history.history[\"val_accuracy\"], color=v_col, label=\"val_accuracy\")\n",
    "    ax[1].set_title(\"Loss\", fontsize=14)\n",
    "    ax[1].plot(history.history[\"loss\"], color=t_col, label=\"loss\")\n",
    "    ax[1].plot(history.history[\"val_loss\"], color=v_col, label=\"val_loss\")\n",
    "    x_pos = np.arange(0, len(history.epoch), 2)\n",
    "    \n",
    "    for x in ax:\n",
    "        x.set_xticks(x_pos)\n",
    "        x.set_xticklabels(x_pos + 1)\n",
    "        x.grid(True)\n",
    "        x.legend(fontsize=12)\n",
    "        \n",
    "    plt.show()\n",
    "    \n",
    "show_history(history)\n",
    "\n",
    "# 파란선이 훈련데이터, 빨간선이 검증데이터"
   ]
  },
  {
   "cell_type": "code",
   "execution_count": 17,
   "metadata": {},
   "outputs": [],
   "source": [
    "# step 1-10 : 모델 저장\n",
    "model.save('my-model.h5')"
   ]
  }
 ],
 "metadata": {
  "kernelspec": {
   "display_name": "Python 3",
   "language": "python",
   "name": "python3"
  },
  "language_info": {
   "codemirror_mode": {
    "name": "ipython",
    "version": 3
   },
   "file_extension": ".py",
   "mimetype": "text/x-python",
   "name": "python",
   "nbconvert_exporter": "python",
   "pygments_lexer": "ipython3",
   "version": "3.8.5"
  }
 },
 "nbformat": 4,
 "nbformat_minor": 4
}
