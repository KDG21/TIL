{
 "cells": [
  {
   "cell_type": "code",
   "execution_count": 1,
   "metadata": {},
   "outputs": [],
   "source": [
    "import pandas as pd\n",
    "import numpy as np\n",
    "import keras\n",
    "from keras.models import *\n",
    "from keras.layers import Dense, Activation, Dropout, LSTM, Input\n",
    "import tensorflow as tf\n",
    "from tensorboardX import SummaryWriter\n",
    "from datetime import datetime\n",
    "from packaging import version"
   ]
  },
  {
   "cell_type": "code",
   "execution_count": null,
   "metadata": {},
   "outputs": [],
   "source": [
    "1. MNIST(Modified National Institute of Standards and Technology database)\n",
    " 0~9까지의 숫자를 사람들이 손으로 직접 쓴 손글씨를 이미지화 한 데이터 셋\n",
    "    \n",
    "2. fashion mnist : 의류 분류 데이터 셋"
   ]
  },
  {
   "cell_type": "code",
   "execution_count": 3,
   "metadata": {},
   "outputs": [
    {
     "name": "stdout",
     "output_type": "stream",
     "text": [
      "Downloading data from https://storage.googleapis.com/tensorflow/tf-keras-datasets/train-labels-idx1-ubyte.gz\n",
      "32768/29515 [=================================] - 0s 1us/step\n",
      "Downloading data from https://storage.googleapis.com/tensorflow/tf-keras-datasets/train-images-idx3-ubyte.gz\n",
      "26427392/26421880 [==============================] - 10s 0us/step\n",
      "Downloading data from https://storage.googleapis.com/tensorflow/tf-keras-datasets/t10k-labels-idx1-ubyte.gz\n",
      "8192/5148 [===============================================] - 0s 0us/step\n",
      "Downloading data from https://storage.googleapis.com/tensorflow/tf-keras-datasets/t10k-images-idx3-ubyte.gz\n",
      "4423680/4422102 [==============================] - 2s 0us/step\n"
     ]
    }
   ],
   "source": [
    "# 1. 데이터를 로드하자\n",
    "fashion_mnist = keras.datasets.fashion_mnist\n",
    "(train_images, train_labels), (test_images, test_labels) = fashion_mnist.load_data()\n",
    "\n",
    "# C:\\Users\\USER\\.keras\\datasets\\fashion-mnist"
   ]
  },
  {
   "cell_type": "code",
   "execution_count": 5,
   "metadata": {},
   "outputs": [],
   "source": [
    "# 2. 로드된 데이터에 담을 속성을 지정한다.\n",
    "class_names = ['T-shirt/top', 'Trouser', 'Pullover', 'Dress', ' Coat', 'Sandal', 'Shirt', 'Sneaker', 'Bag', 'Ankle boot']"
   ]
  },
  {
   "cell_type": "code",
   "execution_count": 6,
   "metadata": {},
   "outputs": [],
   "source": [
    "# 3. 값의 범위를 0~255 까지로 지정된 이미지를 조정한다\n",
    "# data를 255로 나누게 되면 0~1까지의 실수값은 전환된다.\n",
    "train_images = train_images / 255.0\n",
    "test_images = test_images / 255.0"
   ]
  },
  {
   "cell_type": "code",
   "execution_count": null,
   "metadata": {},
   "outputs": [],
   "source": [
    "28*28로 이루어진 배열 데이터를 Flatten을 사용해서 1차원의 값(784개)로 변형하고,\n",
    "relu 활성화 함수로 이루어진 128개의 노드 신경망을 만들어서 계산하고,\n",
    "최종 10개의 레이블을 가진 값으로 출력레이어를 생성하자\n",
    "output layer는 0~9값의 확률"
   ]
  },
  {
   "cell_type": "code",
   "execution_count": 7,
   "metadata": {},
   "outputs": [],
   "source": [
    "# 4. 모델 구성\n",
    "model = keras.Sequential([\n",
    "    keras.layers.Flatten(input_shape=(28,28)),   # 2차원 값을 1차원 배열의 값으로 변경\n",
    "    keras.layers.Dense(128, activation = 'relu'),   # relu활성화 함수를 사용해서 128개의 신경망 층을 생성\n",
    "    keras.layers.Dense(10, activation = 'softmax')   # 10개의 레이블 값을 가진 output layer, softmax 확률추출\n",
    "])"
   ]
  },
  {
   "cell_type": "code",
   "execution_count": null,
   "metadata": {},
   "outputs": [],
   "source": [
    "컴파일 : 옵티마이저 adam / 손실함수 sparse_categorical_crossentropy를 사용해서 컴파일\n",
    "         metrics = accuracy를 지표로 삼는다"
   ]
  },
  {
   "cell_type": "code",
   "execution_count": 8,
   "metadata": {},
   "outputs": [],
   "source": [
    "# 5. 컴파일\n",
    "model.compile(optimizer='adam', loss='sparse_categorical_crossentropy', metrics=['accuracy'])"
   ]
  },
  {
   "cell_type": "code",
   "execution_count": 9,
   "metadata": {
    "scrolled": true
   },
   "outputs": [
    {
     "name": "stdout",
     "output_type": "stream",
     "text": [
      "Epoch 1/5\n",
      "1875/1875 [==============================] - 21s 10ms/step - loss: 0.6112 - accuracy: 0.7886\n",
      "Epoch 2/5\n",
      "1875/1875 [==============================] - 14s 8ms/step - loss: 0.3848 - accuracy: 0.8610\n",
      "Epoch 3/5\n",
      "1875/1875 [==============================] - 10s 5ms/step - loss: 0.3401 - accuracy: 0.8750\n",
      "Epoch 4/5\n",
      "1875/1875 [==============================] - 15s 8ms/step - loss: 0.3151 - accuracy: 0.8838\n",
      "Epoch 5/5\n",
      "1875/1875 [==============================] - 11s 6ms/step - loss: 0.2916 - accuracy: 0.8939\n"
     ]
    },
    {
     "data": {
      "text/plain": [
       "<tensorflow.python.keras.callbacks.History at 0x28c9d985b80>"
      ]
     },
     "execution_count": 9,
     "metadata": {},
     "output_type": "execute_result"
    }
   ],
   "source": [
    "# 6. 데이터 훈련단계 : fit() 학습 이미지 데이터, 레이블된 데이터 5번 반복 학습\n",
    "model.fit(train_images, train_labels, epochs=5)"
   ]
  },
  {
   "cell_type": "code",
   "execution_count": 10,
   "metadata": {},
   "outputs": [
    {
     "name": "stdout",
     "output_type": "stream",
     "text": [
      "313/313 - 1s - loss: 0.3493 - accuracy: 0.8743\n",
      "test accuracy : 0.8743000030517578\n"
     ]
    }
   ],
   "source": [
    "# 7. 모델평가\n",
    "# 학습모델에 test데이터셋을 넣어서 train과 test의 성능차이를 측정해본다\n",
    "# train에 over-fitting이 될 수 있기 때문에 결과는 test 데이터를 넣은 evaluate()를 사용해서 평가한다.\n",
    "test_loss, test_acc = model.evaluate(test_images, test_labels, verbose=2)\n",
    "print('test accuracy :', test_acc)\n",
    "\n",
    "# 테스트 데이터를 모델에 넣었을때 87 ~ 88%의 정확도를 보여준다"
   ]
  },
  {
   "cell_type": "code",
   "execution_count": 12,
   "metadata": {},
   "outputs": [
    {
     "name": "stdout",
     "output_type": "stream",
     "text": [
      "[7.2367234e-06 4.4208460e-07 2.4743514e-07 6.2740114e-06 1.6896758e-08\n",
      " 2.0497335e-02 1.7634092e-06 5.0447226e-02 6.8238846e-06 9.2903262e-01]\n",
      "Ankle boot ===> Ankle boot\n"
     ]
    }
   ],
   "source": [
    "# 8. 분류 예측하기 모델을 성공적으로 만들었다고 판단. 실제 각각의 데이터를 호출한 후 분류를 어떻게 하고 있는지 확인한다.\n",
    "# 0번째 데이터의 레이블별 예측 결과와 실제 데이터와 예측한 데이터를 호출한다.\n",
    "# predictions는 해당 데이터의 모든 레이블값의 확률을 출력하기 때문에 argmax를 사용하여 가장 높은 index값을 리턴한다.\n",
    "# 8. 예측 생성하기\n",
    "predictions = model.predict(test_images)   # 예측 값 생성\n",
    "print(predictions[0])\n",
    "print(class_names[test_labels[0]], '===>', class_names[np.argmax(predictions[0])])"
   ]
  },
  {
   "cell_type": "code",
   "execution_count": 13,
   "metadata": {},
   "outputs": [
    {
     "name": "stdout",
     "output_type": "stream",
     "text": [
      "Ankle boot ===> Ankle boot\n",
      "Pullover ===> Pullover\n",
      "Trouser ===> Trouser\n",
      "Trouser ===> Trouser\n",
      "Shirt ===> Shirt\n",
      "Trouser ===> Trouser\n",
      " Coat ===>  Coat\n",
      "Shirt ===> Shirt\n",
      "Sandal ===> Sandal\n",
      "Sneaker ===> Sneaker\n",
      " Coat ===>  Coat\n",
      "Sandal ===> Sandal\n",
      "Sneaker ===> Sneaker\n",
      "Dress ===> Dress\n",
      " Coat ===>  Coat\n",
      "Trouser ===> Trouser\n",
      "Pullover ===> Pullover\n",
      " Coat ===> Pullover\n",
      "Bag ===> Bag\n",
      "T-shirt/top ===> T-shirt/top\n",
      "Pullover ===> Pullover\n",
      "Sandal ===> Sandal\n",
      "Sneaker ===> Sneaker\n",
      "Ankle boot ===> Ankle boot\n",
      "Trouser ===> Trouser\n",
      " Coat ===> Pullover\n",
      "Shirt ===> Shirt\n",
      "T-shirt/top ===> T-shirt/top\n",
      "Ankle boot ===> Ankle boot\n",
      "Dress ===>  Coat\n",
      "Bag ===> Bag\n",
      "Bag ===> Bag\n",
      "Dress ===> Dress\n",
      "Dress ===> Dress\n",
      "Bag ===> Bag\n",
      "T-shirt/top ===> T-shirt/top\n",
      "Sneaker ===> Sneaker\n",
      "Sandal ===> Sandal\n",
      "Sneaker ===> Sneaker\n",
      "Ankle boot ===> Ankle boot\n",
      "Shirt ===> T-shirt/top\n",
      "Trouser ===> Trouser\n",
      "Dress ===> Shirt\n",
      "Sneaker ===> Sneaker\n",
      "Shirt ===> Shirt\n",
      "Sneaker ===> Sneaker\n",
      "Pullover ===> Pullover\n",
      "Trouser ===> Trouser\n",
      "Pullover ===>  Coat\n",
      "Pullover ===> Shirt\n",
      " Coat ===>  Coat\n",
      " Coat ===> Pullover\n",
      "Sandal ===> Sandal\n",
      "Bag ===> Bag\n",
      "Pullover ===> Pullover\n",
      "Pullover ===> Pullover\n",
      "Bag ===> Bag\n",
      " Coat ===>  Coat\n",
      "Bag ===> Bag\n",
      "T-shirt/top ===> T-shirt/top\n",
      "Sneaker ===> Sneaker\n",
      "Sneaker ===> Sneaker\n",
      "Bag ===> Bag\n",
      "Sandal ===> Sandal\n",
      "Trouser ===> Trouser\n",
      "Trouser ===> Trouser\n",
      "Pullover ===> Dress\n",
      "Dress ===>  Coat\n",
      "Ankle boot ===> Sneaker\n",
      "Bag ===> Bag\n",
      "Sneaker ===> Sneaker\n",
      "T-shirt/top ===> T-shirt/top\n",
      "Pullover ===> Pullover\n",
      "Shirt ===> Shirt\n",
      "Pullover ===> Pullover\n",
      "Dress ===> Dress\n",
      "Trouser ===> Trouser\n",
      "Pullover ===> Pullover\n",
      "Bag ===> Bag\n",
      " Coat ===>  Coat\n",
      "Trouser ===> Trouser\n",
      "Bag ===> Bag\n",
      "Sandal ===> Sandal\n",
      "Ankle boot ===> Ankle boot\n",
      "Sandal ===> Sandal\n",
      "T-shirt/top ===> T-shirt/top\n",
      "Dress ===> Dress\n",
      "Pullover ===> Pullover\n",
      "T-shirt/top ===> T-shirt/top\n",
      "Shirt ===> Pullover\n",
      "Sandal ===> Sandal\n",
      "Dress ===> Dress\n",
      "Shirt ===> Shirt\n",
      "Sneaker ===> Sneaker\n",
      "Trouser ===> Trouser\n",
      "Bag ===> Bag\n",
      "T-shirt/top ===> T-shirt/top\n",
      "Trouser ===> Trouser\n",
      " Coat ===>  Coat\n",
      "Pullover ===> Pullover\n"
     ]
    }
   ],
   "source": [
    "# 100개의 데이터를 호출해서 결과의 예측률을 보자\n",
    "for i in range(100):\n",
    "    print(class_names[test_labels[i]], '===>', class_names[np.argmax(predictions[i])])"
   ]
  },
  {
   "cell_type": "code",
   "execution_count": null,
   "metadata": {},
   "outputs": [],
   "source": [
    "1. 퍼셉트론 : 신경세포를 뉴런이 발견한 것\n",
    "입력신호 : x\n",
    "출력값 : y\n",
    "가중치 : w\n",
    "임계값 : threshold\n",
    "    +\n",
    "편향 : b\n",
    "\n",
    "- 각 입력값은 각각의 가중치가 존재하는데 가중치값이 클수록 입력값에 영향을 준다\n",
    "- 각 입력값과 가중치 곱의 전체 합이 임계치를 넘으면 출력 신호로 1을 내보낸다. 그렇지 않은 경우 0을 내보낸다.(계단함수)\n",
    "  y = x1*w1 + x2*w2 + xn*wn ...\n",
    "- 편향 b라고 하고 입력값과 같이 연동된다. : 최적의 값을 찾는 역할\n",
    "    \n",
    "2. 활성화 함수 : 데이터 폭을 조절, 데이터폭을 정의하도록 설정하는 것을 목적\n",
    " - 계단함수는 0,1로만 리턴되기 때문에 예측, 손실율이 낮다. 분류목적\n",
    " - 시그모이드 함수 = 이진 분류 로지스틱 회귀 (2개중에 하나선택)\n",
    " - 소프트 맥스 함수 = 3개 이상중에 하나를 골라서 출력 = 다중 클래스 분류\n",
    "\n",
    "3. 단층 퍼셉트론 = 분류 = 선형 AND, OR, NOT = 직선\n",
    "\n",
    "4. 다중 퍼셉트론 = 비선형 영역 분류 XOR = 곡선\n",
    "    = Deep Neural Network = DNN = 심층 신경망 = 은닉층 2개 이상인 신경망\n",
    "    \n",
    "5. 퍼셉트론은 히든레이어를 만들어서 가중치를 찾아 결과를 내는 결과론\n",
    "   가중치 -> 자동화 -> 머신러닝(학습:training) + (손실+옵티마이저) = 딥러닝\n",
    "\n",
    "6. 심층 신경망을 학습시킨다 = Deep learning\n",
    "\n",
    "7. 인공신경망 입력 방향에 따른 분류\n",
    "   Feed-Forward NN : 순방향 신경망 -> 입력 데이터와 출력 데이터가 한 방향으로 이루어지는 것\n",
    "   Recurrent NN(RNN) : 은닉층의 출력값을 출력으로 값을 보내는 동시에 출력값이 다시 은닉층의 입력값으로 회전하면서 연산되는 것\n",
    "    \n",
    "   Fully-connected layer : FC = Dense = 밀집층\n",
    "    \n",
    "8. 순전파(Foward Propagation) : 입력값 -> 은닉층 -> 출력값(예측값 = 손실함수)\n",
    "  손실함수의 값을 최소화하는 가중치와 편향을 찾아가는 것이 딥러닝의 학습과정이다.\n",
    "  손실함수의 종류\n",
    "    - MSE(Mean Squared Error) : 오차 제곱 평균 = 연속형 변수값을 예측할 때 사용\n",
    "    - Cross-Entropy = binary_crossentropy\n",
    "    - 다중분류 = categorical_crossentropy\n",
    "    \n",
    "9. 옵티마이저(optimizer) : 손실함수의 값을 줄여가면서 학습하는 방법\n",
    "  - SGD(Stochastic Gradient Descent : 확률적 경사 하강법) : 랜덤으로 선택한 하나의 데이터만 계산하는 방법\n",
    "    tf.keras.optimizers.SGD(\n",
    "        learning_rate=0.01, momentum=0.0, nesterov=False, name='SGD', **kwargs\n",
    "    )\n",
    "    momentum(모멘텀) - 경사 하강법에서 기울기에 대한 접선을 비율만큼 지정\n",
    "  \n",
    "  - Adagrad : 동일한 데이터가 매개변수로 구현될 때 사용된다.\n",
    "    RMsprop    \n",
    "  - Adam(Adagrad + RMsprop) : 동일한 매개변수 값이 많거나 학습에 대한 변화가 없을 경우 사용된다.\n",
    "    \n",
    "10. batch_size = len(train_x) : 가중치 등의 매개변수의 값을 조정하기 위해 사용하는 데이터 량\n",
    "     = 배치 경사 하강법(batch gradient descent) : 오차를 구할 때 전체 데이터를 대상으로 한다.\n",
    "            \n",
    "    batch_size = 32 (미니 매치 경사 하강법 mini-batch gradient descent)\n",
    "\n",
    "11. over-fitting : 학습데이터에 모델이 과적합한 현상\n",
    "    과적합하면 무슨일이 벌어지나요? : 정확도는 너무 높다, 새로운데이터(검증데이터)가 들어올경우 \n",
    "    테스트 데이터에 대해 동작을 제대로 하지 않는다\n",
    "    해결방법 : 데이터를 늘린다. 은닉층을 줄인다, 가중치 규제 적용한다, 신경망을 줄이자(Dropout) tf.keras.layers.Dropout\n",
    "        \n",
    "12. 기울기 자르기 : clipnorm = 임계값을 넘을 경우 기울기를 자른다. 임계치만큼 크기 감소 = RNN에서 사용\n",
    "     tf.keras.optimizers.Adam(\n",
    "         learning_rate=0.001, beta_1=0.9, beta_2=0.999, epsilon=1e-07, amsgrad=False, name='Adam', **kwargs\n",
    "     )\n",
    "    ex) optimizers.Adam(clipnorm=1.)\n",
    "    \n",
    "13. 유형에 따른 손실 함수와  |  출력층의 활성함수\n",
    "  1) 회귀문제 : mean_squared_error\n",
    "  2) 다중클래스 분류 : categorical_crossentropy  |  소프트맥스 => 로이트 뉴스 분류\n",
    "  3) 다중클래스 분류 : sparse_categorical_crossentropy (one-hot X)  |  소프트 맥스 => \n",
    "  4) 이진 분류 : binary_crossentropy  |  시그모이드 => 스팸메일 분류, IMDB 리뷰"
   ]
  },
  {
   "cell_type": "code",
   "execution_count": null,
   "metadata": {},
   "outputs": [],
   "source": [
    "# 계단함수\n",
    "def step(val):\n",
    "    if (val >= 0):\n",
    "        return 1\n",
    "    return 0"
   ]
  },
  {
   "cell_type": "code",
   "execution_count": null,
   "metadata": {},
   "outputs": [],
   "source": [
    "입력값이 두개 들어왔을 경우 둘다 a,b 1,1\n",
    "  x1, x2, y\n",
    "  0   0   0\n",
    "  0   1   0\n",
    "  1   0   0\n",
    "  1   1   1"
   ]
  },
  {
   "cell_type": "code",
   "execution_count": null,
   "metadata": {},
   "outputs": [],
   "source": [
    "def my_and(x1, x2):\n",
    "    w1 = 0.5\n",
    "    w2 = 0.5\n",
    "    b = -0.7\n",
    "    res = x1*w1 + x2*w2 + b\n",
    "    if res >= 0:\n",
    "        return 1\n",
    "    return 0"
   ]
  },
  {
   "cell_type": "code",
   "execution_count": null,
   "metadata": {},
   "outputs": [],
   "source": [
    "def my_or(x1, x2):\n",
    "    w1 = 0.5\n",
    "    w2 = 0.5\n",
    "    b = -0.7\n",
    "    res = x1*w1 + x2*w2 + b\n",
    "    if res <= 0:\n",
    "        return 0\n",
    "    return 1"
   ]
  },
  {
   "cell_type": "code",
   "execution_count": 15,
   "metadata": {
    "scrolled": true
   },
   "outputs": [
    {
     "data": {
      "image/png": "[encoded data removed]",
      "text/plain": [
       "<Figure size 432x288 with 1 Axes>"
      ]
     },
     "metadata": {
      "needs_background": "light"
     },
     "output_type": "display_data"
    }
   ],
   "source": [
    "# 01. 활성화 step 함수\n",
    "import numpy as np\n",
    "import matplotlib.pyplot as plt\n",
    "\n",
    "def step(x):\n",
    "    return np.array(x > 0, dtype=np.int)\n",
    "\n",
    "x = np.arange(-5.0, 5.0, 0.1)\n",
    "y = step(x)\n",
    "\n",
    "plt.title('Step Fun')\n",
    "plt.plot(x,y)\n",
    "plt.show()"
   ]
  },
  {
   "cell_type": "code",
   "execution_count": 18,
   "metadata": {},
   "outputs": [
    {
     "data": {
      "image/png": "[encoded data removed]",
      "text/plain": [
       "<Figure size 432x288 with 1 Axes>"
      ]
     },
     "metadata": {
      "needs_background": "light"
     },
     "output_type": "display_data"
    }
   ],
   "source": [
    "# 02. 시그모이드 함수 : 미분을 해서 기울기(gradient)를 구할 때 발생\n",
    "# 가중치 -> 자동화 -> 머신러닝(학습:training) + (손실+옵티마이저) = 딥러닝\n",
    "# 입력 데이터 -> 연산 -> (출력 + 손실)\n",
    "# 손실함수(loss function) = 예측값과 실제값의 오차\n",
    "# 손실함수는 미분을 통해서 기울기를 구하고 이를 통해서 역전파를 수행한다.\n",
    "\n",
    "def sigmoid(x):\n",
    "    return 1 / (1+np.exp(-x))\n",
    "\n",
    "x = np.arange(-5.0, 5.0, 0.1)\n",
    "y = sigmoid(x)\n",
    "\n",
    "plt.plot(x,y)\n",
    "plt.title('Sigmoid Fun')\n",
    "plt.plot([0,0],[1.0,0.0],':')\n",
    "plt.show()\n",
    "# 결과를 보면 기울기가 원만해지는 값들이 출력값 0,1 에 가까워 지는 것을 볼 수 있다.\n",
    "# 기울기 소실(Vanishing Gradient)\n",
    "# 은닉층의 개수가 많을 때 0에 가까운 기울기가 계속 곱해진다. \n",
    "# 그렇게 되면 처리되는 연산에 처음부분으로 갈수록 기울기를 얻어낼수가 없다."
   ]
  },
  {
   "cell_type": "code",
   "execution_count": 19,
   "metadata": {},
   "outputs": [
    {
     "data": {
      "image/png": "[encoded data removed]",
      "text/plain": [
       "<Figure size 432x288 with 1 Axes>"
      ]
     },
     "metadata": {
      "needs_background": "light"
     },
     "output_type": "display_data"
    }
   ],
   "source": [
    "# 활성화 함수 : 렐루(Relu)  f(x) = max(0,x)\n",
    "\n",
    "def Relu(x):\n",
    "    return np.maximum(0,x)  # 음수를 입력하면 0을 출력, 양수를 입력하면 양수값 리턴\n",
    "\n",
    "x = np.arange(-5.0, 5.0, 0.1)\n",
    "y = Relu(x)\n",
    "\n",
    "plt.plot(x,y)\n",
    "plt.title('Relu Fun')\n",
    "plt.plot([0,0],[1.0,0.0],':')\n",
    "plt.show()"
   ]
  },
  {
   "cell_type": "code",
   "execution_count": 20,
   "metadata": {},
   "outputs": [
    {
     "data": {
      "image/png": "[encoded data removed]",
      "text/plain": [
       "<Figure size 432x288 with 1 Axes>"
      ]
     },
     "metadata": {
      "needs_background": "light"
     },
     "output_type": "display_data"
    }
   ],
   "source": [
    "# 활성화 함수 : softmax()   ---> 출력층  다중 클래스 분류\n",
    "\n",
    "x = np.arange(-5.0, 5.0, 0.1)\n",
    "y = np.exp(x) / np.sum(np.exp(x))\n",
    "\n",
    "plt.plot(x,y)\n",
    "plt.title('softmax Fun')\n",
    "plt.show()"
   ]
  },
  {
   "cell_type": "code",
   "execution_count": 23,
   "metadata": {},
   "outputs": [],
   "source": [
    "from tensorflow.keras.layers import Dense\n",
    "import tensorflow as tf\n",
    "\n",
    "model = tf.keras.Sequential()   # 순전파\n",
    "model.add(Dense(4, input_dim=2, activation = 'relu'))  # 입력층 2, 은닉층 4, 활성화함수 relu\n",
    "model.add(Dense(4, activation = 'relu'))  # 은닉층 4, 활성화함수 relu\n",
    "model.add(Dense(1, activation = 'softmax'))   # 출력층 1, 활성화함수 softmax"
   ]
  },
  {
   "cell_type": "code",
   "execution_count": null,
   "metadata": {},
   "outputs": [],
   "source": [
    "model.add(Dense(4, input_dim=2, activation = 'relu'))\n",
    "  = 입력 행렬(X)의 크기 1*2   출력 4  Y의 크기는 1*4\n",
    " y = x1*w1 + x2*w2 + xn*wn  + b\n",
    "\n",
    " X m*n * W n*j + B m*j = Y m*j\n",
    " X 1*2 + W 2*4 + B 1*4 = Y 1*4\n",
    "\n",
    "model.add(Dense(4, activation = 'relu'))\n",
    " X 1*4 + W 4*4 + B 1*4 = Y 1*4\n",
    "    \n",
    "model.add(Dense(1, activation = 'softmax'))\n",
    " X 1*4 + W 4*1 + B 1*1 = Y 1*1"
   ]
  }
 ],
 "metadata": {
  "kernelspec": {
   "display_name": "Python 3",
   "language": "python",
   "name": "python3"
  },
  "language_info": {
   "codemirror_mode": {
    "name": "ipython",
    "version": 3
   },
   "file_extension": ".py",
   "mimetype": "text/x-python",
   "name": "python",
   "nbconvert_exporter": "python",
   "pygments_lexer": "ipython3",
   "version": "3.8.5"
  }
 },
 "nbformat": 4,
 "nbformat_minor": 4
}
