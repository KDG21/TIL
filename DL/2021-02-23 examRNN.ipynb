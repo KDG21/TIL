{
 "cells": [
  {
   "cell_type": "code",
   "execution_count": 1,
   "metadata": {},
   "outputs": [],
   "source": [
    "import tensorflow as tf\n",
    "from tensorflow import keras\n",
    "import numpy as np"
   ]
  },
  {
   "cell_type": "code",
   "execution_count": 2,
   "metadata": {},
   "outputs": [
    {
     "name": "stdout",
     "output_type": "stream",
     "text": [
      "2.4.1\n"
     ]
    }
   ],
   "source": [
    "# 01. 텐서 버전 확인\n",
    "\n",
    "print(tf.__version__)"
   ]
  },
  {
   "cell_type": "code",
   "execution_count": 3,
   "metadata": {},
   "outputs": [
    {
     "name": "stdout",
     "output_type": "stream",
     "text": [
      "Downloading data from https://storage.googleapis.com/tensorflow/tf-keras-datasets/imdb.npz\n",
      "17465344/17464789 [==============================] - 2s 0us/step\n"
     ]
    },
    {
     "name": "stderr",
     "output_type": "stream",
     "text": [
      "<__array_function__ internals>:5: VisibleDeprecationWarning: Creating an ndarray from ragged nested sequences (which is a list-or-tuple of lists-or-tuples-or ndarrays with different lengths or shapes) is deprecated. If you meant to do this, you must specify 'dtype=object' when creating the ndarray\n",
      "C:\\ProgramData\\Anaconda3\\lib\\site-packages\\tensorflow\\python\\keras\\datasets\\imdb.py:159: VisibleDeprecationWarning: Creating an ndarray from ragged nested sequences (which is a list-or-tuple of lists-or-tuples-or ndarrays with different lengths or shapes) is deprecated. If you meant to do this, you must specify 'dtype=object' when creating the ndarray\n",
      "  x_train, y_train = np.array(xs[:idx]), np.array(labels[:idx])\n",
      "C:\\ProgramData\\Anaconda3\\lib\\site-packages\\tensorflow\\python\\keras\\datasets\\imdb.py:160: VisibleDeprecationWarning: Creating an ndarray from ragged nested sequences (which is a list-or-tuple of lists-or-tuples-or ndarrays with different lengths or shapes) is deprecated. If you meant to do this, you must specify 'dtype=object' when creating the ndarray\n",
      "  x_test, y_test = np.array(xs[idx:]), np.array(labels[idx:])\n"
     ]
    }
   ],
   "source": [
    "# 02. imdb 에서 데이터를 10000개만 로드 (영화 리뷰, 가장 많이 등장하는 단어)\n",
    "\n",
    "imdb = keras.datasets.imdb\n",
    "(train_data, train_labels), (test_data, test_labels) = imdb.load_data(num_words=10000)\n"
   ]
  },
  {
   "cell_type": "code",
   "execution_count": 9,
   "metadata": {},
   "outputs": [
    {
     "name": "stdout",
     "output_type": "stream",
     "text": [
      "훈련 샘플 : 25000, 훈련 레이블 : 25000\n",
      "\n",
      " [1, 14, 22, 16, 43, 530, 973, 1622, 1385, 65, 458, 4468, 66, 3941, 4, 173, 36, 256, 5, 25, 100, 43, 838, 112, 50, 670, 2, 9, 35, 480, 284, 5, 150, 4, 172, 112, 167, 2, 336, 385, 39, 4, 172, 4536, 1111, 17, 546, 38, 13, 447, 4, 192, 50, 16, 6, 147, 2025, 19, 14, 22, 4, 1920, 4613, 469, 4, 22, 71, 87, 12, 16, 43, 530, 38, 76, 15, 13, 1247, 4, 22, 17, 515, 17, 12, 16, 626, 18, 2, 5, 62, 386, 12, 8, 316, 8, 106, 5, 4, 2223, 5244, 16, 480, 66, 3785, 33, 4, 130, 12, 16, 38, 619, 5, 25, 124, 51, 36, 135, 48, 25, 1415, 33, 6, 22, 12, 215, 28, 77, 52, 5, 14, 407, 16, 82, 2, 8, 4, 107, 117, 5952, 15, 256, 4, 2, 7, 3766, 5, 723, 36, 71, 43, 530, 476, 26, 400, 317, 46, 7, 4, 2, 1029, 13, 104, 88, 4, 381, 15, 297, 98, 32, 2071, 56, 26, 141, 6, 194, 7486, 18, 4, 226, 22, 21, 134, 476, 26, 480, 5, 144, 30, 5535, 18, 51, 36, 28, 224, 92, 25, 104, 4, 226, 65, 16, 38, 1334, 88, 12, 16, 283, 5, 16, 4472, 113, 103, 32, 15, 16, 5345, 19, 178, 32] \n",
      "\n",
      "218\n",
      "189\n"
     ]
    }
   ],
   "source": [
    "# 03. 훈련 데이터와 훈련 데이터 레이블을 출력\n",
    "\n",
    "print(\"훈련 샘플 : {}, 훈련 레이블 : {}\".format(len(train_data), len(train_labels)))\n",
    "print('\\n',train_data[0],'\\n')\n",
    "\n",
    "# 04. 첫번째 영화리뷰와 두번째 영화 리뷰의 길이가 다른 것을 확인\n",
    "print(len(train_data[0]))\n",
    "print(len(train_data[1]))"
   ]
  },
  {
   "cell_type": "code",
   "execution_count": 17,
   "metadata": {},
   "outputs": [
    {
     "name": "stdout",
     "output_type": "stream",
     "text": [
      "<START> this film was just brilliant casting location scenery story direction everyone's really suited the part they played and you could just imagine being there robert <UNK> is an amazing actor and now the same being director <UNK> father came from the same scottish island as myself so i loved the fact there was a real connection with this film the witty remarks throughout the film were great it was just brilliant so much that i bought the film as soon as it was released for <UNK> and would recommend it to everyone to watch and the fly fishing was amazing really cried at the end it was so sad and you know what they say if you cry at a film it must have been good and this definitely was also <UNK> to the two little boy's that played the <UNK> of norman and paul they were just brilliant children are often left out of the <UNK> list i think because the stars that play them all grown up are such a big profile for the whole film but these children are amazing and should be praised for what they have done don't you think the whole story was so lovely because it was true and was someone's life after all that was shared with us all\n"
     ]
    }
   ],
   "source": [
    "# 05. 내용을 확인\n",
    "\n",
    "word_index = imdb.get_word_index( path = 'imdb_word_index.json' )\n",
    "\n",
    "# word_index.items()  # 아이템 출력 확인\n",
    "# 사용자 사전형으로 저장\n",
    "word_index = { k : (v+3) for k, v in word_index.items() }\n",
    "word_index\n",
    "\n",
    "word_index[\"<PAD>\"] = 0\n",
    "word_index[\"<START>\"] = 1\n",
    "word_index[\"<UNK>\"] = 2\n",
    "word_index[\"<UNUSED>\"] = 3\n",
    "\n",
    "# 06. 데이터의 내용을 확인\n",
    "reverse_word_index = dict( [ (value, key) for (key, value) in word_index.items() ] )\n",
    "reverse_word_index\n",
    "\n",
    "# 숫자로 가져온 데이터(train_data)를 디코드해서 내용 보기\n",
    "def decode_review(text):\n",
    "    return ' '.join( [ reverse_word_index.get(i, '?') for i in text ] )\n",
    "\n",
    "print(decode_review(train_data[0]))"
   ]
  },
  {
   "cell_type": "code",
   "execution_count": 27,
   "metadata": {},
   "outputs": [
    {
     "name": "stdout",
     "output_type": "stream",
     "text": [
      "256\n",
      "256\n",
      "<START> this film was just brilliant casting location scenery story direction everyone's really suited the part they played and you could just imagine being there robert <UNK> is an amazing actor and now the same being director <UNK> father came from the same scottish island as myself so i loved the fact there was a real connection with this film the witty remarks throughout the film were great it was just brilliant so much that i bought the film as soon as it was released for <UNK> and would recommend it to everyone to watch and the fly fishing was amazing really cried at the end it was so sad and you know what they say if you cry at a film it must have been good and this definitely was also <UNK> to the two little boy's that played the <UNK> of norman and paul they were just brilliant children are often left out of the <UNK> list i think because the stars that play them all grown up are such a big profile for the whole film but these children are amazing and should be praised for what they have done don't you think the whole story was so lovely because it was true and was someone's life after all that was shared with us all <PAD> <PAD> <PAD> <PAD> <PAD> <PAD> <PAD> <PAD> <PAD> <PAD> <PAD> <PAD> <PAD> <PAD> <PAD> <PAD> <PAD> <PAD> <PAD> <PAD> <PAD> <PAD> <PAD> <PAD> <PAD> <PAD> <PAD> <PAD> <PAD> <PAD> <PAD> <PAD> <PAD> <PAD> <PAD> <PAD> <PAD> <PAD>\n"
     ]
    }
   ],
   "source": [
    "# 07. print(len(train_data[0])) print(len(train_data[1])) 218, 189 \n",
    "#   -> 내용의 길이가 다르다. 256으로 맞추고 남은 부분은 0으로 채우자\n",
    "\n",
    "train_data = keras.preprocessing.sequence.pad_sequences(\n",
    "    train_data, maxlen=256, padding='post', value = word_index[\"<PAD>\"]\n",
    ")\n",
    "\n",
    "test_data = keras.preprocessing.sequence.pad_sequences(\n",
    "    test_data, maxlen=256, padding='post', value = word_index[\"<PAD>\"]\n",
    ")\n",
    "\n",
    "# 길이 확인\n",
    "print(len(train_data[0])) \n",
    "print(len(train_data[1]))\n",
    "\n",
    "# 데이터 확인\n",
    "# print(train_data[0])\n",
    "# print(train_data[1])\n",
    "print(decode_review(train_data[0]))"
   ]
  },
  {
   "cell_type": "code",
   "execution_count": 30,
   "metadata": {},
   "outputs": [
    {
     "name": "stdout",
     "output_type": "stream",
     "text": [
      "Model: \"sequential_2\"\n",
      "_________________________________________________________________\n",
      "Layer (type)                 Output Shape              Param #   \n",
      "=================================================================\n",
      "embedding_2 (Embedding)      (None, None, 16)          160000    \n",
      "_________________________________________________________________\n",
      "global_average_pooling1d_2 ( (None, 16)                0         \n",
      "_________________________________________________________________\n",
      "dense_4 (Dense)              (None, 16)                272       \n",
      "_________________________________________________________________\n",
      "dense_5 (Dense)              (None, 1)                 17        \n",
      "=================================================================\n",
      "Total params: 160,289\n",
      "Trainable params: 160,289\n",
      "Non-trainable params: 0\n",
      "_________________________________________________________________\n"
     ]
    }
   ],
   "source": [
    "# 08. 모델 생성\n",
    "\n",
    "vocab_size = 10000\n",
    "model = keras.Sequential()\n",
    "model.add( keras.layers.Embedding(vocab_size, 16, input_shape=(None,)))\n",
    "model.add( keras.layers.GlobalAveragePooling1D() )\n",
    "model.add( keras.layers.Dense(16, activation='relu'))\n",
    "model.add( keras.layers.Dense(1, activation='sigmoid'))\n",
    "\n",
    "model.summary()\n",
    "\n",
    "model.compile(optimizer='adam', loss='binary_crossentropy', metrics=['accuracy'])\n",
    "\n",
    "# model.save('RNNmodel.h5')"
   ]
  },
  {
   "cell_type": "code",
   "execution_count": null,
   "metadata": {},
   "outputs": [],
   "source": [
    "GlobalAveragePooling1D()\n",
    "\n",
    "6*6 경우\n",
    "\n",
    "h = 6\n",
    "w = 6\n",
    "d = 3\n",
    "-> 6*6  6*6  6*6  \n",
    "\n",
    "에서 1차원으로 리턴받아 평균 : GlobalAveragePooling1D()\n",
    "\n",
    "->\n",
    "h = 1\n",
    "w = 1\n",
    "d = 3\n"
   ]
  },
  {
   "cell_type": "code",
   "execution_count": 34,
   "metadata": {},
   "outputs": [
    {
     "name": "stdout",
     "output_type": "stream",
     "text": [
      "Epoch 1/40\n",
      "30/30 [==============================] - 1s 20ms/step - loss: 0.1000 - accuracy: 0.9737 - val_loss: 0.3043 - val_accuracy: 0.8843\n",
      "Epoch 2/40\n",
      "30/30 [==============================] - 1s 18ms/step - loss: 0.0965 - accuracy: 0.9751 - val_loss: 0.3066 - val_accuracy: 0.8839\n",
      "Epoch 3/40\n",
      "30/30 [==============================] - 1s 19ms/step - loss: 0.0936 - accuracy: 0.9758 - val_loss: 0.3098 - val_accuracy: 0.8828\n",
      "Epoch 4/40\n",
      "30/30 [==============================] - 1s 19ms/step - loss: 0.0903 - accuracy: 0.9781 - val_loss: 0.3122 - val_accuracy: 0.8818\n",
      "Epoch 5/40\n",
      "30/30 [==============================] - 1s 19ms/step - loss: 0.0876 - accuracy: 0.9786 - val_loss: 0.3150 - val_accuracy: 0.8818\n",
      "Epoch 6/40\n",
      "30/30 [==============================] - 1s 19ms/step - loss: 0.0847 - accuracy: 0.9797 - val_loss: 0.3196 - val_accuracy: 0.8810\n",
      "Epoch 7/40\n",
      "30/30 [==============================] - 1s 20ms/step - loss: 0.0814 - accuracy: 0.9813 - val_loss: 0.3220 - val_accuracy: 0.8816\n",
      "Epoch 8/40\n",
      "30/30 [==============================] - 1s 19ms/step - loss: 0.0787 - accuracy: 0.9821 - val_loss: 0.3252 - val_accuracy: 0.8809\n",
      "Epoch 9/40\n",
      "30/30 [==============================] - 1s 20ms/step - loss: 0.0761 - accuracy: 0.9837 - val_loss: 0.3285 - val_accuracy: 0.8807\n",
      "Epoch 10/40\n",
      "30/30 [==============================] - 1s 19ms/step - loss: 0.0738 - accuracy: 0.9846 - val_loss: 0.3319 - val_accuracy: 0.8802\n",
      "Epoch 11/40\n",
      "30/30 [==============================] - 1s 20ms/step - loss: 0.0714 - accuracy: 0.9849 - val_loss: 0.3359 - val_accuracy: 0.8801\n",
      "Epoch 12/40\n",
      "30/30 [==============================] - 1s 20ms/step - loss: 0.0690 - accuracy: 0.9859 - val_loss: 0.3393 - val_accuracy: 0.8785\n",
      "Epoch 13/40\n",
      "30/30 [==============================] - 1s 19ms/step - loss: 0.0667 - accuracy: 0.9869 - val_loss: 0.3435 - val_accuracy: 0.8784\n",
      "Epoch 14/40\n",
      "30/30 [==============================] - 1s 21ms/step - loss: 0.0646 - accuracy: 0.9871 - val_loss: 0.3466 - val_accuracy: 0.8779\n",
      "Epoch 15/40\n",
      "30/30 [==============================] - 1s 20ms/step - loss: 0.0627 - accuracy: 0.9884 - val_loss: 0.3522 - val_accuracy: 0.8769\n",
      "Epoch 16/40\n",
      "30/30 [==============================] - 1s 21ms/step - loss: 0.0615 - accuracy: 0.9886 - val_loss: 0.3546 - val_accuracy: 0.8776\n",
      "Epoch 17/40\n",
      "30/30 [==============================] - 1s 22ms/step - loss: 0.0585 - accuracy: 0.9892 - val_loss: 0.3596 - val_accuracy: 0.8759\n",
      "Epoch 18/40\n",
      "30/30 [==============================] - 1s 20ms/step - loss: 0.0566 - accuracy: 0.9902 - val_loss: 0.3629 - val_accuracy: 0.8762\n",
      "Epoch 19/40\n",
      "30/30 [==============================] - 1s 22ms/step - loss: 0.0548 - accuracy: 0.9907 - val_loss: 0.3688 - val_accuracy: 0.8757\n",
      "Epoch 20/40\n",
      "30/30 [==============================] - 1s 25ms/step - loss: 0.0531 - accuracy: 0.9907 - val_loss: 0.3720 - val_accuracy: 0.8755\n",
      "Epoch 21/40\n",
      "30/30 [==============================] - 1s 22ms/step - loss: 0.0518 - accuracy: 0.9910 - val_loss: 0.3777 - val_accuracy: 0.8750\n",
      "Epoch 22/40\n",
      "30/30 [==============================] - 1s 22ms/step - loss: 0.0499 - accuracy: 0.9913 - val_loss: 0.3828 - val_accuracy: 0.8739\n",
      "Epoch 23/40\n",
      "30/30 [==============================] - 1s 23ms/step - loss: 0.0480 - accuracy: 0.9924 - val_loss: 0.3838 - val_accuracy: 0.8751\n",
      "Epoch 24/40\n",
      "30/30 [==============================] - 1s 22ms/step - loss: 0.0463 - accuracy: 0.9928 - val_loss: 0.3879 - val_accuracy: 0.8749\n",
      "Epoch 25/40\n",
      "30/30 [==============================] - 1s 21ms/step - loss: 0.0452 - accuracy: 0.9927 - val_loss: 0.3951 - val_accuracy: 0.8736\n",
      "Epoch 26/40\n",
      "30/30 [==============================] - 1s 22ms/step - loss: 0.0432 - accuracy: 0.9935 - val_loss: 0.3994 - val_accuracy: 0.8748\n",
      "Epoch 27/40\n",
      "30/30 [==============================] - 1s 24ms/step - loss: 0.0419 - accuracy: 0.9935 - val_loss: 0.4024 - val_accuracy: 0.8746\n",
      "Epoch 28/40\n",
      "30/30 [==============================] - 1s 22ms/step - loss: 0.0407 - accuracy: 0.9939 - val_loss: 0.4062 - val_accuracy: 0.8738\n",
      "Epoch 29/40\n",
      "30/30 [==============================] - 1s 25ms/step - loss: 0.0391 - accuracy: 0.9943 - val_loss: 0.4128 - val_accuracy: 0.8729\n",
      "Epoch 30/40\n",
      "30/30 [==============================] - 1s 21ms/step - loss: 0.0379 - accuracy: 0.9947 - val_loss: 0.4152 - val_accuracy: 0.8734\n",
      "Epoch 31/40\n",
      "30/30 [==============================] - 1s 23ms/step - loss: 0.0368 - accuracy: 0.9949 - val_loss: 0.4203 - val_accuracy: 0.8740\n",
      "Epoch 32/40\n",
      "30/30 [==============================] - 1s 22ms/step - loss: 0.0357 - accuracy: 0.9949 - val_loss: 0.4256 - val_accuracy: 0.8732\n",
      "Epoch 33/40\n",
      "30/30 [==============================] - 1s 21ms/step - loss: 0.0344 - accuracy: 0.9953 - val_loss: 0.4295 - val_accuracy: 0.8720\n",
      "Epoch 34/40\n",
      "30/30 [==============================] - 1s 21ms/step - loss: 0.0332 - accuracy: 0.9959 - val_loss: 0.4357 - val_accuracy: 0.8720\n",
      "Epoch 35/40\n",
      "30/30 [==============================] - 1s 22ms/step - loss: 0.0322 - accuracy: 0.9960 - val_loss: 0.4397 - val_accuracy: 0.8724\n",
      "Epoch 36/40\n",
      "30/30 [==============================] - 1s 23ms/step - loss: 0.0311 - accuracy: 0.9961 - val_loss: 0.4455 - val_accuracy: 0.8708\n",
      "Epoch 37/40\n",
      "30/30 [==============================] - 1s 23ms/step - loss: 0.0300 - accuracy: 0.9965 - val_loss: 0.4485 - val_accuracy: 0.8719\n",
      "Epoch 38/40\n",
      "30/30 [==============================] - 1s 24ms/step - loss: 0.0289 - accuracy: 0.9967 - val_loss: 0.4551 - val_accuracy: 0.8712\n",
      "Epoch 39/40\n",
      "30/30 [==============================] - 1s 24ms/step - loss: 0.0279 - accuracy: 0.9968 - val_loss: 0.4580 - val_accuracy: 0.8711\n",
      "Epoch 40/40\n",
      "30/30 [==============================] - 1s 26ms/step - loss: 0.0270 - accuracy: 0.9973 - val_loss: 0.4634 - val_accuracy: 0.8697\n",
      "782/782 - 1s - loss: 0.4902 - accuracy: 0.8580\n",
      "[0.4901551604270935, 0.8579999804496765]\n"
     ]
    }
   ],
   "source": [
    "# 09. 훈련\n",
    "\n",
    "x_val = train_data[:10000]\n",
    "partial_x_train = train_data[10000:]\n",
    "\n",
    "y_val = train_labels[:10000]\n",
    "partial_y_train = train_labels[10000:]\n",
    "\n",
    "history = model.fit( partial_x_train,\n",
    "                     partial_y_train,\n",
    "                     epochs = 40,\n",
    "                     batch_size = 512,\n",
    "                     validation_data = (x_val, y_val),\n",
    "                     verbose = 1                   )\n",
    "\n",
    "results = model.evaluate(test_data, test_labels, verbose=2)\n",
    "print(results)\n",
    "\n",
    "'''\n",
    "- 결과 -\n",
    "782/782 - 1s - loss: 0.4902 - accuracy: 0.8580\n",
    "[0.4901551604270935, 0.8579999804496765]\n",
    "'''"
   ]
  },
  {
   "cell_type": "code",
   "execution_count": 39,
   "metadata": {},
   "outputs": [
    {
     "data": {
      "text/plain": [
       "<matplotlib.legend.Legend at 0x1b4025505b0>"
      ]
     },
     "execution_count": 39,
     "metadata": {},
     "output_type": "execute_result"
    },
    {
     "data": {
      "image/png": "[encoded data removed]",
      "text/plain": [
       "<Figure size 432x288 with 1 Axes>"
      ]
     },
     "metadata": {
      "needs_background": "light"
     },
     "output_type": "display_data"
    }
   ],
   "source": [
    "# 10. 시각화\n",
    "import matplotlib.pyplot as plt\n",
    "\n",
    "history_dict = history.history\n",
    "history_dict.keys()\n",
    "\n",
    "acc = history_dict['accuracy']\n",
    "val_acc = history_dict['val_accuracy']\n",
    "loss = history_dict['loss']\n",
    "val_loss = history_dict['val_loss']\n",
    "\n",
    "epochs = range( 1, len(acc) + 1 )\n",
    "# 파란색 점 bo\n",
    "plt.plot(epochs, loss, 'bo', label='Training loss')\n",
    "\n",
    "# 파란색 실선 b\n",
    "plt.plot(epochs, val_loss, 'b', label='Validation loss')\n",
    "\n",
    "plt.title(\"Training & validation\")\n",
    "plt.xlabel('Epoch')\n",
    "plt.ylabel('Loss')\n",
    "plt.legend()\n"
   ]
  },
  {
   "cell_type": "code",
   "execution_count": 41,
   "metadata": {},
   "outputs": [
    {
     "data": {
      "text/plain": [
       "<matplotlib.legend.Legend at 0x1b402202b80>"
      ]
     },
     "execution_count": 41,
     "metadata": {},
     "output_type": "execute_result"
    },
    {
     "data": {
      "image/png": "[encoded data removed]",
      "text/plain": [
       "<Figure size 432x288 with 1 Axes>"
      ]
     },
     "metadata": {
      "needs_background": "light"
     },
     "output_type": "display_data"
    }
   ],
   "source": [
    "# 정답률\n",
    "\n",
    "# 파란색 점 bo\n",
    "plt.plot(epochs, acc, 'bo', label='Training acc')\n",
    "\n",
    "# 파란색 실선 b\n",
    "plt.plot(epochs, val_acc, 'b', label='Validation acc')\n",
    "\n",
    "plt.title(\"Training & validation\")\n",
    "plt.xlabel('Epoch')\n",
    "plt.ylabel('Accuracy')\n",
    "plt.legend()"
   ]
  }
 ],
 "metadata": {
  "kernelspec": {
   "display_name": "Python 3",
   "language": "python",
   "name": "python3"
  },
  "language_info": {
   "codemirror_mode": {
    "name": "ipython",
    "version": 3
   },
   "file_extension": ".py",
   "mimetype": "text/x-python",
   "name": "python",
   "nbconvert_exporter": "python",
   "pygments_lexer": "ipython3",
   "version": "3.8.5"
  }
 },
 "nbformat": 4,
 "nbformat_minor": 4
}
