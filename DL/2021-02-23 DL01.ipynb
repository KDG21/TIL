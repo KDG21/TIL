{
 "cells": [
  {
   "cell_type": "code",
   "execution_count": null,
   "metadata": {},
   "outputs": [],
   "source": [
    "# 폴더에 있는 데이터를 train, validation으로 가져오는 방법\n",
    "train용\n",
    "'C:\\\\Users\\\\user\\\\MyPython\\\\DL\\\\archive\\\\test_set\\\\test_set\\\\dogs'\n",
    "'C:\\\\Users\\\\user\\\\MyPython\\\\DL\\\\archive\\\\test_set\\\\test_set\\\\cats'\n",
    "\n",
    "validation용\n",
    "'C:\\\\Users\\\\user\\\\MyPython\\\\DL\\\\archive\\\\training_set\\\\training_set\\\\dogs'\n",
    "'C:\\\\Users\\\\user\\\\MyPython\\\\DL\\\\archive\\\\training_set\\\\training_set\\\\cats'"
   ]
  },
  {
   "cell_type": "code",
   "execution_count": 36,
   "metadata": {},
   "outputs": [
    {
     "name": "stdout",
     "output_type": "stream",
     "text": [
      "Found 8005 images belonging to 2 classes.\n",
      "Found 2023 images belonging to 2 classes.\n"
     ]
    }
   ],
   "source": [
    "import os\n",
    "import cv2\n",
    "from keras.preprocessing.image import ImageDataGenerator\n",
    "import tensorflow.keras as keras\n",
    "\n",
    "img_w, img_h = 150, 150\n",
    "batch_size = 32\n",
    "\n",
    "train_datagen = ImageDataGenerator(\n",
    "        rescale=1./255,\n",
    "        shear_range=0.2,\n",
    "        zoom_range=0.2,\n",
    "        horizontal_flip=True)\n",
    "\n",
    "test_datagen = ImageDataGenerator(rescale=1./255)\n",
    "\n",
    "train_generator = train_datagen.flow_from_directory(\n",
    "        'C:\\\\Users\\\\user\\\\MyPython\\\\DL\\\\archive\\\\training_set\\\\training_set',\n",
    "        target_size=(img_w, img_h),\n",
    "        batch_size=32,\n",
    "        class_mode='binary')\n",
    "\n",
    "validation_generator = test_datagen.flow_from_directory(\n",
    "        'C:\\\\Users\\\\user\\\\MyPython\\\\DL\\\\archive\\\\test_set\\\\test_set',\n",
    "        target_size=(img_w, img_h),\n",
    "        batch_size=32,\n",
    "        class_mode='binary')"
   ]
  },
  {
   "cell_type": "code",
   "execution_count": 37,
   "metadata": {
    "scrolled": false
   },
   "outputs": [
    {
     "name": "stdout",
     "output_type": "stream",
     "text": [
      "Model: \"sequential\"\n",
      "_________________________________________________________________\n",
      "Layer (type)                 Output Shape              Param #   \n",
      "=================================================================\n",
      "conv2d (Conv2D)              (None, 148, 148, 32)      896       \n",
      "_________________________________________________________________\n",
      "max_pooling2d (MaxPooling2D) (None, 74, 74, 32)        0         \n",
      "_________________________________________________________________\n",
      "conv2d_1 (Conv2D)            (None, 72, 72, 64)        18496     \n",
      "_________________________________________________________________\n",
      "max_pooling2d_1 (MaxPooling2 (None, 36, 36, 64)        0         \n",
      "_________________________________________________________________\n",
      "conv2d_2 (Conv2D)            (None, 34, 34, 128)       73856     \n",
      "_________________________________________________________________\n",
      "max_pooling2d_2 (MaxPooling2 (None, 17, 17, 128)       0         \n",
      "_________________________________________________________________\n",
      "flatten (Flatten)            (None, 36992)             0         \n",
      "_________________________________________________________________\n",
      "dense (Dense)                (None, 512)               18940416  \n",
      "_________________________________________________________________\n",
      "dense_1 (Dense)              (None, 1)                 513       \n",
      "=================================================================\n",
      "Total params: 19,034,177\n",
      "Trainable params: 19,034,177\n",
      "Non-trainable params: 0\n",
      "_________________________________________________________________\n",
      "251/251 [==============================] - 931s 4s/step - loss: 0.6567 - acc: 0.6062 - val_loss: 0.5859 - val_acc: 0.6985\n"
     ]
    },
    {
     "data": {
      "text/plain": [
       "<tensorflow.python.keras.callbacks.History at 0x1b800c6ee50>"
      ]
     },
     "execution_count": 37,
     "metadata": {},
     "output_type": "execute_result"
    }
   ],
   "source": [
    "model = keras.models.load_model('catdog_model.h5')\n",
    "model.summary()\n",
    "\n",
    "model.fit(\n",
    "        train_generator,\n",
    "        epochs=1,\n",
    "        validation_data=validation_generator)"
   ]
  },
  {
   "cell_type": "code",
   "execution_count": 38,
   "metadata": {},
   "outputs": [
    {
     "name": "stdout",
     "output_type": "stream",
     "text": [
      "{'cats': 0, 'dogs': 1}\n",
      "{'cats': 0, 'dogs': 1}\n"
     ]
    }
   ],
   "source": [
    "# 원본 이미지 회전, 확대, 반전 등의 확장 처리를 모두 150*150 픽셀로 리사이즈 한 것을\n",
    "# flow_from_directory() 메소드가 저장되어있는 하위 디렉토리에서 생성할 수도 있지만 자동으로 생성되어 진행된다.\n",
    "\n",
    "# CNN 확률 dogs(1)이 된다. 판정할 경우 0.5를 임계값으로 가진다. \n",
    "# 0.5 미만이면 cats, 0.5 이상이면 dogs가 된다.\n",
    "\n",
    "print(train_generator.class_indices)\n",
    "print(validation_generator.class_indices)"
   ]
  },
  {
   "cell_type": "code",
   "execution_count": 39,
   "metadata": {},
   "outputs": [
    {
     "name": "stdout",
     "output_type": "stream",
     "text": [
      "Model: \"sequential\"\n",
      "_________________________________________________________________\n",
      "Layer (type)                 Output Shape              Param #   \n",
      "=================================================================\n",
      "conv2d (Conv2D)              (None, 148, 148, 32)      896       \n",
      "_________________________________________________________________\n",
      "max_pooling2d (MaxPooling2D) (None, 74, 74, 32)        0         \n",
      "_________________________________________________________________\n",
      "conv2d_1 (Conv2D)            (None, 72, 72, 64)        18496     \n",
      "_________________________________________________________________\n",
      "max_pooling2d_1 (MaxPooling2 (None, 36, 36, 64)        0         \n",
      "_________________________________________________________________\n",
      "conv2d_2 (Conv2D)            (None, 34, 34, 128)       73856     \n",
      "_________________________________________________________________\n",
      "max_pooling2d_2 (MaxPooling2 (None, 17, 17, 128)       0         \n",
      "_________________________________________________________________\n",
      "flatten (Flatten)            (None, 36992)             0         \n",
      "_________________________________________________________________\n",
      "dense (Dense)                (None, 512)               18940416  \n",
      "_________________________________________________________________\n",
      "dense_1 (Dense)              (None, 1)                 513       \n",
      "=================================================================\n",
      "Total params: 19,034,177\n",
      "Trainable params: 19,034,177\n",
      "Non-trainable params: 0\n",
      "_________________________________________________________________\n"
     ]
    }
   ],
   "source": [
    "# 모델 컴파일 수행\n",
    "model.compile(loss='binary_crossentropy', metrics=['accuracy'], optimizer='adam')\n",
    "model.summary()"
   ]
  },
  {
   "cell_type": "code",
   "execution_count": null,
   "metadata": {},
   "outputs": [],
   "source": [
    "# step 2 평가 단계(학습단계)\n",
    "\n",
    "# model.fit(\n",
    "#         train_generator,\n",
    "#         epochs=1,\n",
    "#         validation_data=validation_generator)"
   ]
  },
  {
   "cell_type": "code",
   "execution_count": null,
   "metadata": {},
   "outputs": [],
   "source": [
    "# step 3 응용 단계\n",
    "# 예측값 까지 확인\n",
    "# 이미지 가져와서 numpy 리턴하는 이미지로 예측률을 확인해보자"
   ]
  },
  {
   "cell_type": "code",
   "execution_count": null,
   "metadata": {},
   "outputs": [],
   "source": [
    "1. RNN 개념이해 _주가, 음성데이터, 음악, 문서, 기상\n",
    "2. RNN 간단한 코드로 확인\n",
    "3. RNN 모델을 이용한 검증, 예측률"
   ]
  },
  {
   "cell_type": "code",
   "execution_count": 40,
   "metadata": {},
   "outputs": [
    {
     "data": {
      "image/png": "[encoded data removed]",
      "text/plain": [
       "<Figure size 432x288 with 1 Axes>"
      ]
     },
     "metadata": {
      "needs_background": "light"
     },
     "output_type": "display_data"
    },
    {
     "data": {
      "text/plain": [
       "array([-6.28318531, -6.02672876, -5.77027222, -5.51381568, -5.25735913,\n",
       "       -5.00090259, -4.74444605, -4.48798951, -4.23153296, -3.97507642,\n",
       "       -3.71861988, -3.46216333, -3.20570679, -2.94925025, -2.6927937 ,\n",
       "       -2.43633716, -2.17988062, -1.92342407, -1.66696753, -1.41051099,\n",
       "       -1.15405444, -0.8975979 , -0.64114136, -0.38468481, -0.12822827,\n",
       "        0.12822827,  0.38468481,  0.64114136,  0.8975979 ,  1.15405444,\n",
       "        1.41051099,  1.66696753,  1.92342407,  2.17988062,  2.43633716,\n",
       "        2.6927937 ,  2.94925025,  3.20570679,  3.46216333,  3.71861988,\n",
       "        3.97507642,  4.23153296,  4.48798951,  4.74444605,  5.00090259,\n",
       "        5.25735913,  5.51381568,  5.77027222,  6.02672876,  6.28318531])"
      ]
     },
     "execution_count": 40,
     "metadata": {},
     "output_type": "execute_result"
    }
   ],
   "source": [
    "# RNN 1\n",
    "import numpy as np\n",
    "import matplotlib.pyplot as plt\n",
    "\n",
    "x_data = np.linspace(-2*np.pi, 2*np.pi)  # 일반 범위 값 50개의 데이터\n",
    "\n",
    "sin_data = np.sin(x_data) + 0.3*np.random.randn(len(x_data))  # 난수로 노이즈 더한값\n",
    "\n",
    "plt.plot(x_data, sin_data)\n",
    "\n",
    "plt.show()  # 그래프확인 하게되면 노이즈 부분이 플롯 된 것을 확인\n",
    "\n",
    "x_data"
   ]
  },
  {
   "cell_type": "code",
   "execution_count": 41,
   "metadata": {},
   "outputs": [],
   "source": [
    "# RNN 1-2 : 입력 데이터와 정답 데이터 작성\n",
    "\n",
    "n_rnn = 15  # 시계열 수\n",
    "\n",
    "n_sample = len(x_data) - n_rnn  # 샘플 50 - 15 = 35\n",
    "i_data = np.zeros((n_sample, n_rnn))  # 입력\n",
    "c_data = np.zeros((n_sample, n_rnn))  # 정답\n",
    "\n",
    "for i in range(0, n_sample):\n",
    "    i_data[i] = sin_data[i:i+n_rnn]  # x_data(데이터수 : 50)\n",
    "    c_data[i] = sin_data[i+1:i+n_rnn+1]\n",
    "#     print(i_data)"
   ]
  },
  {
   "cell_type": "code",
   "execution_count": 42,
   "metadata": {},
   "outputs": [
    {
     "name": "stdout",
     "output_type": "stream",
     "text": [
      "(35, 15, 1)\n",
      "(35, 15, 1)\n"
     ]
    }
   ],
   "source": [
    "i_data = i_data.reshape(n_sample, n_rnn, 1)   # keras 원형 RNN 입력데이터 형식\n",
    "c_data = c_data.reshape(n_sample, n_rnn, 1)\n",
    "\n",
    "print(i_data.shape)\n",
    "print(c_data.shape)"
   ]
  },
  {
   "cell_type": "code",
   "execution_count": null,
   "metadata": {},
   "outputs": [],
   "source": [
    "# RNN 1-3\n",
    "\n",
    "SimpleRNN : 전체 계층 중 중간층으로 재귀된다.\n",
    "LSTM : 복잡한 시계열 데이터 처리, 학습시간이 오래걸린다.\n",
    "GRU : LSTM의 단순버전으로 매개변수가 적기때문에 학습시간이 오래걸리지 않는다."
   ]
  },
  {
   "cell_type": "code",
   "execution_count": 43,
   "metadata": {},
   "outputs": [],
   "source": [
    "# RNN 1-3 모델 만들기\n",
    "from keras.models import Sequential\n",
    "from keras.layers import Dense, SimpleRNN\n",
    "\n",
    "batch_size = 5  # 배치크기\n",
    "n_in = 1  # 입력층 크기\n",
    "n_mid = 20  # 중간층\n",
    "n_out = 1  # 출력층"
   ]
  },
  {
   "cell_type": "code",
   "execution_count": 44,
   "metadata": {
    "scrolled": true
   },
   "outputs": [
    {
     "name": "stdout",
     "output_type": "stream",
     "text": [
      "Model: \"sequential_5\"\n",
      "_________________________________________________________________\n",
      "Layer (type)                 Output Shape              Param #   \n",
      "=================================================================\n",
      "simple_rnn_5 (SimpleRNN)     (None, 15, 20)            440       \n",
      "_________________________________________________________________\n",
      "dense_5 (Dense)              (None, 15, 1)             21        \n",
      "=================================================================\n",
      "Total params: 461\n",
      "Trainable params: 461\n",
      "Non-trainable params: 0\n",
      "_________________________________________________________________\n",
      "\n",
      "============================================================\n",
      "3 \n",
      "\n",
      "20 400 20\n"
     ]
    }
   ],
   "source": [
    "model = Sequential()\n",
    "\n",
    "# SimpleRNN의 activation 기본값이 tanh 설정, input_shape(15-시계열수, 1_뉴런수)\n",
    "model.add(SimpleRNN(n_mid, input_shape=(n_rnn, n_in), return_sequences=True))\n",
    "model.add(Dense(n_out, activation='linear'))\n",
    "model.compile(loss='mean_squared_error', optimizer='sgd')\n",
    "\n",
    "model.summary()\n",
    "\n",
    "# SimpleRNN의 Param = 440?\n",
    "# 입력가중치 = 입력의 차수 * 숨어있는 차수 = 1*20\n",
    "# 숨겨진 값 = 히든차수 * 히든차수 = 20*20\n",
    "# 바이어스 = 히든차수 = 20\n",
    "\n",
    "# model = Sequential()\n",
    "# model.add(Embedding(4000, 32, input_shape=20)) = 4000*32 = 128000\n",
    "# model.add(LSTM(64)) = 32*64*4 + 64*64*4 + 64*4 =\n",
    "# model.add(SimpleRNN(64)) = 32*64*64*64 =\n",
    "# model.add(GPU(64))\n",
    "\n",
    "print()\n",
    "print('============================================================')\n",
    "print(len(model.layers[0].get_weights()), '\\n')\n",
    "i_w, h_w, bias = model.layers[0].get_weights()\n",
    "print(i_w.size, h_w.size, bias.size)  # 20, 400, 20"
   ]
  },
  {
   "cell_type": "code",
   "execution_count": 45,
   "metadata": {
    "scrolled": true
   },
   "outputs": [
    {
     "name": "stdout",
     "output_type": "stream",
     "text": [
      "Epoch 1/100\n",
      "7/7 [==============================] - 3s 124ms/step - loss: 0.2141 - val_loss: 0.1970\n",
      "Epoch 2/100\n",
      "7/7 [==============================] - 0s 23ms/step - loss: 0.1693 - val_loss: 0.1880\n",
      "Epoch 3/100\n",
      "7/7 [==============================] - 0s 23ms/step - loss: 0.1501 - val_loss: 0.1834\n",
      "Epoch 4/100\n",
      "7/7 [==============================] - 0s 24ms/step - loss: 0.1583 - val_loss: 0.1835\n",
      "Epoch 5/100\n",
      "7/7 [==============================] - 0s 23ms/step - loss: 0.1508 - val_loss: 0.1862\n",
      "Epoch 6/100\n",
      "7/7 [==============================] - 0s 27ms/step - loss: 0.1458 - val_loss: 0.1820\n",
      "Epoch 7/100\n",
      "7/7 [==============================] - 0s 22ms/step - loss: 0.1440 - val_loss: 0.1776\n",
      "Epoch 8/100\n",
      "7/7 [==============================] - 0s 25ms/step - loss: 0.1488 - val_loss: 0.1757\n",
      "Epoch 9/100\n",
      "7/7 [==============================] - 0s 26ms/step - loss: 0.1446 - val_loss: 0.1825\n",
      "Epoch 10/100\n",
      "7/7 [==============================] - 0s 29ms/step - loss: 0.1437 - val_loss: 0.1767\n",
      "Epoch 11/100\n",
      "7/7 [==============================] - 0s 33ms/step - loss: 0.1498 - val_loss: 0.1778\n",
      "Epoch 12/100\n",
      "7/7 [==============================] - 0s 27ms/step - loss: 0.1451 - val_loss: 0.1748\n",
      "Epoch 13/100\n",
      "7/7 [==============================] - 0s 55ms/step - loss: 0.1473 - val_loss: 0.1790\n",
      "Epoch 14/100\n",
      "7/7 [==============================] - 0s 24ms/step - loss: 0.1445 - val_loss: 0.1768\n",
      "Epoch 15/100\n",
      "7/7 [==============================] - 0s 24ms/step - loss: 0.1411 - val_loss: 0.1750\n",
      "Epoch 16/100\n",
      "7/7 [==============================] - 0s 22ms/step - loss: 0.1371 - val_loss: 0.1746\n",
      "Epoch 17/100\n",
      "7/7 [==============================] - 0s 23ms/step - loss: 0.1435 - val_loss: 0.1720\n",
      "Epoch 18/100\n",
      "7/7 [==============================] - 0s 26ms/step - loss: 0.1419 - val_loss: 0.1722\n",
      "Epoch 19/100\n",
      "7/7 [==============================] - 0s 53ms/step - loss: 0.1420 - val_loss: 0.1736\n",
      "Epoch 20/100\n",
      "7/7 [==============================] - 0s 28ms/step - loss: 0.1392 - val_loss: 0.1758\n",
      "Epoch 21/100\n",
      "7/7 [==============================] - 0s 44ms/step - loss: 0.1356 - val_loss: 0.1772\n",
      "Epoch 22/100\n",
      "7/7 [==============================] - 0s 25ms/step - loss: 0.1415 - val_loss: 0.1785\n",
      "Epoch 23/100\n",
      "7/7 [==============================] - 0s 44ms/step - loss: 0.1378 - val_loss: 0.1753\n",
      "Epoch 24/100\n",
      "7/7 [==============================] - 0s 24ms/step - loss: 0.1397 - val_loss: 0.1710\n",
      "Epoch 25/100\n",
      "7/7 [==============================] - 0s 24ms/step - loss: 0.1341 - val_loss: 0.1704\n",
      "Epoch 26/100\n",
      "7/7 [==============================] - 0s 54ms/step - loss: 0.1377 - val_loss: 0.1723\n",
      "Epoch 27/100\n",
      "7/7 [==============================] - 0s 30ms/step - loss: 0.1361 - val_loss: 0.1718\n",
      "Epoch 28/100\n",
      "7/7 [==============================] - 0s 28ms/step - loss: 0.1369 - val_loss: 0.1686\n",
      "Epoch 29/100\n",
      "7/7 [==============================] - 0s 23ms/step - loss: 0.1406 - val_loss: 0.1669\n",
      "Epoch 30/100\n",
      "7/7 [==============================] - 0s 26ms/step - loss: 0.1344 - val_loss: 0.1657\n",
      "Epoch 31/100\n",
      "7/7 [==============================] - 0s 23ms/step - loss: 0.1335 - val_loss: 0.1686\n",
      "Epoch 32/100\n",
      "7/7 [==============================] - 0s 23ms/step - loss: 0.1346 - val_loss: 0.1728\n",
      "Epoch 33/100\n",
      "7/7 [==============================] - 0s 24ms/step - loss: 0.1351 - val_loss: 0.1722\n",
      "Epoch 34/100\n",
      "7/7 [==============================] - 0s 24ms/step - loss: 0.1366 - val_loss: 0.1698\n",
      "Epoch 35/100\n",
      "7/7 [==============================] - 0s 24ms/step - loss: 0.1348 - val_loss: 0.1688\n",
      "Epoch 36/100\n",
      "7/7 [==============================] - 0s 24ms/step - loss: 0.1367 - val_loss: 0.1657\n",
      "Epoch 37/100\n",
      "7/7 [==============================] - 0s 24ms/step - loss: 0.1314 - val_loss: 0.1644\n",
      "Epoch 38/100\n",
      "7/7 [==============================] - 0s 30ms/step - loss: 0.1340 - val_loss: 0.1639\n",
      "Epoch 39/100\n",
      "7/7 [==============================] - 0s 26ms/step - loss: 0.1344 - val_loss: 0.1637\n",
      "Epoch 40/100\n",
      "7/7 [==============================] - 0s 26ms/step - loss: 0.1357 - val_loss: 0.1620\n",
      "Epoch 41/100\n",
      "7/7 [==============================] - 0s 22ms/step - loss: 0.1306 - val_loss: 0.1608\n",
      "Epoch 42/100\n",
      "7/7 [==============================] - 0s 22ms/step - loss: 0.1391 - val_loss: 0.1607\n",
      "Epoch 43/100\n",
      "7/7 [==============================] - 0s 23ms/step - loss: 0.1307 - val_loss: 0.1621\n",
      "Epoch 44/100\n",
      "7/7 [==============================] - 0s 22ms/step - loss: 0.1376 - val_loss: 0.1622\n",
      "Epoch 45/100\n",
      "7/7 [==============================] - 0s 47ms/step - loss: 0.1352 - val_loss: 0.1630\n",
      "Epoch 46/100\n",
      "7/7 [==============================] - 0s 22ms/step - loss: 0.1306 - val_loss: 0.1660\n",
      "Epoch 47/100\n",
      "7/7 [==============================] - 0s 31ms/step - loss: 0.1322 - val_loss: 0.1661\n",
      "Epoch 48/100\n",
      "7/7 [==============================] - 0s 31ms/step - loss: 0.1384 - val_loss: 0.1669\n",
      "Epoch 49/100\n",
      "7/7 [==============================] - 0s 43ms/step - loss: 0.1345 - val_loss: 0.1622\n",
      "Epoch 50/100\n",
      "7/7 [==============================] - 0s 28ms/step - loss: 0.1302 - val_loss: 0.1613\n",
      "Epoch 51/100\n",
      "7/7 [==============================] - 0s 28ms/step - loss: 0.1275 - val_loss: 0.1656\n",
      "Epoch 52/100\n",
      "7/7 [==============================] - ETA: 0s - loss: 0.128 - 0s 27ms/step - loss: 0.1289 - val_loss: 0.1623\n",
      "Epoch 53/100\n",
      "7/7 [==============================] - 0s 25ms/step - loss: 0.1290 - val_loss: 0.1636\n",
      "Epoch 54/100\n",
      "7/7 [==============================] - 0s 25ms/step - loss: 0.1295 - val_loss: 0.1604\n",
      "Epoch 55/100\n",
      "7/7 [==============================] - 0s 26ms/step - loss: 0.1302 - val_loss: 0.1637\n",
      "Epoch 56/100\n",
      "7/7 [==============================] - 0s 25ms/step - loss: 0.1307 - val_loss: 0.1599\n",
      "Epoch 57/100\n",
      "7/7 [==============================] - 0s 24ms/step - loss: 0.1303 - val_loss: 0.1586\n",
      "Epoch 58/100\n",
      "7/7 [==============================] - 0s 23ms/step - loss: 0.1277 - val_loss: 0.1595\n",
      "Epoch 59/100\n",
      "7/7 [==============================] - 0s 26ms/step - loss: 0.1297 - val_loss: 0.1572\n",
      "Epoch 60/100\n",
      "7/7 [==============================] - 0s 30ms/step - loss: 0.1303 - val_loss: 0.1590\n",
      "Epoch 61/100\n",
      "7/7 [==============================] - 0s 25ms/step - loss: 0.1318 - val_loss: 0.1631\n",
      "Epoch 62/100\n",
      "7/7 [==============================] - 0s 23ms/step - loss: 0.1322 - val_loss: 0.1581\n",
      "Epoch 63/100\n",
      "7/7 [==============================] - 0s 25ms/step - loss: 0.1272 - val_loss: 0.1579\n",
      "Epoch 64/100\n",
      "7/7 [==============================] - 0s 24ms/step - loss: 0.1283 - val_loss: 0.1603\n",
      "Epoch 65/100\n",
      "7/7 [==============================] - 0s 23ms/step - loss: 0.1281 - val_loss: 0.1582\n",
      "Epoch 66/100\n",
      "7/7 [==============================] - 0s 24ms/step - loss: 0.1287 - val_loss: 0.1564\n",
      "Epoch 67/100\n",
      "7/7 [==============================] - 0s 23ms/step - loss: 0.1267 - val_loss: 0.1578\n",
      "Epoch 68/100\n",
      "7/7 [==============================] - 0s 28ms/step - loss: 0.1307 - val_loss: 0.1611\n",
      "Epoch 69/100\n",
      "7/7 [==============================] - 0s 45ms/step - loss: 0.1296 - val_loss: 0.1608\n",
      "Epoch 70/100\n",
      "7/7 [==============================] - 0s 29ms/step - loss: 0.1255 - val_loss: 0.1611\n",
      "Epoch 71/100\n",
      "7/7 [==============================] - 0s 29ms/step - loss: 0.1259 - val_loss: 0.1588\n",
      "Epoch 72/100\n",
      "7/7 [==============================] - 0s 37ms/step - loss: 0.1266 - val_loss: 0.1598\n",
      "Epoch 73/100\n",
      "7/7 [==============================] - 0s 32ms/step - loss: 0.1298 - val_loss: 0.1559\n",
      "Epoch 74/100\n",
      "7/7 [==============================] - 0s 29ms/step - loss: 0.1243 - val_loss: 0.1560\n",
      "Epoch 75/100\n",
      "7/7 [==============================] - 0s 32ms/step - loss: 0.1281 - val_loss: 0.1560\n",
      "Epoch 76/100\n",
      "7/7 [==============================] - 0s 25ms/step - loss: 0.1292 - val_loss: 0.1553\n",
      "Epoch 77/100\n",
      "7/7 [==============================] - 0s 24ms/step - loss: 0.1221 - val_loss: 0.1547\n",
      "Epoch 78/100\n",
      "7/7 [==============================] - 0s 25ms/step - loss: 0.1241 - val_loss: 0.1520\n",
      "Epoch 79/100\n",
      "7/7 [==============================] - 0s 24ms/step - loss: 0.1243 - val_loss: 0.1526\n",
      "Epoch 80/100\n",
      "7/7 [==============================] - 0s 27ms/step - loss: 0.1242 - val_loss: 0.1510\n",
      "Epoch 81/100\n",
      "7/7 [==============================] - 0s 26ms/step - loss: 0.1236 - val_loss: 0.1515\n",
      "Epoch 82/100\n",
      "7/7 [==============================] - 0s 25ms/step - loss: 0.1293 - val_loss: 0.1510\n",
      "Epoch 83/100\n"
     ]
    },
    {
     "name": "stdout",
     "output_type": "stream",
     "text": [
      "7/7 [==============================] - 0s 28ms/step - loss: 0.1264 - val_loss: 0.1537\n",
      "Epoch 84/100\n",
      "7/7 [==============================] - 0s 29ms/step - loss: 0.1219 - val_loss: 0.1557\n",
      "Epoch 85/100\n",
      "7/7 [==============================] - 0s 23ms/step - loss: 0.1235 - val_loss: 0.1531\n",
      "Epoch 86/100\n",
      "7/7 [==============================] - 0s 23ms/step - loss: 0.1195 - val_loss: 0.1518\n",
      "Epoch 87/100\n",
      "7/7 [==============================] - 0s 23ms/step - loss: 0.1235 - val_loss: 0.1490\n",
      "Epoch 88/100\n",
      "7/7 [==============================] - 0s 35ms/step - loss: 0.1186 - val_loss: 0.1531\n",
      "Epoch 89/100\n",
      "7/7 [==============================] - 0s 25ms/step - loss: 0.1261 - val_loss: 0.1522\n",
      "Epoch 90/100\n",
      "7/7 [==============================] - 0s 26ms/step - loss: 0.1198 - val_loss: 0.1501\n",
      "Epoch 91/100\n",
      "7/7 [==============================] - 0s 35ms/step - loss: 0.1211 - val_loss: 0.1536\n",
      "Epoch 92/100\n",
      "7/7 [==============================] - 0s 27ms/step - loss: 0.1229 - val_loss: 0.1552\n",
      "Epoch 93/100\n",
      "7/7 [==============================] - 0s 27ms/step - loss: 0.1218 - val_loss: 0.1508\n",
      "Epoch 94/100\n",
      "7/7 [==============================] - 0s 29ms/step - loss: 0.1203 - val_loss: 0.1538\n",
      "Epoch 95/100\n",
      "7/7 [==============================] - 0s 28ms/step - loss: 0.1205 - val_loss: 0.1506\n",
      "Epoch 96/100\n",
      "7/7 [==============================] - 0s 26ms/step - loss: 0.1225 - val_loss: 0.1492\n",
      "Epoch 97/100\n",
      "7/7 [==============================] - 0s 26ms/step - loss: 0.1210 - val_loss: 0.1489\n",
      "Epoch 98/100\n",
      "7/7 [==============================] - 0s 27ms/step - loss: 0.1219 - val_loss: 0.1500\n",
      "Epoch 99/100\n",
      "7/7 [==============================] - 0s 26ms/step - loss: 0.1246 - val_loss: 0.1513\n",
      "Epoch 100/100\n",
      "7/7 [==============================] - 0s 26ms/step - loss: 0.1242 - val_loss: 0.1538\n"
     ]
    }
   ],
   "source": [
    "# RNN 1-4 RNN 모델을 이용한 학습하기\n",
    "history = model.fit(i_data, c_data, epochs=100, batch_size=batch_size, validation_split=0.1)"
   ]
  },
  {
   "cell_type": "code",
   "execution_count": 46,
   "metadata": {},
   "outputs": [
    {
     "data": {
      "image/png": "[encoded data removed]",
      "text/plain": [
       "<Figure size 432x288 with 1 Axes>"
      ]
     },
     "metadata": {
      "needs_background": "light"
     },
     "output_type": "display_data"
    }
   ],
   "source": [
    "# RNN 1-5 손실률 시각화\n",
    "loss = history.history['loss']\n",
    "vloss = history.history['val_loss']\n",
    "\n",
    "plt.plot(np.arange(len(loss)), loss)\n",
    "plt.plot(np.arange(len(vloss)), vloss)\n",
    "plt.show()"
   ]
  },
  {
   "cell_type": "code",
   "execution_count": 47,
   "metadata": {},
   "outputs": [
    {
     "data": {
      "text/plain": [
       "array([-0.0511435 ,  0.35144424,  0.47314064,  0.10873412,  1.05895462,\n",
       "        0.97334059,  1.08693964,  0.75379665,  0.40819973,  0.8281219 ,\n",
       "        0.30133631,  0.78087654, -0.07079602, -0.42267884, -0.55845113])"
      ]
     },
     "execution_count": 47,
     "metadata": {},
     "output_type": "execute_result"
    }
   ],
   "source": [
    "# RNN 1-6 예측률은 입력된 데이터를 활용하자\n",
    "# i_data = x_data(데이터 개수 : 50)\n",
    "predicted = i_data[0].reshape(-1)   # 입력데이터의 첫번째 행렬을 1차원 벡터로\n",
    "predicted"
   ]
  },
  {
   "cell_type": "code",
   "execution_count": 48,
   "metadata": {},
   "outputs": [],
   "source": [
    "for i in range(0, n_sample):\n",
    "    y = model.predict(predicted[-n_rnn :].reshape(1, n_rnn, 1))\n",
    "    predicted = np.append(predicted, y[0][n_rnn-1][0])"
   ]
  },
  {
   "cell_type": "code",
   "execution_count": 49,
   "metadata": {},
   "outputs": [
    {
     "data": {
      "image/png": "[encoded data removed]",
      "text/plain": [
       "<Figure size 432x288 with 1 Axes>"
      ]
     },
     "metadata": {
      "needs_background": "light"
     },
     "output_type": "display_data"
    }
   ],
   "source": [
    "# 추가 데이터 예측률 시각화\n",
    "\n",
    "plt.plot(np.arange(len(sin_data)), sin_data, label=\"Train_data\")\n",
    "plt.plot(np.arange(len(predicted)), predicted, label=\"predicted\")\n",
    "plt.legend()\n",
    "plt.show()"
   ]
  }
 ],
 "metadata": {
  "kernelspec": {
   "display_name": "Python 3",
   "language": "python",
   "name": "python3"
  },
  "language_info": {
   "codemirror_mode": {
    "name": "ipython",
    "version": 3
   },
   "file_extension": ".py",
   "mimetype": "text/x-python",
   "name": "python",
   "nbconvert_exporter": "python",
   "pygments_lexer": "ipython3",
   "version": "3.8.5"
  }
 },
 "nbformat": 4,
 "nbformat_minor": 4
}
