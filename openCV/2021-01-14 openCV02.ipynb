{
 "cells": [
  {
   "cell_type": "code",
   "execution_count": 1,
   "metadata": {},
   "outputs": [],
   "source": [
    "# 1. 이미지 - 상하 뒤집기, 좌우, 반복, 행렬변환\n",
    "import cv2\n",
    "\n",
    "image = cv2.imread('myImg\\\\Lenna.png', cv2.IMREAD_COLOR)\n",
    "\n",
    "if image is None:\n",
    "    raise Exception('파일오류')  # 예외처리"
   ]
  },
  {
   "cell_type": "code",
   "execution_count": 6,
   "metadata": {},
   "outputs": [],
   "source": [
    "x_flip = cv2.flip(image, 0)  # x축을 기준으로 상하 뒤집기\n",
    "y_flip = cv2.flip(image, 1)  # y축을 기준으로 좌우 뒤집기\n",
    "xy_flip = cv2.flip(image, -1)  \n",
    "\n",
    "r_img = cv2.repeat(image, 1, 2)  # 반복 복사\n",
    "t_img = cv2.transpose(image)  # 행렬변환(전치)\n",
    "\n",
    "titles = zip(['x', 'y', 'xy', 'r', 't'],[x_flip,y_flip,xy_flip,r_img,t_img])\n",
    "for w_title, img in titles:\n",
    "    cv2.imshow(w_title, img)\n",
    "    \n",
    "cv2.waitKey(0)  # 키 이벤트\n",
    "cv2.destroyAllWindows()  # 객체 소멸"
   ]
  },
  {
   "cell_type": "code",
   "execution_count": 19,
   "metadata": {},
   "outputs": [
    {
     "name": "stdout",
     "output_type": "stream",
     "text": [
      "<class 'numpy.ndarray'> <class 'list'>\n",
      "split_bgr (3, 2, 4)\n",
      "merge_bgr (2, 4, 3)\n"
     ]
    }
   ],
   "source": [
    "# 2. 이미지 - 요소값 지정(연산)\n",
    "import cv2\n",
    "import numpy as np\n",
    "\n",
    "v01 = np.zeros((2,4), np.uint8) + 10  # 0 원소(채널)행렬 선언 후 + 10 연산\n",
    "v02 = np.ones((2,4), np.uint8)  * 20  # 1 원소(채널)행렬 선언 후 * 20 연산\n",
    "v03 = np.zeros((2,4), np.uint8)\n",
    "# start_inded <= index < end_index\n",
    "v03[:] = 30  # 0 원소(채널) 행렬 선언 후 30을 대입\n",
    "\n",
    "my_bgr = [v01, v02, v03]  # 각각의 행렬을 모아서 하나의 리스트로 구성\n",
    "merge_bgr = cv2.merge(my_bgr)   # 채널 합성\n",
    "split_bgr = cv2.split(merge_bgr)  # 채널 분리 : 컬러이미지, 영상 -> 3개의 채널로 분리\n",
    "\n",
    "# 결과를 확인하자.  np.shape\n",
    "print(type(merge_bgr), type(split_bgr))\n",
    "print('split_bgr', np.array(split_bgr).shape)\n",
    "print('merge_bgr', merge_bgr.shape)"
   ]
  },
  {
   "cell_type": "code",
   "execution_count": 28,
   "metadata": {},
   "outputs": [
    {
     "name": "stdout",
     "output_type": "stream",
     "text": [
      "자료형 :  <class 'list'> <class 'numpy.ndarray'> <class 'numpy.ndarray'> <class 'numpy.ndarray'>\n",
      "개수 :  3\n"
     ]
    }
   ],
   "source": [
    "# 3. 이미지 - 이미지의 색상 분리 하자\n",
    "import cv2\n",
    "import numpy as np\n",
    "\n",
    "image = cv2.imread('myImg\\\\Lenna.png', cv2.IMREAD_COLOR)\n",
    "\n",
    "if image is None:\n",
    "    raise Exception('파일오류')  # 예외처리\n",
    "    \n",
    "if image.ndim != 3:\n",
    "    raise Exception('컬럼 이미지 아님')\n",
    "    \n",
    "# 채널 분리 : 컬러영상 -> 3 채널 분리\n",
    "bgr = cv2.split(image)  # blue, green, red\n",
    "print(\"자료형 : \", type(bgr), type(bgr[0]), type(bgr[1]), type(bgr[2]))\n",
    "print(\"개수 : \", len(bgr))\n",
    "\n",
    "# 확인\n",
    "cv2.imshow('image', image)\n",
    "# cv2.imshow('b_image', bgr[0])\n",
    "# cv2.imshow('g_image', bgr[1])\n",
    "# cv2.imshow('r_image', bgr[2])\n",
    "\n",
    "# 객체 인덱싱\n",
    "cv2.imshow('b_image', image[:,:,0])\n",
    "cv2.imshow('g_image', image[:,:,1])\n",
    "cv2.imshow('r_image', image[:,:,2])\n",
    "\n",
    "cv2.waitKey(0)  # 키 이벤트\n",
    "cv2.destroyAllWindows()  # 객체 소멸"
   ]
  },
  {
   "cell_type": "code",
   "execution_count": null,
   "metadata": {
    "scrolled": true
   },
   "outputs": [],
   "source": [
    "# 4. 사칙연산\n",
    "import cv2\n",
    "import numpy as np\n",
    "\n",
    "su01 = np.full((3,6), 10, np.uint8)\n",
    "su02 = np.full((3,6), 50, np.uint8)\n",
    "\n",
    "my_mask = np.zeros(su01.shape, np.uint8)  # 마스크 생성\n",
    "my_mask[:,3:] = 1  # [모든행, 열 3:endindex-1]\n",
    "\n",
    "# +\n",
    "my_add01 = cv2.add(su01, su02)  # 행렬의 합\n",
    "my_add02 = cv2.add(su01, su02, mask=my_mask)  # 관심영역만 합친다\n",
    "\n",
    "# /\n",
    "my_div01 = cv2.divide(su01, su02)\n",
    "su01 = su01.astype(np.float32)\n",
    "su02 = np.float32(su02)\n",
    "my_div02 = cv2.divide(su01, su02)\n",
    "\n",
    "titles = [\"su01\", \"su02\", \"my_mask\", \"my_add01\", \"my_add02\", \"my_div01\", \"my_div02\"]\n",
    "for title in titles:\n",
    "    print(\"[%s] = \\n%s \\n\" % (title, eval(title)))"
   ]
  },
  {
   "cell_type": "code",
   "execution_count": 48,
   "metadata": {
    "scrolled": true
   },
   "outputs": [
    {
     "name": "stdout",
     "output_type": "stream",
     "text": [
      "[x] : (5,) 요소 : [ 1.  2.  3.  5. 10.]\n",
      "[y] : (5,) 요소 : [2. 5. 7. 2. 9.]\n",
      "[mag] : (5, 1) 요소 : [[ 2.236068 ]\n",
      " [ 5.3851647]\n",
      " [ 7.615773 ]\n",
      " [ 5.3851647]\n",
      " [13.453624 ]]\n",
      "[ang] : (5, 1) 요소 : [[1.1071129]\n",
      " [1.1902124]\n",
      " [1.1658309]\n",
      " [0.3805839]\n",
      " [0.7329612]]\n"
     ]
    }
   ],
   "source": [
    "# 5. 기타 등등 연산 메소드 좌표 계산 메소드\n",
    "# 크기계산 cv2.magnitude(x, y[, magnitude]) -> magnitude(i) = sqrt{x(i)**2 + y(i)**2} : 2차원 배열의 크기\n",
    "# 각도(방향)계산 : cv2.phase(x, y[, angle[, angleInDegrees]]) -> angle : 2차원 배열의 회전 각도\n",
    "    # angle(i) = atan2(y(i), x(i)) * 180 / 원주율파이\n",
    "    # angle : 각도들의 출력 배열\n",
    "    # angleInDegrees : True(degree) / False(radian)\n",
    "# 극좌표로 변환 : cv2.cartToPolar(x, y[, magnitude[, angle[, angleInDegrees]]]) -> magnitude, angle\n",
    "    # 2차원 배열들의 크기와 각도를 계산하는 함수\n",
    "# 직교좌표로 변환 : cv2.polarToCart(magnitude, angle[, x[, y[, angleInDegrees]]]) -> x, y\n",
    "    # 각도와 크기를 2차원 배열의 좌표로 계산하는 함수\n",
    "import cv2\n",
    "import numpy as np\n",
    "\n",
    "x = np.array([1,2,3,5,10], np.float32)\n",
    "y = np.array([2,5,7,2,9]).astype('float32')\n",
    "\n",
    "mag = cv2.magnitude(x,y)  # 크기를 계산\n",
    "ang = cv2. phase(x,y)  # 각도(방향) 계산\n",
    "\n",
    "p_mag, p_ang = cv2.cartToPolar(x,y)  # 극좌표로 계산\n",
    "x2, y2 = cv2.polarToCart(p_mag, p_ang)  # 직교좌표로 계산\n",
    "\n",
    "print('[x] : %s 요소 : %s' % (x.shape, x))\n",
    "print('[y] : %s 요소 : %s' % (y.shape, y))\n",
    "print('[mag] : %s 요소 : %s' % (mag.shape, mag))\n",
    "print('[ang] : %s 요소 : %s' % (ang.shape, ang))"
   ]
  },
  {
   "cell_type": "code",
   "execution_count": 54,
   "metadata": {},
   "outputs": [],
   "source": [
    "# 6. bitwise_or, bitwise_and, bitwise_xor, bitwise_not\n",
    "import cv2\n",
    "import numpy as np\n",
    "\n",
    "img01 = np.zeros((300,300), np.uint8)  # 300*300의 검정색\n",
    "img02 = img01.copy()\n",
    "\n",
    "h,w = img01.shape[:2]\n",
    "cx,cy = w//2, h//2\n",
    "cv2.circle(img01, (cx,cy), 100,255,-1)\n",
    "cv2.rectangle(img02, (0,0,cx,h), 255,-1)\n",
    "\n",
    "img_or = cv2.bitwise_or(img01, img02)  # 논리합\n",
    "img_and = cv2.bitwise_and(img01, img02)  # 논리곱\n",
    "img_xor = cv2.bitwise_xor(img01, img02)  # 베타 논리 합\n",
    "img_not = cv2.bitwise_not(img01)  # 행렬 반전\n",
    "\n",
    "cv2.imshow('img01', img01)\n",
    "cv2.imshow('img02', img02)\n",
    "cv2.imshow('img_or', img_or)\n",
    "cv2.imshow('img_and', img_and)\n",
    "cv2.imshow('img_xor', img_xor)\n",
    "cv2.imshow('img_not', img_not)\n",
    "\n",
    "cv2.waitKey(0)  # 키 이벤트\n",
    "cv2.destroyAllWindows()  # 객체 소멸\n"
   ]
  },
  {
   "cell_type": "code",
   "execution_count": 82,
   "metadata": {},
   "outputs": [],
   "source": [
    "# 7. 이진화 이미지를 만들어서 bit 연산을 구현해보자\n",
    "# 2개의 이미지를 가져다가 overlap을 하고 싶다.\n",
    "# 1) 이미지를 호출\n",
    "# 2) 영상 2진화\n",
    "# 3) 각각의 영역 추출 = mask\n",
    "# 4) 영상 사이즈를 맞춘다\n",
    "# 5) 논리곱과 마스크를 이용해서 관심 영역을 복사\n",
    "# 6) 합성(add)\n",
    "# 7) 합성 영상을 원본에 복사\n",
    "import cv2\n",
    "import numpy as np\n",
    "\n",
    "# 1. 이미지를 호출\n",
    "image = cv2.imread('myImg\\\\day01.jpg', cv2.IMREAD_COLOR)\n",
    "logo = cv2.imread('myImg\\\\opencv_logo.png', cv2.IMREAD_COLOR)\n",
    "\n",
    "if image is None or logo is None:\n",
    "    raise Exception(\"파일이 없습니다\")\n",
    "\n",
    "# 2. 영상 2진화\n",
    "masks = cv2.threshold(logo, 220,255, cv2.THRESH_BINARY)[1]  # 튜플로 리턴한 것(, 값) 중 [1]로 값만 추출\n",
    "masks = cv2.split(masks)\n",
    "\n",
    "# 3. 각각의 영역 추출 = mask\n",
    "fg_mask = cv2.bitwise_or(masks[0], masks[1])  # 전경 통과\n",
    "fg_mask = cv2.bitwise_or(masks[2], fg_mask)\n",
    "bg_mask = cv2.bitwise_not(fg_mask)  # 배경 통과\n",
    "\n",
    "# 4. 영상 사이즈를 맞춘다\n",
    "(H,W), (h,w) = image.shape[:2], logo.shape[:2]  # 두 개의 이미지 사이즈를 각각 리턴\n",
    "x,y = (W-w)//2, (H-h)//2\n",
    "# 영역 지정\n",
    "roi = image[y:y+h, x:x+w]\n",
    "\n",
    "# 5. 논리곱과 마스크를 이용해서 관심 영역을 복사\n",
    "foreground = cv2.bitwise_and(logo, logo, mask=fg_mask)  # 로고의 전경 복사\n",
    "background = cv2.bitwise_and(roi, roi, mask=bg_mask)  # 원본 배경만 복사\n",
    "\n",
    "# 6. 합성(add)\n",
    "res = cv2.add(background, foreground)\n",
    "\n",
    "# 7. 합성 영상을 원본에 복사\n",
    "image[y:y+h, x:x+w] = res\n",
    "\n",
    "cv2.imshow('image', image)\n",
    "cv2.imshow('foreground', foreground)\n",
    "cv2.imshow('background', background)\n",
    "cv2.imshow('res', res)\n",
    "\n",
    "\n",
    "cv2.waitKey(0)  # 키 이벤트\n",
    "cv2.destroyAllWindows()  # 객체 소멸"
   ]
  }
 ],
 "metadata": {
  "kernelspec": {
   "display_name": "Python 3",
   "language": "python",
   "name": "python3"
  },
  "language_info": {
   "codemirror_mode": {
    "name": "ipython",
    "version": 3
   },
   "file_extension": ".py",
   "mimetype": "text/x-python",
   "name": "python",
   "nbconvert_exporter": "python",
   "pygments_lexer": "ipython3",
   "version": "3.8.5"
  }
 },
 "nbformat": 4,
 "nbformat_minor": 4
}
