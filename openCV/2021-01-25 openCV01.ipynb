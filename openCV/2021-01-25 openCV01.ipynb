{
 "cells": [
  {
   "cell_type": "markdown",
   "metadata": {},
   "source": [
    "1) 이미지 로드<br>\n",
    "2) 음영(흑백)이미지를 생성해서 화소에 직접 액세스<br>\n",
    "3) 컬러 이미지 생성해서 화소에 직접 액세스<br>\n",
    "4) web 카메라 영상을 표시<br>\n",
    "5) 도형 그리기<br>\n",
    "6) web 카메라에 도형을 그려서 표시<br>\n",
    "7) 키 입력, 마우스값 입력<br>\n",
    "8) 문자열을 그리기<br>\n",
    "9) 동영상 파일을 영상 표시<br>\n",
    "10) 표 색계 변환<br>\n",
    "11) 두 이미지 간의 차이 감지(화소감지, 모션감지, 모션데이터 감지, 머신러닝(분류), 딥러닝)<br>\n",
    "\n",
    "==========================================================================================================\n",
    "\n",
    "12) 영역 라벨<br>\n",
    "13) 물체 감지(얼굴 영역 검출)<br>\n",
    "14) 가위바위보의 손 추정<br>"
   ]
  },
  {
   "cell_type": "code",
   "execution_count": 2,
   "metadata": {},
   "outputs": [
    {
     "name": "stdout",
     "output_type": "stream",
     "text": [
      "256 256 3\n"
     ]
    }
   ],
   "source": [
    "# 1) 이미지 로드 : imread(), namedWindow(), moveWindow(), imshow()\n",
    "import cv2\n",
    "import numpy as np\n",
    "\n",
    "img = cv2.imread('myImg\\\\Lenna.png', 1)\n",
    "\n",
    "h = img.shape[0]\n",
    "w = img.shape[1]\n",
    "channel = img.shape[2]\n",
    "print(h, w, channel)\n",
    "\n",
    "cv2.namedWindow('img', cv2.WINDOW_AUTOSIZE)\n",
    "cv2.moveWindow('img', 100, 100)\n",
    "\n",
    "cv2.imshow('img', img)\n",
    "\n",
    "cv2.waitKey(0)\n",
    "cv2.destroyAllWindows()"
   ]
  },
  {
   "cell_type": "markdown",
   "metadata": {},
   "source": [
    "2) 음영(흑백)이미지를 생성해서 화소에 직접 액세스\n",
    " - 이미지 numpy 모듈 np.array()\n",
    " - 좌표 일반적으로 왼쪽이 원점(0,0) 오른쪽 좌표 x축, 아래로 y축\n",
    " - 가로 640 화소(픽셀), 세로 480 화소(픽셀) = 640x480 = x좌표(0~639) y좌표(0~479)\n",
    " - 각 픽셀의 색상과 밝기를 표현하기 위해서 채널이라는 개념 : 1화소당 1나의 채널을 사용한다\n",
    " - 컬러이미지. Red, Blue, Green 1화소 당 3개의 채널이 있다 (openCV : BGR)\n",
    " \n",
    " - 각 채널에서 표현 가능한 값을 깊이 : 0~255의 256 단계로 표현하는 경우 부호없는 8bit(1byte)의 형태로 표현된다. np.uint8\n",
    " \n",
    " - 화소값 픽셀값의 데이터는 np.array에 저장된 이미지 img의 (x,y)좌표로 리턴된다. img[x,y]<br>\n",
    "     ex) 컬러 이미지 img의 좌표 (x,y)의 화소를 얻어오는 방법은?<br>\n",
    "         res = img[y,x]  ---> np.uint8은 각 화소의 구조를 표현 0~255 까지의 값을 1byte 나타낸다.\n",
    "      \n",
    "     ex) 컬러 이미지 img의 좌표 (x,y) 화소값을 128로 지정하고 싶다.<br>\n",
    "         img[y,x] = 128"
   ]
  },
  {
   "cell_type": "code",
   "execution_count": null,
   "metadata": {},
   "outputs": [],
   "source": [
    "import numpy as np\n",
    "img = np.zeros((480,640,1), np.uint8)  # 기본 이미지 변수 생성\n",
    "\n",
    "img = np.empty((480,640,1), np.uint8)  # 기본 이미지 변수 생성\n",
    "img[:,:] = 0"
   ]
  },
  {
   "cell_type": "code",
   "execution_count": 5,
   "metadata": {},
   "outputs": [],
   "source": [
    "# ex) 640x480 이미지의 채널을 1로 채우고 중심에 255 화소를 지정한 후 이미지를 확인 하자\n",
    "img = np.zeros((480,640,1), np.uint8)\n",
    "img[240, 320] = 255\n",
    "\n",
    "cv2.imshow('img', img)\n",
    "\n",
    "cv2.waitKey(0)\n",
    "cv2.destroyAllWindows()"
   ]
  },
  {
   "cell_type": "code",
   "execution_count": null,
   "metadata": {},
   "outputs": [],
   "source": [
    "# ex) 640x480의 검은색 이미지를 표시하자 이미지의 중심을 원형 중심으로 변경, r = 120 픽셀의 하얀색 동그라미를 그리자\n",
    "# x = r * math.cos(theta), y = r * math.sin(theta)   --> theta는 라디안\n",
    "# 각도(degree)를 라디안(radian)을 변환하는 식\n",
    "# double My_Pi = 3.14.... or math.PI\n",
    "# double degree\n",
    "# double theta = degree * My_Pi / 180.0\n",
    "\n",
    "# degree 0도에서 360도 까지 변경 하면서 theta 요청하고 x,y를 계산한다.\n",
    "\n",
    "img = np.zeros((480,640,1), np.uint8)"
   ]
  },
  {
   "cell_type": "markdown",
   "metadata": {},
   "source": [
    "3) 컬러 이미지 생성해서 화소에 직접 액세스\n",
    " - 화소값(픽셀값)의 데이터는 np.array에 저장된 컬러이미지 img(x,y) -> img[x,y]\n",
    " - RGB의 컬러 화소 1byte * 3 채널이고 각 채널은 np.uint8의 형식을 가진다."
   ]
  },
  {
   "cell_type": "code",
   "execution_count": 6,
   "metadata": {},
   "outputs": [
    {
     "name": "stdout",
     "output_type": "stream",
     "text": [
      "[  0 255   0] 0 255 0\n"
     ]
    }
   ],
   "source": [
    "import cv2\n",
    "import numpy as np\n",
    "\n",
    "# cv2.namedWindow('img', cv2.WINDOW_AUTOSIZE)\n",
    "# cv2.moveWindow('img', 100, 100)\n",
    "\n",
    "img = np.zeros((480,640,3), np.uint8)  # 컬러 화소\n",
    "\n",
    "# 중심점에 red 지정하고 싶다  red = (0,0,255)\n",
    "img.itemset((240,320,0),0)\n",
    "img.itemset((240,320,1),0)\n",
    "img.itemset((240,320,2),255)\n",
    "img[120,320] = (255,0,0)\n",
    "\n",
    "# 400, 300 ~ 499,399에 대각선 기점으로 사각형을 그린 컬러로 그려보자\n",
    "for y in np.arange(300,400):\n",
    "    for x in np.arange(400,500,1):\n",
    "        img[y,x] = (0,255,0)\n",
    "    \n",
    "# (450, 350) 3개의 채널 값을 b,g,r의 값을 추출해보자\n",
    "pixel = img[350,450]\n",
    "b = pixel[0]\n",
    "g = pixel[1]\n",
    "r = pixel[2]\n",
    "print(pixel, b, g, r)\n",
    "\n",
    "# 색상별 히스토그램 파일을 저장할 수 있다.\n",
    "\n",
    "cv2.imshow('img', img)\n",
    "\n",
    "cv2.waitKey(0)\n",
    "cv2.destroyAllWindows()"
   ]
  },
  {
   "cell_type": "code",
   "execution_count": null,
   "metadata": {},
   "outputs": [],
   "source": [
    "# ex) 색상별 히스토그램을 만들고 싶다.\n",
    "import csv\n",
    "\n",
    "R = [1,2,3,4,5]\n",
    "f = open('R.csv', 'w')\n",
    "writer = csv.writer(f. lineterminator='\\n')\n",
    "writer.writerow(R)\n",
    "f.close()"
   ]
  },
  {
   "cell_type": "markdown",
   "metadata": {},
   "source": [
    "4) web 카메라 영상을 표시\n",
    " - 영상(비디오)는 정지영상 (프레임)을 시작 축에 정렬된 것으로 간주\n",
    " - 카메라 및 동영상 파일에서 영상의 각 프레임(정지화면)을 메모리에 로드: 캡처\n",
    " - 캡처를 연속적으로 실시하는 것을 동영상 캡처라고 한다.\n",
    " - 표준 동영상은 30fps(frame per second)에서 프레임을 업이트를 하게 된다\n",
    "   \n",
    " - cv2.VideoCapture(0) : id 카메라 사용\n",
    " - c = cv2.VideoCapture(파일명) : 동영상 파일 캡처\n",
    "   \n",
    " -  캡처 이미지의 가로픽셀, 세로픽셀, 프레임 레이트(fps)\n",
    "  - c.set(cv2.CAP_PROP_FRAME_WIDTH, 640)  # 가로의 화소수를 지정한다(픽셀을 지정)\n",
    "  - c.set(cv2.CAP_PROP_FRAME_HEIGHT, 480)  # 세로의 화소수를 지정한다(픽셀을 지정)\n",
    "  - c.set(cv2.CAP_PROP_FRAME_FPS, 30)  # 프레임 속도\n",
    "  \n",
    "캡처 내용을 읽어서 리턴\n",
    "ret, image = c.read()  : ret는 캡처가 성공하면 True, 실패하면 False"
   ]
  },
  {
   "cell_type": "code",
   "execution_count": 10,
   "metadata": {},
   "outputs": [],
   "source": [
    "# ex) 웹캠을 사용해서 내용을 확인하자\n",
    "import cv2\n",
    "\n",
    "capture = cv2.VideoCapture(0)\n",
    "if capture.isOpened() is False:\n",
    "    raise(\"IO Error\")\n",
    "    \n",
    "capture.set(cv2.CAP_PROP_FRAME_WIDTH, 640)  # 가로의 화소수를 지정한다(픽셀을 지정)\n",
    "capture.set(cv2.CAP_PROP_FRAME_HEIGHT, 480)  # 세로의 화소수를 지정한다(픽셀을 지정)\n",
    "capture.set(cv2.CAP_PROP_FPS, 30)  # 프레임 속도\n",
    "\n",
    "cv2.namedWindow('capture', cv2.WINDOW_AUTOSIZE)\n",
    "\n",
    "while True:\n",
    "    ret, image = capture.read()\n",
    "    if ret == False:\n",
    "        continue\n",
    "    cv2.imshow('capture', image)\n",
    "    \n",
    "    key = cv2.waitKey(1) & 0xFF\n",
    "    if key == ord('s'):\n",
    "        cv2.imwrite('myImg\\\\capture.png', image)\n",
    "    elif key == ord('q') or key == 0x1b:\n",
    "        break\n",
    "        \n",
    "capture.release()\n",
    "cv2.destroyAllWindows()"
   ]
  },
  {
   "cell_type": "code",
   "execution_count": 14,
   "metadata": {},
   "outputs": [],
   "source": [
    "# 5) 도형 그리기 img -> 동그라미, 선, 사각형, 글씨\n",
    "# 대상 이미지 생성 -> array -> 동그라미, 선, 사각형, 글씨 -> imshow()\n",
    "# thickness를 -1로 지정 후 색상을 채운다\n",
    "import cv2\n",
    "\n",
    "capture = cv2.VideoCapture(0)\n",
    "if capture.isOpened() is False:\n",
    "    raise(\"IO Error\")\n",
    "    \n",
    "capture.set(cv2.CAP_PROP_FRAME_WIDTH, 640)  # 가로의 화소수를 지정한다(픽셀을 지정)\n",
    "capture.set(cv2.CAP_PROP_FRAME_HEIGHT, 480)  # 세로의 화소수를 지정한다(픽셀을 지정)\n",
    "capture.set(cv2.CAP_PROP_FPS, 30)  # 프레임 속도\n",
    "\n",
    "cv2.namedWindow('capture', cv2.WINDOW_AUTOSIZE)\n",
    "\n",
    "while True:\n",
    "    ret, image = capture.read()\n",
    "    if ret == False:\n",
    "        continue\n",
    "        \n",
    "    cv2.circle(image, (240,320), 30, (0,0,255), 3, 8)\n",
    "    cv2.rectangle(image, (10,10), (60,20), (0,255,255), 5, 8)\n",
    "    cv2.line(image, (40,40), (520,400), (255,255,0), 8, 8)\n",
    "    cv2.putText(image, 'mypython', (50,50), cv2.FONT_HERSHEY_SIMPLEX, 1.2, (0,0,255), cv2.LINE_8)\n",
    "    cv2.imshow('capture', image)\n",
    "    \n",
    "    key = cv2.waitKey(1) & 0xFF\n",
    "    if key == ord('s'):\n",
    "        cv2.imwrite('myImg\\\\capture.png', image)\n",
    "    elif key == ord('q') or key == 0x1b:\n",
    "        break\n",
    "        \n",
    "capture.release()\n",
    "cv2.destroyAllWindows()"
   ]
  },
  {
   "cell_type": "code",
   "execution_count": null,
   "metadata": {},
   "outputs": [],
   "source": [
    "# 7) 키 입력, 마우스값 입력\n",
    " - 콘솔이 아닌 nameWindow()로 생성된 창에 포커스를 가지고 값을 리턴 받을 수 있다.\n",
    " - ord() : 문자에서 아스키 값 리턴, chr() : 아스키 값을 문자로 리턴\n",
    "        \n",
    " - 마우스 콜백함수 def onMouse(event, x, y, flags, param)\n",
    "   cv2.setMouseCallback(\"name\", function_name, param)"
   ]
  },
  {
   "cell_type": "code",
   "execution_count": null,
   "metadata": {},
   "outputs": [],
   "source": [
    "# 8) 문자열을 그리기 cv2.putText\n",
    "cv2.putText(image, 'mypython', (50,50), cv2.FONT_HERSHEY_SIMPLEX, 1.2, (0,0,255), cv2.LINE_8)"
   ]
  },
  {
   "cell_type": "markdown",
   "metadata": {},
   "source": [
    "10) 표 색계 변환 > HSV(Hue색상, Saturation채도, Value명도)\n",
    " -> 이미지를 오픈한 것을 cvtColor('대상', cv2.COLOR_BGR2HSV)\n",
    " \n",
    "11) 두 이미지 간의 차이 감지(화소감지, 모션감지, 모션데이터 감지, 머신러닝(분류), 딥러닝)"
   ]
  },
  {
   "cell_type": "code",
   "execution_count": 16,
   "metadata": {},
   "outputs": [],
   "source": [
    "# ex) 표 색계 변환 : 이미지를 로드해서 HSV 표색계로 변환 후 피부색의 영역을 추출해보자\n",
    "# cvtColor()  mask -> bitwise_and\n",
    "# 웹카메라로 촬영한 영상에 실시간 피부색 검출하여 표시하는 것 등에 사용\n",
    "import cv2\n",
    "import numpy as np\n",
    "\n",
    "# 1. 이미지 로드\n",
    "img = cv2.imread('myImg\\\\Lenna.png', 1)\n",
    "\n",
    "# 2. 표 색계 변환\n",
    "hsv = cv2.cvtColor(img, cv2.COLOR_BGR2HSV)\n",
    "# 0 <= Hue색상 <= 15\n",
    "# 50 <= Saturation채도 <= 255\n",
    "# 50 <= Value명도 <= 255\n",
    "lower_skin = np.array([0,50,50])\n",
    "upper_skin = np.array([15,255,255])\n",
    "\n",
    "# 3. 범위 지정\n",
    "# 파란색 임계값으로 지정\n",
    "mask = cv2.inRange(hsv, lower_skin, upper_skin)\n",
    "\n",
    "# 4. 원본 이미지와 mask 병합\n",
    "result = cv2.bitwise_and(img, img, mask=mask)\n",
    "\n",
    "# 5. 결과보기\n",
    "cv2.imshow('img', img)\n",
    "cv2.imshow('mask', mask)\n",
    "cv2.imshow('result', result)\n",
    "\n",
    "cv2.waitKey(0)\n",
    "cv2.destroyAllWindows()"
   ]
  }
 ],
 "metadata": {
  "kernelspec": {
   "display_name": "Python 3",
   "language": "python",
   "name": "python3"
  },
  "language_info": {
   "codemirror_mode": {
    "name": "ipython",
    "version": 3
   },
   "file_extension": ".py",
   "mimetype": "text/x-python",
   "name": "python",
   "nbconvert_exporter": "python",
   "pygments_lexer": "ipython3",
   "version": "3.8.5"
  }
 },
 "nbformat": 4,
 "nbformat_minor": 4
}
