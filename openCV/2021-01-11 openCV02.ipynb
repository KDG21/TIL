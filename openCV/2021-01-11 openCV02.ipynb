{
 "cells": [
  {
   "cell_type": "markdown",
   "metadata": {},
   "source": [
    "OpenCV (정식 명칭 : Open Source Computer Vision Library )은 오픈 소스 컴퓨터 비전 라이브러리\n",
    "1. 필터링\n",
    "2. 행렬 연산\n",
    "3. 객체 추적 (Object Tracking)\n",
    "4. 세분화 (Segmentation)\n",
    "5. 카메라 캘리브레이션 (Calibration)\n",
    "6. 특징점 추출\n",
    "7. 물체 인식 (Object recognition)\n",
    "8. 기계 학습 (Machine learning)\n",
    "9. 파노라마 (Stitching)\n",
    "10. 컴퓨터 테이 셔널 포토 그래피 (Computational Photography)"
   ]
  },
  {
   "cell_type": "code",
   "execution_count": 2,
   "metadata": {},
   "outputs": [
    {
     "name": "stdout",
     "output_type": "stream",
     "text": [
      "4.5.1\n"
     ]
    }
   ],
   "source": [
    ">>> import cv2 as cv\n",
    ">>> print( cv.__version__ )"
   ]
  },
  {
   "cell_type": "code",
   "execution_count": 14,
   "metadata": {
    "scrolled": true
   },
   "outputs": [
    {
     "name": "stdout",
     "output_type": "stream",
     "text": [
      "<class 'numpy.ndarray'>\n",
      "uint8\n",
      "(256, 256, 3)\n"
     ]
    },
    {
     "data": {
      "text/plain": [
       "True"
      ]
     },
     "execution_count": 14,
     "metadata": {},
     "output_type": "execute_result"
    }
   ],
   "source": [
    "# 1. 이미지 파일을 일고, 저장 imread(), imwrite()\n",
    "from PIL import Image\n",
    "import numpy as np\n",
    "\n",
    "im = cv.imread('myImg\\\\Lenna.png')\n",
    "\n",
    "print(type(im))\n",
    "print(im.dtype)\n",
    "print(im.shape)  # 행(높이), 열(폭), 색상(채널)\n",
    "\n",
    "# 색상의 순서 BGR\n",
    "# im[:,:,(0.1)] = 0  0번째 (B:파랑)과 1번째 (G:녹색)을 0(검정)으로 지정한다.\n",
    "im[:, :, (0,1)] = 0\n",
    "\n",
    "cv.imwrite('myImg\\\\cv2\\\\Lenna_b.png', im)  # cv.imwrite(파일이름, 대상)\n",
    "\n",
    "# cv.imshow(\"Display window\", im)\n",
    "\n",
    "cv.imwrite('myImg\\\\cv2\\\\Lenna_b02.jpg', im, [cv.IMWRITE_JPEG_QUALITY,50])\n",
    "cv.imwrite('myImg\\\\cv2\\\\Lenna_b03.jpg', im, [cv.IMWRITE_JPEG_QUALITY,1])\n",
    "# 원본을 로드 -> 저장 -> 로드 jpg 화소가 달라진다\n",
    "# png, bm p"
   ]
  },
  {
   "cell_type": "code",
   "execution_count": 17,
   "metadata": {},
   "outputs": [
    {
     "name": "stdout",
     "output_type": "stream",
     "text": [
      "<class 'numpy.ndarray'>\n",
      "uint8\n",
      "(256, 256, 3)\n",
      "(256, 256)\n",
      "uint8\n"
     ]
    },
    {
     "data": {
      "text/plain": [
       "True"
      ]
     },
     "execution_count": 17,
     "metadata": {},
     "output_type": "execute_result"
    }
   ],
   "source": [
    "# 그레이 스케일(흑백처리)  cv.IMREAD_GRAYSCALE / cv.cvtColor()\n",
    "from PIL import Image\n",
    "import numpy as np\n",
    "\n",
    "# im = cv.imread('myImg\\\\Lenna.png', cv.IMREAD_GRAYSCALE)\n",
    "im = cv.imread('myImg\\\\Lenna.png')\n",
    "\n",
    "print(type(im))\n",
    "print(im.dtype)\n",
    "print(im.shape)  # 행(높이), 열(폭), 색상(채널)\n",
    "\n",
    "im_gray = cv.cvtColor(im, cv.COLOR_BGR2GRAY)\n",
    "print(im_gray.shape)\n",
    "print(im_gray.dtype)\n",
    "\n",
    "cv.imwrite('myImg\\\\cv2\\\\Lenna_G.jpg', im_gray)"
   ]
  },
  {
   "cell_type": "code",
   "execution_count": 19,
   "metadata": {
    "scrolled": false
   },
   "outputs": [
    {
     "name": "stdout",
     "output_type": "stream",
     "text": [
      "<class 'numpy.ndarray'>\n",
      "uint8\n",
      "(256, 256, 3)\n",
      "<class 'numpy.ndarray'>\n",
      "float64\n",
      "(256, 256)\n"
     ]
    },
    {
     "data": {
      "text/plain": [
       "True"
      ]
     },
     "execution_count": 19,
     "metadata": {},
     "output_type": "execute_result"
    }
   ],
   "source": [
    "# https://en.wikipedia.org/wiki/YUV\n",
    "# RGB 컬러 이미지를 흑백으로 변환하는 경우. 신호 Y 값을 산출\n",
    "# BT.601  = RGB에서 Y값을 산출하는 공식\n",
    "#   -> 사람 시각의 특성을 고려한 것으로 가장 밝게 느껴지는 0(녹색)의 계수가 커지는 것을 확인 한다.\n",
    "# Y = 0.299*R + 0.587*G + 0.114*B\n",
    "\n",
    "im = cv.imread('myImg\\\\Lenna.png')\n",
    "\n",
    "print(type(im))\n",
    "print(im.dtype)\n",
    "print(im.shape)  # 행(높이), 열(폭), 색상(채널)\n",
    "\n",
    "im_gray = 0.299*im[:,:,2] + 0.587*im[:,:,1] + 0.114*im[:,:,0]\n",
    "print(type(im_gray))\n",
    "print(im_gray.dtype)\n",
    "print(im_gray.shape)\n",
    "cv.imwrite('myImg\\\\cv2\\\\Lenna_Y.jpg', im_gray)"
   ]
  },
  {
   "cell_type": "code",
   "execution_count": 25,
   "metadata": {
    "scrolled": true
   },
   "outputs": [
    {
     "name": "stdout",
     "output_type": "stream",
     "text": [
      "<class 'numpy.ndarray'>\n",
      "(256, 256)\n",
      "<class 'numpy.ndarray'>\n",
      "(256, 256)\n",
      "[[1 1 1 ... 1 1 0]\n",
      " [1 0 1 ... 1 0 1]\n",
      " [1 1 1 ... 1 1 1]\n",
      " ...\n",
      " [0 0 0 ... 0 0 1]\n",
      " [0 0 0 ... 1 1 0]\n",
      " [0 0 0 ... 0 0 0]]\n",
      "1\n",
      "0\n"
     ]
    }
   ],
   "source": [
    "# imread()\n",
    "im_gray_read = cv.imread('myImg\\\\Lenna.png', cv.IMREAD_GRAYSCALE) # os에 코덱에 따라 화소가 다르다\n",
    "print(type(im_gray_read))\n",
    "print(im_gray_read.shape)\n",
    "\n",
    "im = cv.imread('myImg\\\\Lenna.png')\n",
    "im_gray = cv.cvtColor(im, cv.COLOR_BGR2GRAY) # BT.601 공식을 작용\n",
    "print(type(im_gray))\n",
    "print(im_gray.shape)\n",
    "\n",
    "# 판별\n",
    "im_diff = im_gray.astype(int) - im_gray_read.astype(int)\n",
    "print(im_diff)\n",
    "print(im_diff.max())\n",
    "print(im_diff.min())"
   ]
  },
  {
   "cell_type": "code",
   "execution_count": null,
   "metadata": {},
   "outputs": [],
   "source": [
    "# 이미지 결합. 세로연결, 가로연결, 세로가로 바둑판 연결\n",
    "# cv.vconcat()\n",
    "# 1. 폭이 동일한 이미지를 세로로 연결\n",
    "# 2. 같은 이미지를 반복 세로 연결\n",
    "# 3. 폭이 서로 다른 이미지를 세로로 연결\n",
    "\n",
    "# cv.hconcat()\n",
    "# 1. 높이가 동일한 이미지를 가로로 연결\n",
    "# 2. 같은 이미지를 반복 가로로 연결\n",
    "# 3. 높이가 서로 다른 이미지를 가로로 연결\n",
    "\n",
    "# np.file() : 같은 이미지를 반복정렬"
   ]
  },
  {
   "cell_type": "code",
   "execution_count": 30,
   "metadata": {},
   "outputs": [
    {
     "data": {
      "text/plain": [
       "True"
      ]
     },
     "execution_count": 30,
     "metadata": {},
     "output_type": "execute_result"
    }
   ],
   "source": [
    "# cv.vconcat()\n",
    "# 1. 같은 이미지를 세로로 연결\n",
    "import cv2 as cv\n",
    "import numpy as np\n",
    "\n",
    "im1 = cv.imread('myImg\\\\shadow_people.jpg')\n",
    "im2 = cv.imread('myImg\\\\Lenna.png')\n",
    "\n",
    "# im_v = cv.vconcat([im1, im1])\n",
    "# cv.imwrite('myImg\\\\cv2\\\\v_img.jpg', im_v)\n",
    "\n",
    "# 함수 선언 resize(src, dsize[, dst[, fx[, fy[, interpolation]]]])\n",
    "# 폭이 다른 이미지를 세로로 연결하겠다\n",
    "# im.shape[0]는 높이, [1]는 폭\n",
    "def my_resize(im_list, interpolation = cv.INTER_CUBIC):\n",
    "    # 1.폭이 가장 작은 값을 리턴 받자\n",
    "    w_min = min(im.shape[1] for im in im_list)\n",
    "    \n",
    "    # 2. 폭의 사이즈를 재조정\n",
    "    im_list_resize = [cv.resize(im,(w_min, int(im.shape[0]*w_min/im.shape[1])),interpolation=interpolation) for im in im_list]\n",
    "    \n",
    "    return cv.vconcat(im_list_resize) # 결합해서 리턴\n",
    "\n",
    "im_v = my_resize([im1, im2, im1])\n",
    "cv.imwrite('myImg\\\\cv2\\\\v_img_resize.jpg', im_v)\n",
    "\n",
    "# im_v02 = np.tile(im1,(2,1,1))\n",
    "# cv.imwrite('myImg\\\\cv2\\\\v_img02.jpg', im_v02)"
   ]
  },
  {
   "cell_type": "markdown",
   "metadata": {},
   "source": [
    "cv.hconcat()\n",
    " 높이가 서로 다른 이미지를 가로로 연결"
   ]
  },
  {
   "cell_type": "code",
   "execution_count": 33,
   "metadata": {},
   "outputs": [
    {
     "data": {
      "text/plain": [
       "True"
      ]
     },
     "execution_count": 33,
     "metadata": {},
     "output_type": "execute_result"
    }
   ],
   "source": [
    "# cv.hconcat()\n",
    "import cv2 as cv\n",
    "import numpy as np\n",
    "\n",
    "im1 = cv.imread('myImg\\\\shadow_people.jpg')\n",
    "im2 = cv.imread('myImg\\\\Lenna.png')\n",
    "\n",
    "# 함수 선언 resize(src, dsize[, dst[, fx[, fy[, interpolation]]]])\n",
    "# 높이가 다른 이미지를 가로로 연결하겠다\n",
    "# im.shape[0]는 높이, [1]는 폭\n",
    "def my_resize(im_list, interpolation = cv.INTER_CUBIC):\n",
    "    # 1.폭이 가장 작은 값을 리턴 받자\n",
    "    h_min = min(im.shape[0] for im in im_list)\n",
    "    \n",
    "    # 2. 폭의 사이즈를 재조정\n",
    "    im_list_resize = [cv.resize(im,(int(im.shape[1]*h_min/im.shape[0]),h_min),interpolation=interpolation) for im in im_list]\n",
    "    \n",
    "    return cv.hconcat(im_list_resize) # 결합해서 리턴\n",
    "\n",
    "im_h = my_resize([im1, im2, im1])\n",
    "cv.imwrite('myImg\\\\cv2\\\\h_img_resize.jpg', im_h)\n"
   ]
  },
  {
   "cell_type": "code",
   "execution_count": 38,
   "metadata": {},
   "outputs": [
    {
     "data": {
      "text/plain": [
       "True"
      ]
     },
     "execution_count": 38,
     "metadata": {},
     "output_type": "execute_result"
    }
   ],
   "source": [
    "# 바둑판식 타일형을 만들어 보자\n",
    "import cv2 as cv\n",
    "import numpy as np\n",
    "\n",
    "image = cv.imread('myImg\\\\Lenna.png')\n",
    "\n",
    "def my_tile(im_list_2d):\n",
    "    return cv.vconcat([cv.hconcat(im_list_h) for im_list_h in im_list_2d])\n",
    "\n",
    "im01 = cv.resize(image, dsize=(0,0), fx=0.5, fy=0.5)\n",
    "\n",
    "im_tile = my_tile([[im01, im01, im01, im01],\n",
    "                 [im01, im01, im01, im01],\n",
    "                 [im01, im01, im01, im01]])\n",
    "\n",
    "cv.imwrite('myImg\\\\cv2\\\\tile_img.jpg', im_tile)\n"
   ]
  },
  {
   "cell_type": "code",
   "execution_count": 43,
   "metadata": {},
   "outputs": [
    {
     "name": "stdout",
     "output_type": "stream",
     "text": [
      "(256, 256, 3)\n"
     ]
    },
    {
     "data": {
      "text/plain": [
       "True"
      ]
     },
     "execution_count": 43,
     "metadata": {},
     "output_type": "execute_result"
    }
   ],
   "source": [
    "# 이미지회전 cv.rotate(ndarray, rotatecode), np.rot90()\n",
    "# 상하 좌우 반전 cv.flip(), np.filp()\n",
    "# flipcode = 0 :상하반전\n",
    "# flipcode > 0 : 좌우반전\n",
    "# flipcode < 0 : 상하 좌우 반전\n",
    "import cv2 as cv\n",
    "import numpy as np\n",
    "\n",
    "image = cv.imread('myImg\\\\Lenna.png')\n",
    "print(image.shape)\n",
    "\n",
    "# img_r_90 = cv.rotate(image, cv.ROTATE_90_CLOCKWISE)\n",
    "# cv.imwrite('myImg\\\\cv2\\\\Lenna_90.jpg', img_r_90)\n",
    "\n",
    "img_flip_up = cv.flip(image, 0)\n",
    "cv.imwrite('myImg\\\\cv2\\\\Lenna_up.jpg', img_flip_up)\n",
    "\n",
    "img_flip_lr = cv.flip(image, 1)\n",
    "cv.imwrite('myImg\\\\cv2\\\\Lenna_lr.jpg', img_flip_lr)\n",
    "\n",
    "img_flip_up_lr = cv.flip(image, -1)\n",
    "cv.imwrite('myImg\\\\cv2\\\\Lenna_up_lr.jpg', img_flip_up_lr)"
   ]
  }
 ],
 "metadata": {
  "kernelspec": {
   "display_name": "Python 3",
   "language": "python",
   "name": "python3"
  },
  "language_info": {
   "codemirror_mode": {
    "name": "ipython",
    "version": 3
   },
   "file_extension": ".py",
   "mimetype": "text/x-python",
   "name": "python",
   "nbconvert_exporter": "python",
   "pygments_lexer": "ipython3",
   "version": "3.8.5"
  }
 },
 "nbformat": 4,
 "nbformat_minor": 4
}
