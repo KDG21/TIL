{
 "cells": [
  {
   "cell_type": "markdown",
   "metadata": {},
   "source": [
    "데이터의 원형의 구조를 변형 : 열 방향을 행 방향으로 정렬, 행 방향을 열 방향으로 변경 재정렬\n",
    "1. 열에서 행으로 피벗 : stack()\n",
    "2. 행에서 열로 피벗 : unstack()\n",
    "3. 행과 열을 지정해서 피벗 : pivot(index, columns, values), pivot_table()"
   ]
  },
  {
   "cell_type": "code",
   "execution_count": 3,
   "metadata": {
    "scrolled": false
   },
   "outputs": [
    {
     "name": "stdout",
     "output_type": "stream",
     "text": [
      "<class 'pandas.core.series.Series'>\n"
     ]
    }
   ],
   "source": [
    "# 1. 열에서 행으로 피벗 : stack()\n",
    "import pandas as pd\n",
    "df = pd.DataFrame({'A' : ['a','a','a','b','b','b'],\n",
    "                   'B' : ['ab','ab','ab','bc','bc','bc'],\n",
    "                   'C' : [1,2,3,4,5,6],\n",
    "                   'D' : [10,20,30,40,50,60]})\n",
    "df\n",
    "\n",
    "s = df.stack()  # 수직으로 겹겹이 쌓인다\n",
    "s\n",
    "# stack() 메소드는 다중 인덱스(계층형 인덱스)의 pandas.Series를 리턴한다.\n",
    "# print(type(s))"
   ]
  },
  {
   "cell_type": "code",
   "execution_count": 6,
   "metadata": {},
   "outputs": [
    {
     "name": "stdout",
     "output_type": "stream",
     "text": [
      "   A   B  C   D\n",
      "0  a  ab  1  10\n",
      "1  a  ab  2  20\n",
      "2  a  ab  3  30\n",
      "3  b  bc  4  40\n",
      "4  b  bc  5  50\n",
      "5  b  bc  6  60\n",
      "    0   1   2   3   4   5\n",
      "A   a   a   a   b   b   b\n",
      "B  ab  ab  ab  bc  bc  bc\n",
      "C   1   2   3   4   5   6\n",
      "D  10  20  30  40  50  60\n"
     ]
    }
   ],
   "source": [
    "# 2. 행에서 열로 피벗 : unstack()\n",
    "print(s.unstack())  # 행 방향으로 정렬됐던 데이터가 열로 정렬된다.\n",
    "\n",
    "# 기본적으로 멀티 인덱스의 하단계층(가장 안쪽 계층)에 처리된다\n",
    "# unstack(level) 0이 최상위 계층 즉 바깥쪽 계층\n",
    "s.unstack(level = 0)\n",
    "\n",
    "# 전치 행렬  .T\n",
    "print(df.T)"
   ]
  },
  {
   "cell_type": "code",
   "execution_count": 13,
   "metadata": {
    "scrolled": false
   },
   "outputs": [
    {
     "name": "stdout",
     "output_type": "stream",
     "text": [
      "   A   B  C   D\n",
      "0  a  ab  1  10\n",
      "1  a  ab  2  20\n",
      "2  a  ab  3  30\n",
      "3  b  bc  4  40\n",
      "4  b  bc  5  50\n",
      "5  b  bc  6  60\n",
      "      C   D\n",
      "A B        \n",
      "a ab  1  10\n",
      "  ab  2  20\n",
      "  ab  3  30\n",
      "b bc  4  40\n",
      "  bc  5  50\n",
      "  bc  6  60\n",
      "MultiIndex([('a', 'ab'),\n",
      "            ('a', 'ab'),\n",
      "            ('a', 'ab'),\n",
      "            ('b', 'bc'),\n",
      "            ('b', 'bc'),\n",
      "            ('b', 'bc')],\n",
      "           names=['A', 'B'])\n"
     ]
    }
   ],
   "source": [
    "print(df)\n",
    "df_r = df.set_index(['A','B'])\n",
    "print(df_r)\n",
    "print(df_r.index)\n",
    "# df_ru = df_r.unstack()\n",
    "# print(df_ru)   # ValueError: Index contains duplicate entries, cannot reshape"
   ]
  },
  {
   "cell_type": "code",
   "execution_count": 20,
   "metadata": {},
   "outputs": [
    {
     "name": "stdout",
     "output_type": "stream",
     "text": [
      "   A  B  C   D\n",
      "0  a  x  1  10\n",
      "1  a  y  2  20\n",
      "2  a  z  3  30\n",
      "3  b  x  4  40\n",
      "4  b  y  5  50\n",
      "5  b  z  6  60 \n",
      "\n",
      "B  x  y  z\n",
      "A         \n",
      "a  1  2  3\n",
      "b  4  5  6 \n",
      "\n",
      "C, D values로 지정\n",
      "   C         D        \n",
      "B  x  y  z   x   y   z\n",
      "A                     \n",
      "a  1  2  3  10  20  30\n",
      "b  4  5  6  40  50  60 \n",
      "\n",
      "   C         D        \n",
      "B  x  y  z   x   y   z\n",
      "A                     \n",
      "a  1  2  3  10  20  30\n",
      "b  4  5  6  40  50  60 \n",
      "\n"
     ]
    },
    {
     "data": {
      "text/html": [
       "<div>\n",
       "<style scoped>\n",
       "    .dataframe tbody tr th:only-of-type {\n",
       "        vertical-align: middle;\n",
       "    }\n",
       "\n",
       "    .dataframe tbody tr th {\n",
       "        vertical-align: top;\n",
       "    }\n",
       "\n",
       "    .dataframe thead tr th {\n",
       "        text-align: left;\n",
       "    }\n",
       "\n",
       "    .dataframe thead tr:last-of-type th {\n",
       "        text-align: right;\n",
       "    }\n",
       "</style>\n",
       "<table border=\"1\" class=\"dataframe\">\n",
       "  <thead>\n",
       "    <tr>\n",
       "      <th></th>\n",
       "      <th colspan=\"3\" halign=\"left\">C</th>\n",
       "      <th colspan=\"3\" halign=\"left\">D</th>\n",
       "    </tr>\n",
       "    <tr>\n",
       "      <th>B</th>\n",
       "      <th>x</th>\n",
       "      <th>y</th>\n",
       "      <th>z</th>\n",
       "      <th>x</th>\n",
       "      <th>y</th>\n",
       "      <th>z</th>\n",
       "    </tr>\n",
       "    <tr>\n",
       "      <th>A</th>\n",
       "      <th></th>\n",
       "      <th></th>\n",
       "      <th></th>\n",
       "      <th></th>\n",
       "      <th></th>\n",
       "      <th></th>\n",
       "    </tr>\n",
       "  </thead>\n",
       "  <tbody>\n",
       "    <tr>\n",
       "      <th>a</th>\n",
       "      <td>1</td>\n",
       "      <td>2</td>\n",
       "      <td>3</td>\n",
       "      <td>10</td>\n",
       "      <td>20</td>\n",
       "      <td>30</td>\n",
       "    </tr>\n",
       "    <tr>\n",
       "      <th>b</th>\n",
       "      <td>4</td>\n",
       "      <td>5</td>\n",
       "      <td>6</td>\n",
       "      <td>40</td>\n",
       "      <td>50</td>\n",
       "      <td>60</td>\n",
       "    </tr>\n",
       "  </tbody>\n",
       "</table>\n",
       "</div>"
      ],
      "text/plain": [
       "   C         D        \n",
       "B  x  y  z   x   y   z\n",
       "A                     \n",
       "a  1  2  3  10  20  30\n",
       "b  4  5  6  40  50  60"
      ]
     },
     "execution_count": 20,
     "metadata": {},
     "output_type": "execute_result"
    }
   ],
   "source": [
    "# 3. 행과 열을 지정해서 피벗 : pivot(index, columns, values), pivot_table()\n",
    "df = pd.DataFrame({'A' : ['a','a','a','b','b','b'],\n",
    "                   'B' : ['x','y','z','x','y','z'],\n",
    "                   'C' : [1,2,3,4,5,6],\n",
    "                   'D' : [10,20,30,40,50,60]})\n",
    "print(df, '\\n')\n",
    "print(df.pivot(index='A', columns='B', values='C'), '\\n')\n",
    "\n",
    "print(\"C, D values로 지정\")\n",
    "print(df.pivot(index='A', columns='B', values=['C', 'D']), '\\n')\n",
    "\n",
    "# 1) index, columns은 필수로 선언 되어야 한다.\n",
    "print(df.pivot(index='A', columns='B'), '\\n')\n",
    "\n",
    "# 1)과 동일한 형태로 set_index를 지정할 수 있다.\n",
    "# set_index()로 다중 인덱스를 지정하고 unstack()으로 처리되어야 한다.\n",
    "df.set_index(['A','B']).unstack()"
   ]
  },
  {
   "cell_type": "code",
   "execution_count": 30,
   "metadata": {},
   "outputs": [
    {
     "name": "stdout",
     "output_type": "stream",
     "text": [
      "   C         D        \n",
      "B  x  y  z   x   y   z\n",
      "A                     \n",
      "a  1  2  3  10  20  30\n",
      "b  4  5  6  40  50  60 \n",
      "\n",
      "   C         D        \n",
      "B  x  y  z   x   y   z\n",
      "A                     \n",
      "a  1  2  3  10  20  30\n",
      "b  4  5  6  40  50  60 \n",
      "\n"
     ]
    }
   ],
   "source": [
    "# pivot_table(index, columns, aggfunc) : 카테고리별 통계를 계산할 때 사용한다.\n",
    "# 2) print(df.pivot(index='A', columns='B', values='C'), '\\n')\n",
    "# 3) df.set_index(['A','B']).unstack()\n",
    "\n",
    "print(df.pivot_table(index = 'A', columns = 'B'),'\\n')  # 2), 3)과 동일하다\n",
    "print(df.pivot_table(index = 'A', columns = 'B', aggfunc = sum),'\\n')"
   ]
  },
  {
   "cell_type": "code",
   "execution_count": 40,
   "metadata": {},
   "outputs": [
    {
     "data": {
      "text/html": [
       "<div>\n",
       "<style scoped>\n",
       "    .dataframe tbody tr th:only-of-type {\n",
       "        vertical-align: middle;\n",
       "    }\n",
       "\n",
       "    .dataframe tbody tr th {\n",
       "        vertical-align: top;\n",
       "    }\n",
       "\n",
       "    .dataframe thead th {\n",
       "        text-align: right;\n",
       "    }\n",
       "</style>\n",
       "<table border=\"1\" class=\"dataframe\">\n",
       "  <thead>\n",
       "    <tr style=\"text-align: right;\">\n",
       "      <th></th>\n",
       "      <th></th>\n",
       "      <th>SP.POP.TOTL</th>\n",
       "    </tr>\n",
       "    <tr>\n",
       "      <th>country</th>\n",
       "      <th>year</th>\n",
       "      <th></th>\n",
       "    </tr>\n",
       "  </thead>\n",
       "  <tbody>\n",
       "    <tr>\n",
       "      <th rowspan=\"5\" valign=\"top\">Korea, Rep.</th>\n",
       "      <th>2014</th>\n",
       "      <td>50746659</td>\n",
       "    </tr>\n",
       "    <tr>\n",
       "      <th>2013</th>\n",
       "      <td>50428893</td>\n",
       "    </tr>\n",
       "    <tr>\n",
       "      <th>2012</th>\n",
       "      <td>50199853</td>\n",
       "    </tr>\n",
       "    <tr>\n",
       "      <th>2011</th>\n",
       "      <td>49936638</td>\n",
       "    </tr>\n",
       "    <tr>\n",
       "      <th>2010</th>\n",
       "      <td>49554112</td>\n",
       "    </tr>\n",
       "    <tr>\n",
       "      <th>...</th>\n",
       "      <th>...</th>\n",
       "      <td>...</td>\n",
       "    </tr>\n",
       "    <tr>\n",
       "      <th rowspan=\"5\" valign=\"top\">United States</th>\n",
       "      <th>1964</th>\n",
       "      <td>191889000</td>\n",
       "    </tr>\n",
       "    <tr>\n",
       "      <th>1963</th>\n",
       "      <td>189242000</td>\n",
       "    </tr>\n",
       "    <tr>\n",
       "      <th>1962</th>\n",
       "      <td>186538000</td>\n",
       "    </tr>\n",
       "    <tr>\n",
       "      <th>1961</th>\n",
       "      <td>183691000</td>\n",
       "    </tr>\n",
       "    <tr>\n",
       "      <th>1960</th>\n",
       "      <td>180671000</td>\n",
       "    </tr>\n",
       "  </tbody>\n",
       "</table>\n",
       "<p>110 rows × 1 columns</p>\n",
       "</div>"
      ],
      "text/plain": [
       "                    SP.POP.TOTL\n",
       "country       year             \n",
       "Korea, Rep.   2014     50746659\n",
       "              2013     50428893\n",
       "              2012     50199853\n",
       "              2011     49936638\n",
       "              2010     49554112\n",
       "...                         ...\n",
       "United States 1964    191889000\n",
       "              1963    189242000\n",
       "              1962    186538000\n",
       "              1961    183691000\n",
       "              1960    180671000\n",
       "\n",
       "[110 rows x 1 columns]"
      ]
     },
     "execution_count": 40,
     "metadata": {},
     "output_type": "execute_result"
    }
   ],
   "source": [
    "from pandas_datareader import wb\n",
    "import matplotlib.pyplot as pit\n",
    "\n",
    "# 1960 ~ 2014간의 한국과 미국의 인구\n",
    "df = wb.download(country=['KR','US'], indicator='SP.POP.TOTL', start=1960, end=2014)\n",
    "df\n",
    "\n",
    "# https://data.worldbank.org/indicator  -> 의 검색창에 population을 입력하면 SP.POP.TOTL로 하위디렉토리로 이동 \n",
    "# SP.POP.TOTL이 indicator가 된다.\n",
    "# ex) co2의 배출량을 알고 싶다. co2입력하면 https://data.worldbank.org/indicator/EN.ATM.CO2E.KT로 요청되고 \n",
    "#     EN.ATM.CO2E.KT가 indicator가 된다"
   ]
  },
  {
   "cell_type": "code",
   "execution_count": 34,
   "metadata": {},
   "outputs": [
    {
     "data": {
      "text/html": [
       "<div>\n",
       "<style scoped>\n",
       "    .dataframe tbody tr th:only-of-type {\n",
       "        vertical-align: middle;\n",
       "    }\n",
       "\n",
       "    .dataframe tbody tr th {\n",
       "        vertical-align: top;\n",
       "    }\n",
       "\n",
       "    .dataframe thead tr th {\n",
       "        text-align: left;\n",
       "    }\n",
       "\n",
       "    .dataframe thead tr:last-of-type th {\n",
       "        text-align: right;\n",
       "    }\n",
       "</style>\n",
       "<table border=\"1\" class=\"dataframe\">\n",
       "  <thead>\n",
       "    <tr>\n",
       "      <th></th>\n",
       "      <th colspan=\"2\" halign=\"left\">SP.POP.TOTL</th>\n",
       "    </tr>\n",
       "    <tr>\n",
       "      <th>country</th>\n",
       "      <th>Korea, Rep.</th>\n",
       "      <th>United States</th>\n",
       "    </tr>\n",
       "    <tr>\n",
       "      <th>year</th>\n",
       "      <th></th>\n",
       "      <th></th>\n",
       "    </tr>\n",
       "  </thead>\n",
       "  <tbody>\n",
       "    <tr>\n",
       "      <th>2010</th>\n",
       "      <td>49554112</td>\n",
       "      <td>309321666</td>\n",
       "    </tr>\n",
       "    <tr>\n",
       "      <th>2011</th>\n",
       "      <td>49936638</td>\n",
       "      <td>311556874</td>\n",
       "    </tr>\n",
       "    <tr>\n",
       "      <th>2012</th>\n",
       "      <td>50199853</td>\n",
       "      <td>313830990</td>\n",
       "    </tr>\n",
       "    <tr>\n",
       "      <th>2013</th>\n",
       "      <td>50428893</td>\n",
       "      <td>315993715</td>\n",
       "    </tr>\n",
       "    <tr>\n",
       "      <th>2014</th>\n",
       "      <td>50746659</td>\n",
       "      <td>318301008</td>\n",
       "    </tr>\n",
       "  </tbody>\n",
       "</table>\n",
       "</div>"
      ],
      "text/plain": [
       "        SP.POP.TOTL              \n",
       "country Korea, Rep. United States\n",
       "year                             \n",
       "2010       49554112     309321666\n",
       "2011       49936638     311556874\n",
       "2012       50199853     313830990\n",
       "2013       50428893     315993715\n",
       "2014       50746659     318301008"
      ]
     },
     "execution_count": 34,
     "metadata": {},
     "output_type": "execute_result"
    }
   ],
   "source": [
    "df02 = df.unstack(level=0)\n",
    "df02.head()\n",
    "df02.tail()"
   ]
  },
  {
   "cell_type": "code",
   "execution_count": 47,
   "metadata": {},
   "outputs": [
    {
     "name": "stdout",
     "output_type": "stream",
     "text": [
      "         Korea         US\n",
      "year                     \n",
      "1960  25012374  180671000\n",
      "1961  25765673  183691000\n",
      "1962  26513030  186538000\n",
      "1963  27261747  189242000\n",
      "1964  27984155  191889000\n"
     ]
    }
   ],
   "source": [
    "# 컬럼의 정보를 확인하자\n",
    "df02.columns\n",
    "\n",
    "# 컬럼의 이름을 변경해보자\n",
    "df02.columns = ['Korea', 'US']\n",
    "print(df02.head())\n",
    "\n",
    "# 그래프로 그려서 저장\n",
    "df02.plot(grid=True)\n",
    "plt.savefig('pandas_datareader_wb.png')\n",
    "pit.close()"
   ]
  },
  {
   "cell_type": "code",
   "execution_count": 62,
   "metadata": {},
   "outputs": [],
   "source": [
    "import datetime\n",
    "import pandas as pd\n",
    "import pandas_datareader.data as web\n",
    "import matplotlib.pyplot as plt"
   ]
  },
  {
   "cell_type": "code",
   "execution_count": 55,
   "metadata": {},
   "outputs": [],
   "source": [
    "# 뉴욕 증권 거래소(NYSE) = SNE 소니 or IBM를 가져와서 데이터를 필터링 하자\n",
    "# 1) 키를 받아 저장한 후 읽어온다\n",
    "with open('alphavantage api key.txt') as f:\n",
    "    api_key = f.read()\n",
    "    \n",
    "# 2) 2015. 1. 1 ~ 2019. 12. 31까지의  NYSE의 소니 또는 IBM 주가 정보를 얻어오자\n",
    "start = datetime.datetime(2015, 1, 1)\n",
    "end = datetime.datetime(2019, 12, 31)\n",
    "\n",
    "# av_daily : open(시가)\thigh(고가)\tlow(저가)\tclose(종가)\tvolume(거래량)\n",
    "\n",
    "df_sne = web.DataReader('SNE', 'av-daily', start, end, api_key = api_key)\n",
    "df_sne\n",
    "\n",
    "df_ibm = web.DataReader('IBM', 'av-daily', start, end, api_key = api_key)\n",
    "df_ibm\n",
    "\n",
    "# 두 개의 데이터를 조합해보자\n",
    "df_hap = pd.DataFrame({'SNE' : df_sne['close'], 'IBM' : df_ibm['close']})\n",
    "df_hap\n",
    "\n",
    "# 세 개의 데이터를 각각 저장해보자\n",
    "df_sne.to_csv('sne_2015_2019.csv')\n",
    "df_ibm.to_csv('ibm_2015_2019.csv')\n",
    "df_hap.to_csv('hap_2015_2019.csv')"
   ]
  },
  {
   "cell_type": "code",
   "execution_count": 67,
   "metadata": {},
   "outputs": [
    {
     "name": "stdout",
     "output_type": "stream",
     "text": [
      "<class 'pandas.core.indexes.datetimes.DatetimeIndex'>\n",
      "                 SNE       IBM\n",
      "2015-01-02  1.000000  1.000000\n",
      "2015-01-05  0.985409  0.984265\n",
      "2015-01-06  0.984922  0.963038\n",
      "2015-01-07  1.047179  0.956744\n",
      "2015-01-08  1.048638  0.977539\n",
      "...              ...       ...\n",
      "2015-12-24  1.201362  0.853079\n",
      "2015-12-28  1.199903  0.849130\n",
      "2015-12-29  1.207685  0.862520\n",
      "2015-12-30  1.202335  0.859805\n",
      "2015-12-31  1.196984  0.849192\n",
      "\n",
      "[252 rows x 2 columns]\n"
     ]
    },
    {
     "data": {
      "image/png": "[encoded data removed]",
      "text/plain": [
       "<Figure size 432x288 with 1 Axes>"
      ]
     },
     "metadata": {
      "needs_background": "light"
     },
     "output_type": "display_data"
    }
   ],
   "source": [
    "# 시계열 데이터를 만들어서 년도 달 행을 지정하거나 슬라이스 기간을 추출해보자\n",
    "print(type(df_hap.index))\n",
    "df_hap.index = pd.to_datetime(df_hap.index)  # 문자열을 가져다가 날짜 데이터로 변환.  df_hap.set_index('date', inplace = True)\n",
    "print(df_hap)\n",
    "\n",
    "# 그래프를 그려보자\n",
    "# df_hap.plot(title=\" sne & ibm \", grid = True)\n",
    "# plt.show()\n",
    "# plt.savefig('df_hap.png')\n",
    "# plt.close()\n",
    "\n",
    "# 기간의 첫날로 규격화하자\n",
    "df_hap['SNE'] /= df_hap['SNE'][0]\n",
    "df_hap['IBM'] /= df_hap['IBM'][0]\n",
    "\n",
    "df_hap.plot(title=\" sne & ibm \", grid = True)\n",
    "plt.show()"
   ]
  }
 ],
 "metadata": {
  "kernelspec": {
   "display_name": "Python 3",
   "language": "python",
   "name": "python3"
  },
  "language_info": {
   "codemirror_mode": {
    "name": "ipython",
    "version": 3
   },
   "file_extension": ".py",
   "mimetype": "text/x-python",
   "name": "python",
   "nbconvert_exporter": "python",
   "pygments_lexer": "ipython3",
   "version": "3.8.5"
  }
 },
 "nbformat": 4,
 "nbformat_minor": 4
}
