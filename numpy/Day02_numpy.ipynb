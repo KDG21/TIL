{
 "cells": [
  {
   "cell_type": "markdown",
   "metadata": {},
   "source": [
    "!jupyter nbconvert --to script day01.ipynb -> py로 변환하는 명령어\n",
    "\n",
    "1. 기본정보(버전확인, 데이터 형식, 목록, 형변환, python list와 numpy.ndarray의 차이점)\n",
    "2. 표시설정(numpy.ndarray 설정값, 배열의 초기화 및 생성 _행렬만들기, 난수 배열값 채우기, 대각선)\n",
    "3. 배열의 행, 열, 추출, 추가, 삭제, 결합, 분할\n",
    "4. 조건처리\n",
    "5. 결측값 처리\n",
    "6. 정렬\n",
    "7. 파일의 입출력\n",
    "8. 다른 형식으로 값 변환\n",
    "9. 이미지 처리"
   ]
  },
  {
   "cell_type": "markdown",
   "metadata": {},
   "source": [
    "배열의 초기화 및 생성 행렬만들기\n",
    "\n",
    "1. 행과 열의 수를 지정해서 생성 = shape 형식 dtype 인수로 지정\n",
    "    numpy.zeros() - 0으로 채움\n",
    "    numpy.ones() - 1로 채움\n",
    "    numpy.full() - 임의의 값으로 초기화\n",
    "    \n",
    "2. 기존의 배열 형식으로 값을 대입해서 생성\n",
    "    numpy.zeros_like() - 0으로 채움\n",
    "    numpy.ones_like() - 1으로 채움\n",
    "    numpy.full_like() - 임의의 값으로 초기화\n",
    "    \n",
    "3. 기존 배열의 전체 요소 값을 원하는 값으로 대체해서 생성"
   ]
  },
  {
   "cell_type": "code",
   "execution_count": 1,
   "metadata": {
    "scrolled": false
   },
   "outputs": [
    {
     "name": "stdout",
     "output_type": "stream",
     "text": [
      "[0. 0.] \n",
      "\n",
      "[[0. 0. 0.]\n",
      " [0. 0. 0.]] \n",
      "\n",
      "[[[0. 0. 0.]\n",
      "  [0. 0. 0.]]\n",
      "\n",
      " [[0. 0. 0.]\n",
      "  [0. 0. 0.]]] \n",
      "\n",
      "[[[0 0 0]\n",
      "  [0 0 0]]\n",
      "\n",
      " [[0 0 0]\n",
      "  [0 0 0]]] \n",
      "\n",
      "[[[0. 0. 0.]\n",
      "  [0. 0. 0.]]\n",
      "\n",
      " [[0. 0. 0.]\n",
      "  [0. 0. 0.]]]\n",
      "================================= \n",
      "\n",
      "[[[1 1 1]\n",
      "  [1 1 1]]\n",
      "\n",
      " [[1 1 1]\n",
      "  [1 1 1]]] \n",
      "\n",
      "[[[1. 1. 1.]\n",
      "  [1. 1. 1.]]\n",
      "\n",
      " [[1. 1. 1.]\n",
      "  [1. 1. 1.]]]\n",
      "================================= \n",
      "\n",
      "[100 100 100] \n",
      "\n",
      "[[3.14159265 3.14159265 3.14159265]\n",
      " [3.14159265 3.14159265 3.14159265]] \n",
      "\n",
      "[[3 3 3]\n",
      " [3 3 3]] \n",
      "\n"
     ]
    }
   ],
   "source": [
    "# 1. 행과 열의 수를 지정해서 생성 = shape 형식 dtype 인수로 지정\n",
    "import numpy as np\n",
    "\n",
    "# 0으로 채움\n",
    "print(np.zeros(2), '\\n')  # 1차원\n",
    "print(np.zeros((2,3)), '\\n')  # 2차원\n",
    "print(np.zeros([2,2,3]), '\\n')  # 3차원\n",
    "print(np.zeros([2,2,3], dtype = np.int), '\\n')  # 3차원 정수\n",
    "print(np.zeros([2,2,3], dtype = np.float))  # 3차원 실수\n",
    "print(\"=================================\", '\\n')\n",
    "\n",
    "# 1로 채움\n",
    "print(np.ones([2,2,3], dtype = np.int), '\\n')  # 3차원 정수\n",
    "print(np.ones([2,2,3], dtype = np.float))  # 3차원 실수\n",
    "print(\"=================================\", '\\n')\n",
    "\n",
    "# 임의의 값으로 초기화  numpy.full(shape, fill_value)\n",
    "print(np.full(3, 100), '\\n')\n",
    "print(np.full((2,3),np.pi), '\\n')\n",
    "print(np.full((2,3),np.pi, dtype=np.int), '\\n')"
   ]
  },
  {
   "cell_type": "code",
   "execution_count": 2,
   "metadata": {},
   "outputs": [
    {
     "name": "stdout",
     "output_type": "stream",
     "text": [
      "[[0 1 2]\n",
      " [3 4 5]] \n",
      "\n",
      "[[0.  0.1 0.2]\n",
      " [0.3 0.4 0.5]] \n",
      "\n",
      "[[0 0 0]\n",
      " [0 0 0]] \n",
      "\n",
      "[[0. 0. 0.]\n",
      " [0. 0. 0.]]\n",
      "================================= \n",
      "\n",
      "[[1 1 1]\n",
      " [1 1 1]] \n",
      "\n",
      "[[1. 1. 1.]\n",
      " [1. 1. 1.]]\n",
      "================================= \n",
      "\n",
      "[[0.12345 0.12345 0.12345]\n",
      " [0.12345 0.12345 0.12345]]\n",
      "================================= \n",
      "\n",
      "[[0 1 2]\n",
      " [3 4 5]] \n",
      "\n",
      "[[0 0 0]\n",
      " [0 0 0]] \n",
      "\n",
      "[[0 0 0]\n",
      " [0 0 0]] \n",
      "\n",
      "[[1 1 1]\n",
      " [1 1 1]] \n",
      "\n",
      "[[1 1 1]\n",
      " [1 1 1]] \n",
      "\n",
      "[[1. 1. 1.]\n",
      " [1. 1. 1.]] \n",
      "\n",
      "[['1.0' '1.0' '1.0']\n",
      " ['1.0' '1.0' '1.0']] \n",
      "\n"
     ]
    }
   ],
   "source": [
    "# 2. 기존의 배열 형식으로 값을 대입해서 생성\n",
    "\n",
    "a_int = np.arange(6).reshape(2,3)\n",
    "print(a_int, '\\n')\n",
    "\n",
    "a_float = np.arange(6).reshape((2,3)) / 10\n",
    "print(a_float, '\\n')\n",
    "\n",
    "# 0으로 채움\n",
    "print(np.zeros_like(a_int), '\\n')  # 기존 배열에 값을 0으로 대입 후 생성\n",
    "print(np.zeros_like(a_int, dtype=float))  # 기존 배열에 값을 0으로 대입 후 생성\n",
    "print(\"=================================\", '\\n')\n",
    "\n",
    "# 1로 채움\n",
    "print(np.ones_like(a_int), '\\n')  # 기존 배열에 값을 1로 대입 후 생성\n",
    "print(np.ones_like(a_int, dtype=float))  # 기존 배열에 값을 1로 대입 후 생성\n",
    "print(\"=================================\", '\\n')\n",
    "\n",
    "# 임의의 값으로 초기화  numpy.full(shape, fill_value)\n",
    "print(np.full_like(a_float, 0.12345))\n",
    "print(\"=================================\", '\\n')\n",
    "\n",
    "# ex) 지정된 배열값을 변경해보자\n",
    "a = np.arange(6).reshape(2,3)\n",
    "print(a, '\\n')\n",
    "\n",
    "b = np.zeros_like(a)\n",
    "print(b, '\\n')\n",
    "\n",
    "# 슬라이스를 이용해서 값을 변경해보자\n",
    "a[:,:] = 0  # 행과 열\n",
    "print(a, '\\n')\n",
    "\n",
    "a[:] = 1  # 전체\n",
    "print(a, '\\n')\n",
    "\n",
    "a[:] = 1.0  # 타입이 정수인 객체라서 타입을 변경해줘야한다.\n",
    "print(a, '\\n')\n",
    "\n",
    "a = a.astype(np.float)  # float타입으로 변경\n",
    "a[:] = 1.0\n",
    "print(a, '\\n')\n",
    "\n",
    "a = a.astype(np.str)  # 문자열로 변경\n",
    "a[:] = 1.0\n",
    "print(a, '\\n')"
   ]
  },
  {
   "cell_type": "markdown",
   "metadata": {},
   "source": [
    "난수 배열값 채우기, 대각선   numpy.random\n",
    "1. 균일 분포 난수 생성\n",
    "    numpy.random.rand() : 0.0 이상 1.0 미만\n",
    "    numpy.random.random_sample() : 0.0 이상 1.0 미만\n",
    "    numpy.random.randint() : 정수 난수\n",
    "    \n",
    "2. 정규 분포 난수 생성\n",
    "    randn() : 평균 0, 분산 1 (표준편차 1)\n",
    "    normal() : 임의의 평균, 표준편차\n",
    "    * 표준편차, 상관계수가 같아도 꼭 데이터의 분포가 같은 것은 아님\n",
    "    \n",
    "3. 이항 분포 난수 생성    X~B(n,p) = 확률변수 ~(횟수, 확률) - 사건이 발생했을 때 일어날 확률이 p이고 n번 반복한 것\n",
    "    binomial()\n",
    "\n",
    "4. 베타 분포 난수 생성\n",
    "    beta()\n",
    "    \n",
    "5. 감마 분포 난수 생성\n",
    "    gama()\n",
    "    \n",
    "6. 카이 제곱 분포 난수 생성\n",
    "    chisquare()\n"
   ]
  },
  {
   "cell_type": "code",
   "execution_count": 3,
   "metadata": {},
   "outputs": [
    {
     "name": "stdout",
     "output_type": "stream",
     "text": [
      "[0.83579488 0.50332446 0.49864722] \n",
      "\n",
      "[[0.50341841 0.740779   0.42160464]\n",
      " [0.00513151 0.61849877 0.87120608]] \n",
      "\n",
      "[[[0.22999661 0.51697501 0.04160836]\n",
      "  [0.79348183 0.38723867 0.48949532]]\n",
      "\n",
      " [[0.01051893 0.65490767 0.46765237]\n",
      "  [0.02773371 0.97201139 0.73247332]]] \n",
      "\n"
     ]
    }
   ],
   "source": [
    "# 1. 균일 분포\n",
    "# 일차원 3개의 난수\n",
    "m_rand = np.random.rand(3)\n",
    "print(m_rand, '\\n')\n",
    "\n",
    "# 3차원 2,3개의 난수\n",
    "m_rand = np.random.rand(2,3)\n",
    "print(m_rand, '\\n')\n",
    "\n",
    "# 삼차원 2,2,3,개의 난수\n",
    "m_rand = np.random.rand(2,2,3)\n",
    "print(m_rand, '\\n')\n",
    "\n",
    "# 연산할 경우 a~b 까지 난수 발생하고 싶다.\n",
    "# (b-a) * np.random.rand() + a\n"
   ]
  },
  {
   "cell_type": "code",
   "execution_count": 6,
   "metadata": {
    "scrolled": true
   },
   "outputs": [
    {
     "name": "stdout",
     "output_type": "stream",
     "text": [
      "[0.50769683 0.64066766 0.94316523] \n",
      "\n",
      "[[0.67228728 0.84612784 0.68451485]\n",
      " [0.03871185 0.91060896 0.30811353]] \n",
      "\n",
      "[[[0.40563651 0.15735489 0.6594316 ]\n",
      "  [0.69752655 0.58354548 0.45115761]]\n",
      "\n",
      " [[0.36234673 0.02572605 0.98639393]\n",
      "  [0.48162798 0.3273218  0.78872773]]] \n",
      "\n",
      "False\n"
     ]
    }
   ],
   "source": [
    "# 1. 균일 분포\n",
    "# 일차원 3개의 난수\n",
    "m_rand = np.random.random_sample(3)\n",
    "print(m_rand, '\\n')\n",
    "\n",
    "# 3차원 2,3개의 난수\n",
    "m_rand = np.random.random_sample((2,3))\n",
    "print(m_rand, '\\n')\n",
    "\n",
    "# 삼차원 2,2,3,개의 난수\n",
    "m_rand = np.random.random_sample((2,2,3))\n",
    "print(m_rand, '\\n')\n",
    "\n",
    "print(np.random.random_sample is np.random.rand)"
   ]
  },
  {
   "cell_type": "code",
   "execution_count": 7,
   "metadata": {},
   "outputs": [
    {
     "name": "stdout",
     "output_type": "stream",
     "text": [
      "[[8 5 6]\n",
      " [8 5 5]\n",
      " [5 8 6]]\n"
     ]
    }
   ],
   "source": [
    "# 2. 정규 분포\n",
    "# randint(최소값, 최대값, 형식, dtype)\n",
    "# 4이상 10이하의 3*3 배열의 난수값을 가진 객체를 생성해보자\n",
    "ar = np.random.randint(4,10,(3,3))\n",
    "print(ar)"
   ]
  },
  {
   "cell_type": "code",
   "execution_count": 39,
   "metadata": {
    "scrolled": true
   },
   "outputs": [
    {
     "name": "stdout",
     "output_type": "stream",
     "text": [
      "[[-2.29677774 -2.92291689 -2.29659877]\n",
      " [-1.75098338 -1.84669699 -1.52476848]\n",
      " [-1.87943888 -1.50257355 -2.62807488]]\n"
     ]
    }
   ],
   "source": [
    "# 2. 정규 분포  random.normal( loc = 0.0., scale = 1.0, size = None)\n",
    "# loc = 평균, scale = 정규 분포에 따른 난수\n",
    "arr = np.random.normal(-2, 0.5, (3,3))\n",
    "print(arr)"
   ]
  },
  {
   "cell_type": "markdown",
   "metadata": {},
   "source": [
    "값 채우기\n",
    "1. 주어진 숫자를 간격으로 채우기(파이썬의 range()는 정수만 arange()는 정수 + 실수가능)\n",
    "    arange(end, dtype) : 0 <= n < end 1증가\n",
    "    arange(start, end, dtype) : start <= n < end 1증가\n",
    "    arange(start, end, step, dtype) : start <=n < end step 증가\n",
    "                              \n",
    "2. 요소 수를 지정해서 채우기\n",
    "    linspace(start, end, 분할개수, retstep, dtype, endpoint)\n",
    "    \n",
    "3. 역순으로 변환\n",
    "\n",
    "4. 다차원으로 변환 채우기"
   ]
  },
  {
   "cell_type": "code",
   "execution_count": 8,
   "metadata": {},
   "outputs": [
    {
     "name": "stdout",
     "output_type": "stream",
     "text": [
      "[ 0.  5. 10.] \n",
      "\n",
      "[ 0.          3.33333333  6.66666667 10.        ] \n",
      "\n",
      "[ 1.    3.25  5.5   7.75 10.  ] \n",
      "\n",
      "[10  7  5  2  0] \n",
      "\n",
      "[10  8  6  4  2] \n",
      "\n",
      "(array([10,  8,  6,  4,  2]), -2.0)\n"
     ]
    }
   ],
   "source": [
    "# 2. 요소 수를 지정해서 채우기 linspace(start, end, 분할개수, retstep, dtype, endpoint)\n",
    "print(np.linspace(0,10,3), '\\n')  # 0 부터 10까지 3등분\n",
    "print(np.linspace(0,10,4), '\\n')\n",
    "print(np.linspace(1,10,5), '\\n')\n",
    "\n",
    "print(np.linspace(10,0,5, dtype=int), '\\n')\n",
    "print(np.linspace(10,0,5, endpoint=False, dtype=int), '\\n')  # endpoint=False 0(endpoint)를 포함하지 않고 5등분\n",
    "print(np.linspace(10,0,5, endpoint=False, dtype=int, retstep=True))"
   ]
  },
  {
   "cell_type": "code",
   "execution_count": 12,
   "metadata": {},
   "outputs": [
    {
     "name": "stdout",
     "output_type": "stream",
     "text": [
      "[3 5 7 9] \n",
      "\n",
      "[10  8  6  4] \n",
      "\n",
      "[9 7 5 3] \n",
      "\n",
      "[9 7 5 3]\n"
     ]
    }
   ],
   "source": [
    "# 3. 역순으로 변환  arange(), [::-1], flip()\n",
    "# arange()\n",
    "print(np.arange(3,10,2), '\\n')\n",
    "print(np.arange(10,3,-2), '\\n')\n",
    "\n",
    "# [::-1]\n",
    "print(np.arange(3,10,2)[::-1], '\\n')\n",
    "\n",
    "# flip()\n",
    "print(np.flip(np.arange(3,10,2)))"
   ]
  },
  {
   "cell_type": "code",
   "execution_count": 9,
   "metadata": {},
   "outputs": [
    {
     "name": "stdout",
     "output_type": "stream",
     "text": [
      "[[ 0  1  2  3]\n",
      " [ 4  5  6  7]\n",
      " [ 8  9 10 11]] \n",
      "\n",
      "[[ 0  0  1  2]\n",
      " [ 3  4  5  6]\n",
      " [ 7  8  9 10]]\n"
     ]
    }
   ],
   "source": [
    "# 4. 다차원으로 변환 채우기\n",
    "# 2d 3d = 다차원배열로 등차 수열을 생성한다. reshape()\n",
    "print(np.arange(12).reshape(3,4), '\\n')\n",
    "print(np.linspace(0,10,12, dtype=int).reshape(3,4))"
   ]
  },
  {
   "cell_type": "code",
   "execution_count": 2,
   "metadata": {
    "scrolled": false
   },
   "outputs": [
    {
     "name": "stdout",
     "output_type": "stream",
     "text": [
      "[[0 1 2]\n",
      " [3 4 5]\n",
      " [6 7 8]] \n",
      "\n",
      "[0 4 8] <class 'numpy.ndarray'> \n",
      "\n",
      "[1000    4    8] \n",
      "\n",
      "[[1000    1    2]\n",
      " [   3    4    5]\n",
      " [   6    7    8]] \n",
      "\n",
      "[1000    4    8] <class 'numpy.ndarray'> \n",
      "\n",
      "[9999    4    8] \n",
      "\n",
      "[[1000    1    2]\n",
      " [   3    4    5]\n",
      " [   6    7    8]] \n",
      "\n",
      "[1 5] \n",
      "\n",
      "[2] \n",
      "\n",
      "[3 7] \n",
      "\n",
      "[6] \n",
      "\n",
      "==========================\n"
     ]
    }
   ],
   "source": [
    "# 대각선  diag()  추출 : 다차원 배열의 배열을 대각선으로 추출해서 1차원으로 리턴, 생성 : 단위행렬\n",
    "ar = np.arange(9).reshape(3,3)  # 정방 행렬\n",
    "print(ar, '\\n')\n",
    "\n",
    "# ar의 대각선 값을 리턴해보자(추출)\n",
    "res = np.diag(ar)\n",
    "print(res, type(res), '\\n')\n",
    "res.flags.writeable = True  # 기본은 읽기 전용이라서 값을 수정할 수 없다. 그러나 true를 설정하면 값을 수정할 수 있다.\n",
    "\n",
    "res[0] = 1000\n",
    "print(res, '\\n')\n",
    "print(ar, '\\n')\n",
    "\n",
    "res = np.diag(ar).copy()  # 복사해서 또 다른 res라는 객체주소\n",
    "print(res, type(res), '\\n')\n",
    "res[0]=9999\n",
    "print(res, '\\n')\n",
    "print(ar, '\\n')\n",
    "\n",
    "res = np.diag(ar, k=1)  # 시작위치를 0이 아닌 1부터 시작. 정수는 오른쪽 위쪽\n",
    "print(res, '\\n')\n",
    "\n",
    "res = np.diag(ar, k=2)  # 시작위치를 0이 아닌 2부터 시작. 정수는 오른쪽 위쪽\n",
    "print(res, '\\n')\n",
    "\n",
    "res = np.diag(ar, k=-1)  # 시작위치를 0이 아닌 3부터 시작. 음수는 왼쪽의 아래\n",
    "print(res, '\\n')\n",
    "\n",
    "res = np.diag(ar, k=-2)  # 시작위치를 0이 아닌 6부터 시작. 음수는 왼쪽의 아래\n",
    "print(res, '\\n')\n",
    "print(\"==========================\")"
   ]
  },
  {
   "cell_type": "code",
   "execution_count": 7,
   "metadata": {
    "scrolled": false
   },
   "outputs": [
    {
     "name": "stdout",
     "output_type": "stream",
     "text": [
      "[[ 0  1  2  3]\n",
      " [ 4  5  6  7]\n",
      " [ 8  9 10 11]] \n",
      "\n",
      "[ 0  5 10] \n",
      "\n",
      "[ 1  6 11] \n",
      "\n",
      "[2 7] \n",
      "\n",
      "[4 9] \n",
      "\n",
      "[8] \n",
      "\n"
     ]
    }
   ],
   "source": [
    "# 대각선  diag()  추출 : 다차원 배열의 배열을 대각선으로 추출해서 1차원으로 리턴, 생성 : 단위행렬\n",
    "ar = np.arange(12).reshape(3,4)  # 정방 행렬이 아닐 경우\n",
    "print(ar, '\\n')\n",
    "\n",
    "# ar의 대각선 값을 리턴해보자(추출)\n",
    "res = np.diag(ar)\n",
    "print(res, '\\n')\n",
    "\n",
    "res = np.diag(ar, k=1)  # 시작위치를 0이 아닌 1부터 시작. 정수는 오른쪽 위쪽\n",
    "print(res, '\\n')\n",
    "\n",
    "res = np.diag(ar, k=2)  # 시작위치를 0이 아닌 2부터 시작. 정수는 오른쪽 위쪽\n",
    "print(res, '\\n')\n",
    "\n",
    "res = np.diag(ar, k=-1)  # 시작위치를 0이 아닌 3부터 시작. 음수는 왼쪽의 아래\n",
    "print(res, '\\n')\n",
    "\n",
    "res = np.diag(ar, k=-2)  # 시작위치를 0이 아닌 6부터 시작. 음수는 왼쪽의 아래\n",
    "print(res, '\\n')"
   ]
  },
  {
   "cell_type": "code",
   "execution_count": 4,
   "metadata": {
    "scrolled": false
   },
   "outputs": [
    {
     "name": "stdout",
     "output_type": "stream",
     "text": [
      "[10 20 30 40 50 60] \n",
      "\n",
      "[[10  0  0  0  0  0]\n",
      " [ 0 20  0  0  0  0]\n",
      " [ 0  0 30  0  0  0]\n",
      " [ 0  0  0 40  0  0]\n",
      " [ 0  0  0  0 50  0]\n",
      " [ 0  0  0  0  0 60]] \n",
      "\n",
      "[[10  0  0  0  0  0]\n",
      " [ 0 20  0  0  0  0]\n",
      " [ 0  0 30  0  0  0]\n",
      " [ 0  0  0 40  0  0]\n",
      " [ 0  0  0  0 50  0]\n",
      " [ 0  0  0  0  0 60]] \n",
      "\n",
      "[[ 0  0  0  0  0  0  0  0]\n",
      " [ 0  0  0  0  0  0  0  0]\n",
      " [10  0  0  0  0  0  0  0]\n",
      " [ 0 20  0  0  0  0  0  0]\n",
      " [ 0  0 30  0  0  0  0  0]\n",
      " [ 0  0  0 40  0  0  0  0]\n",
      " [ 0  0  0  0 50  0  0  0]\n",
      " [ 0  0  0  0  0 60  0  0]] \n",
      "\n",
      "=====================\n",
      "[[1 0 0]\n",
      " [0 1 0]\n",
      " [0 0 1]] \n",
      "\n",
      "[[1 0 0]\n",
      " [0 1 0]\n",
      " [0 0 1]]\n"
     ]
    }
   ],
   "source": [
    "# np.diag를 이용해서 대각선으로 객체 생성(단위행렬 다차원x)\n",
    "a = np.array([10,20,30,40,50,60])\n",
    "print(a, '\\n')\n",
    "print(np.diag(a), '\\n')\n",
    "print(np.diag((10,20,30,40,50,60)), '\\n')\n",
    "print(np.diag((10,20,30,40,50,60), k=-2), '\\n')\n",
    "print(\"=====================\")\n",
    "\n",
    "# 대각선 전용함수 중 1로 채운다: np.identity(크기, 형식)\n",
    "print(np.diag((1,1,1)), '\\n')  # 값을 지정하면서 대각서 배열 객체 생성\n",
    "print(np.identity(3,int))  # 대각선의 크기만 지정하면 1로 채운다"
   ]
  },
  {
   "cell_type": "markdown",
   "metadata": {},
   "source": [
    "대각선 전용함수 중 1로 채운다: np.identity(크기, 형식)\n",
    "one - hot 전용함수(1-of-k) : 데이터셋이 있을 경우 하나만 1이고 나머지는 0으로 채우는 것\n",
    "one - cold : 데이터셋이 있을 경우 하나만 0이고 나머지는 1로 채우는 것\n",
    "\n",
    "텐서 플로 등의 기계학습에서 분류할 때 정답을 one - hot으로 표현한다.\n",
    " ex) (0~9) 필기한 숫자 = 10종류의 데이터셋 + MNIST을 적용 = 정답(레벨 2인 경우 one - hot은?\n",
    "     [0,0,1,0,0,0,0,0,0,0]"
   ]
  },
  {
   "cell_type": "code",
   "execution_count": 8,
   "metadata": {},
   "outputs": [
    {
     "name": "stdout",
     "output_type": "stream",
     "text": [
      "[1, 4, 2, 6, 5] \n",
      "\n",
      "[[0. 1. 0. 0. 0. 0. 0. 0. 0. 0.]\n",
      " [0. 0. 0. 0. 1. 0. 0. 0. 0. 0.]\n",
      " [0. 0. 1. 0. 0. 0. 0. 0. 0. 0.]\n",
      " [0. 0. 0. 0. 0. 0. 1. 0. 0. 0.]\n",
      " [0. 0. 0. 0. 0. 1. 0. 0. 0. 0.]] \n",
      "\n",
      "===============================\n",
      "[2, 2, 0, 1, 0] \n",
      "\n",
      "[[0. 0. 1.]\n",
      " [0. 0. 1.]\n",
      " [1. 0. 0.]\n",
      " [0. 1. 0.]\n",
      " [1. 0. 0.]] \n",
      "\n"
     ]
    }
   ],
   "source": [
    "# 단위행렬을 이용해서 one - hot을 해보자\n",
    "# ex) 10*10의 행렬을 만들어 지정된 원본데이터를 대입시켜 one - hot를 리턴해보자\n",
    "a= [1,4,2,6,5]\n",
    "a_one_hot = np.identity(10)[a]\n",
    "print(a, '\\n')\n",
    "print(a_one_hot, '\\n')\n",
    "print(\"===============================\")\n",
    "\n",
    "a= [2,2,0,1,0]\n",
    "a_one_hot = np.identity(3)[a]\n",
    "print(a, '\\n')\n",
    "print(a_one_hot, '\\n')"
   ]
  },
  {
   "cell_type": "code",
   "execution_count": 9,
   "metadata": {
    "scrolled": false
   },
   "outputs": [
    {
     "name": "stdout",
     "output_type": "stream",
     "text": [
      "[[1. 0. 0.]\n",
      " [0. 1. 0.]\n",
      " [0. 0. 1.]] \n",
      "\n",
      "[[0. 1. 0.]\n",
      " [0. 0. 1.]\n",
      " [0. 0. 0.]\n",
      " [0. 0. 0.]] \n",
      "\n"
     ]
    }
   ],
   "source": [
    "ar = np.eye(3)\n",
    "print(ar, '\\n')\n",
    "\n",
    "ar02 = np.eye(4, k=1, M=3)  # M은 열의 크기, k는 시작위치\n",
    "print(ar02, '\\n')"
   ]
  },
  {
   "cell_type": "code",
   "execution_count": 11,
   "metadata": {
    "scrolled": false
   },
   "outputs": [
    {
     "name": "stdout",
     "output_type": "stream",
     "text": [
      "[[0. 1. 0.]] \n",
      "\n",
      "[[[ 0  1  2  3]\n",
      "  [ 4  5  6  7]\n",
      "  [ 8  9 10 11]]\n",
      "\n",
      " [[12 13 14 15]\n",
      "  [16 17 18 19]\n",
      "  [20 21 22 23]]] \n",
      "\n",
      "[[12 14]\n",
      " [20 22]] \n",
      "\n",
      "6\n"
     ]
    }
   ],
   "source": [
    "# 배열의 행, 열, 추출(슬라이스), 추가(append, insert), 삭제(delete), 결합, 분할(split)\n",
    "\n",
    "print(ar[1:2], '\\n')\n",
    "ar03 = np.arange(24).reshape(2,3,4)\n",
    "print(ar03, '\\n')\n",
    "print(ar03[1,[True,False,True],::2], '\\n')\n",
    "print(ar03[0,1,2])\n"
   ]
  },
  {
   "cell_type": "code",
   "execution_count": 13,
   "metadata": {},
   "outputs": [
    {
     "name": "stdout",
     "output_type": "stream",
     "text": [
      "[0 1 2 3] \n",
      "\n",
      "[0 2] \n",
      "\n",
      "[0 2] \n",
      "\n",
      "[[ 0  1  2  3]\n",
      " [ 4  5  6  7]\n",
      " [ 8  9 10 11]] \n",
      "\n",
      "[[ 0  1  2  3]\n",
      " [ 8  9 10 11]] \n",
      "\n",
      "[[ 1  3]\n",
      " [ 5  7]\n",
      " [ 9 11]] \n",
      "\n",
      "-------------------------------------\n",
      "[[False False False False]\n",
      " [False False False False]\n",
      " [ True  True  True  True]] \n",
      "\n",
      "[ 8  9 10 11] \n",
      "\n",
      "[6 7 8 9] \n",
      "\n"
     ]
    }
   ],
   "source": [
    "# boolean으로 데이터 추출\n",
    "\n",
    "a_1d = np.arange(4)\n",
    "print(a_1d, '\\n')\n",
    "print(a_1d[[True,False,True,False]], '\\n')\n",
    "print(a_1d[np.array([True,False,True,False])], '\\n')\n",
    "\n",
    "a_2d = np.arange(12).reshape(3,4)\n",
    "print(a_2d, '\\n')\n",
    "print(a_2d[[True, False, True]], '\\n')  # 행\n",
    "\n",
    "# 행은 전체 출력, 열은 index 1,3\n",
    "print(a_2d[:,[False, True, False, True]], '\\n')  # 행, 열을 리턴\n",
    "print(\"-------------------------------------\")\n",
    "\n",
    "# 비교 연산자를 이용해서 데이터 추출. 7보다 큰 수만 출력해보자\n",
    "print(a_2d > 7, '\\n')\n",
    "print(a_2d[a_2d > 7], '\\n')\n",
    "\n",
    "# 5보다 크고 10보다 작은 값들을 출력해보자\n",
    "print(a_2d[(a_2d > 5) & (a_2d < 10) ], '\\n')\n"
   ]
  },
  {
   "cell_type": "code",
   "execution_count": 14,
   "metadata": {
    "scrolled": true
   },
   "outputs": [
    {
     "name": "stdout",
     "output_type": "stream",
     "text": [
      "[0 1 2] \n",
      "\n",
      "[0 1 2 3] \n",
      "\n",
      "[0 1 2 3 4 5] \n",
      "\n",
      "[0 1 2 3 4 5] \n",
      "\n",
      "[3 4 5 0 1 2] \n",
      "\n",
      "[3 4 5 0 1 2] \n",
      "\n"
     ]
    }
   ],
   "source": [
    "# 행, 열 추가(append)\n",
    "a = np.arange(3)\n",
    "print(a, '\\n')\n",
    "\n",
    "a_append = np.append(a,3)\n",
    "print(a_append, '\\n')\n",
    "print(np.append(a, [3,4,5]), '\\n')\n",
    "print(np.append(a, np.arange(3,6)), '\\n')\n",
    "\n",
    "print(np.append([3,4,5], a), '\\n')   # [3,4,5]에다가 a를 추가\n",
    "print(np.append(np.arange(3,6), a), '\\n')"
   ]
  },
  {
   "cell_type": "code",
   "execution_count": 18,
   "metadata": {
    "scrolled": true
   },
   "outputs": [
    {
     "name": "stdout",
     "output_type": "stream",
     "text": [
      "[[0 1 2]\n",
      " [3 4 5]] \n",
      "\n",
      "[ 0  1  2  3  4  5 10] \n",
      "\n",
      "[[ 0  5 10]\n",
      " [15 20 25]] \n",
      "\n",
      "[[ 0  1  2]\n",
      " [ 3  4  5]\n",
      " [ 0  5 10]\n",
      " [15 20 25]] \n",
      "\n",
      "[[ 0  1  2  0  5 10]\n",
      " [ 3  4  5 15 20 25]] \n",
      "\n"
     ]
    }
   ],
   "source": [
    "# 2차원 추가\n",
    "a_2d = np.arange(6).reshape(2,3)\n",
    "print(a_2d, '\\n')\n",
    "\n",
    "print(np.append(a_2d,10), '\\n')\n",
    "\n",
    "a_2d_res = np.arange(6).reshape(2,3) * 5\n",
    "print(a_2d_res, '\\n')\n",
    "print(np.append(a_2d, a_2d_res, axis=0), '\\n')  # 세로로 연결 행 추가\n",
    "print(np.append(a_2d, a_2d_res, axis=1), '\\n')  # 가로로 연결 열 추가"
   ]
  },
  {
   "cell_type": "markdown",
   "metadata": {},
   "source": [
    "* 행, 열 추가(insert) insert(arr, obj, value, axis)\n",
    "\n",
    "1. 일차원 배열\n",
    "    numpy.insert()\n",
    "\n",
    "2. 이차원 배열의 행\n",
    "    numpy.insert()\n",
    "    numpy.vstack()\n",
    "    \n",
    "3. 이차원 배열의 열\n",
    "    numpy.insert()\n",
    "    numpy,hstack()"
   ]
  },
  {
   "cell_type": "code",
   "execution_count": 3,
   "metadata": {
    "scrolled": false
   },
   "outputs": [
    {
     "name": "stdout",
     "output_type": "stream",
     "text": [
      "[0 1 2] \n",
      "\n",
      "[  0   1 100   2] \n",
      "\n",
      "[  0   1 100 101 102   2]\n",
      "------------------------------------ \n",
      "\n",
      "[[ 0  1  2  3]\n",
      " [ 4  5  6  7]\n",
      " [ 8  9 10 11]] \n",
      "\n",
      "[[  0   1   2   3]\n",
      " [  4   5   6   7]\n",
      " [100 100 100 100]\n",
      " [  8   9  10  11]] \n",
      "\n",
      "[[  0   1 100   2   3]\n",
      " [  4   5 100   6   7]\n",
      " [  8   9 100  10  11]] \n",
      "\n",
      "[100 101 102 103] \n",
      "\n",
      "[[  0   1   2   3]\n",
      " [  4   5   6   7]\n",
      " [100 101 102 103]\n",
      " [  8   9  10  11]]\n",
      "------------------------------------ \n",
      "\n",
      "[[  0   1   2   3]\n",
      " [  4   5   6   7]\n",
      " [  8   9  10  11]\n",
      " [100 101 102 103]]\n"
     ]
    }
   ],
   "source": [
    "a = np.arange(3)\n",
    "print(a, '\\n')\n",
    "\n",
    "a_insert = np.insert(a,2,100)  # 값, 인덱스위치, 추가할 값. index 위치를 정확히 명시해줘야함\n",
    "print(a_insert, '\\n')\n",
    "\n",
    "a_insert = np.insert(a,2,[100,101,102])\n",
    "print(a_insert)\n",
    "print('------------------------------------', '\\n')\n",
    "\n",
    "# 2차원에 insert를 이용하여 데이터 추가\n",
    "a = np.arange(12).reshape((3,4))\n",
    "print(a, '\\n')\n",
    "\n",
    "a_res = np.insert(a, 2, 100, axis = 0)\n",
    "print(a_res, '\\n')\n",
    "\n",
    "a_res = np.insert(a, 2, 100, axis = 1)\n",
    "print(a_res, '\\n')\n",
    "\n",
    "data = np.arange(100,104)\n",
    "print(data, '\\n')\n",
    "\n",
    "a_res = np.insert(a, 2, data, axis = 0)\n",
    "print(a_res)\n",
    "print('------------------------------------', '\\n')\n",
    "\n",
    "\n",
    "print(np.vstack((a,data)))"
   ]
  },
  {
   "cell_type": "code",
   "execution_count": 9,
   "metadata": {},
   "outputs": [
    {
     "name": "stdout",
     "output_type": "stream",
     "text": [
      "[[ 0  1  2  3]\n",
      " [ 4  5  6  7]\n",
      " [ 8  9 10 11]] \n",
      "\n",
      "[ 0  2  3  4  5  6  7  8  9 10 11] \n",
      "\n",
      "[ 2  4  5  6  7  8  9 10 11] \n",
      "\n",
      "[[ 4  5  6  7]\n",
      " [ 8  9 10 11]] \n",
      "\n",
      "[[ 1  2  3]\n",
      " [ 5  6  7]\n",
      " [ 9 10 11]] \n",
      "\n"
     ]
    }
   ],
   "source": [
    "# 삭제 delete (객체, 행, 열)\n",
    "print(a, '\\n')\n",
    "\n",
    "print(np.delete(a,1), '\\n')  # 해당 원소만 삭제\n",
    "print(np.delete(a,(0,1,3)), '\\n')  # 여러 원소 삭제 가능\n",
    "\n",
    "print(np.delete(a, 0, axis=0), '\\n')  # 행 삭제\n",
    "print(np.delete(a, 0, axis=1), '\\n')  # 열 삭제"
   ]
  },
  {
   "cell_type": "code",
   "execution_count": 10,
   "metadata": {
    "scrolled": true
   },
   "outputs": [
    {
     "name": "stdout",
     "output_type": "stream",
     "text": [
      "[[1 1 1]\n",
      " [1 1 1]] \n",
      "\n",
      "[[2 2 2]\n",
      " [2 2 2]] \n",
      "\n",
      "[[1 1 1]\n",
      " [1 1 1]\n",
      " [2 2 2]\n",
      " [2 2 2]] \n",
      "\n",
      "[[1 1 1 2 2 2]\n",
      " [1 1 1 2 2 2]] \n",
      "\n",
      "[[1 1 1 2 2 2]\n",
      " [1 1 1 2 2 2]] \n",
      "\n"
     ]
    }
   ],
   "source": [
    "# 결합 : [np.concatenate(), stack(),] / 2차원 block(), vstack(), hstack(), dstack()\n",
    "\n",
    "a1 = np.ones((2,3), int)\n",
    "print(a1, '\\n')\n",
    "\n",
    "a2 = np.full((2,3), 2)\n",
    "print(a2, '\\n')\n",
    "\n",
    "print(np.concatenate([a1,a2],0), '\\n')\n",
    "print(np.concatenate([a1,a2],1), '\\n')\n",
    "\n",
    "print(np.block([a1,a2]), '\\n')\n"
   ]
  },
  {
   "cell_type": "code",
   "execution_count": 11,
   "metadata": {},
   "outputs": [
    {
     "name": "stdout",
     "output_type": "stream",
     "text": [
      "[1 1 1] \n",
      "\n",
      "[2 2 2] \n",
      "\n",
      "[[1 1 1]\n",
      " [2 2 2]] \n",
      "\n"
     ]
    }
   ],
   "source": [
    "# 결합 : [np.concatenate(), stack(),] / 2차원 block(), vstack(), hstack(), dstack()\n",
    "\n",
    "a1 = np.ones(3, int)\n",
    "print(a1, '\\n')\n",
    "\n",
    "a2 = np.full(3, 2)\n",
    "print(a2, '\\n')\n",
    "\n",
    "print(np.stack([a1,a2]), '\\n')"
   ]
  },
  {
   "cell_type": "code",
   "execution_count": 12,
   "metadata": {
    "scrolled": true
   },
   "outputs": [
    {
     "name": "stdout",
     "output_type": "stream",
     "text": [
      "[array([[0, 1, 2, 3],\n",
      "       [4, 5, 6, 7]]), array([[ 8,  9, 10, 11],\n",
      "       [12, 13, 14, 15]])] \n",
      "\n",
      "[[0 1 2 3]\n",
      " [4 5 6 7]] \n",
      "\n",
      "[[ 8  9 10 11]\n",
      " [12 13 14 15]] \n",
      "\n",
      "[[0 1 2 3]\n",
      " [4 5 6 7]] \n",
      "\n",
      "[[ 8  9 10 11]\n",
      " [12 13 14 15]] \n",
      "\n"
     ]
    }
   ],
   "source": [
    "# 분할 split(), array_split(), vsplit(), hsplit(), dsplit()\n",
    "# 4*4 데이터를 채워서 2개로 분할\n",
    "# split()\n",
    "res = np.arange(16).reshape(4,4)\n",
    "print(np.split(res,2), '\\n')\n",
    "print(np.split(res,2)[0], '\\n')\n",
    "print(np.split(res,2)[1], '\\n')\n",
    "\n",
    "a,b = np.split(res,2)\n",
    "print(a, '\\n')\n",
    "print(b, '\\n')"
   ]
  },
  {
   "cell_type": "code",
   "execution_count": 13,
   "metadata": {},
   "outputs": [
    {
     "name": "stdout",
     "output_type": "stream",
     "text": [
      "[array([[0, 1, 2, 3, 4],\n",
      "       [5, 6, 7, 8, 9]]), array([[10, 11, 12, 13, 14]])] \n",
      "\n",
      "[[0 1 2 3 4]\n",
      " [5 6 7 8 9]] \n",
      "\n",
      "[[10 11 12 13 14]]\n",
      "------------------------------- \n",
      "\n",
      "[array([[0, 1, 2, 3],\n",
      "       [4, 5, 6, 7]]), array([[ 8,  9, 10, 11],\n",
      "       [12, 13, 14, 15]])] \n",
      "\n",
      "[[0 1 2 3]\n",
      " [4 5 6 7]] \n",
      "\n",
      "[[ 8  9 10 11]\n",
      " [12 13 14 15]]\n",
      "------------------------------- \n",
      "\n",
      "[array([[ 0,  1],\n",
      "       [ 4,  5],\n",
      "       [ 8,  9],\n",
      "       [12, 13]]), array([[ 2,  3],\n",
      "       [ 6,  7],\n",
      "       [10, 11],\n",
      "       [14, 15]])] \n",
      "\n",
      "[[ 0  1]\n",
      " [ 4  5]\n",
      " [ 8  9]\n",
      " [12 13]] \n",
      "\n",
      "[[ 2  3]\n",
      " [ 6  7]\n",
      " [10 11]\n",
      " [14 15]]\n",
      "------------------------------- \n",
      "\n",
      "[[[ 0  1  2  3]\n",
      "  [ 4  5  6  7]\n",
      "  [ 8  9 10 11]]\n",
      "\n",
      " [[12 13 14 15]\n",
      "  [16 17 18 19]\n",
      "  [20 21 22 23]]] \n",
      "\n",
      "[array([[[ 0,  1],\n",
      "        [ 4,  5],\n",
      "        [ 8,  9]],\n",
      "\n",
      "       [[12, 13],\n",
      "        [16, 17],\n",
      "        [20, 21]]]), array([[[ 2,  3],\n",
      "        [ 6,  7],\n",
      "        [10, 11]],\n",
      "\n",
      "       [[14, 15],\n",
      "        [18, 19],\n",
      "        [22, 23]]])]\n",
      "------------------------------- \n",
      "\n"
     ]
    }
   ],
   "source": [
    "# 분할 split(), array_split(), vsplit(), hsplit(), dsplit()\n",
    "# array_split()\n",
    "res = np.arange(15).reshape(3,5)\n",
    "print(np.array_split(res,2), '\\n')\n",
    "\n",
    "a,b = np.array_split(res,2)\n",
    "print(a, '\\n')\n",
    "print(b)\n",
    "print('-------------------------------', '\\n')\n",
    "\n",
    "# vsplit()\n",
    "res = np.arange(16).reshape(4,4)\n",
    "print(np.vsplit(res,2), '\\n')\n",
    "\n",
    "a,b = np.vsplit(res,2)\n",
    "print(a, '\\n')\n",
    "print(b)\n",
    "print('-------------------------------', '\\n')\n",
    "\n",
    "# hsplit()\n",
    "res = np.arange(16).reshape(4,4)\n",
    "print(np.hsplit(res,2), '\\n')\n",
    "\n",
    "a,b = np.hsplit(res,2)\n",
    "print(a, '\\n')\n",
    "print(b)\n",
    "print('-------------------------------', '\\n')\n",
    "\n",
    "# dsplit()\n",
    "res = np.arange(24).reshape(2,3,4)\n",
    "print(res, '\\n')\n",
    "\n",
    "print(np.dsplit(res,2))\n",
    "print('-------------------------------', '\\n')"
   ]
  },
  {
   "cell_type": "code",
   "execution_count": 10,
   "metadata": {
    "scrolled": true
   },
   "outputs": [
    {
     "name": "stdout",
     "output_type": "stream",
     "text": [
      "[[0 1 2]\n",
      " [3 4 5]\n",
      " [6 7 8]] \n",
      "\n",
      "[[ -1  -1  -1]\n",
      " [ -1 999 999]\n",
      " [999 999 999]] \n",
      "\n",
      "[[ True  True  True]\n",
      " [ True False False]\n",
      " [False False False]] \n",
      "\n",
      "[[ 0 10 20]\n",
      " [30 -6 -5]\n",
      " [-4 -3 -2]]\n"
     ]
    }
   ],
   "source": [
    "# 4. 조건처리  numpy.where(condition, [x,y])  & |\n",
    "ar = np.arange(9).reshape(3,3)\n",
    "print(ar, '\\n')\n",
    "\n",
    "# ar이 4보다 작으면, -1, 999로 채우자\n",
    "r = np.where(ar < 4, -1, 999)\n",
    "print(r, '\\n')\n",
    "\n",
    "r = np.where(ar < 4, True, False)\n",
    "print(r, '\\n')\n",
    "\n",
    "r = np.where(ar < 4, ar*10, ar-10)  # 연산 가능\n",
    "print(r)"
   ]
  },
  {
   "cell_type": "code",
   "execution_count": 11,
   "metadata": {
    "scrolled": true
   },
   "outputs": [
    {
     "name": "stdout",
     "output_type": "stream",
     "text": [
      "(array([0, 1, 2], dtype=int64),) \n",
      "\n",
      "[0 1 2] \n",
      "\n",
      "[0, 1, 2] \n",
      "\n",
      "[(0,), (1,), (2,)]\n"
     ]
    }
   ],
   "source": [
    "# ex) 6개의 순차 배열값을 만들고 3보다 작은 값들을 추출해서 튜플로 만들자\n",
    "ar = np.arange(6)\n",
    "print(np.where(ar < 3), '\\n')\n",
    "print(np.where(ar < 3)[0], '\\n')\n",
    "print(np.where(ar < 3)[0].tolist(), '\\n')  # 차원으로 리턴\n",
    "print(list(zip(*np.where(ar < 3))))  # 튜플로 리턴"
   ]
  },
  {
   "cell_type": "code",
   "execution_count": 30,
   "metadata": {
    "scrolled": false
   },
   "outputs": [
    {
     "name": "stdout",
     "output_type": "stream",
     "text": [
      "False \n",
      "\n",
      "True \n",
      "\n",
      "nan nan True \n",
      "\n",
      "[[ 11.  12. 100.  nan]\n",
      " [ 21.  22.  23.  24.]\n",
      " [ 31.  82.  nan  34.]\n",
      " [ nan  42.  43.  44.]] \n",
      "\n",
      "[[False False False  True]\n",
      " [False False False False]\n",
      " [False False  True False]\n",
      " [ True False False False]] \n",
      "\n",
      "[[ 11.  12. 100.   0.]\n",
      " [ 21.  22.  23.  24.]\n",
      " [ 31.  82.   0.  34.]\n",
      " [  0.  42.  43.  44.]] \n",
      "\n",
      "[[ 11.  12. 100.  -1.]\n",
      " [ 21.  22.  23.  24.]\n",
      " [ 31.  82.  -1.  34.]\n",
      " [ -1.  42.  43.  44.]] \n",
      "\n",
      "37.61538461538461 \n",
      "\n",
      "[[ 11.          12.         100.          37.61538462]\n",
      " [ 21.          22.          23.          24.        ]\n",
      " [ 31.          82.          37.61538462  34.        ]\n",
      " [ 37.61538462  42.          43.          44.        ]] \n",
      "\n",
      "[[ 11.          12.         100.         376.15384615]\n",
      " [ 21.          22.          23.          24.        ]\n",
      " [ 31.          82.         376.15384615  34.        ]\n",
      " [376.15384615  42.          43.          44.        ]]\n"
     ]
    }
   ],
   "source": [
    "# 5. 결측값 처리.  NaN 값을 처리하는 것. np.nan, np.nan_to_num(), np.isnan()\n",
    "type(np.nan)\n",
    "print(np.nan == np.nan, '\\n')  # 결손값 간의 == 비교 연산시 False\n",
    "print(np.isnan(np.nan), '\\n')\n",
    "print(float('nan'), np.math.nan, np.math.isnan(np.nan), '\\n')\n",
    "\n",
    "# np.genfromtxt  -> 복잡한 서식이 있는 파일을 로드 단, 결측값 처리\n",
    "a = np.genfromtxt('C:\\\\Users\\\\USER\\\\MyPython\\\\sample.csv', delimiter = ',') \n",
    "print(a, '\\n')\n",
    "print(np.isnan(a), '\\n')\n",
    "\n",
    "r = np.nan_to_num(a)  # 결손시 데이터 전부 0으로 처리(float 값이 아닌거)\n",
    "print(r, '\\n')\n",
    "\n",
    "r = np.nan_to_num(a, nan = -1)  # nan값만 -1로 처리\n",
    "print(r, '\\n')\n",
    "\n",
    "a = np.genfromtxt('C:\\\\Users\\\\USER\\\\MyPython\\\\sample.csv', delimiter = ',') \n",
    "print(np.nanmean(a), '\\n')  # NaN 값을 무시하고 평균을 구하는 함수\n",
    "\n",
    "r = np.nan_to_num(a, nan = np.nanmean(a))\n",
    "print(r, '\\n')\n",
    "\n",
    "r = np.nan_to_num(a, nan = np.nanmean(a)*10)\n",
    "print(r)"
   ]
  }
 ],
 "metadata": {
  "kernelspec": {
   "display_name": "Python 3",
   "language": "python",
   "name": "python3"
  },
  "language_info": {
   "codemirror_mode": {
    "name": "ipython",
    "version": 3
   },
   "file_extension": ".py",
   "mimetype": "text/x-python",
   "name": "python",
   "nbconvert_exporter": "python",
   "pygments_lexer": "ipython3",
   "version": "3.8.5"
  }
 },
 "nbformat": 4,
 "nbformat_minor": 4
}
