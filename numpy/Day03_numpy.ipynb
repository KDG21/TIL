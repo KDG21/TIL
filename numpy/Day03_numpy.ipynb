{
 "cells": [
  {
   "cell_type": "markdown",
   "metadata": {},
   "source": [
    "!jupyter nbconvert --to script day01.ipynb -> py로 변환하는 명령어\n",
    "\n",
    "1. 기본정보(버전확인, 데이터 형식, 목록, 형변환, python list와 numpy.ndarray의 차이점)\n",
    "2. 표시설정(numpy.ndarray 설정값, 배열의 초기화 및 생성 _행렬만들기, 난수 배열값 채우기, 대각선)\n",
    "3. 배열의 행, 열, 추출, 추가, 삭제, 결합, 분할\n",
    "4. 조건처리\n",
    "5. 결측값 처리\n",
    "6. 정렬 계산\n",
    "7. 파일의 입출력, 8. 다른 형식으로 값 변환\n",
    "9. 이미지 처리"
   ]
  },
  {
   "cell_type": "code",
   "execution_count": 6,
   "metadata": {},
   "outputs": [
    {
     "name": "stdout",
     "output_type": "stream",
     "text": [
      "False \n",
      "\n",
      "True \n",
      "\n",
      "nan nan True \n",
      "\n",
      "[[ 11.  12. 100.  nan]\n",
      " [ 21.  22.  23.  24.]\n",
      " [ 31.  82.  nan  34.]\n",
      " [ nan  42.  43.  44.]] \n",
      "\n",
      "[[ 11.  12. 100.   0.]\n",
      " [ 21.  22.  23.  24.]\n",
      " [ 31.  82.   0.  34.]\n",
      " [  0.  42.  43.  44.]] \n",
      "\n",
      "[[ 11.  12. 100.  -1.]\n",
      " [ 21.  22.  23.  24.]\n",
      " [ 31.  82.  -1.  34.]\n",
      " [ -1.  42.  43.  44.]] \n",
      "\n",
      "37.61538461538461 \n",
      "\n",
      "[[ 11.          12.         100.          37.61538462]\n",
      " [ 21.          22.          23.          24.        ]\n",
      " [ 31.          82.          37.61538462  34.        ]\n",
      " [ 37.61538462  42.          43.          44.        ]] \n",
      "\n",
      "[[ 11.  12. 100.  nan]\n",
      " [ 21.  22.  23.  24.]\n",
      " [ 31.  82.  nan  34.]\n",
      " [ nan  42.  43.  44.]]\n"
     ]
    }
   ],
   "source": [
    "import numpy as np\n",
    "\n",
    "# 5. 결측값 처리.  NaN 값을 처리하는 것. np.nan, np.nan_to_num(), np.isnan()\n",
    "# float('nan')\n",
    "type(np.nan)\n",
    "print(np.nan == np.nan, '\\n')  # 결손값 간의 == 비교 연산시 False\n",
    "print(np.isnan(np.nan), '\\n')\n",
    "print(float('nan'), np.math.nan, np.math.isnan(np.nan), '\\n')\n",
    "\n",
    "# np.genfromtxt  -> 복잡한 서식이 있는 파일을 로드 단, 결측값 처리\n",
    "a = np.genfromtxt('C:\\\\Users\\\\USER\\\\MyPython\\\\sample.csv', delimiter = ',') \n",
    "print(a, '\\n')\n",
    "\n",
    "r = np.nan_to_num(a)  # 결손시 데이터 전부 0으로 처리(float 값이 아닌거)\n",
    "print(r, '\\n')\n",
    "\n",
    "r = np.nan_to_num(a, nan = -1)  # nan값만 -1로 처리\n",
    "print(r, '\\n')\n",
    "\n",
    "a = np.genfromtxt('C:\\\\Users\\\\USER\\\\MyPython\\\\sample.csv', delimiter = ',') \n",
    "print(np.nanmean(a), '\\n')\n",
    "r = np.nan_to_num(a, nan = np.nanmean(a))\n",
    "print(r, '\\n')\n",
    "\n",
    "r = np.nan_to_num(a, nan = a*10)   # 적용되지 않는다\n",
    "print(r)"
   ]
  },
  {
   "cell_type": "code",
   "execution_count": 12,
   "metadata": {},
   "outputs": [
    {
     "name": "stdout",
     "output_type": "stream",
     "text": [
      "[[ 11.  12. 100.  nan]\n",
      " [ 21.  22.  23.  24.]\n",
      " [ 31.  82.  nan  34.]\n",
      " [ nan  42.  43.  44.]] \n",
      "\n",
      "[[False False False  True]\n",
      " [False False False False]\n",
      " [False False  True False]\n",
      " [ True False False False]] \n",
      "\n",
      "[[ True  True  True False]\n",
      " [ True  True  True  True]\n",
      " [ True  True False  True]\n",
      " [False  True  True  True]] \n",
      "\n",
      "[nan nan nan]\n"
     ]
    }
   ],
   "source": [
    "# np.isnan() -> 결손치, 결측값 NaN 여부를 판정하는 함수\n",
    "a = np.genfromtxt('C:\\\\Users\\\\USER\\\\MyPython\\\\sample.csv', delimiter = ',')\n",
    "\n",
    "print(a, '\\n')\n",
    "\n",
    "print(np.isnan(a), '\\n')   # 결손치 값(nan)을 리턴\n",
    "\n",
    "print(~np.isnan(a), '\\n')   # 결손치 값이 아닌 값을 리턴\n",
    "\n",
    "print(a[np.isnan(a)])  # 결손치 값만 출력"
   ]
  },
  {
   "cell_type": "markdown",
   "metadata": {},
   "source": [
    "* ndarray.any() : True 값이 하나라도 있을 경우 사용\n",
    "결손치 Nan이 있는 행을 삭제 할 경우 Numpy 배열 ndarray에 하나라도 True가 있을 경우 any() 메소드를 이용해서 삭제하게된다.\n",
    "\n",
    "* ndarray.all()\n",
    "모든 요소가 결측인 행만 리턴받으려면 all()을 사용"
   ]
  },
  {
   "cell_type": "code",
   "execution_count": 16,
   "metadata": {},
   "outputs": [
    {
     "name": "stdout",
     "output_type": "stream",
     "text": [
      "[ True  True  True False]\n",
      "[False False False  True]\n",
      "[[41. 42. 43. 44.]]\n",
      "[[41. 42. 43. 44.]]\n"
     ]
    }
   ],
   "source": [
    "# ndarray.any()\n",
    "# axis = 1 지정해서 각행에 하나라도 True의 유무를 판별해보자\n",
    "print(np.isnan(a).any(axis=1))  \n",
    "\n",
    "# ~를 사용하게되면 결측값이 하나도 없는 줄을 True로 리턴한다.\n",
    "print(~np.isnan(a).any(axis=1))\n",
    "\n",
    "# 결측값이 하나도 없는 행의 값을 리턴해보자\n",
    "print(a[~np.isnan(a).any(axis=1), :])  # a[행, 열]\n",
    "print(a[~np.isnan(a).any(axis=1)])  # a[행]"
   ]
  },
  {
   "cell_type": "code",
   "execution_count": 20,
   "metadata": {},
   "outputs": [
    {
     "name": "stdout",
     "output_type": "stream",
     "text": [
      "[False  True  True False]\n",
      "[ True False False  True]\n",
      "[[11.  0.]\n",
      " [21. 24.]\n",
      " [31. 34.]\n",
      " [41. 44.]]\n",
      "[[11.  0. nan  0.]\n",
      " [21. nan nan 24.]\n",
      " [31.  0. nan 34.]\n",
      " [41. 42. 43. 44.]]\n"
     ]
    }
   ],
   "source": [
    "# axis = 0 지정해서 각행에 하나라도 True의 유무를 판별해보자\n",
    "print(np.isnan(a).any(axis=0))  \n",
    "\n",
    "# ~를 사용하게되면 결측값이 하나도 없는 줄을 True로 리턴한다.\n",
    "print(~np.isnan(a).any(axis=0))\n",
    "\n",
    "# 결측값이 하나도 없는 행의 값을 리턴해보자\n",
    "print(a[:, ~np.isnan(a).any(axis=0)])  # a[행, 열]\n",
    "\n",
    "print(a[:, ~np.isnan(a).all(axis=0)])"
   ]
  },
  {
   "cell_type": "markdown",
   "metadata": {},
   "source": [
    "* 6. 정렬\n",
    "numpy.sort() : 정렬 후 ndarray로 리턴\n",
    "ndarray.sort() : ndarray 자체 정렬\n",
    "numpy.argsort() : 정렬된 인덱스의 배열을 ndarray로 리턴"
   ]
  },
  {
   "cell_type": "code",
   "execution_count": 25,
   "metadata": {
    "scrolled": true
   },
   "outputs": [
    {
     "name": "stdout",
     "output_type": "stream",
     "text": [
      "[3 5 2 7 8]\n",
      "[2 3 5 7 8] [3 5 2 7 8]\n",
      "[8 7 5 3 2]\n"
     ]
    }
   ],
   "source": [
    "# 일차원 배열을 정렬해보자\n",
    "a = np.array([3,5,2,7,8])\n",
    "print(a)\n",
    "\n",
    "a_sort = np.sort(a)\n",
    "print(a_sort, a)\n",
    "\n",
    "a_sort_reverse = np.sort(a)[::-1]   # reverse라는 메소드가 없어서 정렬후 역순으로 슬라이싱을 한 후 리턴\n",
    "print(a_sort_reverse)"
   ]
  },
  {
   "cell_type": "code",
   "execution_count": 37,
   "metadata": {},
   "outputs": [
    {
     "name": "stdout",
     "output_type": "stream",
     "text": [
      "[[ 20   3 100]\n",
      " [  1 200  30]\n",
      " [300  10   2]]\n",
      "[[  1   3   2]\n",
      " [ 20  10  30]\n",
      " [300 200 100]]\n",
      "[[  3  20 100]\n",
      " [  1  30 200]\n",
      " [  2  10 300]]\n",
      "[[  3  20 100]\n",
      " [  1  30 200]\n",
      " [  2  10 300]] \n",
      "\n",
      "   내림차순   \n",
      "[[300 200 100]\n",
      " [ 20  10  30]\n",
      " [  1   3   2]]\n",
      "[[100  20   3]\n",
      " [200  30   1]\n",
      " [300  10   2]]\n",
      "[[100  20   3]\n",
      " [200  30   1]\n",
      " [300  10   2]]\n"
     ]
    }
   ],
   "source": [
    "# 다차원 배열을 정렬해보자\n",
    "a_2d = np.array([[20,3,100],[1,200,30],[300,10,2]])\n",
    "print(a_2d)\n",
    "\n",
    "a_2d_sort = np.sort(a_2d, axis=0)   # axis=0 :열, axis=1 : 행\n",
    "print(a_2d_sort)\n",
    "\n",
    "a_2d_sort = np.sort(a_2d, axis=1)   # axis=0 :열, axis=1 : 행\n",
    "print(a_2d_sort)\n",
    "\n",
    "a_2d_sort = np.sort(a_2d, axis=-1)   # axis=-1 : 마지막 축에 따라서 정렬된다. [행, 열]\n",
    "print(a_2d_sort,\"\\n\")\n",
    "\n",
    "print(\"   내림차순   \")\n",
    "a_2d_sort = np.sort(a_2d, axis=0)[::-1]   # axis=0 :열, axis=1 : 행\n",
    "print(a_2d_sort)\n",
    "\n",
    "a_2d_sort = np.sort(a_2d, axis=1)[:, ::-1]   # axis=0 :열, axis=1 : 행\n",
    "print(a_2d_sort)\n",
    "\n",
    "a_2d_sort = np.sort(a_2d, axis=-1)[:, ::-1]   # axis=-1 : 마지막 축에 따라서 정렬된다. [행, 열]\n",
    "print(a_2d_sort)"
   ]
  },
  {
   "cell_type": "code",
   "execution_count": 42,
   "metadata": {},
   "outputs": [
    {
     "name": "stdout",
     "output_type": "stream",
     "text": [
      "[3 5 2 7 8]\n",
      "[2 3 5 7 8]\n",
      "[[  1   3   2]\n",
      " [ 20  10  30]\n",
      " [300 200 100]]\n",
      "[[300 200 100]\n",
      " [ 20  10  30]\n",
      " [  1   3   2]]\n"
     ]
    }
   ],
   "source": [
    "# ndarray.sort() : ndarray 자체 정렬\n",
    "a = np.array([3,5,2,7,8])\n",
    "print(a)\n",
    "\n",
    "a.sort()\n",
    "print(a)\n",
    "\n",
    "a_2d.sort(axis=0)\n",
    "print(a_2d)\n",
    "\n",
    "print(a_2d[::-1])"
   ]
  },
  {
   "cell_type": "code",
   "execution_count": 44,
   "metadata": {},
   "outputs": [
    {
     "name": "stdout",
     "output_type": "stream",
     "text": [
      "[[ 20   3 100]\n",
      " [  1 200  30]\n",
      " [300  10   2]]\n",
      "[[1 0 2]\n",
      " [0 2 1]\n",
      " [2 1 0]]\n"
     ]
    }
   ],
   "source": [
    "# numpy.argsort() : 정렬된 인덱스의 배열을 ndarray로 리턴\n",
    "a_2d = np.array([[20,3,100],[1,200,30],[300,10,2]])\n",
    "print(a_2d)\n",
    "\n",
    "a_2d_sort_col_index = np.argsort(a_2d, axis=0)\n",
    "print(a_2d_sort_col_index)"
   ]
  },
  {
   "cell_type": "code",
   "execution_count": 48,
   "metadata": {},
   "outputs": [
    {
     "name": "stdout",
     "output_type": "stream",
     "text": [
      "[[ 20   3 100]\n",
      " [  1 200  30]\n",
      " [300  10   2]]\n",
      "[  3 200  10]\n",
      "[0 2 1]\n",
      "[[ 20   3 100]\n",
      " [300  10   2]\n",
      " [  1 200  30]]\n",
      "   내림차순   \n",
      "[1 2 0]\n",
      "[[  1 200  30]\n",
      " [300  10   2]\n",
      " [ 20   3 100]]\n"
     ]
    }
   ],
   "source": [
    "# numpy.argsort() : 정렬된 인덱스의 배열을 ndarray로 리턴\n",
    "a_2d = np.array([[20,3,100],[1,200,30],[300,10,2]])\n",
    "print(a_2d)\n",
    "\n",
    "# 특정열을 기준으로 정렬\n",
    "col_num = 1\n",
    "print(a_2d[:, col_num])  # [3 200 10]\n",
    "print(np.argsort(a_2d[:, col_num]))  # 1열을 기준으로 정렬한 인덱스\n",
    "\n",
    "res = a_2d[np.argsort(a_2d[:, col_num])]  # 1열을 기준으로 정렬한 인덱스를 바탕으로 행을 정렬\n",
    "print(res)\n",
    "\n",
    "print(\"   내림차순   \")\n",
    "print(np.argsort(a_2d[:, col_num])[::-1])\n",
    "\n",
    "res = a_2d[np.argsort(a_2d[:, col_num])[::-1]]\n",
    "print(res)"
   ]
  },
  {
   "cell_type": "code",
   "execution_count": 53,
   "metadata": {},
   "outputs": [
    {
     "name": "stdout",
     "output_type": "stream",
     "text": [
      "[  1 200  30]\n",
      "[0 2 1]\n",
      "[[ 20 100   3]\n",
      " [  1  30 200]\n",
      " [300   2  10]]\n"
     ]
    }
   ],
   "source": [
    "# 특정행을 기준으로 정렬 하고 싶다.\n",
    "row_num = 1\n",
    "print(a_2d[row_num])\n",
    "\n",
    "# 정렬 후 인덱스를 리턴 받고 싶다.\n",
    "print(np.argsort(a_2d[row_num]))  # 1행의 정렬 인덱스를 리턴\n",
    "\n",
    "a_2d_sort_row_num = a_2d[:,np.argsort(a_2d[row_num])]\n",
    "print(a_2d_sort_row_num)"
   ]
  },
  {
   "cell_type": "markdown",
   "metadata": {},
   "source": [
    "* 6. 계산\n",
    "1) 행과 열의 집계 함수 : 합계_sum, 평균_mean, 최대, 최소 / clip, 표준편차_std, 분산_var\n",
    "2) 표준화 목록(list, Numpy 배열을 pandas.DataFrame) -> 정규화 패턴\n",
    "    >> 정규화 종류 / 표준화 Scipy, scikit-learn /\n",
    "    >> list(표준화, 규격화), Numpy.ndarray, pandas.DataFrame\n",
    "3) ndarray의 최대, 최소 인덱스를 리턴\n",
    "4) one - hot : eye(), indentity()\n",
    "5) ndarray 이동시키는 작업\n",
    "6) 매트릭스 연산(행렬, 역행렬)"
   ]
  },
  {
   "cell_type": "code",
   "execution_count": 57,
   "metadata": {},
   "outputs": [
    {
     "name": "stdout",
     "output_type": "stream",
     "text": [
      "[[ 0  1  2  3]\n",
      " [ 4  5  6  7]\n",
      " [ 8  9 10 11]]\n",
      "66\n",
      "[12 15 18 21]\n",
      "[ 6 22 38]\n"
     ]
    }
   ],
   "source": [
    "# 1) 행과 열의 집계 함수 : 합계_sum, 평균_mean, 최대, 최소 /clip, 표준편차_std, 분산_var\n",
    "a = np.arange(12).reshape(3,4)\n",
    "print(a)\n",
    "\n",
    "print(np.sum(a))\n",
    "\n",
    "print(np.sum(a, axis=0))  # 열의 합계\n",
    "print(np.sum(a, axis=1))  # 행의 합계"
   ]
  },
  {
   "cell_type": "code",
   "execution_count": 62,
   "metadata": {},
   "outputs": [
    {
     "name": "stdout",
     "output_type": "stream",
     "text": [
      "[0 1 2 3 4 5 6 7 8 9]\n",
      "[2 2 2 3 4 5 6 7 7 7]\n",
      "[0 1 2 3 4 5 6 7 7 7]\n",
      "----------------------------------\n",
      "[2 2 2 3 4 5 6 7 8 9]\n",
      "[2 2 2 3 4 5 6 7 8 9]\n",
      "[0 1 2 3 4 5 6 7 8 8]\n"
     ]
    }
   ],
   "source": [
    "# np.clip(), ndarray.clip() : 배열 요소의 값을 임의의 간격에 맞추어 처리\n",
    "# 인수로, 최소값, 최대값을 지정하게 되면 해당 범위에서 벗어나면 최소값, 최대값으로 대체된다.\n",
    "# 0.0 ~ 1.0 / 0 ~ 255\n",
    "a = np.arange(10)\n",
    "print(a)\n",
    "\n",
    "# np.clip()\n",
    "print(np.clip(a,2,7))  # 최소 2, 최대 7  : 매개인수가 필수로 3개 지정\n",
    "print(np.clip(a,None,7))  # 최소값, 최대 7\n",
    "print('----------------------------------')\n",
    "\n",
    "# ndarray.clip()\n",
    "print(a.clip(2))\n",
    "print(a.clip(min=2))\n",
    "print(a.clip(max=8))"
   ]
  },
  {
   "cell_type": "code",
   "execution_count": 65,
   "metadata": {},
   "outputs": [
    {
     "name": "stdout",
     "output_type": "stream",
     "text": [
      "[  1 100  10] \n",
      "\n",
      "1 \n",
      "\n",
      "0 \n",
      "\n"
     ]
    }
   ],
   "source": [
    "# 3) ndarray의 최대, 최소 인덱스를 리턴\n",
    "ar = np.array([1,100,10])\n",
    "print(ar,\"\\n\")\n",
    "\n",
    "print(np.argmax(ar),\"\\n\")\n",
    "print(np.argmin(ar),\"\\n\")"
   ]
  },
  {
   "cell_type": "code",
   "execution_count": 76,
   "metadata": {},
   "outputs": [
    {
     "name": "stdout",
     "output_type": "stream",
     "text": [
      "[[ 20  50  30]\n",
      " [ 60 100  10]] \n",
      "\n",
      "4 \n",
      "\n",
      "(1, 1) 100 \n",
      "\n",
      "np.where()로 리턴을 받아보자\n",
      "(array([1], dtype=int64), array([1], dtype=int64)) \n",
      "\n",
      "[(1, 1)] \n",
      "\n",
      "[(1, 2)] \n",
      "\n"
     ]
    }
   ],
   "source": [
    "# unravel_index(indices, shape, order='C')\n",
    "a_2d = np.array([[20,50,30],[60,100,10]])\n",
    "print(a_2d,\"\\n\")\n",
    "print(np.argmax(a_2d),\"\\n\")  # 일차원으로 나열해서 해당 인덱스 값을 리턴한다.\n",
    "\n",
    "idx = np.unravel_index(np.argmax(a_2d), a_2d.shape)\n",
    "print(idx, a_2d[idx],\"\\n\")\n",
    "\n",
    "print(\"np.where()로 리턴을 받아보자\")\n",
    "print(np.where(a_2d == np.max(a_2d)),\"\\n\")\n",
    "\n",
    "print(list(zip(*np.where(a_2d == np.max(a_2d)))),\"\\n\")\n",
    "print(list(zip(*np.where(a_2d == np.min(a_2d)))),\"\\n\")"
   ]
  },
  {
   "cell_type": "code",
   "execution_count": 84,
   "metadata": {
    "scrolled": false
   },
   "outputs": [
    {
     "name": "stdout",
     "output_type": "stream",
     "text": [
      "[0 1 2 3 4 5 6 7 8 9] \n",
      "\n",
      "[7 8 9 0 1 2 3 4 5 6] \n",
      "\n",
      "[[ 0  1  2  3]\n",
      " [ 4  5  6  7]\n",
      " [ 8  9 10 11]] \n",
      "\n",
      "[[10 11  0  1]\n",
      " [ 2  3  4  5]\n",
      " [ 6  7  8  9]] \n",
      "\n",
      "[[ 8  9 10 11]\n",
      " [ 0  1  2  3]\n",
      " [ 4  5  6  7]] \n",
      "\n",
      "[[ 9 10 11  0]\n",
      " [ 1  2  3  4]\n",
      " [ 5  6  7  8]] \n",
      "\n"
     ]
    }
   ],
   "source": [
    "# 5) ndarray 이동시키는 작업  np.roll(a, shift, axis=None)\n",
    "a = np.arange(10)\n",
    "print(a, '\\n')\n",
    "\n",
    "a_roll = np.roll(a,3)\n",
    "print(a_roll, '\\n')\n",
    "\n",
    "# 다차원 배열 이동\n",
    "a_2d = np.arange(12).reshape(3,4)\n",
    "print(a_2d, '\\n')\n",
    "print(np.roll(a_2d, 2), '\\n')\n",
    "\n",
    "# 열을 1나 오른쪽으로 이동\n",
    "print(np.roll(a_2d, 1, axis=0), '\\n')\n",
    "\n",
    "print(np.roll(a_2d, (1,2)), '\\n')"
   ]
  },
  {
   "cell_type": "markdown",
   "metadata": {},
   "source": [
    "6) 매트릭스 연산(행렬, 역행렬)\n",
    "- 행렬 객체 생성 : numpy.array(), numpy.matrix()\n",
    "- 전치 행렬 : .T  -> 행과 열을 바꾸는 것\n",
    "- 행렬의 합, 차 : +, -\n",
    "- 요소의 곱 : *, numpy.multiply()\n",
    "- 행렬의 곱 : numpy.dot(), numpy.matmul(), @연산자, `*연산자`\n",
    "- 거듭제곱 : `**`\n",
    "- 벡터의 내적 : numpy.inner()\n",
    "- 역행렬 : numpy.linalg.inv(), `**-1`, .I(대문자 i)속성\n",
    "- 행렬식 : numpy.linalg.det()\n",
    "- 고유치, 고유벡터 : numpy.linalg.eig()"
   ]
  },
  {
   "cell_type": "code",
   "execution_count": 102,
   "metadata": {},
   "outputs": [
    {
     "name": "stdout",
     "output_type": "stream",
     "text": [
      "(1, 6) \n",
      "\n",
      "========================================\n",
      "[[0 1 2]\n",
      " [3 4 5]]\n",
      "[[0 3]\n",
      " [1 4]\n",
      " [2 5]] \n",
      "\n",
      "========================================\n",
      "[[ 0  2  4]\n",
      " [ 6  8 10]] \n",
      "\n",
      "------- + ------\n",
      "[[ 0  3  6]\n",
      " [ 9 12 15]] \n",
      "\n",
      "[[ 0  3  6]\n",
      " [ 9 12 15]] \n",
      "\n",
      "------- * ------\n",
      "[[ 0  2  8]\n",
      " [18 32 50]] \n",
      "\n",
      "[[ 0  2  8]\n",
      " [18 32 50]] \n",
      "\n",
      "========================================\n",
      "[[0 1]\n",
      " [2 3]] \n",
      "\n",
      "[[0 1 2]\n",
      " [3 4 5]] \n",
      "\n",
      "[[ 3  4  5]\n",
      " [ 9 14 19]] \n",
      "\n",
      "[[ 3  4  5]\n",
      " [ 9 14 19]] \n",
      "\n"
     ]
    }
   ],
   "source": [
    "# 행렬 객체 생성 : numpy.matrix()\n",
    "mat = np.matrix([1,2,3,4,5,6])\n",
    "print(mat.shape, '\\n')\n",
    "print('========================================')\n",
    "\n",
    "# 전치 행렬 : .T  -> 행과 열을 바꾸는 것\n",
    "ar = np.arange(6).reshape(2,3)\n",
    "print(ar)\n",
    "print(ar.T, '\\n')\n",
    "print('========================================')\n",
    "\n",
    "# 행렬의 합, 차 : +, -\n",
    "ar02 = np.arange(0,12,2).reshape(2,3)\n",
    "print(ar02, '\\n')\n",
    "\n",
    "print('------- + ------')\n",
    "print(ar + ar02,'\\n')\n",
    "\n",
    "m01 = np.matrix(ar)\n",
    "m02 = np.matrix(ar02)\n",
    "\n",
    "print(m01 + m02, '\\n')\n",
    "\n",
    "# 요소의 곱 : *, numpy.multiply()\n",
    "print('------- * ------')\n",
    "print(ar * ar02,'\\n')\n",
    "print(np.multiply(m01, m02), '\\n')\n",
    "\n",
    "# 행렬의 곱 : numpy.dot(), numpy.matmul(), @연산자, `*연산자`  ver 3.5이상\n",
    "print('========================================')\n",
    "ar01 = np.arange(4).reshape(2,2)\n",
    "print(ar01, '\\n')\n",
    "ar02 = np.arange(6).reshape(2,3)\n",
    "print(ar02, '\\n')\n",
    "\n",
    "print(np.dot(ar01, ar02), '\\n')\n",
    "print(ar01 @ ar02, '\\n')"
   ]
  },
  {
   "cell_type": "markdown",
   "metadata": {},
   "source": [
    "* 7. 파일의 입출력\n",
    "1) csv 파일을 읽기 : np.loadtxt()\n",
    "loadtxt(fname, dtype=<class 'float'>, comments='#', delimiter=None, converters=None, skiprows=0, usecols=None, unpack=False, ndmin=0, encoding='bytes', max_rows=None)\n",
    "    가로와 세로를 지정해서 읽어온다. : skiprows, usecols\n",
    "    \n",
    "2) 복잡한 파일을 로드 : np.genfromtxt()\n",
    "    - 결측값 처리\n",
    "    - 다른데이터 형식 처리\n",
    "\n",
    "3) .cvs 파일 출력 : np.savetxt()\n",
    "savetxt(fname, X, fmt='%.18e', delimiter=' ', newline='\\n', header='', footer='', comments='# ', encoding=None)\n",
    "    - 출력 포맷 : fmt\n",
    "    - 출력 할 수 있는 차원 : -X : 1D or 2D array_like\n",
    "\n",
    "4) pandas를 읽고 쓰기  --------------------> 헤더가 포함되고 숫자 문자가 혼합된 파일\n",
    "    - 머리글 행, 열이 있는 csv 파일 처리\n",
    "    - 결손치 처리\n",
    "    - 다른형태의 데이터 형식 처리\n",
    "    \n",
    "------> ! ndarray를 이진 파일로 저장(npy, npz)"
   ]
  },
  {
   "cell_type": "code",
   "execution_count": 113,
   "metadata": {},
   "outputs": [
    {
     "name": "stdout",
     "output_type": "stream",
     "text": [
      "11,12,100,120\n",
      "21,22,23,24\n",
      "31,49,82,34\n",
      "41,42,43,44\n",
      "\n",
      "a,b,c,d\n",
      "one,11,12,100,120\n",
      "two,21,11,11,24\n",
      "three,31,11,23,34\n"
     ]
    }
   ],
   "source": [
    "# 1. 파이썬으로 파일을 로드\n",
    "with open('sample.csv') as f:\n",
    "    print(f.read())\n",
    "    \n",
    "with open('sample02.csv') as f:\n",
    "    print(f.read())"
   ]
  },
  {
   "cell_type": "code",
   "execution_count": 118,
   "metadata": {},
   "outputs": [
    {
     "name": "stdout",
     "output_type": "stream",
     "text": [
      "[[ 11  12 100 120]\n",
      " [ 21  22  23  24]\n",
      " [ 31  49  82  34]\n",
      " [ 41  42  43  44]]\n",
      "<class 'numpy.ndarray'> int64 (4, 4) \n",
      "\n",
      "=========================================\n",
      "[[ 11.  12. 100. 120.]\n",
      " [ 21.  11.  11.  24.]\n",
      " [ 31.  11.  23.  34.]]\n",
      "<class 'numpy.ndarray'> float64 (3, 4) \n",
      "\n",
      "=========================================\n",
      "[('one', 11, 12, 100, 120) ('two', 21, 11,  11,  24)\n",
      " ('three', 31, 11,  23,  34)]\n",
      "<class 'numpy.ndarray'> [('no', '<U5'), ('a', '<i4'), ('b', '<i4'), ('c', '<i4'), ('d', '<i4')] (3,) \n",
      "\n"
     ]
    }
   ],
   "source": [
    "# 2. np.loadtxt()를 이용해서 파일을 로드\n",
    "a = np.loadtxt('sample.csv', delimiter=',', dtype='int64')  # ndarray로 반환(배열)\n",
    "print(a)\n",
    "print(type(a), a.dtype, a.shape, '\\n')\n",
    "print('=========================================')\n",
    "\n",
    "# 2. np.loadtxt()를 이용해서 파일을 로드 문자열을 제외한 숫자인 데이터만 읽어오고 싶다.\n",
    "a = np.loadtxt('sample02.csv', delimiter=',', skiprows=1, usecols=[1,2,3,4])  # ndarray로 반환(배열)\n",
    "print(a)\n",
    "print(type(a), a.dtype, a.shape, '\\n')\n",
    "print('=========================================')\n",
    "\n",
    "# 2. np.loadtxt()를 이용해서 다른형식이 문자 숫자 혼형으로 들어온 파일처리\n",
    "my_type = {'names': ('no', 'a', 'b', 'c', 'd'),'formats': ('<U5', 'i4', 'i4', 'i4', 'i4')}\n",
    "\n",
    "a = np.loadtxt('sample02.csv', dtype=my_type, delimiter=',', skiprows=1)  # ndarray로 반환(배열)\n",
    "print(a)\n",
    "print(type(a), a.dtype, a.shape, '\\n')"
   ]
  },
  {
   "cell_type": "code",
   "execution_count": 112,
   "metadata": {},
   "outputs": [
    {
     "data": {
      "text/plain": [
       "array([(b'M', 21, 72.), (b'F', 35, 58.)],\n",
       "      dtype=[('gender', 'S1'), ('age', '<i4'), ('weight', '<f4')])"
      ]
     },
     "execution_count": 112,
     "metadata": {},
     "output_type": "execute_result"
    }
   ],
   "source": [
    "# ex)\n",
    "from io import StringIO\n",
    "d = StringIO(\"M 21 72\\nF 35 58\")\n",
    "np.loadtxt(d, dtype={'names': ('gender', 'age', 'weight'),'formats': ('S1', 'i4', 'f4')})"
   ]
  },
  {
   "cell_type": "code",
   "execution_count": 130,
   "metadata": {},
   "outputs": [
    {
     "name": "stdout",
     "output_type": "stream",
     "text": [
      "  0,  2,  4\n",
      "  6,  8, 10\n",
      "\n",
      "  0\t  2\t  4\n",
      "  6\t  8\t 10\n",
      "\n"
     ]
    }
   ],
   "source": [
    "# 3) .cvs 파일 출력 : np.savetxt()\n",
    "a = np.arange(6).reshape(2,3)\n",
    "np.savetxt('sample03.csv', a*2, fmt='%3d', delimiter=',')  # %.2f, %.5e\n",
    "\n",
    "with open('sample03.csv') as f:\n",
    "    print(f.read())\n",
    "\n",
    "           \n",
    "a = np.arange(6).reshape(2,3)\n",
    "np.savetxt('sample03.tsv', a*2, fmt='%3d', delimiter='\\t')  # %.2f, %.5e\n",
    "\n",
    "with open('sample03.tsv') as f:\n",
    "    print(f.read())"
   ]
  },
  {
   "cell_type": "markdown",
   "metadata": {},
   "source": [
    "9. 이미지 처리 : Pillow, Numpy, OpenCV ....\n",
    "영상, 이미지 -> Numpy : ndarray\n",
    "영상, 이미지 -> OpenCV -> Numpy : ndarray\n",
    "영상, 이미지 -> Pillow + Numpy\n",
    "\n",
    "Pillow(PIL) : 이미지 처리 라이브러리 -> 크기조정, 자르기 등의 기본 작업\n",
    "Numpy + (Pillow(PIL) | OpenCV) : 과학계산 라이브러리 -> 화소 값 대한 산술연산, 대용량 이미지, 영상 등을 일괄로 로드\n",
    "OpenCV : 컴퓨터 비전 라이브러리 -> 얼굴인식 등의 CV가 원하는 시스템의 동작을 원하는 경우"
   ]
  }
 ],
 "metadata": {
  "kernelspec": {
   "display_name": "Python 3",
   "language": "python",
   "name": "python3"
  },
  "language_info": {
   "codemirror_mode": {
    "name": "ipython",
    "version": 3
   },
   "file_extension": ".py",
   "mimetype": "text/x-python",
   "name": "python",
   "nbconvert_exporter": "python",
   "pygments_lexer": "ipython3",
   "version": "3.8.5"
  }
 },
 "nbformat": 4,
 "nbformat_minor": 4
}
