{
 "cells": [
  {
   "cell_type": "markdown",
   "metadata": {},
   "source": [
    "!jupyter nbconvert --to script day01.ipynb -> py로 변환하는 명령어\n",
    "\n",
    "1. 기본정보(버전확인, 데이터 형식, 목록, 형변환, python list와 numpy.ndarray의 차이점)\n",
    "2. 표시설정(numpy.ndarray 설정값, 배열의 초기화 및 생성 _행렬만들기, 난수 배열값 채우기, 대각선)\n",
    "3. 배열의 행, 열, 추출, 추가, 삭제, 결합, 분할\n",
    "4. 조건처리\n",
    "5. 결측값 처리\n",
    "6. 정렬\n",
    "7. 파일의 입출력\n",
    "8. 다른 형식으로 값 변환\n",
    "9. 이미지 처리"
   ]
  },
  {
   "cell_type": "code",
   "execution_count": 1,
   "metadata": {},
   "outputs": [],
   "source": [
    "import numpy as np"
   ]
  },
  {
   "cell_type": "code",
   "execution_count": 2,
   "metadata": {
    "scrolled": true
   },
   "outputs": [
    {
     "name": "stdout",
     "output_type": "stream",
     "text": [
      "1.19.2\n",
      "1.19.2\n",
      "True\n",
      "68752f786df542d340f25c41a8920d9b2aed66cf\n"
     ]
    }
   ],
   "source": [
    "# 버전확인\n",
    "\n",
    "print(np.__version__)\n",
    "print(np.version.full_version)\n",
    "print(np.version.release)\n",
    "print(np.version.git_revision)"
   ]
  },
  {
   "cell_type": "code",
   "execution_count": 22,
   "metadata": {},
   "outputs": [
    {
     "name": "stdout",
     "output_type": "stream",
     "text": [
      "[1 2 3]\n"
     ]
    },
    {
     "data": {
      "text/plain": [
       "array([[0, 1, 2],\n",
       "       [3, 4, 5]])"
      ]
     },
     "execution_count": 22,
     "metadata": {},
     "output_type": "execute_result"
    }
   ],
   "source": [
    "a = np.array([1,2,3])  # 1차원\n",
    "print(a) \n",
    "\n",
    "\n",
    "a2 = np.array([[1,2,3], [4,5,6]])\n",
    "a2\n",
    "\n",
    "a3 = np.array([[[1,2],[3,4]],[[5,6],[7,8]]])\n",
    "a3.size\n",
    "\n",
    "a4 = np.arange(6)\n",
    "a4.reshape(2,3)\n"
   ]
  },
  {
   "cell_type": "code",
   "execution_count": 6,
   "metadata": {
    "scrolled": true
   },
   "outputs": [
    {
     "name": "stdout",
     "output_type": "stream",
     "text": [
      "[1, 2, 3, 4, 5] <class 'list'>\n",
      "<class 'numpy.ndarray'>\n",
      "[1 2 3]\n",
      "int64\n",
      "[1 2 3]\n",
      "int64\n",
      "[1 2 3]\n",
      "int64\n",
      "<class 'numpy.iinfo'>\n",
      "Machine parameters for int64\n",
      "---------------------------------------------------------------\n",
      "min = -9223372036854775808\n",
      "max = 9223372036854775807\n",
      "---------------------------------------------------------------\n",
      " -9223372036854775808 9223372036854775807\n",
      "-9223372036854775798\n",
      "Machine parameters for int32\n",
      "---------------------------------------------------------------\n",
      "min = -2147483648\n",
      "max = 2147483647\n",
      "---------------------------------------------------------------\n",
      "\n",
      "Machine parameters for int32\n",
      "---------------------------------------------------------------\n",
      "min = -2147483648\n",
      "max = 2147483647\n",
      "---------------------------------------------------------------\n",
      "\n",
      "<class 'numpy.finfo'>\n",
      "Machine parameters for float64\n",
      "---------------------------------------------------------------\n",
      "precision =  15   resolution = 1.0000000000000001e-15\n",
      "machep =    -52   eps =        2.2204460492503131e-16\n",
      "negep =     -53   epsneg =     1.1102230246251565e-16\n",
      "minexp =  -1022   tiny =       2.2250738585072014e-308\n",
      "maxexp =   1024   max =        1.7976931348623157e+308\n",
      "nexp =       11   min =        -max\n",
      "---------------------------------------------------------------\n",
      "\n",
      "['1' '2' '3']\n",
      "<U1\n",
      "['a' '2' '3']\n",
      "['1' '2' '3']\n",
      "<U10\n",
      "['abcde' '2' '3']\n"
     ]
    }
   ],
   "source": [
    "# 1. 기본정보(데이터 형식)\n",
    "\n",
    "ar = [1,2,3,4,5]\n",
    "print(ar, type(ar))\n",
    "\n",
    "# ndarray는 데이터형식 dtype, np.array()를 통해서 ndarray 객체를 생성한다.\n",
    "\n",
    "a = np.array([1,2,3], dtype=np.int64)  # dytpe으로 지정\n",
    "print(type(a))\n",
    "print(a)\n",
    "print(a.dtype)\n",
    "\n",
    "a = np.array([1,2,3], dtype='int64')  # ''안에 문자값으로 타입을 지정\n",
    "print(a)\n",
    "print(a.dtype)\n",
    "\n",
    "a = np.array([1,2,3], dtype='i8')  # 형태 코드 문자열로 타입을 지정\n",
    "print(a)\n",
    "print(a.dtype)\n",
    "\n",
    "# 숫자범위를 정수 및 실수의 최소값 최대값을 확인\n",
    "# int, uint 정수 범위 np.iinfo()\n",
    "\n",
    "r = np.iinfo(np.int64)\n",
    "print(type(r))\n",
    "print(r, r.min, r.max)\n",
    "print(r.min + 10)\n",
    "\n",
    "print(np.iinfo('i4'))\n",
    "print(np.iinfo(int))\n",
    "\n",
    "# float np.finfo()\n",
    "fi64 = np.finfo(np.float64)\n",
    "print(type(fi64))\n",
    "print(fi64)\n",
    "\n",
    "# 문자열로 변환 정보\n",
    "a_str = np.array([1,2,3], dtype=str)\n",
    "print(a_str)\n",
    "print(a_str.dtype)\n",
    "\n",
    "a_str[0] = 'abcde'\n",
    "print(a_str)\n",
    "\n",
    "a_str = np.array([1,2,3], dtype='U10')\n",
    "print(a_str)\n",
    "print(a_str.dtype)\n",
    "\n",
    "a_str[0] = 'abcde'\n",
    "print(a_str)\n"
   ]
  },
  {
   "cell_type": "code",
   "execution_count": 19,
   "metadata": {
    "scrolled": true
   },
   "outputs": [
    {
     "name": "stdout",
     "output_type": "stream",
     "text": [
      "[1 0.1 'abcd']\n",
      "object\n",
      "<class 'int'>\n",
      "<class 'float'>\n",
      "<class 'str'>\n",
      "[2 0.2 'abcdabcd']\n"
     ]
    }
   ],
   "source": [
    "# object\n",
    "res_obj = np.array([1,0.1,'abcd'], dtype=object)\n",
    "print(res_obj)\n",
    "\n",
    "print(res_obj.dtype)\n",
    "\n",
    "print(type(res_obj[0]))\n",
    "print(type(res_obj[1]))\n",
    "print(type(res_obj[2]))\n",
    "\n",
    "print(res_obj*2)"
   ]
  },
  {
   "cell_type": "code",
   "execution_count": 21,
   "metadata": {
    "scrolled": true
   },
   "outputs": [
    {
     "name": "stdout",
     "output_type": "stream",
     "text": [
      "[1 2 3] int32\n",
      "[1. 2. 3.]\n",
      "float32\n",
      "[1. 2. 3.]\n",
      "float64\n",
      "['1' '2' '3']\n",
      "<U11\n",
      "0\n"
     ]
    }
   ],
   "source": [
    "# astype() 메소드를 통해서 ndarray 객체로 변환해서 사용 할 수 있다.\n",
    "\n",
    "ar = np.array([1,2,3])\n",
    "print(ar, ar.dtype)\n",
    "\n",
    "ar_float = ar.astype(np.float32)\n",
    "print(ar_float)\n",
    "print(ar_float.dtype)\n",
    "\n",
    "ar_float = ar.astype(float)\n",
    "print(ar_float)\n",
    "print(ar_float.dtype)\n",
    "\n",
    "ar_str = ar.astype('str')\n",
    "print(ar_str)\n",
    "print(ar_str.dtype)\n",
    "\n",
    "# float -> int 소수이하 버림 음수값이 0으로 반올림된다.\n",
    "# np.round()를 사용해서 반올림 확인\n",
    "\n",
    "print(np.round(0.5).astype(int))"
   ]
  },
  {
   "cell_type": "code",
   "execution_count": 23,
   "metadata": {},
   "outputs": [
    {
     "name": "stdout",
     "output_type": "stream",
     "text": [
      "['apple', 100, 10.2]\n",
      "['apple', 100]\n",
      "[1, 2, 3, [4, 5, 6], [7, 8, 9]]\n",
      "[0, 1, 10, 20, 30]\n",
      "30\n",
      "0\n",
      "61\n",
      "5\n"
     ]
    }
   ],
   "source": [
    "# python list와 numpy.ndarray의 차이점\n",
    "# 목록 : list\n",
    "# 배열 : array\n",
    "# 다차원 배열 : numpy.ndarray\n",
    "\n",
    "# 목록\n",
    "my_list = ['apple', 100, 10.2]\n",
    "print(my_list)\n",
    "print(my_list[:2])\n",
    "\n",
    "list_2d = [1,2,3,[4,5,6],[7,8,9]]\n",
    "print(list_2d)\n",
    "\n",
    "# max(), min(), sum(), len()\n",
    "my_list02 = [0,1,10,20,30]\n",
    "print(my_list02)\n",
    "print(max(my_list02))\n",
    "print(min(my_list02))\n",
    "print(sum(my_list02))\n",
    "print(len(my_list02))\n",
    "\n",
    "# for (range, enumerate, zip)\n",
    "# list 요소 추가시 : append, extend, insert\n",
    "# 제거 : clear, pop, remove, del"
   ]
  },
  {
   "cell_type": "code",
   "execution_count": 33,
   "metadata": {},
   "outputs": [
    {
     "name": "stdout",
     "output_type": "stream",
     "text": [
      "array('i', [1, 2, 3])\n",
      "1.0\n"
     ]
    }
   ],
   "source": [
    "# 배열\n",
    "import array \n",
    "ar = array.array('i',[1,2,3])\n",
    "print(ar)\n",
    "ar = array.array('f',[1,2,3])\n",
    "print(ar[0])"
   ]
  },
  {
   "cell_type": "code",
   "execution_count": 40,
   "metadata": {
    "scrolled": true
   },
   "outputs": [
    {
     "name": "stdout",
     "output_type": "stream",
     "text": [
      "{'edgeitems': 3, 'threshold': 1000, 'floatmode': 'fixed', 'precision': 10, 'suppress': False, 'linewidth': 75, 'nanstr': 'nan', 'infstr': 'inf', 'sign': '-', 'formatter': {'float': <built-in method format of str object at 0x00000252DE174FB0>}, 'legacy': False}\n",
      "[12.12 0.12]\n",
      "[12.1234560000  0.1234567890]\n",
      "[12.1234560000  0.1234567890]\n",
      "[12.12 0.12]\n",
      "[  12 1234]\n"
     ]
    }
   ],
   "source": [
    "# 2. 표시설정(numpy.ndarray 설정값 배열이 초기화 및 생성 _행렬만들기, 난수 배열값 채우기, 대각선)\n",
    "print(np.get_printoptions())\n",
    "a = np.array([12.123456, 0.123456789])\n",
    "print(a)\n",
    "\n",
    "np.set_printoptions(precision = 10)\n",
    "print(a)\n",
    "\n",
    "np.set_printoptions(precision = 10, floatmode = 'fixed')\n",
    "print(a)\n",
    "\n",
    "np.set_printoptions(precision = 10, formatter = {'float' : '{:.2f}'.format})\n",
    "print(a)"
   ]
  },
  {
   "cell_type": "code",
   "execution_count": 46,
   "metadata": {
    "scrolled": true
   },
   "outputs": [
    {
     "name": "stdout",
     "output_type": "stream",
     "text": [
      "[c 4d2]\n",
      "[00000012 00001234]\n",
      "[1100 10011010010]\n",
      "[14 2322]\n",
      "[c 4d2]\n",
      "['One' 'Two']\n",
      "[ONE TWO]\n",
      "[xxxOne===== xxxTwo=====]\n"
     ]
    }
   ],
   "source": [
    "# 배열의 데이터를 2진, 8진, 16진수로 출력만 해보자\n",
    "ar = np.array([12, 1234])\n",
    "print(ar)\n",
    "\n",
    "np.set_printoptions(precision = 10, formatter = {'int' : '{:08d}'.format})\n",
    "print(ar)\n",
    "\n",
    "np.set_printoptions(precision = 10, formatter = {'int' : '{:b}'.format})\n",
    "print(ar)\n",
    "\n",
    "np.set_printoptions(precision = 10, formatter = {'int' : '{:o}'.format})\n",
    "print(ar)\n",
    "\n",
    "np.set_printoptions(precision = 10, formatter = {'int' : '{:x}'.format})\n",
    "print(ar)\n",
    "\n",
    "ar02 = np.array(['One', 'Two'])\n",
    "print(ar02)\n",
    "\n",
    "np.set_printoptions(formatter = {'numpystr' : str.upper})\n",
    "print(ar02)\n",
    "\n",
    "np.set_printoptions(formatter = {'numpystr' : lambda x : 'xxx' + x + '====='})\n",
    "print(ar02)"
   ]
  },
  {
   "cell_type": "markdown",
   "metadata": {},
   "source": [
    "배열의 초기화 및 생성 행렬만들기, 난수 배열값 채우기, 대각선\n",
    "  1. 차원의 수 : ndim\n",
    "  2. 차원의 크기 : shape\n",
    "  3. 전체 요소의 수 : size\n",
    "  4. 다차원의 첫번째 차원의 길이 : len()"
   ]
  },
  {
   "cell_type": "code",
   "execution_count": 52,
   "metadata": {},
   "outputs": [
    {
     "name": "stdout",
     "output_type": "stream",
     "text": [
      "[0 1 2]\n",
      "[[ 0  1  2  3]\n",
      " [ 4  5  6  7]\n",
      " [ 8  9 10 11]]\n",
      "2\n",
      "[[[ 0  1  2  3]\n",
      "  [ 4  5  6  7]\n",
      "  [ 8  9 10 11]]\n",
      "\n",
      " [[12 13 14 15]\n",
      "  [16 17 18 19]\n",
      "  [20 21 22 23]]]\n",
      "3 (2, 3, 4) 24\n"
     ]
    }
   ],
   "source": [
    "a_1d = np.arange(3)\n",
    "print(a_1d)\n",
    "\n",
    "a_2d = np.arange(12).reshape((3,4))  # 2차원\n",
    "print(a_2d)\n",
    "print(a_2d.ndim)  # 차원수확인\n",
    "\n",
    "a_3d = np.arange(24).reshape((2,3,4))  # 3차원\n",
    "print(a_3d)\n",
    "print(a_3d.ndim, a_3d.shape, a_3d.size)  # 차원수확인, 차원확인, 개수확인"
   ]
  }
 ],
 "metadata": {
  "kernelspec": {
   "display_name": "Python 3",
   "language": "python",
   "name": "python3"
  },
  "language_info": {
   "codemirror_mode": {
    "name": "ipython",
    "version": 3
   },
   "file_extension": ".py",
   "mimetype": "text/x-python",
   "name": "python",
   "nbconvert_exporter": "python",
   "pygments_lexer": "ipython3",
   "version": "3.8.5"
  }
 },
 "nbformat": 4,
 "nbformat_minor": 4
}
