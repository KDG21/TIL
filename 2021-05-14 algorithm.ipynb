{
 "cells": [
  {
   "cell_type": "code",
   "execution_count": 15,
   "metadata": {},
   "outputs": [
    {
     "data": {
      "text/plain": [
       "[10, 5, 16, 8, 4, 2, 1]"
      ]
     },
     "execution_count": 15,
     "metadata": {},
     "output_type": "execute_result"
    }
   ],
   "source": [
    "# 콜라츠의 추측\n",
    "'''\n",
    "자연수 n에 대하여,\n",
    "n이 짝수이면 n을 2로 나누고,\n",
    "n이 홀수이면 3을 곱하고 1을 더한다.\n",
    "n이 1이면 계산을 멈춘다.\n",
    "이런 식의 계산을 반복하면 어떤 자연수든 반드시 1이 된다.\n",
    "'''\n",
    "\n",
    "def collatz(n):\n",
    "    seq = [n]       # 수 들을 담을 리스트\n",
    "    \n",
    "    while n > 1:\n",
    "        if n % 2 == 0:        # n이 짝수일때\n",
    "            n = n // 2\n",
    "        else:                 # n이 홀수일때\n",
    "            n = 3 * n + 1\n",
    "            \n",
    "        seq.append(n)\n",
    "        \n",
    "    return seq               # 콜라츠의 수열\n",
    "\n",
    "collatz(10)"
   ]
  },
  {
   "cell_type": "code",
   "execution_count": 16,
   "metadata": {},
   "outputs": [
    {
     "name": "stdout",
     "output_type": "stream",
     "text": [
      "[1]\n",
      "[2, 1]\n",
      "[3, 10, 5, 16, 8, 4, 2, 1]\n",
      "[4, 2, 1]\n",
      "[5, 16, 8, 4, 2, 1]\n",
      "[6, 3, 10, 5, 16, 8, 4, 2, 1]\n",
      "[7, 22, 11, 34, 17, 52, 26, 13, 40, 20, 10, 5, 16, 8, 4, 2, 1]\n",
      "[8, 4, 2, 1]\n",
      "[9, 28, 14, 7, 22, 11, 34, 17, 52, 26, 13, 40, 20, 10, 5, 16, 8, 4, 2, 1]\n",
      "\n",
      "1 2 8 3 6 9 17 4 20 7 15 10 10 18 18 5 13 21 21 8 8 16 16 11 24 11 112 19 19 19 107 6 27 14 14 22 22 22 35 9 110 9 30 17 17 17 105 12 25 25 25 12 12 113 113 20 33 20 33 20 20 108 108 7 28 28 28 15 15 15 103 23 116 23 15 23 23 36 36 10 23 111 111 10 10 31 31 18 31 18 93 18 18 106 106 13 119 26 26 "
     ]
    }
   ],
   "source": [
    "# 콜라츠의 추측\n",
    "\n",
    "for n in range(1, 10):\n",
    "    print(collatz(n))\n",
    "print()\n",
    "\n",
    "for n in range(1, 100):\n",
    "    print(len(collatz(n)), end=' ')"
   ]
  },
  {
   "cell_type": "code",
   "execution_count": 17,
   "metadata": {},
   "outputs": [
    {
     "name": "stdout",
     "output_type": "stream",
     "text": [
      "[322, 161, 484, 242, 121, 364, 182, 91, 274, 137, 412, 206, 103, 310, 155, 466, 233, 700, 350, 175, 526, 263, 790, 395, 1186, 593, 1780, 890, 445, 1336, 668, 334, 167, 502, 251, 754, 377, 1132, 566, 283, 850, 425, 1276, 638, 319, 958, 479, 1438, 719, 2158, 1079, 3238, 1619, 4858, 2429, 7288, 3644, 1822, 911, 2734, 1367, 4102, 2051, 6154, 3077, 9232, 4616, 2308, 1154, 577, 1732, 866, 433, 1300, 650, 325, 976, 488, 244, 122, 61, 184, 92, 46, 23, 70, 35, 106, 53, 160, 80, 40, 20, 10, 5, 16, 8, 4, 2, 1]\n",
      "길이가 100인 가장 작은 수 : 322\n"
     ]
    }
   ],
   "source": [
    "# 콜라츠의 추측\n",
    "# 콜라츠 수열의 길이가 100인 숫자들 중에서 가장 작은 수는?\n",
    "\n",
    "n = 0\n",
    "\n",
    "while True:         # 무한루프\n",
    "    n += 1           # n을 1씩 증가시킨다.\n",
    "    halestone = collatz(n)\n",
    "    if len(halestone) == 100:       # 콜라츠 수열의 길이가 100면 멈춘다.\n",
    "        break\n",
    "\n",
    "print(halestone)\n",
    "print('길이가 100인 가장 작은 수 :', n)"
   ]
  },
  {
   "cell_type": "code",
   "execution_count": 19,
   "metadata": {},
   "outputs": [
    {
     "name": "stdout",
     "output_type": "stream",
     "text": [
      "콜라츠 수열의 길이가 가장 긴 수 : 6171\n",
      "길이 : 262\n"
     ]
    }
   ],
   "source": [
    "# 콜라츠의 추측\n",
    "# 10000 이하의 자연수 중에서 콜라츠 수열의 길이가 가장 긴 수는? 그리고 그 길이는?\n",
    "\n",
    "max = 0\n",
    "c_length = 0\n",
    "\n",
    "for n in range(1, 10001):\n",
    "    if len(collatz(n)) > c_length:     # 콜라츠 수열의 길이가 가장 길면\n",
    "        max = n                        # 가장 긴 수를 바꿔준다.\n",
    "        c_length = len(collatz(n))     # 길이의 값을 바꿔준다.\n",
    "    \n",
    "print('콜라츠 수열의 길이가 가장 긴 수 :', max)\n",
    "print('길이 :', c_length)"
   ]
  },
  {
   "cell_type": "code",
   "execution_count": 21,
   "metadata": {},
   "outputs": [
    {
     "name": "stdout",
     "output_type": "stream",
     "text": [
      "509\n",
      "길이가 500보다 큰 첫번째 자연수 : 626331\n"
     ]
    }
   ],
   "source": [
    "# 콜라츠의 추측\n",
    "# 콜라츠 수열의 길이가 500보다 큰 첫번째 자연수는?\n",
    "\n",
    "n = 0\n",
    "\n",
    "while True:\n",
    "    n += 1\n",
    "    halestone = collatz(n)\n",
    "    if len(halestone) > 500: \n",
    "        break\n",
    "\n",
    "print(len(halestone))\n",
    "print('길이가 500보다 큰 첫번째 자연수 :', n)"
   ]
  },
  {
   "cell_type": "code",
   "execution_count": 22,
   "metadata": {},
   "outputs": [
    {
     "name": "stdout",
     "output_type": "stream",
     "text": [
      "[509, 504, 525, 507, 502, 528, 528, 510, 510, 523]\n",
      "길이가 500보다 큰 열번째 자연수의 콜라츠 수열 길이 : 523\n"
     ]
    }
   ],
   "source": [
    "# 콜라츠의 추측\n",
    "# 콜라츠 수열의 길이가 500보다 큰 열번째 자연수의 콜라츠 수열 길이는?\n",
    "\n",
    "n = 0\n",
    "c_list = []\n",
    "\n",
    "while True:\n",
    "    n += 1\n",
    "    halestone = collatz(n)\n",
    "    if len(halestone) > 500: \n",
    "        c_list.append(len(halestone))\n",
    "    \n",
    "    if len(c_list) == 10:\n",
    "        break\n",
    "\n",
    "print(c_list)\n",
    "print('길이가 500보다 큰 열번째 자연수의 콜라츠 수열 길이 :', c_list[-1])"
   ]
  },
  {
   "cell_type": "code",
   "execution_count": 24,
   "metadata": {},
   "outputs": [
    {
     "name": "stdout",
     "output_type": "stream",
     "text": [
      "길이가 500보다 큰 열번째 자연수의 콜라츠 수열 길이 : 523\n"
     ]
    }
   ],
   "source": [
    "# 콜라츠의 추측\n",
    "# 콜라츠 수열의 길이가 500보다 큰 열번째 자연수의 콜라츠 수열 길이는?\n",
    "\n",
    "n = 0\n",
    "count = 0\n",
    "\n",
    "while True:\n",
    "    n += 1\n",
    "    if len(collatz(n)) > 500: \n",
    "        count += 1\n",
    "    \n",
    "    if count == 10:\n",
    "        halestone = len(collatz(n))\n",
    "        break\n",
    "        \n",
    "print('길이가 500보다 큰 열번째 자연수의 콜라츠 수열 길이 :', halestone)"
   ]
  }
 ],
 "metadata": {
  "kernelspec": {
   "display_name": "Python 3",
   "language": "python",
   "name": "python3"
  },
  "language_info": {
   "codemirror_mode": {
    "name": "ipython",
    "version": 3
   },
   "file_extension": ".py",
   "mimetype": "text/x-python",
   "name": "python",
   "nbconvert_exporter": "python",
   "pygments_lexer": "ipython3",
   "version": "3.8.5"
  }
 },
 "nbformat": 4,
 "nbformat_minor": 4
}
