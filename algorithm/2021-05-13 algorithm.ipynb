{
 "cells": [
  {
   "cell_type": "code",
   "execution_count": 2,
   "metadata": {},
   "outputs": [
    {
     "name": "stdout",
     "output_type": "stream",
     "text": [
      "2024 2 7\n"
     ]
    }
   ],
   "source": [
    "# 날짜 구하기\n",
    "'''\n",
    "우리 천일 후에 만나자!\n",
    "사랑했던 그녀가 그렇게 말하고 던전 속으로 사라져 버렸다. 홀로 남은 나는 생각했다. \n",
    "어디 보자, 천일 후면 날짜가...\n",
    "'''\n",
    "\n",
    "# 윤년 확인 함수\n",
    "def leapyear(y):\n",
    "    if (y % 4 == 0 and y % 100 != 0) or y % 400 == 0:\n",
    "        return True\n",
    "    \n",
    "    else:\n",
    "        return False\n",
    "    \n",
    "# 해당 월의 날짜 확인 함수\n",
    "def invalidDay(y, m, d):    # 해당 월의 마지막 날을 넘겼는지 확인\n",
    "    days = 31    # 마지막 날이 31일 까지인 월이 가장 많다.\n",
    "    \n",
    "    if m in [4, 6, 9, 11]:   # 마지막 날이 30인 월\n",
    "        days = 30\n",
    "        \n",
    "    if m == 2:               # 2월인지 확인\n",
    "        if leapyear(y):      # 윤년 확인\n",
    "            days = 29\n",
    "        else:\n",
    "            days = 28\n",
    "            \n",
    "    if d > days:             # 받은 날이 해당 월의 마지막 날보다 큰 지 확인\n",
    "        return True\n",
    "    else:\n",
    "        return False\n",
    "    \n",
    "# n일 후의 날짜 구하기\n",
    "year = 2021\n",
    "month = 5\n",
    "day = 13\n",
    "n = 1000\n",
    "\n",
    "for _ in range(n):\n",
    "    day += 1       # n일 후의 날 까지 하루씩 추가   \n",
    "    \n",
    "    if invalidDay(year, month, day):   # 하루씩 추가 된 날이 해당 월의 마지막 날을 넘었는지 확인\n",
    "        day = 1                        # 추가된 날짜가 해당 월의 마지막 날을 넘으면 일을 1일로 변경하고 월 추가\n",
    "        month += 1         \n",
    "        \n",
    "        if month > 12:     # 월이 12월을 넘으면 다시 1월로 변경하고 년도를 추가\n",
    "            month = 1\n",
    "            year += 1\n",
    "            \n",
    "print(year, month, day)"
   ]
  },
  {
   "cell_type": "code",
   "execution_count": 7,
   "metadata": {},
   "outputs": [
    {
     "name": "stdout",
     "output_type": "stream",
     "text": [
      "2024-02-07\n"
     ]
    }
   ],
   "source": [
    "# n일 후의 날짜 구하기 - datetime 사용\n",
    "import datetime\n",
    "\n",
    "year = 2021\n",
    "month = 5\n",
    "day = 13\n",
    "n = 1000\n",
    "\n",
    "day = datetime.date(year, month, day)\n",
    "theday = day + datetime.timedelta(n)\n",
    "\n",
    "print(theday)"
   ]
  }
 ],
 "metadata": {
  "kernelspec": {
   "display_name": "Python 3",
   "language": "python",
   "name": "python3"
  },
  "language_info": {
   "codemirror_mode": {
    "name": "ipython",
    "version": 3
   },
   "file_extension": ".py",
   "mimetype": "text/x-python",
   "name": "python",
   "nbconvert_exporter": "python",
   "pygments_lexer": "ipython3",
   "version": "3.8.5"
  }
 },
 "nbformat": 4,
 "nbformat_minor": 4
}
