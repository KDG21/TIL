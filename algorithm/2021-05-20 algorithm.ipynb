{
 "cells": [
  {
   "cell_type": "markdown",
   "metadata": {},
   "source": [
    "## 마방진(Magic Square)\n",
    "* 마방진 : 행과 열, 대각선 숫자의 합이 모두 같은 정사각형 행렬\n",
    "* 행렬(Matrix) : 직사각형의 행(row)과 열(column)에 숫자를 배치"
   ]
  },
  {
   "cell_type": "code",
   "execution_count": 9,
   "metadata": {},
   "outputs": [
    {
     "name": "stdout",
     "output_type": "stream",
     "text": [
      "4\n",
      "[11, 7, 6, 9]\n",
      "5\n"
     ]
    }
   ],
   "source": [
    "# 마방진\n",
    "\n",
    "magicSquare = [\n",
    "  [1, 14, 14, 4],\n",
    "  [11, 7, 6, 9],\n",
    "  [8, 10, 10, 5],\n",
    "  [13, 2, 3, 15]\n",
    "]\n",
    "\n",
    "print(len(magicSquare))\n",
    "print(magicSquare[1])\n",
    "print(magicSquare[2][3])"
   ]
  },
  {
   "cell_type": "markdown",
   "metadata": {},
   "source": [
    "### 1. 이차원 배열이 마방진인지 확인"
   ]
  },
  {
   "cell_type": "code",
   "execution_count": 21,
   "metadata": {},
   "outputs": [
    {
     "name": "stdout",
     "output_type": "stream",
     "text": [
      "33 33 33 33 \n",
      "33 33 33 33 \n",
      "33 33\n"
     ]
    }
   ],
   "source": [
    "# 이차원 배열이 마방진인지 확인\n",
    "\n",
    "# 이차원 배열의 로우의 값을 더해서 값이 같은지 확인\n",
    "def checkRow(square):\n",
    "    for row in range(len(square)):\n",
    "        sum = 0\n",
    "        for col in range(len(square)):\n",
    "            sum += square[row][col]   # 각 로우의 컬럼 값을 더한다.\n",
    "        print(sum, end=' ')\n",
    "    print()\n",
    "\n",
    "# 이차원 배열의 칼럼의 값을 더해서 값이 같은지 확인\n",
    "def checkCol(square):\n",
    "    for col in range(len(square)):\n",
    "        sum = 0\n",
    "        for row in range(len(square)):\n",
    "            sum += square[col][row]   # 각 컬럼의 로우 값을 더한다.\n",
    "        print(sum, end=' ')\n",
    "    print()\n",
    "\n",
    "# 이차원 배열의 대각선의 값을 더해서 값이 같은지 확인\n",
    "def checkDiagonal(square):\n",
    "    sum = 0\n",
    "    for d in range(len(square)):\n",
    "        sum += square[d][d]   # 왼쪽 시작 대각선은 [0][0]처럼 같은 로우의 같은 컬럼 값이다.\n",
    "    print(sum, end=' ')\n",
    "    \n",
    "    sum = 0   # 오른쪽 시작 대각선 값을 구하기 위해 초기화\n",
    "    for d in range(len(square)):\n",
    "        d2 = len(square) -1 -d   # 오른쪽 시작 대각선을 구해야하기 때문에 d2값을 지정해준다.\n",
    "        sum += square[d][d2]   # [0][3], [1][2],,, 처럼 로우값은 늘리고 컬럼값을 줄여나가며 값을 더해준다. \n",
    "    print(sum)\n",
    "    \n",
    "checkRow(magicSquare)\n",
    "checkCol(magicSquare)\n",
    "checkDiagonal(magicSquare)"
   ]
  },
  {
   "cell_type": "code",
   "execution_count": 22,
   "metadata": {},
   "outputs": [
    {
     "data": {
      "text/plain": [
       "True"
      ]
     },
     "execution_count": 22,
     "metadata": {},
     "output_type": "execute_result"
    }
   ],
   "source": [
    "# 이차원 배열이 마방진인지 확인\n",
    "\n",
    "def checkMagic(square):\n",
    "    magic = 0\n",
    "    for i in range(len(square)):\n",
    "        magic += square[0][i]   # 로우, 칼럼, 대각선의 길이가 다 같은지 확인하기 위한 설정값\n",
    "        \n",
    "    for i in range(len(square)):\n",
    "        rsum = 0   # 로우 값\n",
    "        csum = 0   # 칼럼 값\n",
    "        for j in range(len(square)):\n",
    "            rsum += square[i][j]   # 각 로우의 칼럼 값을 더한다.\n",
    "            csum += square[j][i]   # 각 칼럼의 로우 값을 더한다.\n",
    "        if rsum != magic or csum != magic:   # 더한값이 앞에서 구한 설정값과 다르면 마방진이 아니다.\n",
    "            return False\n",
    "        \n",
    "    dsum = 0\n",
    "    d2sum = 0\n",
    "    for d in range(len(square)):\n",
    "        d2 = len(square) -1 -d\n",
    "        dsum += square[d][d]   # 왼쪽 시작 대각선 값을 더한다.\n",
    "        d2sum += square[d][d2]   # 오른쪽 시작 대각선 갑을 더한다.\n",
    "        \n",
    "    if dsum != magic or d2sum != magic:   # 더한값이 앞에서 구한 설정값과 다르면 마방진이 아니다.\n",
    "        return False\n",
    "    \n",
    "    return True   # 더한 값이 앞에서 구한 설정값과 다 같다면 마방진이다.\n",
    "\n",
    "checkMagic(magicSquare)"
   ]
  },
  {
   "cell_type": "markdown",
   "metadata": {},
   "source": [
    "### 2. 마방진 만들기\n",
    "* n x n 마방진 만들기 (n은 홀수)\n",
    "  * 첫번째 열의 가운데 행을 1로 채움\n",
    "  \n",
    "  * 해당 위치에서 한 칸 왼쪽, 한 칸 위쪽으로 이동\n",
    "    - 칸을 벗어나면 그 줄의 반대쪽으로 이동\n",
    "    \n",
    "  * 이동할 위치에 숫자가 이미 있으면 한 칸 아래로 이동\n",
    "    - 이동할 위치에 숫자가 없으면 이동해서 숫자를 채움\n",
    "    \n",
    "  * 위 과정을 반복\n",
    "  \n",
    "  * 만약 5x5 마방진이면 1 부터 25까지의 숫자로 채움"
   ]
  },
  {
   "cell_type": "code",
   "execution_count": 31,
   "metadata": {},
   "outputs": [
    {
     "name": "stdout",
     "output_type": "stream",
     "text": [
      "True\n"
     ]
    },
    {
     "data": {
      "text/plain": [
       "[[15, 8, 1, 24, 17],\n",
       " [16, 14, 7, 5, 23],\n",
       " [22, 20, 13, 6, 4],\n",
       " [3, 21, 19, 12, 10],\n",
       " [9, 2, 25, 18, 11]]"
      ]
     },
     "execution_count": 31,
     "metadata": {},
     "output_type": "execute_result"
    }
   ],
   "source": [
    "# 마방진 만들기\n",
    "\n",
    "def makeMagicSquare(n):\n",
    "    square = [[0] * n for _ in range(n)]   # n x n 마방진 초기값 설정\n",
    "    \n",
    "    # 처음 1의 위치 설정값\n",
    "    row = 0\n",
    "    col = n // 2\n",
    "    \n",
    "    for k in range(1, n*n+1):\n",
    "        square[row][col] = k\n",
    "        # 해당 위치에서 한 칸 왼쪽, 한 칸 위쪽으로 이동\n",
    "        row -= 1\n",
    "        col -= 1\n",
    "        \n",
    "        # 칸을 벗어나면 그 줄의 반대쪽으로 이동\n",
    "        if row < 0:\n",
    "            row += n\n",
    "            \n",
    "        if col < 0:\n",
    "            col += n\n",
    "        \n",
    "        # 이동할 위치에 숫자가 이미 있으면 한 칸 아래로 이동\n",
    "        if square[row][col] > 0:\n",
    "            row = ( row + 2 ) % n   # 인덱스를 벗어나지 않게 설정\n",
    "            col = ( col + 1 ) % n\n",
    "            \n",
    "    return square\n",
    "\n",
    "print(checkMagic(makeMagicSquare(5)))\n",
    "makeMagicSquare(5)"
   ]
  }
 ],
 "metadata": {
  "kernelspec": {
   "display_name": "Python 3",
   "language": "python",
   "name": "python3"
  },
  "language_info": {
   "codemirror_mode": {
    "name": "ipython",
    "version": 3
   },
   "file_extension": ".py",
   "mimetype": "text/x-python",
   "name": "python",
   "nbconvert_exporter": "python",
   "pygments_lexer": "ipython3",
   "version": "3.8.5"
  }
 },
 "nbformat": 4,
 "nbformat_minor": 4
}
