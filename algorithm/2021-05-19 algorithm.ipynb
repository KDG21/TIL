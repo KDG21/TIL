{
 "cells": [
  {
   "cell_type": "markdown",
   "metadata": {},
   "source": [
    "## 로마에서는 로마의 숫자를\n",
    "### * 문제\n",
    "아라비아의 숫자로 표기된 자연수 n에 대하여, 다음과 같이 로마 숫자로 표기해 보세요.\n",
    "\n",
    "> 369, 80, 29, 155, 14, 492, 348, 301, 469, 499<br>\n",
    "-> CCCLXIX, LXXX, XXIX, CLV, XIV, CDXCII, CCCXLVIII, CCCI, CDLXIX, CDXCIX"
   ]
  },
  {
   "cell_type": "code",
   "execution_count": 6,
   "metadata": {},
   "outputs": [
    {
     "name": "stdout",
     "output_type": "stream",
     "text": [
      "{1: 'I', 5: 'V', 10: 'X', 50: 'L', 100: 'C', 500: 'D', 1000: 'M'}\n",
      "dict_keys([1, 5, 10, 50, 100, 500, 1000])\n",
      "dict_values(['I', 'V', 'X', 'L', 'C', 'D', 'M'])\n",
      "dict_items([(1, 'I'), (5, 'V'), (10, 'X'), (50, 'L'), (100, 'C'), (500, 'D'), (1000, 'M')])\n",
      "1 : I\n",
      "5 : V\n",
      "10 : X\n",
      "50 : L\n",
      "100 : C\n",
      "500 : D\n",
      "1000 : M\n"
     ]
    }
   ],
   "source": [
    "# 아라비아 숫자를 로마 숫자로 바꾸기\n",
    "\n",
    "romanDict = {1:'I', 5:'V', 10:'X', 50:'L', 100:'C', 500:'D', 1000:'M'}\n",
    "\n",
    "print(romanDict)\n",
    "print(romanDict.keys())\n",
    "print(romanDict.values())\n",
    "print(romanDict.items())\n",
    "\n",
    "for key in romanDict.keys():\n",
    "    print(key, ':', romanDict[key])"
   ]
  },
  {
   "cell_type": "code",
   "execution_count": 14,
   "metadata": {},
   "outputs": [
    {
     "name": "stdout",
     "output_type": "stream",
     "text": [
      "CCCLXIX LXXX XXIX CLV XIV CDXCII CCCXLVIII CCCI CDLXIX CDXCIX "
     ]
    }
   ],
   "source": [
    "# 아라비아 숫자를 로마 숫자로 바꾸기\n",
    "\n",
    "romanDict = {1:'I', 4:'IV', 5:'V', 9:'IX', 10:'X', 40:'XL', 50:'L', 90:'XC', 100:'C', 400:'CD', 500:'D', 900:'CM', 1000:'M'}\n",
    "keyValues = [1000, 900, 500, 400, 100, 90, 50, 40, 10, 9, 5, 4, 1]\n",
    "\n",
    "def toRomanNumber(n):\n",
    "    str = \"\"\n",
    "    for i in range(len(keyValues)):\n",
    "        while n >= keyValues[i]:     # keyValues의 값들을 하나씩 돌면서 n의 값을 확인하고 크면 반복문 실행\n",
    "            str += romanDict[keyValues[i]]   # keyValues값에 해당되는 romanDict의 value값을 str에 더한다.\n",
    "            n -= keyValues[i]   # 인자로 받은 n의 값을 keyValues값으로 뺀다. 그리고 0이 될 때 까지 반복\n",
    "    \n",
    "    return str\n",
    "\n",
    "Q = [369, 80, 29, 155, 14, 492, 348, 301, 469, 499]\n",
    "\n",
    "for i in Q:\n",
    "    print(toRomanNumber(i), end=' ')"
   ]
  },
  {
   "cell_type": "markdown",
   "metadata": {},
   "source": [
    "## 스무고개\n",
    "### * 문제\n",
    "1000이하의 자연수 n을 아무거나 하나 생각할테니, 스무고개 놀이를 시작해보자.\n",
    "여기서 **아무거나**는 랜덤의 숫자를 얘기한다. \n",
    "\n",
    "* 문제의 정의\n",
    "랜덤의 숫자 n을 맞춰보자!\n",
    "\n",
    "* 문제의 분석\n",
    "  * 랜덤의 숫자를 난수라고 부르고 파이썬에서 난수를 구하는 방법은 random 모듈의 `randint(a, b)` 함수를 사용한다.\n",
    "```python\n",
    "import random\n",
    "answer = random.randint(1, 1000)  # 1이상이고 1000이하인 난수\n",
    "```\n",
    "  * 답을 구하는 방법\n",
    "    - 답의 범위를 좁혀가는 방법 : 1부터 1000이라고 했을 때 범위의 중간 값을 구하고 중간 값보다 큰 지 확인해서 범위를 좁혀 나간다."
   ]
  },
  {
   "cell_type": "code",
   "execution_count": 16,
   "metadata": {},
   "outputs": [
    {
     "name": "stdout",
     "output_type": "stream",
     "text": [
      "538\n",
      "538\n"
     ]
    }
   ],
   "source": [
    "# 스무고개 답 구하기\n",
    "import random\n",
    "\n",
    "def guess(answer):\n",
    "    start = 1\n",
    "    end = 1000\n",
    "    \n",
    "    while start < end:  # 시작값과 끝값의 범위를 좁혀나가 둘의 값이 같아지거나 start 값이 커지면 반복을 종료한다.\n",
    "        mid = (start + end) // 2   # 중간값을 구한다.\n",
    "        if mid < answer:      # 중간값과 난수를 비교해서 범위를 좁혀나간다.\n",
    "            start = mid + 1   # 중간값보다 난수값이 크면 start값을 좁히고\n",
    "            \n",
    "        else:\n",
    "            end = mid         # 중간값보다 난수값이 작으면 end값을 좁힌다. 이 과정을 계속 반복\n",
    "            \n",
    "    return start\n",
    "\n",
    "answer = random.randint(1, 1000)\n",
    "print(answer)\n",
    "print(guess(answer))"
   ]
  }
 ],
 "metadata": {
  "kernelspec": {
   "display_name": "Python 3",
   "language": "python",
   "name": "python3"
  },
  "language_info": {
   "codemirror_mode": {
    "name": "ipython",
    "version": 3
   },
   "file_extension": ".py",
   "mimetype": "text/x-python",
   "name": "python",
   "nbconvert_exporter": "python",
   "pygments_lexer": "ipython3",
   "version": "3.8.5"
  }
 },
 "nbformat": 4,
 "nbformat_minor": 4
}
