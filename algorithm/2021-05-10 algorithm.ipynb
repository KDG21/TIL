{
 "cells": [
  {
   "cell_type": "code",
   "execution_count": 2,
   "metadata": {},
   "outputs": [
    {
     "name": "stdout",
     "output_type": "stream",
     "text": [
      "7 은 소수입니다.\n"
     ]
    }
   ],
   "source": [
    "# 소수 판별\n",
    "\n",
    "n = 7\n",
    "is_prime = True\n",
    "\n",
    "for i in range(2, n):       # 소수는 1과 자기 자신만 갖기 때문에 2부터 n-1까지의 값만 확인하면 된다.\n",
    "    if n % i == 0:          # 약수이기 때문에 소수가 아니다.\n",
    "        is_prime = False   \n",
    "        break               # 하나의 약수만 나와도 소수가 아니기 때문에 for문을 더 할 필요가 없다.\n",
    "    \n",
    "if is_prime:\n",
    "    print(n, '은 소수입니다.')\n",
    "    \n",
    "else:\n",
    "    print(n, '은 합성수입니다.')"
   ]
  },
  {
   "cell_type": "code",
   "execution_count": 1,
   "metadata": {},
   "outputs": [
    {
     "name": "stdout",
     "output_type": "stream",
     "text": [
      "127 은 소수입니다.\n",
      "1023 은 합성수입니다.\n",
      "2333 은 소수입니다.\n",
      "2337 은 합성수입니다.\n",
      "8191 은 소수입니다.\n",
      "10867 은 소수입니다.\n",
      "10869 은 합성수입니다.\n"
     ]
    }
   ],
   "source": [
    "# 소수 판별\n",
    "\n",
    "def isPrime(n):\n",
    "    for i in range(2, n):\n",
    "        if (n % i == 0):\n",
    "            return False\n",
    "    return True\n",
    "    \n",
    "# 함수 사용해서 풀기\n",
    "numbers2 = [127, 1023, 2333, 2337, 8191, 10867, 10869]\n",
    "\n",
    "for n in numbers2:\n",
    "    if isPrime(n):\n",
    "        print(n, '은 소수입니다.')\n",
    "    else:\n",
    "        print(n, '은 합성수입니다.')"
   ]
  },
  {
   "cell_type": "code",
   "execution_count": 6,
   "metadata": {},
   "outputs": [
    {
     "name": "stdout",
     "output_type": "stream",
     "text": [
      "127 은 소수입니다.\n",
      "1023 은 합성수입니다.\n",
      "2333 은 소수입니다.\n",
      "2337 은 합성수입니다.\n",
      "8191 은 소수입니다.\n",
      "10867 은 소수입니다.\n",
      "10869 은 합성수입니다.\n"
     ]
    }
   ],
   "source": [
    "# 소수 판별\n",
    "\n",
    "import math\n",
    "\n",
    "def isPrime2(n):\n",
    "    for i in range(2, math.floor(math.sqrt(n))+1):   # 루트n 까지만 확인\n",
    "        if (n % i == 0):\n",
    "            return False\n",
    "    return True\n",
    "    \n",
    "# 함수 사용해서 풀기\n",
    "numbers2 = [127, 1023, 2333, 2337, 8191, 10867, 10869]\n",
    "\n",
    "for n in numbers2:\n",
    "    if isPrime2(n):\n",
    "        print(n, '은 소수입니다.')\n",
    "    else:\n",
    "        print(n, '은 합성수입니다.')"
   ]
  },
  {
   "cell_type": "code",
   "execution_count": 7,
   "metadata": {},
   "outputs": [
    {
     "name": "stdout",
     "output_type": "stream",
     "text": [
      "[2, 3, 5, 7, 11, 13, 17, 19, 23, 29, 31, 37, 41, 43, 47, 53, 59, 61, 67, 71, 73, 79, 83, 89, 97]\n"
     ]
    }
   ],
   "source": [
    "# 소수 판별\n",
    "\n",
    "primes = []\n",
    "\n",
    "for i in range(2, 101):    # 100까지\n",
    "    if not isPrime2(i):    # isPrime2가 False이면 즉, 합성수이면 무시하고 계속 반복을 진행해라\n",
    "        continue\n",
    "    primes.append(i)        # 합성수가 아니면 즉, 소수이면 primes에 추가\n",
    "    \n",
    "print(primes)"
   ]
  },
  {
   "cell_type": "code",
   "execution_count": 8,
   "metadata": {
    "scrolled": false
   },
   "outputs": [
    {
     "name": "stdout",
     "output_type": "stream",
     "text": [
      "[2, 3, 5, 7, 11, 13, 17, 19, 23, 29, 31, 37, 41, 43, 47, 53, 59, 61, 67, 71, 73, 79, 83, 89, 97, 101, 103, 107, 109, 113, 127, 131, 137, 139, 149, 151, 157, 163, 167, 173, 179, 181, 191, 193, 197, 199, 211, 223, 227, 229, 233, 239, 241, 251, 257, 263, 269, 271, 277, 281, 283, 293, 307, 311, 313, 317, 331, 337, 347, 349, 353, 359, 367, 373, 379, 383, 389, 397, 401, 409, 419, 421, 431, 433, 439, 443, 449, 457, 461, 463, 467, 479, 487, 491, 499, 503, 509, 521, 523, 541, 547, 557, 563, 569, 571, 577, 587, 593, 599, 601, 607, 613, 617, 619, 631, 641, 643, 647, 653, 659, 661, 673, 677, 683, 691, 701, 709, 719, 727, 733, 739, 743, 751, 757, 761, 769, 773, 787, 797, 809, 811, 821, 823, 827, 829, 839, 853, 857, 859, 863, 877, 881, 883, 887, 907, 911, 919, 929, 937, 941, 947, 953, 967, 971, 977, 983, 991, 997]\n",
      "168\n"
     ]
    }
   ],
   "source": [
    "# 소수 판별\n",
    "# 1보다 크고 1000보다 작은 소수는 모두 몇개인가?\n",
    "\n",
    "primes = []\n",
    "\n",
    "for i in range(2, 1000):\n",
    "    if not isPrime2(i):\n",
    "        continue\n",
    "    primes.append(i)\n",
    "    \n",
    "print(primes)\n",
    "print(len(primes))"
   ]
  },
  {
   "cell_type": "code",
   "execution_count": 29,
   "metadata": {},
   "outputs": [
    {
     "data": {
      "text/plain": [
       "7"
      ]
     },
     "execution_count": 29,
     "metadata": {},
     "output_type": "execute_result"
    }
   ],
   "source": [
    "# 소수 판별\n",
    "# 1보다 큰 자연수 n이 주어졌을 때, n보다 작은 소수의 개수를 구하는 함수를 만들어보자\n",
    "\n",
    "import math\n",
    "\n",
    "def isPrime3(n):\n",
    "    primes = []\n",
    "    \n",
    "    for i in range(2, n):\n",
    "        check = True\n",
    "        for j in range(2, math.floor(math.sqrt(i))+1):\n",
    "            if i % j == 0:\n",
    "                check = False\n",
    "                break\n",
    "                \n",
    "        if check:    \n",
    "            primes.append(i)\n",
    "        \n",
    "    return len(primes)\n",
    "\n",
    "isPrime3(18)"
   ]
  },
  {
   "cell_type": "code",
   "execution_count": 42,
   "metadata": {},
   "outputs": [
    {
     "name": "stdout",
     "output_type": "stream",
     "text": [
      "baaa\n",
      "A\n"
     ]
    }
   ],
   "source": [
    "# 백준 1157\n",
    "\n",
    "S = input().lower()\n",
    "check = set(S)\n",
    "max = 0\n",
    "answer = 'o'\n",
    "\n",
    "for i in check:\n",
    "    c = S.count(i)\n",
    "    if c == max:\n",
    "        answer = '?'\n",
    "    \n",
    "    if c > max:\n",
    "        max = c\n",
    "        answer = i.upper()\n",
    "        \n",
    "print(answer)"
   ]
  }
 ],
 "metadata": {
  "kernelspec": {
   "display_name": "Python 3",
   "language": "python",
   "name": "python3"
  },
  "language_info": {
   "codemirror_mode": {
    "name": "ipython",
    "version": 3
   },
   "file_extension": ".py",
   "mimetype": "text/x-python",
   "name": "python",
   "nbconvert_exporter": "python",
   "pygments_lexer": "ipython3",
   "version": "3.8.5"
  }
 },
 "nbformat": 4,
 "nbformat_minor": 4
}
