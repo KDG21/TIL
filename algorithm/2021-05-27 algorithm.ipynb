{
 "cells": [
  {
   "cell_type": "markdown",
   "metadata": {},
   "source": [
    "## 재귀 함수"
   ]
  },
  {
   "cell_type": "code",
   "execution_count": 4,
   "metadata": {},
   "outputs": [
    {
     "name": "stdout",
     "output_type": "stream",
     "text": [
      "[9, 8, 7, 6, 5, 4, 3, 2, 1]\n"
     ]
    }
   ],
   "source": [
    "# 리스트 뒤집기\n",
    "\n",
    "def flip(some_list):\n",
    "    if len(some_list) < 2:\n",
    "        return some_list\n",
    "    \n",
    "    return some_list[-1:] + flip(some_list[:-1])\n",
    "    \n",
    "    \n",
    "some_list = [1, 2, 3, 4, 5, 6, 7, 8, 9]\n",
    "some_list = flip(some_list)\n",
    "print(some_list)"
   ]
  },
  {
   "cell_type": "code",
   "execution_count": 1,
   "metadata": {},
   "outputs": [
    {
     "name": "stdout",
     "output_type": "stream",
     "text": [
      "0\n",
      "None\n",
      "2\n",
      "1\n",
      "4\n"
     ]
    }
   ],
   "source": [
    "# 이진 탐색 재귀로 구현해보기\n",
    "\n",
    "def binary_search(element, some_list, start_index=0, end_index=None):\n",
    "    if end_index == None:\n",
    "        end_index = len(some_list) - 1\n",
    "        \n",
    "    if start_index > end_index:\n",
    "        return None\n",
    "\n",
    "    mid_index = (start_index + end_index) // 2\n",
    "    \n",
    "    if element == some_list[mid_index]:\n",
    "        return mid_index\n",
    "    \n",
    "    if element > some_list[mid_index]:\n",
    "        return binary_search(element, some_list, mid_index+1, end_index)\n",
    "    \n",
    "    if element < some_list[mid_index]:\n",
    "        return binary_search(element, some_list, start_index, mid_index-1) \n",
    "        \n",
    "print(binary_search(2, [2, 3, 5, 7, 11]))\n",
    "print(binary_search(0, [2, 3, 5, 7, 11]))\n",
    "print(binary_search(5, [2, 3, 5, 7, 11]))\n",
    "print(binary_search(3, [2, 3, 5, 7, 11]))\n",
    "print(binary_search(11, [2, 3, 5, 7, 11]))"
   ]
  },
  {
   "cell_type": "code",
   "execution_count": 5,
   "metadata": {},
   "outputs": [
    {
     "name": "stdout",
     "output_type": "stream",
     "text": [
      "1번 원판을 1번 기둥에서 3번 기둥으로 이동\n",
      "2번 원판을 1번 기둥에서 2번 기둥으로 이동\n",
      "1번 원판을 3번 기둥에서 2번 기둥으로 이동\n",
      "3번 원판을 1번 기둥에서 3번 기둥으로 이동\n",
      "1번 원판을 2번 기둥에서 1번 기둥으로 이동\n",
      "2번 원판을 2번 기둥에서 3번 기둥으로 이동\n",
      "1번 원판을 1번 기둥에서 3번 기둥으로 이동\n"
     ]
    }
   ],
   "source": [
    "# 하노이의 탑 : 왼쪽 기둥에 있는 원판들을 모두 오른쪽 기둥으로 옮기는 것\n",
    "'''\n",
    "규칙\n",
    "1. 한 번에 하나의 원판만 옮길 수 있다.\n",
    "2. 큰 원판이 작은 원판 위에 있어서는 안 된다.\n",
    "'''\n",
    "\n",
    "def move_disk(disk_num, start_peg, end_peg):\n",
    "    print(\"%d번 원판을 %d번 기둥에서 %d번 기둥으로 이동\" % (disk_num, start_peg, end_peg))\n",
    "\n",
    "def hanoi(num_disks, start_peg, end_peg):\n",
    "    if num_disks == 0:\n",
    "        return\n",
    "    else:\n",
    "        other_peg = 6 - start_peg - end_peg\n",
    "        \n",
    "        hanoi(num_disks - 1, start_peg, other_peg)\n",
    "        move_disk(num_disks, start_peg, end_peg)\n",
    "        hanoi(num_disks - 1, other_peg, end_peg)\n",
    "    \n",
    "hanoi(3, 1, 3)"
   ]
  }
 ],
 "metadata": {
  "kernelspec": {
   "display_name": "Python 3",
   "language": "python",
   "name": "python3"
  },
  "language_info": {
   "codemirror_mode": {
    "name": "ipython",
    "version": 3
   },
   "file_extension": ".py",
   "mimetype": "text/x-python",
   "name": "python",
   "nbconvert_exporter": "python",
   "pygments_lexer": "ipython3",
   "version": "3.8.5"
  }
 },
 "nbformat": 4,
 "nbformat_minor": 4
}
