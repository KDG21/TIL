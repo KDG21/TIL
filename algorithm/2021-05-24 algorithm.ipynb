{
 "cells": [
  {
   "cell_type": "markdown",
   "metadata": {},
   "source": [
    "## 정렬(Sorting)\n",
    "* 원소들을 번호순이나 사전 순서와 같이 **일정한 순서대로 열거하는 것**\n",
    "\n",
    "* 정렬 알고리즘은 선택 정렬, 삽입 정렬 등등의 알고리즘이 있다."
   ]
  },
  {
   "cell_type": "markdown",
   "metadata": {},
   "source": [
    "### 1. 선택 정렬(Selection Sort)"
   ]
  },
  {
   "cell_type": "code",
   "execution_count": 7,
   "metadata": {},
   "outputs": [
    {
     "name": "stdout",
     "output_type": "stream",
     "text": [
      "[1, 2, 3, 4, 7, 9]\n",
      "[1, 9, 12, 13, 37, 41]\n"
     ]
    }
   ],
   "source": [
    "def selection_sort(list):\n",
    "    for i in range(len(list)):\n",
    "        min = list[i]   # 최소값을 구하기 위한 초기값 설정\n",
    "        \n",
    "        for j in range(i, len(list)):   # 반복문을 돌면서 값을 하나하나 비교해준다. 그러고 앞의 인덱스에 최소값이 들어갔으면 다음 인덱스부터 확인한다.\n",
    "            if list[j] < min:           # 만약 리스트 요소가 최소값보다 작으면 값을 변경해준다.\n",
    "                min = list[j]           # 최소값보다 작기 때문에 요소를 최소값으로 변경\n",
    "                list[j] = list[i]       # list[j]에 list[i]값을 넣고\n",
    "                list[i] = min           # list[i]에 최소값을 넣어 둘의 값을 바꾼다. 그러고 반복\n",
    "    \n",
    "    return list\n",
    "            \n",
    "s_list = [4, 2, 7, 1, 9, 3]\n",
    "print(selection_sort(s_list))\n",
    "\n",
    "s_list2 = [41, 12, 37, 1, 9, 13]\n",
    "print(selection_sort(s_list2))"
   ]
  },
  {
   "cell_type": "markdown",
   "metadata": {},
   "source": [
    "### 2. 삽입 정렬(Insertion Sort)"
   ]
  },
  {
   "cell_type": "code",
   "execution_count": 14,
   "metadata": {},
   "outputs": [
    {
     "name": "stdout",
     "output_type": "stream",
     "text": [
      "[1, 2, 3, 4, 7, 9]\n",
      "[1, 9, 12, 13, 37, 41]\n"
     ]
    }
   ],
   "source": [
    "def insertion_sort(list):\n",
    "    for i in range(1, len(list)):     # 0번 인덱스는 비교할 값이 업기 때문에 넘어가고 1번 인덱스 부터 시작한다.\n",
    "        for j in range(i, 0, -1):     # 특정 인덱스의 값을 가지고 비교 해야 하기 때문에 뒤에서 부터 앞으로 가면서 비교한다.\n",
    "            if list[j] < list[j-1]:   # 특정 인덱스의 값이 전 인덱스의 값과 비교해서 작은지 확인\n",
    "                list[j] = min  \n",
    "                list[j] = list[j-1]\n",
    "                list[j-1] = min       # 특정 인덱스의 값이 작다면 전 인덱스의 값과 바꿔주고 0번 인덱스의 값까지 반복\n",
    "                \n",
    "            else:\n",
    "                break\n",
    "                \n",
    "    return list\n",
    "\n",
    "s_list = [4, 2, 7, 1, 9, 3]\n",
    "print(selection_sort(s_list))\n",
    "\n",
    "s_list2 = [41, 12, 37, 1, 9, 13]\n",
    "print(selection_sort(s_list2))"
   ]
  }
 ],
 "metadata": {
  "kernelspec": {
   "display_name": "Python 3",
   "language": "python",
   "name": "python3"
  },
  "language_info": {
   "codemirror_mode": {
    "name": "ipython",
    "version": 3
   },
   "file_extension": ".py",
   "mimetype": "text/x-python",
   "name": "python",
   "nbconvert_exporter": "python",
   "pygments_lexer": "ipython3",
   "version": "3.8.5"
  }
 },
 "nbformat": 4,
 "nbformat_minor": 4
}
