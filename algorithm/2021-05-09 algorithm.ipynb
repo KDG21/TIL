{
 "cells": [
  {
   "cell_type": "code",
   "execution_count": null,
   "metadata": {
    "scrolled": true
   },
   "outputs": [],
   "source": [
    "# 2438\n",
    "\n",
    "n = int(input())\n",
    "\n",
    "for i in range(1, n+1):\n",
    "    s = '*'\n",
    "    s *= i\n",
    "    print(s)"
   ]
  },
  {
   "cell_type": "code",
   "execution_count": null,
   "metadata": {},
   "outputs": [],
   "source": [
    "# 2439\n",
    "\n",
    "n = int(input())\n",
    "\n",
    "for i in range(1, n+1):\n",
    "    s = '*'\n",
    "    s *= i\n",
    "    print(' '*(n-i)+s)"
   ]
  },
  {
   "cell_type": "code",
   "execution_count": null,
   "metadata": {},
   "outputs": [],
   "source": [
    "#10871\n",
    "\n",
    "A, X = input().split()\n",
    "n2 = input().split()\n",
    "\n",
    "answer = []\n",
    "for i in n2:\n",
    "    if int(i) < int(X):\n",
    "        answer.append(i)\n",
    "        \n",
    "print(\" \".join(answer))"
   ]
  },
  {
   "cell_type": "code",
   "execution_count": null,
   "metadata": {},
   "outputs": [],
   "source": [
    "# 10871\n",
    "\n",
    "A, X = map(int, input().split())\n",
    "n2 = list(map(int, input().split()))\n",
    "\n",
    "for i in n2:\n",
    "    if i < X:\n",
    "        print(i, end=' ')"
   ]
  },
  {
   "cell_type": "code",
   "execution_count": null,
   "metadata": {},
   "outputs": [],
   "source": [
    "# 10952\n",
    "\n",
    "while True:\n",
    "    a, b = map(int, input().split())\n",
    "    if a == 0 and b == 0:\n",
    "        break\n",
    "        \n",
    "    else:\n",
    "        print(a + b)"
   ]
  },
  {
   "cell_type": "code",
   "execution_count": 34,
   "metadata": {},
   "outputs": [],
   "source": [
    "# 10951\n",
    "\n",
    "while True:\n",
    "    try:\n",
    "        a, b = map(int, input().split())\n",
    "        print(a + b)\n",
    "            \n",
    "    except:\n",
    "        break"
   ]
  },
  {
   "cell_type": "code",
   "execution_count": 51,
   "metadata": {},
   "outputs": [
    {
     "name": "stdout",
     "output_type": "stream",
     "text": [
      "26\n",
      "26\n"
     ]
    }
   ],
   "source": [
    "# 1110\n",
    "\n",
    "tmp = inp = int(input())\n",
    "count = 0\n",
    "\n",
    "while True:\n",
    "    ten = tmp // 10\n",
    "    one = tmp % 10\n",
    "    res = ten + one\n",
    "    count += 1\n",
    "    tmp = int(str(tmp%10) + str(res%10))\n",
    " \n",
    "    if (inp == tmp):\n",
    "        break\n",
    "        \n",
    "print(count)"
   ]
  },
  {
   "cell_type": "code",
   "execution_count": 52,
   "metadata": {},
   "outputs": [
    {
     "name": "stdout",
     "output_type": "stream",
     "text": [
      "5\n",
      "20 10 35 30 7\n",
      "7 35\n"
     ]
    }
   ],
   "source": [
    "# 10818\n",
    "\n",
    "n1 = int(input())\n",
    "n2 = list(map(int, input().split()))\n",
    "\n",
    "print(min(n2), max(n2))"
   ]
  },
  {
   "cell_type": "code",
   "execution_count": null,
   "metadata": {},
   "outputs": [],
   "source": [
    "# 2562\n",
    "\n",
    "n_list = []\n",
    "\n",
    "for i in range(9):\n",
    "    n_list.append(int(input()))\n",
    "    \n",
    "print(max(n_list))\n",
    "print(n_list.index(max(n_list))+1)"
   ]
  },
  {
   "cell_type": "code",
   "execution_count": null,
   "metadata": {
    "scrolled": true
   },
   "outputs": [],
   "source": [
    "# 2577\n",
    "\n",
    "A = int(input())\n",
    "B = int(input())\n",
    "C = int(input())\n",
    "\n",
    "m_list = []\n",
    "\n",
    "for i in str(A*B*C):\n",
    "    m_list.append(int(i))\n",
    "    \n",
    "for j in range(10):\n",
    "    print(m_list.count(j))"
   ]
  },
  {
   "cell_type": "code",
   "execution_count": null,
   "metadata": {},
   "outputs": [],
   "source": [
    "# 2577\n",
    "\n",
    "a = int(input())\n",
    "b = int(input())\n",
    "c = int(input())\n",
    "\n",
    "x = str(a*b*c)\n",
    "\n",
    "for i in range(10):\n",
    "    print(x.count(str(i)))"
   ]
  },
  {
   "cell_type": "code",
   "execution_count": 63,
   "metadata": {},
   "outputs": [
    {
     "name": "stdout",
     "output_type": "stream",
     "text": [
      "1\n",
      "2\n",
      "3\n",
      "4\n",
      "5\n",
      "6\n",
      "7\n",
      "8\n",
      "9\n",
      "10\n",
      "10\n"
     ]
    }
   ],
   "source": [
    "# 3052\n",
    "\n",
    "n_list = []\n",
    "\n",
    "for i in range(10):\n",
    "    n = int(input()) % 42\n",
    "    n_list.append(n)\n",
    "    \n",
    "print(len(set(n_list)))"
   ]
  },
  {
   "cell_type": "code",
   "execution_count": null,
   "metadata": {},
   "outputs": [],
   "source": [
    "# 3052\n",
    "\n",
    "s = set()\n",
    "\n",
    "for _ in range(10):\n",
    "    s.add(int(input())%42)\n",
    "    \n",
    "print(len(s))"
   ]
  },
  {
   "cell_type": "code",
   "execution_count": 67,
   "metadata": {},
   "outputs": [
    {
     "name": "stdout",
     "output_type": "stream",
     "text": [
      "3\n",
      "10 20 30\n",
      "66.66666666666667\n"
     ]
    }
   ],
   "source": [
    "# 1546\n",
    "\n",
    "N = int(input())\n",
    "subject = list(map(int, input().split()))\n",
    "M = max(subject)\n",
    "\n",
    "new = []\n",
    "for i in subject:\n",
    "    new.append(i / M * 100)\n",
    "    \n",
    "print(sum(new) / len(new))"
   ]
  },
  {
   "cell_type": "code",
   "execution_count": null,
   "metadata": {},
   "outputs": [],
   "source": [
    "# 8958\n",
    "\n",
    "n = int(input())\n",
    "\n",
    "for i in range(n):\n",
    "    a = input()\n",
    "    score = 0\n",
    "    sumScore = 0\n",
    "    \n",
    "    for j in a:\n",
    "        if j == 'O':\n",
    "            score += 1\n",
    "        else:\n",
    "            score = 0\n",
    "            \n",
    "        sumScore += score\n",
    "        \n",
    "    print(sumScore)"
   ]
  },
  {
   "cell_type": "code",
   "execution_count": 69,
   "metadata": {},
   "outputs": [
    {
     "name": "stdout",
     "output_type": "stream",
     "text": [
      "1\n",
      "5 50 50 70 80 100\n",
      "40.000%\n"
     ]
    }
   ],
   "source": [
    "# 4344\n",
    "\n",
    "n = int(input())\n",
    "\n",
    "for i in range(n):\n",
    "    student = list(map(int, input().split()))\n",
    "    avg = sum(student[1:]) / student[0]\n",
    "    cnt = 0\n",
    "    \n",
    "    for score in student[1:]:\n",
    "        if score > avg:\n",
    "            cnt += 1\n",
    "            \n",
    "    rate = cnt / student[0] * 100\n",
    "    print(f'{rate:.3f}%')"
   ]
  },
  {
   "cell_type": "code",
   "execution_count": null,
   "metadata": {},
   "outputs": [],
   "source": [
    "# 15596\n",
    "\n",
    "def solve(a):\n",
    "    ans = 0\n",
    "    for i in a:\n",
    "        ans += i\n",
    "        \n",
    "    return ans"
   ]
  },
  {
   "cell_type": "code",
   "execution_count": 26,
   "metadata": {},
   "outputs": [
    {
     "name": "stdout",
     "output_type": "stream",
     "text": [
      "a\n",
      "97\n"
     ]
    }
   ],
   "source": [
    "# 11654\n",
    "\n",
    "a = input()\n",
    "print(ord(a))"
   ]
  },
  {
   "cell_type": "code",
   "execution_count": 77,
   "metadata": {},
   "outputs": [
    {
     "name": "stdout",
     "output_type": "stream",
     "text": [
      "5\n",
      "54321\n",
      "15\n"
     ]
    }
   ],
   "source": [
    "# 11720\n",
    "\n",
    "N = int(input())\n",
    "a = input()\n",
    "sum = 0\n",
    "\n",
    "for i in a:\n",
    "    sum += int(i)\n",
    "    \n",
    "print(sum)"
   ]
  },
  {
   "cell_type": "code",
   "execution_count": 28,
   "metadata": {},
   "outputs": [
    {
     "name": "stdout",
     "output_type": "stream",
     "text": [
      "baekjoon\n",
      "1 0 -1 -1 2 -1 -1 -1 -1 4 3 -1 -1 7 5 -1 -1 -1 -1 -1 -1 -1 -1 -1 -1 -1\n"
     ]
    }
   ],
   "source": [
    "# 10809\n",
    "\n",
    "alphabet = ['a', 'b', 'c', 'd', 'e', 'f', 'g', 'h', 'i', 'j', 'k', 'l', 'm', 'n', 'o', 'p', 'q', 'r', 's', 't', 'u', 'v', 'w', 'x', 'y', 'z']\n",
    "S = input()\n",
    "\n",
    "for i in range(len(alphabet)):\n",
    "    for j in range(len(S)):\n",
    "        if alphabet[i] == S[j]:\n",
    "            alphabet[i] = str(j)\n",
    "            break\n",
    "            \n",
    "    if ord(alphabet[i]) >= 97 :\n",
    "        alphabet[i] = str(-1)\n",
    "        \n",
    "print(' '.join(alphabet))"
   ]
  },
  {
   "cell_type": "code",
   "execution_count": 31,
   "metadata": {},
   "outputs": [
    {
     "name": "stdout",
     "output_type": "stream",
     "text": [
      "baekjoon\n",
      "1 0 -1 -1 2 -1 -1 -1 -1 4 3 -1 -1 7 5 -1 -1 -1 -1 -1 -1 -1 -1 -1 -1 -1 "
     ]
    }
   ],
   "source": [
    "# 10809\n",
    "\n",
    "S = input()\n",
    "alphabet = list(range(97, 123))\n",
    "\n",
    "for x in alphabet :\n",
    "    print(S.find(chr(x)), end=' ') "
   ]
  },
  {
   "cell_type": "code",
   "execution_count": 33,
   "metadata": {},
   "outputs": [
    {
     "name": "stdout",
     "output_type": "stream",
     "text": [
      "5 /HTP\n",
      "/////HHHHHTTTTTPPPPP"
     ]
    }
   ],
   "source": [
    "# 2675\n",
    "\n",
    "n = int(input())\n",
    "\n",
    "for i in range(n):\n",
    "    R, S = input().split()\n",
    "    for j in S:\n",
    "        print(j*int(R), end='')\n",
    "    print()"
   ]
  },
  {
   "cell_type": "code",
   "execution_count": 37,
   "metadata": {},
   "outputs": [
    {
     "name": "stdout",
     "output_type": "stream",
     "text": [
      "Teullinika Teullyeotzi\n"
     ]
    },
    {
     "data": {
      "text/plain": [
       "2"
      ]
     },
     "execution_count": 37,
     "metadata": {},
     "output_type": "execute_result"
    }
   ],
   "source": [
    "# 1152\n",
    "\n",
    "S = input().split()\n",
    "print(len(S))"
   ]
  },
  {
   "cell_type": "code",
   "execution_count": 40,
   "metadata": {},
   "outputs": [
    {
     "name": "stdout",
     "output_type": "stream",
     "text": [
      "734 893\n",
      "437\n"
     ]
    }
   ],
   "source": [
    "# 2908\n",
    "\n",
    "n1, n2 = input().split()\n",
    "n1 = int(n1[::-1])\n",
    "n2 = int(n2[::-1])\n",
    "print(max([n1, n2]))"
   ]
  },
  {
   "cell_type": "code",
   "execution_count": 44,
   "metadata": {},
   "outputs": [
    {
     "name": "stdout",
     "output_type": "stream",
     "text": [
      "UNUCIC\n",
      "36\n"
     ]
    }
   ],
   "source": [
    "# 5622\n",
    "\n",
    "S = input()\n",
    "cnt = 0\n",
    "\n",
    "for i in S:\n",
    "    if ord(i) in range(65, 68):\n",
    "        cnt += 3\n",
    "    \n",
    "    if ord(i) in range(68, 71):\n",
    "        cnt += 4\n",
    "        \n",
    "    if ord(i) in range(71, 74):\n",
    "        cnt += 5\n",
    "        \n",
    "    if ord(i) in range(74, 77):\n",
    "        cnt += 6\n",
    "        \n",
    "    if ord(i) in range(77, 80):\n",
    "        cnt += 7\n",
    "        \n",
    "    if ord(i) in range(80, 84):\n",
    "        cnt += 8\n",
    "        \n",
    "    if ord(i) in range(84, 87):\n",
    "        cnt += 9\n",
    "        \n",
    "    if ord(i) in range(87, 91):\n",
    "        cnt += 10\n",
    "        \n",
    "print(cnt)"
   ]
  }
 ],
 "metadata": {
  "kernelspec": {
   "display_name": "Python 3",
   "language": "python",
   "name": "python3"
  },
  "language_info": {
   "codemirror_mode": {
    "name": "ipython",
    "version": 3
   },
   "file_extension": ".py",
   "mimetype": "text/x-python",
   "name": "python",
   "nbconvert_exporter": "python",
   "pygments_lexer": "ipython3",
   "version": "3.8.5"
  }
 },
 "nbformat": 4,
 "nbformat_minor": 4
}
