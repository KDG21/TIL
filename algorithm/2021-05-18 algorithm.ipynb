{
 "cells": [
  {
   "cell_type": "code",
   "execution_count": 2,
   "metadata": {},
   "outputs": [
    {
     "name": "stdout",
     "output_type": "stream",
     "text": [
      "M : 1000\n",
      "D : 500\n",
      "C : 100\n",
      "L : 50\n",
      "X : 10\n",
      "V : 5\n",
      "I : 1\n"
     ]
    }
   ],
   "source": [
    "# 로마 숫자를 아라비아 숫자로 바꾸기\n",
    "'''\n",
    "I = 1\n",
    "V = 5\n",
    "X = 10\n",
    "L = 50\n",
    "C = 100\n",
    "D = 500\n",
    "M = 1000\n",
    "'''\n",
    "\n",
    "def getValueOf(symbol):\n",
    "    if symbol == 'M': return 1000\n",
    "    elif symbol == 'D': return 500\n",
    "    elif symbol == 'C': return 100\n",
    "    elif symbol == 'L': return 50\n",
    "    elif symbol == 'X': return 10\n",
    "    elif symbol == 'V': return 5\n",
    "    elif symbol == 'I': return 1\n",
    "    \n",
    "roman = 'MDCLXVI'\n",
    "for i in range(len(roman)):\n",
    "    print(roman[i], ':', getValueOf(roman[i]))"
   ]
  },
  {
   "cell_type": "code",
   "execution_count": 3,
   "metadata": {},
   "outputs": [
    {
     "name": "stdout",
     "output_type": "stream",
     "text": [
      "M : 1000\n",
      "D : 500\n",
      "C : 100\n",
      "L : 50\n",
      "X : 10\n",
      "V : 5\n",
      "I : 1\n"
     ]
    }
   ],
   "source": [
    "# 로마 숫자를 아라비아 숫자로 바꾸기\n",
    "# 딕셔너리 사용\n",
    "\n",
    "romanDict = {'M':1000, 'D':500, 'C':100, 'L':50, 'X':10, 'V':5, 'I':1}\n",
    "\n",
    "roman = 'MDCLXVI'\n",
    "for i in range(len(roman)):\n",
    "    print(roman[i], ':', romanDict[roman[i]])"
   ]
  },
  {
   "cell_type": "code",
   "execution_count": 4,
   "metadata": {},
   "outputs": [
    {
     "name": "stdout",
     "output_type": "stream",
     "text": [
      "[369, 80, 29, 155, 14, 492, 348, 301, 469, 499]\n"
     ]
    }
   ],
   "source": [
    "# 로마 숫자를 아라비아 숫자로 바꾸기\n",
    "\n",
    "def toArabicNumber(roman):\n",
    "    arabic = 0\n",
    "    for i in range(len(roman)):\n",
    "        value = romanDict[roman[i]]  # 로마 숫자에서 아라비아 숫자로 바꾼 값을 변수에 담는다.\n",
    "        if i < len(roman)-1 and value < romanDict[roman[i+1]]:   # i가 마지막 글자인지 아닌지 확인하고, 마지막 글자가 아니면 다음 글자를 확인해 감산표기법을 사용해야 하는지 확인한다.\n",
    "            arabic -= value   # 감산표기법을 사용해야 하면 -를 해준다.\n",
    "            \n",
    "        else:\n",
    "            arabic += value   # 나머지는 다 더해준다.\n",
    "    \n",
    "    return arabic\n",
    "\n",
    "romans = ['CCCLXIX', 'LXXX', 'XXIX', 'CLV', 'XIV', 'CDXCII', 'CCCXLVIII', 'CCCI', 'CDLXIX', 'CDXCIX']\n",
    "arabics = []\n",
    "for roman in romans:\n",
    "    arabics.append(toArabicNumber(roman))\n",
    "print(arabics)"
   ]
  },
  {
   "cell_type": "code",
   "execution_count": 16,
   "metadata": {},
   "outputs": [
    {
     "name": "stdout",
     "output_type": "stream",
     "text": [
      "2100000000 9 10\n",
      "2100000001\n"
     ]
    }
   ],
   "source": [
    "# 백준 1712\n",
    "\n",
    "A, B, C = map(int, input().split())\n",
    "\n",
    "if B >= C:\n",
    "    print(-1)\n",
    "    \n",
    "else:\n",
    "    print(int(A / (C-B)) + 1)"
   ]
  }
 ],
 "metadata": {
  "kernelspec": {
   "display_name": "Python 3",
   "language": "python",
   "name": "python3"
  },
  "language_info": {
   "codemirror_mode": {
    "name": "ipython",
    "version": 3
   },
   "file_extension": ".py",
   "mimetype": "text/x-python",
   "name": "python",
   "nbconvert_exporter": "python",
   "pygments_lexer": "ipython3",
   "version": "3.8.5"
  }
 },
 "nbformat": 4,
 "nbformat_minor": 4
}
