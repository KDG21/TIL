{
 "cells": [
  {
   "cell_type": "code",
   "execution_count": 2,
   "metadata": {},
   "outputs": [
    {
     "data": {
      "text/plain": [
       "144"
      ]
     },
     "execution_count": 2,
     "metadata": {},
     "output_type": "execute_result"
    }
   ],
   "source": [
    "# 최소공배수\n",
    "\n",
    "def lcm(n1, n2):\n",
    "    a,b = n1,n2\n",
    "    if b > a: \n",
    "        a,b = b,a\n",
    "\n",
    "    while b != 0:\n",
    "        a = a % b\n",
    "        a,b = b,a        # 최대공약수 구하기(a = 최대공약수)\n",
    "        \n",
    "    res = n1*n2 // a     # 최소공배수 구하기\n",
    "    return res\n",
    "\n",
    "lcm(48, 36)"
   ]
  },
  {
   "cell_type": "code",
   "execution_count": 4,
   "metadata": {},
   "outputs": [
    {
     "name": "stdout",
     "output_type": "stream",
     "text": [
      "232792560\n"
     ]
    }
   ],
   "source": [
    "# 최소공배수\n",
    "# 1부터 10까지의 최소공배수는 2520이다. 1부터 20까지의 최소공배수는 얼마인가?\n",
    "\n",
    "def lcm(n1, n2):       # 최소공배수 구하는 함수\n",
    "    a,b = n1,n2\n",
    "    if b > a: \n",
    "        a,b = b,a\n",
    "\n",
    "    while b != 0:\n",
    "        a = a % b\n",
    "        a,b = b,a\n",
    "        \n",
    "    res = n1*n2 // a\n",
    "    return res\n",
    "    \n",
    "def lcmFromTo(start, end):     # 범위값의 최소공배수를 구하는 함수\n",
    "    l = start\n",
    "    for i in range(start+1, end+1):\n",
    "        l = lcm(l, i)          # 루트를 통해 범위값을 주면서 l을 증가시켜 그 둘의 최소공배수를 구한다.\n",
    "    \n",
    "    return l\n",
    "\n",
    "print(lcmFromTo(1, 20))"
   ]
  },
  {
   "cell_type": "code",
   "execution_count": 9,
   "metadata": {},
   "outputs": [
    {
     "name": "stdout",
     "output_type": "stream",
     "text": [
      "11\n",
      "11 13\n",
      "143 15\n",
      "2145 16\n",
      "34320 17\n",
      "583440 19\n",
      "11085360 20\n",
      "11085360 25\n",
      "55426800 30\n",
      "55426800\n"
     ]
    }
   ],
   "source": [
    "# 최소공배수\n",
    "# 다음 리스트 원소들의 최소공배수를 구하시오.\n",
    "\n",
    "n_list = [11, 13, 15, 16, 17, 19, 20, 25, 30]\n",
    "\n",
    "def lcm(n1, n2):       # 최소공배수 구하는 함수\n",
    "    a,b = n1,n2\n",
    "    if b > a: \n",
    "        a,b = b,a\n",
    "\n",
    "    while b != 0:\n",
    "        a = a % b\n",
    "        a,b = b,a\n",
    "        \n",
    "    res = n1*n2 // a\n",
    "    return res\n",
    "    \n",
    "def lcmlist(n_list):     # 리스트값의 최소공배수를 구하는 함수\n",
    "    for i in n_list[1:]:\n",
    "        print(l, i)\n",
    "        l = lcm(l, i)\n",
    "    \n",
    "    return l\n",
    "\n",
    "print(lcmlist(n_list))"
   ]
  },
  {
   "cell_type": "code",
   "execution_count": 39,
   "metadata": {
    "scrolled": false
   },
   "outputs": [
    {
     "name": "stdout",
     "output_type": "stream",
     "text": [
      "c=c=\n",
      "2\n"
     ]
    }
   ],
   "source": [
    "# 백준 2941\n",
    "\n",
    "S = input()\n",
    "count = len(S)\n",
    "\n",
    "if 'c=' in S:\n",
    "    n = S.count('c=')\n",
    "    count -= n*1\n",
    "\n",
    "if 'c-' in S:\n",
    "    n = S.count('c-')\n",
    "    count -= n*1\n",
    "    \n",
    "if 'dz=' in S:\n",
    "    n = S.count('dz=')\n",
    "    count -= n*1\n",
    "    \n",
    "if 'z=' in S:\n",
    "    n = S.count('z=')\n",
    "    count -= n*1\n",
    "    \n",
    "if 'd-' in S:\n",
    "    n = S.count('d-')\n",
    "    count -= n*1\n",
    "    \n",
    "if 'lj' in S:\n",
    "    n = S.count('lj')\n",
    "    count -= n*1\n",
    "    \n",
    "if 'nj' in S:\n",
    "    n = S.count('nj')\n",
    "    count -= n*1\n",
    "    \n",
    "if 's=' in S:\n",
    "    n = S.count('s=')\n",
    "    count -= n*1\n",
    "    \n",
    "print(count)"
   ]
  },
  {
   "cell_type": "code",
   "execution_count": 40,
   "metadata": {},
   "outputs": [
    {
     "name": "stdout",
     "output_type": "stream",
     "text": [
      "c=c=\n",
      "2\n"
     ]
    }
   ],
   "source": [
    "# 백준 2941\n",
    "\n",
    "S = input()\n",
    "\n",
    "cro = ['c=', 'c-', 'dz=', 'd-', 'lj', 'nj', 's=', 'z=']\n",
    "\n",
    "for i in cro:\n",
    "    S = S.replace(i, '*')\n",
    "    \n",
    "print(len(S))"
   ]
  },
  {
   "cell_type": "code",
   "execution_count": 55,
   "metadata": {},
   "outputs": [
    {
     "name": "stdout",
     "output_type": "stream",
     "text": [
      "3\n",
      "happy\n",
      "new\n",
      "year\n",
      "3\n"
     ]
    }
   ],
   "source": [
    "# 백준 1316\n",
    "\n",
    "n = int(input())\n",
    "answer = 0\n",
    "\n",
    "for i in range(n):\n",
    "    S = input()\n",
    "    error = 0\n",
    "    s_list = []\n",
    "    for j in range(len(S)):\n",
    "        if j == 0:\n",
    "            s_list.append(S[j])\n",
    "            continue\n",
    "        \n",
    "        if S[j] not in s_list or s_list[-1] == S[j]:\n",
    "            s_list.append(S[j])\n",
    "            continue\n",
    "            \n",
    "        if S[j] in s_list and s_list[-1] != S[j]:\n",
    "            error += 1\n",
    "            break\n",
    "        \n",
    "    if error == 0:\n",
    "        answer += 1\n",
    "        \n",
    "print(answer)"
   ]
  },
  {
   "cell_type": "code",
   "execution_count": null,
   "metadata": {
    "scrolled": true
   },
   "outputs": [],
   "source": []
  }
 ],
 "metadata": {
  "kernelspec": {
   "display_name": "Python 3",
   "language": "python",
   "name": "python3"
  },
  "language_info": {
   "codemirror_mode": {
    "name": "ipython",
    "version": 3
   },
   "file_extension": ".py",
   "mimetype": "text/x-python",
   "name": "python",
   "nbconvert_exporter": "python",
   "pygments_lexer": "ipython3",
   "version": "3.8.5"
  }
 },
 "nbformat": 4,
 "nbformat_minor": 4
}
