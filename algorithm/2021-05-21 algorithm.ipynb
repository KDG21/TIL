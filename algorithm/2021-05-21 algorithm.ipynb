{
 "cells": [
  {
   "cell_type": "code",
   "execution_count": 8,
   "metadata": {},
   "outputs": [
    {
     "name": "stdout",
     "output_type": "stream",
     "text": [
      "True\n",
      "False\n",
      "True\n",
      "True\n",
      "False\n"
     ]
    }
   ],
   "source": [
    "# 팔린드롬\n",
    "\n",
    "def palindrome(word):\n",
    "    for i in range(len(word) // 2):\n",
    "        compare = len(word)-1\n",
    "        if word[i] == word[compare - i]:\n",
    "            continue\n",
    "            \n",
    "        else:\n",
    "            return False\n",
    "        \n",
    "    return True\n",
    "        \n",
    "print(palindrome(\"racecar\"))\n",
    "print(palindrome(\"stars\"))\n",
    "print(palindrome(\"토마토\"))\n",
    "print(palindrome(\"kayak\"))\n",
    "print(palindrome(\"hello\"))"
   ]
  },
  {
   "cell_type": "code",
   "execution_count": 11,
   "metadata": {},
   "outputs": [
    {
     "name": "stdout",
     "output_type": "stream",
     "text": [
      "0\n",
      "None\n",
      "2\n",
      "1\n",
      "4\n"
     ]
    }
   ],
   "source": [
    "# 선형 탐색 알고리즘\n",
    "# some_list의 요소를 하나씩 확인해서 element를 some_list에서 찾으면 인덱스를 리턴해라. 단 없으면 None을 반환\n",
    "\n",
    "def linear_search(element, some_list):\n",
    "    for i in range(len(some_list)):\n",
    "        if some_list[i] == element:   # 반복문을 돌려 값을 하나하나 확인한다.\n",
    "            return i\n",
    " \n",
    "    return None\n",
    "\n",
    "print(linear_search(2, [2, 3, 5, 7, 11]))\n",
    "print(linear_search(0, [2, 3, 5, 7, 11]))\n",
    "print(linear_search(5, [2, 3, 5, 7, 11]))\n",
    "print(linear_search(3, [2, 3, 5, 7, 11]))\n",
    "print(linear_search(11, [2, 3, 5, 7, 11]))"
   ]
  },
  {
   "cell_type": "code",
   "execution_count": 23,
   "metadata": {},
   "outputs": [
    {
     "name": "stdout",
     "output_type": "stream",
     "text": [
      "0\n",
      "None\n",
      "2\n",
      "1\n",
      "4\n"
     ]
    }
   ],
   "source": [
    "# 이진 탐색 알고리즘\n",
    "# some_list의 중간값을 찾고 작거나 크면 그 부분을 제외시켜 element값을 찾고, 인덱스를 리턴. 단 없으면 None을 반환\n",
    "\n",
    "def binary_search(element, some_list):\n",
    "    index = 0\n",
    "    \n",
    "    while len(some_list) != 0:\n",
    "        length = len(some_list) // 2\n",
    "\n",
    "        if element == some_list[length]:\n",
    "            index += length\n",
    "            return index\n",
    "\n",
    "        elif element < some_list[length]:\n",
    "            some_list = some_list[:length]\n",
    "\n",
    "        elif element > some_list[length]:\n",
    "            some_list = some_list[length+1:]\n",
    "            index += length + 1\n",
    "            \n",
    "    return None\n",
    "    \n",
    "\n",
    "print(binary_search(2, [2, 3, 5, 7, 11]))\n",
    "print(binary_search(0, [2, 3, 5, 7, 11]))\n",
    "print(binary_search(5, [2, 3, 5, 7, 11]))\n",
    "print(binary_search(3, [2, 3, 5, 7, 11]))\n",
    "print(binary_search(11, [2, 3, 5, 7, 11]))"
   ]
  },
  {
   "cell_type": "code",
   "execution_count": 19,
   "metadata": {},
   "outputs": [
    {
     "name": "stdout",
     "output_type": "stream",
     "text": [
      "0\n",
      "None\n",
      "2\n",
      "1\n",
      "4\n"
     ]
    }
   ],
   "source": [
    "# 이진 탐색 알고리즘\n",
    "# some_list의 중간값을 찾고 작거나 크면 그 부분을 제외시켜 element값을 찾고, 인덱스를 리턴. 단 없으면 None을 반환\n",
    "\n",
    "def binary_search(element, some_list):\n",
    "    start_index = 0    # 시작 인덱스를 설정\n",
    "    end_index = len(some_list) - 1   # 마지막 인덱스를 설정\n",
    "    \n",
    "    while start_index <= end_index:   # 시작 인덱스와 마지막 인덱스가 같아질 때까지 반복해서 범위를 좁힌다.\n",
    "        mid_index = (start_index + end_index) // 2   # 중간 인덱스를 구한다.\n",
    "        \n",
    "        if element == some_list[mid_index]:   # 찾는 값과 중간값을 비교\n",
    "            return mid_index\n",
    "\n",
    "        elif element > some_list[mid_index]:\n",
    "            start_index = mid_index + 1    # 찾는 값이 중간값보다 더 크면 시작 인덱스 범위를 좁힌다.\n",
    "\n",
    "        else:\n",
    "            end_index = mid_index - 1    # 찾는 값이 중간값보다 더 작으면 마지막 인덱스 범위를 좁힌다.\n",
    "    \n",
    "    return None\n",
    "    \n",
    "\n",
    "print(binary_search(2, [2, 3, 5, 7, 11]))\n",
    "print(binary_search(0, [2, 3, 5, 7, 11]))\n",
    "print(binary_search(5, [2, 3, 5, 7, 11]))\n",
    "print(binary_search(3, [2, 3, 5, 7, 11]))\n",
    "print(binary_search(11, [2, 3, 5, 7, 11]))"
   ]
  }
 ],
 "metadata": {
  "kernelspec": {
   "display_name": "Python 3",
   "language": "python",
   "name": "python3"
  },
  "language_info": {
   "codemirror_mode": {
    "name": "ipython",
    "version": 3
   },
   "file_extension": ".py",
   "mimetype": "text/x-python",
   "name": "python",
   "nbconvert_exporter": "python",
   "pygments_lexer": "ipython3",
   "version": "3.8.5"
  }
 },
 "nbformat": 4,
 "nbformat_minor": 4
}
