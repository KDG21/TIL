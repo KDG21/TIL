{
 "cells": [
  {
   "cell_type": "code",
   "execution_count": 3,
   "metadata": {},
   "outputs": [
    {
     "name": "stdout",
     "output_type": "stream",
     "text": [
      "24\n",
      "32\n",
      "28\n"
     ]
    }
   ],
   "source": [
    "# 왼쪽 카드 뭉치와 오른쪽 카드 뭉치가 있는데 뭉치에서 하나씩 뽑아 두 수를 곱해서 최대값을 찾는 것 \n",
    "\n",
    "def max_product(left_cards, right_cards):\n",
    "    max = -999\n",
    "    \n",
    "    for i in left_cards:\n",
    "        for j in right_cards:\n",
    "            if i * j > max:\n",
    "                max = i * j\n",
    "    \n",
    "    return max\n",
    "            \n",
    "# 테스트\n",
    "print(max_product([1, 6, 5], [4, 2, 3]))\n",
    "print(max_product([1, -9, 3, 4], [2, 8, 3, 1]))\n",
    "print(max_product([-1, -7, 3], [-4, 3, 6]))"
   ]
  },
  {
   "cell_type": "code",
   "execution_count": 4,
   "metadata": {},
   "outputs": [
    {
     "name": "stdout",
     "output_type": "stream",
     "text": [
      "24\n",
      "32\n",
      "28\n"
     ]
    }
   ],
   "source": [
    "def max_product(left_cards, right_cards):\n",
    "    # 현재까지 최댓값을 담기 위한 변수\n",
    "    # 처음에는 임시로 -1로 설정\n",
    "    max_product = -1\n",
    "    \n",
    "    # 가능한 모든 조합을 보기 위한 중첩 반복문\n",
    "    for left in left_cards:\n",
    "        for right in right_cards:\n",
    "            # 현재까지의 최댓값 값과 지금 보고 있는 곱을 비교해서 더 큰 값을 최댓값 변수에 담아준다\n",
    "            max_product = max(max_product, left * right)\n",
    "\n",
    "    # 찾은 최댓값을 리턴한다            \n",
    "    return max_product\n",
    "    \n",
    "print(max_product([1, 6, 5], [4, 2, 3]))\n",
    "print(max_product([1, -9, 3, 4], [2, 8, 3, 1]))\n",
    "print(max_product([-1, -7, 3], [-4, 3, 6]))"
   ]
  },
  {
   "cell_type": "code",
   "execution_count": 15,
   "metadata": {},
   "outputs": [
    {
     "name": "stdout",
     "output_type": "stream",
     "text": [
      "[(2, 3), (3, 4)]\n"
     ]
    }
   ],
   "source": [
    "# 가까운 매장 찾기 : 두 좌표 사이의 거리를 계산해 가장 가까운 거리를 찾기\n",
    "\n",
    "# 제곱근 사용을 위한 sqrt 함수\n",
    "from math import sqrt\n",
    "\n",
    "# 두 매장의 직선 거리를 계산해 주는 함수\n",
    "def distance(store1, store2):\n",
    "    return sqrt((store1[0] - store2[0]) ** 2 + (store1[1] - store2[1]) ** 2)\n",
    "\n",
    "# 가장 가까운 두 매장을 찾아주는 함수\n",
    "def closest_pair(coordinates):\n",
    "    min_value = 999\n",
    "    \n",
    "    for i in range(len(coordinates)):\n",
    "        for j in range(i+1, len(coordinates)):\n",
    "            if distance(coordinates[i], coordinates[j]) < min_value:\n",
    "                min_value = distance(coordinates[i], coordinates[j])\n",
    "                min_product = [coordinates[i], coordinates[j]]\n",
    "    \n",
    "    return min_product\n",
    "    \n",
    "# 테스트\n",
    "test_coordinates = [(2, 3), (12, 30), (40, 50), (5, 1), (12, 10), (3, 4)]\n",
    "print(closest_pair(test_coordinates))"
   ]
  },
  {
   "cell_type": "code",
   "execution_count": 41,
   "metadata": {},
   "outputs": [
    {
     "name": "stdout",
     "output_type": "stream",
     "text": [
      "10\n",
      "6\n"
     ]
    }
   ],
   "source": [
    "# 강남역 폭우\n",
    "\n",
    "def trapping_rain(buildings):\n",
    "    # 총 담기는 빗물의 양을 변수에 저장\n",
    "    total_height = 0\n",
    "\n",
    "    # 리스트의 각 인덱스을 돌면서 해당 칸에 담기는 빗물의 양을 구한다\n",
    "    # 0번 인덱스와 마지막 인덱스는 볼 필요 없다\n",
    "    for i in range(1, len(buildings) - 1):\n",
    "        # 현재 인덱스를 기준으로 양쪽에 가장 높은 건물의 위치를 구한다\n",
    "        max_left = max(buildings[:i])\n",
    "        max_right = max(buildings[i:])\n",
    "\n",
    "        # 현재 인덱스에 빗물이 담길 수 있는 높이\n",
    "        upper_bound = min(max_left, max_right)\n",
    "\n",
    "        # 현재 인덱스에 담기는 빗물의 양을 계산\n",
    "        # 만약 upper_bound가 현재 인덱스 건물보다 높지 않다면, 현재 인덱스에 담기는 빗물은 0\n",
    "        if upper_bound > buildings[i]:\n",
    "            total_height += upper_bound - buildings[i]\n",
    "\n",
    "    return total_height\n",
    "\n",
    "\n",
    "print(trapping_rain([3, 0, 0, 2, 0, 4]))\n",
    "print(trapping_rain([0, 1, 0, 2, 1, 0, 1, 3, 2, 1, 2, 1]))"
   ]
  }
 ],
 "metadata": {
  "kernelspec": {
   "display_name": "Python 3",
   "language": "python",
   "name": "python3"
  },
  "language_info": {
   "codemirror_mode": {
    "name": "ipython",
    "version": 3
   },
   "file_extension": ".py",
   "mimetype": "text/x-python",
   "name": "python",
   "nbconvert_exporter": "python",
   "pygments_lexer": "ipython3",
   "version": "3.8.5"
  }
 },
 "nbformat": 4,
 "nbformat_minor": 4
}
